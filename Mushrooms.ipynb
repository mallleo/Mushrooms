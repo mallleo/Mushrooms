{
 "cells": [
  {
   "cell_type": "code",
   "id": "initial_id",
   "metadata": {
    "collapsed": true,
    "ExecuteTime": {
     "end_time": "2024-08-16T18:34:38.212352Z",
     "start_time": "2024-08-16T18:34:38.202811Z"
    }
   },
   "source": [
    "import pandas as pd\n",
    "import numpy as np\n",
    "import seaborn as sns\n",
    "from sklearn.feature_selection import SelectKBest, SelectPercentile\n",
    "from sklearn.impute import SimpleImputer\n",
    "from sklearn.pipeline import Pipeline\n",
    "from sklearn.preprocessing import PolynomialFeatures, StandardScaler\n",
    "from category_encoders.leave_one_out import LeaveOneOutEncoder\n",
    "from category_encoders.one_hot import OneHotEncoder\n",
    "from sklearn.svm import SVC\n",
    "from sklearn.model_selection import cross_validate\n",
    "from sklearn.model_selection import train_test_split\n",
    "from sklearn.linear_model import LogisticRegression\n",
    "from sklearn.ensemble import RandomForestClassifier\n",
    "from sklearn.tree import DecisionTreeClassifier\n",
    "from sklearn.linear_model import LinearRegression\n",
    "from sklearn.metrics import mean_squared_error\n",
    "from sklearn.metrics import r2_score\n",
    "from sklearn.metrics import accuracy_score\n",
    "import sklearn\n"
   ],
   "outputs": [],
   "execution_count": 38
  },
  {
   "metadata": {
    "ExecuteTime": {
     "end_time": "2024-08-16T18:13:29.064815Z",
     "start_time": "2024-08-16T18:13:23.999003Z"
    }
   },
   "cell_type": "code",
   "source": "df = pd.read_csv('train.csv')",
   "id": "f8bc72df5419f7ca",
   "outputs": [],
   "execution_count": 21
  },
  {
   "metadata": {
    "ExecuteTime": {
     "end_time": "2024-08-16T17:49:21.218964Z",
     "start_time": "2024-08-16T17:49:21.164654Z"
    }
   },
   "cell_type": "code",
   "source": "df.head()",
   "id": "558dcc3db70296a6",
   "outputs": [
    {
     "data": {
      "text/plain": [
       "   id class  cap-diameter cap-shape cap-surface cap-color  \\\n",
       "0   0     e          8.80         f           s         u   \n",
       "1   1     p          4.51         x           h         o   \n",
       "2   2     e          6.94         f           s         b   \n",
       "3   3     e          3.88         f           y         g   \n",
       "4   4     e          5.85         x           l         w   \n",
       "\n",
       "  does-bruise-or-bleed gill-attachment gill-spacing gill-color  ...  \\\n",
       "0                    f               a            c          w  ...   \n",
       "1                    f               a            c          n  ...   \n",
       "2                    f               x            c          w  ...   \n",
       "3                    f               s          NaN          g  ...   \n",
       "4                    f               d          NaN          w  ...   \n",
       "\n",
       "   stem-root  stem-surface stem-color veil-type veil-color has-ring ring-type  \\\n",
       "0        NaN           NaN          w       NaN        NaN        f         f   \n",
       "1        NaN             y          o       NaN        NaN        t         z   \n",
       "2        NaN             s          n       NaN        NaN        f         f   \n",
       "3        NaN           NaN          w       NaN        NaN        f         f   \n",
       "4        NaN           NaN          w       NaN        NaN        f         f   \n",
       "\n",
       "  spore-print-color habitat season  \n",
       "0               NaN       d      a  \n",
       "1               NaN       d      w  \n",
       "2               NaN       l      w  \n",
       "3               NaN       d      u  \n",
       "4               NaN       g      a  \n",
       "\n",
       "[5 rows x 22 columns]"
      ],
      "text/html": [
       "<div>\n",
       "<style scoped>\n",
       "    .dataframe tbody tr th:only-of-type {\n",
       "        vertical-align: middle;\n",
       "    }\n",
       "\n",
       "    .dataframe tbody tr th {\n",
       "        vertical-align: top;\n",
       "    }\n",
       "\n",
       "    .dataframe thead th {\n",
       "        text-align: right;\n",
       "    }\n",
       "</style>\n",
       "<table border=\"1\" class=\"dataframe\">\n",
       "  <thead>\n",
       "    <tr style=\"text-align: right;\">\n",
       "      <th></th>\n",
       "      <th>id</th>\n",
       "      <th>class</th>\n",
       "      <th>cap-diameter</th>\n",
       "      <th>cap-shape</th>\n",
       "      <th>cap-surface</th>\n",
       "      <th>cap-color</th>\n",
       "      <th>does-bruise-or-bleed</th>\n",
       "      <th>gill-attachment</th>\n",
       "      <th>gill-spacing</th>\n",
       "      <th>gill-color</th>\n",
       "      <th>...</th>\n",
       "      <th>stem-root</th>\n",
       "      <th>stem-surface</th>\n",
       "      <th>stem-color</th>\n",
       "      <th>veil-type</th>\n",
       "      <th>veil-color</th>\n",
       "      <th>has-ring</th>\n",
       "      <th>ring-type</th>\n",
       "      <th>spore-print-color</th>\n",
       "      <th>habitat</th>\n",
       "      <th>season</th>\n",
       "    </tr>\n",
       "  </thead>\n",
       "  <tbody>\n",
       "    <tr>\n",
       "      <th>0</th>\n",
       "      <td>0</td>\n",
       "      <td>e</td>\n",
       "      <td>8.80</td>\n",
       "      <td>f</td>\n",
       "      <td>s</td>\n",
       "      <td>u</td>\n",
       "      <td>f</td>\n",
       "      <td>a</td>\n",
       "      <td>c</td>\n",
       "      <td>w</td>\n",
       "      <td>...</td>\n",
       "      <td>NaN</td>\n",
       "      <td>NaN</td>\n",
       "      <td>w</td>\n",
       "      <td>NaN</td>\n",
       "      <td>NaN</td>\n",
       "      <td>f</td>\n",
       "      <td>f</td>\n",
       "      <td>NaN</td>\n",
       "      <td>d</td>\n",
       "      <td>a</td>\n",
       "    </tr>\n",
       "    <tr>\n",
       "      <th>1</th>\n",
       "      <td>1</td>\n",
       "      <td>p</td>\n",
       "      <td>4.51</td>\n",
       "      <td>x</td>\n",
       "      <td>h</td>\n",
       "      <td>o</td>\n",
       "      <td>f</td>\n",
       "      <td>a</td>\n",
       "      <td>c</td>\n",
       "      <td>n</td>\n",
       "      <td>...</td>\n",
       "      <td>NaN</td>\n",
       "      <td>y</td>\n",
       "      <td>o</td>\n",
       "      <td>NaN</td>\n",
       "      <td>NaN</td>\n",
       "      <td>t</td>\n",
       "      <td>z</td>\n",
       "      <td>NaN</td>\n",
       "      <td>d</td>\n",
       "      <td>w</td>\n",
       "    </tr>\n",
       "    <tr>\n",
       "      <th>2</th>\n",
       "      <td>2</td>\n",
       "      <td>e</td>\n",
       "      <td>6.94</td>\n",
       "      <td>f</td>\n",
       "      <td>s</td>\n",
       "      <td>b</td>\n",
       "      <td>f</td>\n",
       "      <td>x</td>\n",
       "      <td>c</td>\n",
       "      <td>w</td>\n",
       "      <td>...</td>\n",
       "      <td>NaN</td>\n",
       "      <td>s</td>\n",
       "      <td>n</td>\n",
       "      <td>NaN</td>\n",
       "      <td>NaN</td>\n",
       "      <td>f</td>\n",
       "      <td>f</td>\n",
       "      <td>NaN</td>\n",
       "      <td>l</td>\n",
       "      <td>w</td>\n",
       "    </tr>\n",
       "    <tr>\n",
       "      <th>3</th>\n",
       "      <td>3</td>\n",
       "      <td>e</td>\n",
       "      <td>3.88</td>\n",
       "      <td>f</td>\n",
       "      <td>y</td>\n",
       "      <td>g</td>\n",
       "      <td>f</td>\n",
       "      <td>s</td>\n",
       "      <td>NaN</td>\n",
       "      <td>g</td>\n",
       "      <td>...</td>\n",
       "      <td>NaN</td>\n",
       "      <td>NaN</td>\n",
       "      <td>w</td>\n",
       "      <td>NaN</td>\n",
       "      <td>NaN</td>\n",
       "      <td>f</td>\n",
       "      <td>f</td>\n",
       "      <td>NaN</td>\n",
       "      <td>d</td>\n",
       "      <td>u</td>\n",
       "    </tr>\n",
       "    <tr>\n",
       "      <th>4</th>\n",
       "      <td>4</td>\n",
       "      <td>e</td>\n",
       "      <td>5.85</td>\n",
       "      <td>x</td>\n",
       "      <td>l</td>\n",
       "      <td>w</td>\n",
       "      <td>f</td>\n",
       "      <td>d</td>\n",
       "      <td>NaN</td>\n",
       "      <td>w</td>\n",
       "      <td>...</td>\n",
       "      <td>NaN</td>\n",
       "      <td>NaN</td>\n",
       "      <td>w</td>\n",
       "      <td>NaN</td>\n",
       "      <td>NaN</td>\n",
       "      <td>f</td>\n",
       "      <td>f</td>\n",
       "      <td>NaN</td>\n",
       "      <td>g</td>\n",
       "      <td>a</td>\n",
       "    </tr>\n",
       "  </tbody>\n",
       "</table>\n",
       "<p>5 rows × 22 columns</p>\n",
       "</div>"
      ]
     },
     "execution_count": 3,
     "metadata": {},
     "output_type": "execute_result"
    }
   ],
   "execution_count": 3
  },
  {
   "metadata": {
    "ExecuteTime": {
     "end_time": "2024-08-16T18:13:32.564566Z",
     "start_time": "2024-08-16T18:13:32.412479Z"
    }
   },
   "cell_type": "code",
   "source": [
    "y = df[\"class\"]\n",
    "y = y.map({\"p\":-1, \"e\":1})"
   ],
   "id": "f37ab6baea1324b6",
   "outputs": [],
   "execution_count": 22
  },
  {
   "metadata": {
    "ExecuteTime": {
     "end_time": "2024-08-16T18:13:35.131990Z",
     "start_time": "2024-08-16T18:13:34.503309Z"
    }
   },
   "cell_type": "code",
   "source": "X = df.drop([\"class\"], axis=1)",
   "id": "bab2cbd7a3a402ab",
   "outputs": [],
   "execution_count": 23
  },
  {
   "metadata": {
    "ExecuteTime": {
     "end_time": "2024-08-16T18:13:37.237513Z",
     "start_time": "2024-08-16T18:13:35.814985Z"
    }
   },
   "cell_type": "code",
   "source": "X.isnull().sum()",
   "id": "91f1ec64b7d2a3c",
   "outputs": [
    {
     "data": {
      "text/plain": [
       "id                            0\n",
       "cap-diameter                  4\n",
       "cap-shape                    40\n",
       "cap-surface              671023\n",
       "cap-color                    12\n",
       "does-bruise-or-bleed          8\n",
       "gill-attachment          523936\n",
       "gill-spacing            1258435\n",
       "gill-color                   57\n",
       "stem-height                   0\n",
       "stem-width                    0\n",
       "stem-root               2757023\n",
       "stem-surface            1980861\n",
       "stem-color                   38\n",
       "veil-type               2957493\n",
       "veil-color              2740947\n",
       "has-ring                     24\n",
       "ring-type                128880\n",
       "spore-print-color       2849682\n",
       "habitat                      45\n",
       "season                        0\n",
       "dtype: int64"
      ]
     },
     "execution_count": 24,
     "metadata": {},
     "output_type": "execute_result"
    }
   ],
   "execution_count": 24
  },
  {
   "metadata": {
    "ExecuteTime": {
     "end_time": "2024-08-16T17:15:16.368573Z",
     "start_time": "2024-08-16T17:15:16.363945Z"
    }
   },
   "cell_type": "code",
   "source": "X.shape",
   "id": "dbca0a4c424c8dd1",
   "outputs": [
    {
     "data": {
      "text/plain": [
       "(3116945, 21)"
      ]
     },
     "execution_count": 8,
     "metadata": {},
     "output_type": "execute_result"
    }
   ],
   "execution_count": 8
  },
  {
   "metadata": {
    "ExecuteTime": {
     "end_time": "2024-08-16T17:15:18.423728Z",
     "start_time": "2024-08-16T17:15:18.396596Z"
    }
   },
   "cell_type": "code",
   "source": "y.value_counts()",
   "id": "2fbabf0264a9178a",
   "outputs": [
    {
     "data": {
      "text/plain": [
       "class\n",
       "-1    1705396\n",
       " 1    1411549\n",
       "Name: count, dtype: int64"
      ]
     },
     "execution_count": 9,
     "metadata": {},
     "output_type": "execute_result"
    }
   ],
   "execution_count": 9
  },
  {
   "metadata": {
    "ExecuteTime": {
     "end_time": "2024-08-16T18:13:45.956639Z",
     "start_time": "2024-08-16T18:13:45.452317Z"
    }
   },
   "cell_type": "code",
   "source": "X = X.drop([\"stem-root\", \"veil-type\", \"veil-color\", \"spore-print-color\"], axis=1)",
   "id": "da402ab46d457d3e",
   "outputs": [],
   "execution_count": 25
  },
  {
   "metadata": {
    "ExecuteTime": {
     "end_time": "2024-08-16T17:15:23.594584Z",
     "start_time": "2024-08-16T17:15:23.590107Z"
    }
   },
   "cell_type": "code",
   "source": "X.shape",
   "id": "bc723cff2845d45b",
   "outputs": [
    {
     "data": {
      "text/plain": [
       "(3116945, 17)"
      ]
     },
     "execution_count": 11,
     "metadata": {},
     "output_type": "execute_result"
    }
   ],
   "execution_count": 11
  },
  {
   "metadata": {
    "ExecuteTime": {
     "end_time": "2024-08-16T17:15:24.995258Z",
     "start_time": "2024-08-16T17:15:24.981983Z"
    }
   },
   "cell_type": "code",
   "source": "X.head()",
   "id": "86f989ad577dc086",
   "outputs": [
    {
     "data": {
      "text/plain": [
       "   id  cap-diameter cap-shape cap-surface cap-color does-bruise-or-bleed  \\\n",
       "0   0          8.80         f           s         u                    f   \n",
       "1   1          4.51         x           h         o                    f   \n",
       "2   2          6.94         f           s         b                    f   \n",
       "3   3          3.88         f           y         g                    f   \n",
       "4   4          5.85         x           l         w                    f   \n",
       "\n",
       "  gill-attachment gill-spacing gill-color  stem-height  stem-width  \\\n",
       "0               a            c          w         4.51       15.39   \n",
       "1               a            c          n         4.79        6.48   \n",
       "2               x            c          w         6.85        9.93   \n",
       "3               s          NaN          g         4.16        6.53   \n",
       "4               d          NaN          w         3.37        8.36   \n",
       "\n",
       "  stem-surface stem-color has-ring ring-type habitat season  \n",
       "0          NaN          w        f         f       d      a  \n",
       "1            y          o        t         z       d      w  \n",
       "2            s          n        f         f       l      w  \n",
       "3          NaN          w        f         f       d      u  \n",
       "4          NaN          w        f         f       g      a  "
      ],
      "text/html": [
       "<div>\n",
       "<style scoped>\n",
       "    .dataframe tbody tr th:only-of-type {\n",
       "        vertical-align: middle;\n",
       "    }\n",
       "\n",
       "    .dataframe tbody tr th {\n",
       "        vertical-align: top;\n",
       "    }\n",
       "\n",
       "    .dataframe thead th {\n",
       "        text-align: right;\n",
       "    }\n",
       "</style>\n",
       "<table border=\"1\" class=\"dataframe\">\n",
       "  <thead>\n",
       "    <tr style=\"text-align: right;\">\n",
       "      <th></th>\n",
       "      <th>id</th>\n",
       "      <th>cap-diameter</th>\n",
       "      <th>cap-shape</th>\n",
       "      <th>cap-surface</th>\n",
       "      <th>cap-color</th>\n",
       "      <th>does-bruise-or-bleed</th>\n",
       "      <th>gill-attachment</th>\n",
       "      <th>gill-spacing</th>\n",
       "      <th>gill-color</th>\n",
       "      <th>stem-height</th>\n",
       "      <th>stem-width</th>\n",
       "      <th>stem-surface</th>\n",
       "      <th>stem-color</th>\n",
       "      <th>has-ring</th>\n",
       "      <th>ring-type</th>\n",
       "      <th>habitat</th>\n",
       "      <th>season</th>\n",
       "    </tr>\n",
       "  </thead>\n",
       "  <tbody>\n",
       "    <tr>\n",
       "      <th>0</th>\n",
       "      <td>0</td>\n",
       "      <td>8.80</td>\n",
       "      <td>f</td>\n",
       "      <td>s</td>\n",
       "      <td>u</td>\n",
       "      <td>f</td>\n",
       "      <td>a</td>\n",
       "      <td>c</td>\n",
       "      <td>w</td>\n",
       "      <td>4.51</td>\n",
       "      <td>15.39</td>\n",
       "      <td>NaN</td>\n",
       "      <td>w</td>\n",
       "      <td>f</td>\n",
       "      <td>f</td>\n",
       "      <td>d</td>\n",
       "      <td>a</td>\n",
       "    </tr>\n",
       "    <tr>\n",
       "      <th>1</th>\n",
       "      <td>1</td>\n",
       "      <td>4.51</td>\n",
       "      <td>x</td>\n",
       "      <td>h</td>\n",
       "      <td>o</td>\n",
       "      <td>f</td>\n",
       "      <td>a</td>\n",
       "      <td>c</td>\n",
       "      <td>n</td>\n",
       "      <td>4.79</td>\n",
       "      <td>6.48</td>\n",
       "      <td>y</td>\n",
       "      <td>o</td>\n",
       "      <td>t</td>\n",
       "      <td>z</td>\n",
       "      <td>d</td>\n",
       "      <td>w</td>\n",
       "    </tr>\n",
       "    <tr>\n",
       "      <th>2</th>\n",
       "      <td>2</td>\n",
       "      <td>6.94</td>\n",
       "      <td>f</td>\n",
       "      <td>s</td>\n",
       "      <td>b</td>\n",
       "      <td>f</td>\n",
       "      <td>x</td>\n",
       "      <td>c</td>\n",
       "      <td>w</td>\n",
       "      <td>6.85</td>\n",
       "      <td>9.93</td>\n",
       "      <td>s</td>\n",
       "      <td>n</td>\n",
       "      <td>f</td>\n",
       "      <td>f</td>\n",
       "      <td>l</td>\n",
       "      <td>w</td>\n",
       "    </tr>\n",
       "    <tr>\n",
       "      <th>3</th>\n",
       "      <td>3</td>\n",
       "      <td>3.88</td>\n",
       "      <td>f</td>\n",
       "      <td>y</td>\n",
       "      <td>g</td>\n",
       "      <td>f</td>\n",
       "      <td>s</td>\n",
       "      <td>NaN</td>\n",
       "      <td>g</td>\n",
       "      <td>4.16</td>\n",
       "      <td>6.53</td>\n",
       "      <td>NaN</td>\n",
       "      <td>w</td>\n",
       "      <td>f</td>\n",
       "      <td>f</td>\n",
       "      <td>d</td>\n",
       "      <td>u</td>\n",
       "    </tr>\n",
       "    <tr>\n",
       "      <th>4</th>\n",
       "      <td>4</td>\n",
       "      <td>5.85</td>\n",
       "      <td>x</td>\n",
       "      <td>l</td>\n",
       "      <td>w</td>\n",
       "      <td>f</td>\n",
       "      <td>d</td>\n",
       "      <td>NaN</td>\n",
       "      <td>w</td>\n",
       "      <td>3.37</td>\n",
       "      <td>8.36</td>\n",
       "      <td>NaN</td>\n",
       "      <td>w</td>\n",
       "      <td>f</td>\n",
       "      <td>f</td>\n",
       "      <td>g</td>\n",
       "      <td>a</td>\n",
       "    </tr>\n",
       "  </tbody>\n",
       "</table>\n",
       "</div>"
      ]
     },
     "execution_count": 12,
     "metadata": {},
     "output_type": "execute_result"
    }
   ],
   "execution_count": 12
  },
  {
   "metadata": {
    "ExecuteTime": {
     "end_time": "2024-08-16T18:13:49.012Z",
     "start_time": "2024-08-16T18:13:48.668713Z"
    }
   },
   "cell_type": "code",
   "source": "X = X.drop([\"gill-spacing\", \"stem-surface\"], axis=1)\n",
   "id": "6682d0fa66cac6c3",
   "outputs": [],
   "execution_count": 26
  },
  {
   "metadata": {
    "ExecuteTime": {
     "end_time": "2024-08-16T17:15:29.785313Z",
     "start_time": "2024-08-16T17:15:29.771281Z"
    }
   },
   "cell_type": "code",
   "source": "X.head()",
   "id": "73751c387f5ec374",
   "outputs": [
    {
     "data": {
      "text/plain": [
       "   id  cap-diameter cap-shape cap-surface cap-color does-bruise-or-bleed  \\\n",
       "0   0          8.80         f           s         u                    f   \n",
       "1   1          4.51         x           h         o                    f   \n",
       "2   2          6.94         f           s         b                    f   \n",
       "3   3          3.88         f           y         g                    f   \n",
       "4   4          5.85         x           l         w                    f   \n",
       "\n",
       "  gill-attachment gill-color  stem-height  stem-width stem-color has-ring  \\\n",
       "0               a          w         4.51       15.39          w        f   \n",
       "1               a          n         4.79        6.48          o        t   \n",
       "2               x          w         6.85        9.93          n        f   \n",
       "3               s          g         4.16        6.53          w        f   \n",
       "4               d          w         3.37        8.36          w        f   \n",
       "\n",
       "  ring-type habitat season  \n",
       "0         f       d      a  \n",
       "1         z       d      w  \n",
       "2         f       l      w  \n",
       "3         f       d      u  \n",
       "4         f       g      a  "
      ],
      "text/html": [
       "<div>\n",
       "<style scoped>\n",
       "    .dataframe tbody tr th:only-of-type {\n",
       "        vertical-align: middle;\n",
       "    }\n",
       "\n",
       "    .dataframe tbody tr th {\n",
       "        vertical-align: top;\n",
       "    }\n",
       "\n",
       "    .dataframe thead th {\n",
       "        text-align: right;\n",
       "    }\n",
       "</style>\n",
       "<table border=\"1\" class=\"dataframe\">\n",
       "  <thead>\n",
       "    <tr style=\"text-align: right;\">\n",
       "      <th></th>\n",
       "      <th>id</th>\n",
       "      <th>cap-diameter</th>\n",
       "      <th>cap-shape</th>\n",
       "      <th>cap-surface</th>\n",
       "      <th>cap-color</th>\n",
       "      <th>does-bruise-or-bleed</th>\n",
       "      <th>gill-attachment</th>\n",
       "      <th>gill-color</th>\n",
       "      <th>stem-height</th>\n",
       "      <th>stem-width</th>\n",
       "      <th>stem-color</th>\n",
       "      <th>has-ring</th>\n",
       "      <th>ring-type</th>\n",
       "      <th>habitat</th>\n",
       "      <th>season</th>\n",
       "    </tr>\n",
       "  </thead>\n",
       "  <tbody>\n",
       "    <tr>\n",
       "      <th>0</th>\n",
       "      <td>0</td>\n",
       "      <td>8.80</td>\n",
       "      <td>f</td>\n",
       "      <td>s</td>\n",
       "      <td>u</td>\n",
       "      <td>f</td>\n",
       "      <td>a</td>\n",
       "      <td>w</td>\n",
       "      <td>4.51</td>\n",
       "      <td>15.39</td>\n",
       "      <td>w</td>\n",
       "      <td>f</td>\n",
       "      <td>f</td>\n",
       "      <td>d</td>\n",
       "      <td>a</td>\n",
       "    </tr>\n",
       "    <tr>\n",
       "      <th>1</th>\n",
       "      <td>1</td>\n",
       "      <td>4.51</td>\n",
       "      <td>x</td>\n",
       "      <td>h</td>\n",
       "      <td>o</td>\n",
       "      <td>f</td>\n",
       "      <td>a</td>\n",
       "      <td>n</td>\n",
       "      <td>4.79</td>\n",
       "      <td>6.48</td>\n",
       "      <td>o</td>\n",
       "      <td>t</td>\n",
       "      <td>z</td>\n",
       "      <td>d</td>\n",
       "      <td>w</td>\n",
       "    </tr>\n",
       "    <tr>\n",
       "      <th>2</th>\n",
       "      <td>2</td>\n",
       "      <td>6.94</td>\n",
       "      <td>f</td>\n",
       "      <td>s</td>\n",
       "      <td>b</td>\n",
       "      <td>f</td>\n",
       "      <td>x</td>\n",
       "      <td>w</td>\n",
       "      <td>6.85</td>\n",
       "      <td>9.93</td>\n",
       "      <td>n</td>\n",
       "      <td>f</td>\n",
       "      <td>f</td>\n",
       "      <td>l</td>\n",
       "      <td>w</td>\n",
       "    </tr>\n",
       "    <tr>\n",
       "      <th>3</th>\n",
       "      <td>3</td>\n",
       "      <td>3.88</td>\n",
       "      <td>f</td>\n",
       "      <td>y</td>\n",
       "      <td>g</td>\n",
       "      <td>f</td>\n",
       "      <td>s</td>\n",
       "      <td>g</td>\n",
       "      <td>4.16</td>\n",
       "      <td>6.53</td>\n",
       "      <td>w</td>\n",
       "      <td>f</td>\n",
       "      <td>f</td>\n",
       "      <td>d</td>\n",
       "      <td>u</td>\n",
       "    </tr>\n",
       "    <tr>\n",
       "      <th>4</th>\n",
       "      <td>4</td>\n",
       "      <td>5.85</td>\n",
       "      <td>x</td>\n",
       "      <td>l</td>\n",
       "      <td>w</td>\n",
       "      <td>f</td>\n",
       "      <td>d</td>\n",
       "      <td>w</td>\n",
       "      <td>3.37</td>\n",
       "      <td>8.36</td>\n",
       "      <td>w</td>\n",
       "      <td>f</td>\n",
       "      <td>f</td>\n",
       "      <td>g</td>\n",
       "      <td>a</td>\n",
       "    </tr>\n",
       "  </tbody>\n",
       "</table>\n",
       "</div>"
      ]
     },
     "execution_count": 14,
     "metadata": {},
     "output_type": "execute_result"
    }
   ],
   "execution_count": 14
  },
  {
   "metadata": {},
   "cell_type": "markdown",
   "source": "### Выделение и преобразование категориальных признаков",
   "id": "c4f7c3a676893e54"
  },
  {
   "metadata": {
    "ExecuteTime": {
     "end_time": "2024-08-16T18:14:11.737449Z",
     "start_time": "2024-08-16T18:14:11.732862Z"
    }
   },
   "cell_type": "code",
   "source": "cat_cols = [\"cap-shape\",\"cap-surface\",  \"cap-color\", \"does-bruise-or-bleed\", \"gill-attachment\",\"gill-color\", \"stem-color\", \"has-ring\", \"ring-type\", \"habitat\", \"season\"]",
   "id": "6b6dc90c4f49582",
   "outputs": [],
   "execution_count": 27
  },
  {
   "metadata": {
    "ExecuteTime": {
     "end_time": "2024-08-16T18:14:33.449059Z",
     "start_time": "2024-08-16T18:14:19.076977Z"
    }
   },
   "cell_type": "code",
   "source": [
    "encoder = LeaveOneOutEncoder(return_df=True)\n",
    "X1 = encoder.fit_transform(X,y)\n",
    "X1.dtypes\n"
   ],
   "id": "9aa68a283ff42d91",
   "outputs": [
    {
     "data": {
      "text/plain": [
       "id                        int64\n",
       "cap-diameter            float64\n",
       "cap-shape               float64\n",
       "cap-surface             float64\n",
       "cap-color               float64\n",
       "does-bruise-or-bleed    float64\n",
       "gill-attachment         float64\n",
       "gill-color              float64\n",
       "stem-height             float64\n",
       "stem-width              float64\n",
       "stem-color              float64\n",
       "has-ring                float64\n",
       "ring-type               float64\n",
       "habitat                 float64\n",
       "season                  float64\n",
       "dtype: object"
      ]
     },
     "execution_count": 28,
     "metadata": {},
     "output_type": "execute_result"
    }
   ],
   "execution_count": 28
  },
  {
   "metadata": {
    "ExecuteTime": {
     "end_time": "2024-08-16T18:14:40.176282Z",
     "start_time": "2024-08-16T18:14:40.150887Z"
    }
   },
   "cell_type": "code",
   "source": "X1.head()",
   "id": "ef0beaedd16d3b35",
   "outputs": [
    {
     "data": {
      "text/plain": [
       "   id  cap-diameter  cap-shape  cap-surface  cap-color  does-bruise-or-bleed  \\\n",
       "0   0          8.80  -0.023890     0.261312  -0.078651             -0.111527   \n",
       "1   1          4.51  -0.020332     0.059745  -0.434519             -0.111526   \n",
       "2   2          6.94  -0.023890     0.261312   0.747912             -0.111527   \n",
       "3   3          3.88  -0.023890     0.076031   0.176156             -0.111527   \n",
       "4   4          5.85  -0.020333     0.142360   0.005880             -0.111527   \n",
       "\n",
       "   gill-attachment  gill-color  stem-height  stem-width  stem-color  has-ring  \\\n",
       "0        -0.292689    0.143119         4.51       15.39    0.164571 -0.066509   \n",
       "1        -0.292686   -0.429756         4.79        6.48   -0.193312 -0.182206   \n",
       "2        -0.076904    0.143119         6.85        9.93   -0.221857 -0.066509   \n",
       "3        -0.178318    0.038004         4.16        6.53    0.164571 -0.066509   \n",
       "4        -0.142756    0.143119         3.37        8.36    0.164571 -0.066509   \n",
       "\n",
       "   ring-type   habitat    season  \n",
       "0  -0.093477 -0.057678 -0.143173  \n",
       "1  -0.992318 -0.057677  0.307986  \n",
       "2  -0.093477  0.210151  0.307979  \n",
       "3  -0.093477 -0.057678 -0.164923  \n",
       "4  -0.093477 -0.349208 -0.143173  "
      ],
      "text/html": [
       "<div>\n",
       "<style scoped>\n",
       "    .dataframe tbody tr th:only-of-type {\n",
       "        vertical-align: middle;\n",
       "    }\n",
       "\n",
       "    .dataframe tbody tr th {\n",
       "        vertical-align: top;\n",
       "    }\n",
       "\n",
       "    .dataframe thead th {\n",
       "        text-align: right;\n",
       "    }\n",
       "</style>\n",
       "<table border=\"1\" class=\"dataframe\">\n",
       "  <thead>\n",
       "    <tr style=\"text-align: right;\">\n",
       "      <th></th>\n",
       "      <th>id</th>\n",
       "      <th>cap-diameter</th>\n",
       "      <th>cap-shape</th>\n",
       "      <th>cap-surface</th>\n",
       "      <th>cap-color</th>\n",
       "      <th>does-bruise-or-bleed</th>\n",
       "      <th>gill-attachment</th>\n",
       "      <th>gill-color</th>\n",
       "      <th>stem-height</th>\n",
       "      <th>stem-width</th>\n",
       "      <th>stem-color</th>\n",
       "      <th>has-ring</th>\n",
       "      <th>ring-type</th>\n",
       "      <th>habitat</th>\n",
       "      <th>season</th>\n",
       "    </tr>\n",
       "  </thead>\n",
       "  <tbody>\n",
       "    <tr>\n",
       "      <th>0</th>\n",
       "      <td>0</td>\n",
       "      <td>8.80</td>\n",
       "      <td>-0.023890</td>\n",
       "      <td>0.261312</td>\n",
       "      <td>-0.078651</td>\n",
       "      <td>-0.111527</td>\n",
       "      <td>-0.292689</td>\n",
       "      <td>0.143119</td>\n",
       "      <td>4.51</td>\n",
       "      <td>15.39</td>\n",
       "      <td>0.164571</td>\n",
       "      <td>-0.066509</td>\n",
       "      <td>-0.093477</td>\n",
       "      <td>-0.057678</td>\n",
       "      <td>-0.143173</td>\n",
       "    </tr>\n",
       "    <tr>\n",
       "      <th>1</th>\n",
       "      <td>1</td>\n",
       "      <td>4.51</td>\n",
       "      <td>-0.020332</td>\n",
       "      <td>0.059745</td>\n",
       "      <td>-0.434519</td>\n",
       "      <td>-0.111526</td>\n",
       "      <td>-0.292686</td>\n",
       "      <td>-0.429756</td>\n",
       "      <td>4.79</td>\n",
       "      <td>6.48</td>\n",
       "      <td>-0.193312</td>\n",
       "      <td>-0.182206</td>\n",
       "      <td>-0.992318</td>\n",
       "      <td>-0.057677</td>\n",
       "      <td>0.307986</td>\n",
       "    </tr>\n",
       "    <tr>\n",
       "      <th>2</th>\n",
       "      <td>2</td>\n",
       "      <td>6.94</td>\n",
       "      <td>-0.023890</td>\n",
       "      <td>0.261312</td>\n",
       "      <td>0.747912</td>\n",
       "      <td>-0.111527</td>\n",
       "      <td>-0.076904</td>\n",
       "      <td>0.143119</td>\n",
       "      <td>6.85</td>\n",
       "      <td>9.93</td>\n",
       "      <td>-0.221857</td>\n",
       "      <td>-0.066509</td>\n",
       "      <td>-0.093477</td>\n",
       "      <td>0.210151</td>\n",
       "      <td>0.307979</td>\n",
       "    </tr>\n",
       "    <tr>\n",
       "      <th>3</th>\n",
       "      <td>3</td>\n",
       "      <td>3.88</td>\n",
       "      <td>-0.023890</td>\n",
       "      <td>0.076031</td>\n",
       "      <td>0.176156</td>\n",
       "      <td>-0.111527</td>\n",
       "      <td>-0.178318</td>\n",
       "      <td>0.038004</td>\n",
       "      <td>4.16</td>\n",
       "      <td>6.53</td>\n",
       "      <td>0.164571</td>\n",
       "      <td>-0.066509</td>\n",
       "      <td>-0.093477</td>\n",
       "      <td>-0.057678</td>\n",
       "      <td>-0.164923</td>\n",
       "    </tr>\n",
       "    <tr>\n",
       "      <th>4</th>\n",
       "      <td>4</td>\n",
       "      <td>5.85</td>\n",
       "      <td>-0.020333</td>\n",
       "      <td>0.142360</td>\n",
       "      <td>0.005880</td>\n",
       "      <td>-0.111527</td>\n",
       "      <td>-0.142756</td>\n",
       "      <td>0.143119</td>\n",
       "      <td>3.37</td>\n",
       "      <td>8.36</td>\n",
       "      <td>0.164571</td>\n",
       "      <td>-0.066509</td>\n",
       "      <td>-0.093477</td>\n",
       "      <td>-0.349208</td>\n",
       "      <td>-0.143173</td>\n",
       "    </tr>\n",
       "  </tbody>\n",
       "</table>\n",
       "</div>"
      ]
     },
     "execution_count": 29,
     "metadata": {},
     "output_type": "execute_result"
    }
   ],
   "execution_count": 29
  },
  {
   "metadata": {
    "ExecuteTime": {
     "end_time": "2024-08-16T18:14:54.112959Z",
     "start_time": "2024-08-16T18:14:54.002906Z"
    }
   },
   "cell_type": "code",
   "source": "X1.isnull().sum()",
   "id": "941d2368980f1733",
   "outputs": [
    {
     "data": {
      "text/plain": [
       "id                      0\n",
       "cap-diameter            4\n",
       "cap-shape               0\n",
       "cap-surface             0\n",
       "cap-color               0\n",
       "does-bruise-or-bleed    0\n",
       "gill-attachment         0\n",
       "gill-color              0\n",
       "stem-height             0\n",
       "stem-width              0\n",
       "stem-color              0\n",
       "has-ring                0\n",
       "ring-type               0\n",
       "habitat                 0\n",
       "season                  0\n",
       "dtype: int64"
      ]
     },
     "execution_count": 30,
     "metadata": {},
     "output_type": "execute_result"
    }
   ],
   "execution_count": 30
  },
  {
   "metadata": {
    "ExecuteTime": {
     "end_time": "2024-08-16T18:16:04.742647Z",
     "start_time": "2024-08-16T18:16:04.333877Z"
    }
   },
   "cell_type": "code",
   "source": "X1.fillna(X1.mean(), inplace=True) # избавимся от пропусков в cap-diameter",
   "id": "1e5252c8693af75c",
   "outputs": [],
   "execution_count": 31
  },
  {
   "metadata": {
    "ExecuteTime": {
     "end_time": "2024-08-16T18:16:16.545226Z",
     "start_time": "2024-08-16T18:16:16.430641Z"
    }
   },
   "cell_type": "code",
   "source": "X1.isnull().sum()",
   "id": "60d82918c399293a",
   "outputs": [
    {
     "data": {
      "text/plain": [
       "id                      0\n",
       "cap-diameter            0\n",
       "cap-shape               0\n",
       "cap-surface             0\n",
       "cap-color               0\n",
       "does-bruise-or-bleed    0\n",
       "gill-attachment         0\n",
       "gill-color              0\n",
       "stem-height             0\n",
       "stem-width              0\n",
       "stem-color              0\n",
       "has-ring                0\n",
       "ring-type               0\n",
       "habitat                 0\n",
       "season                  0\n",
       "dtype: int64"
      ]
     },
     "execution_count": 32,
     "metadata": {},
     "output_type": "execute_result"
    }
   ],
   "execution_count": 32
  },
  {
   "metadata": {},
   "cell_type": "markdown",
   "source": "**Разделим выборку**",
   "id": "2bc0c2ba065aa2c6"
  },
  {
   "metadata": {
    "ExecuteTime": {
     "end_time": "2024-08-16T18:16:20.743168Z",
     "start_time": "2024-08-16T18:16:19.783881Z"
    }
   },
   "cell_type": "code",
   "source": "Xtrain, Xtest, ytrain, ytest = train_test_split(X1, y, test_size=0.3, random_state=42)",
   "id": "2d94598050c7dcf",
   "outputs": [],
   "execution_count": 33
  },
  {
   "metadata": {},
   "cell_type": "markdown",
   "source": "**Обучим линейную модель**",
   "id": "6c0a0d878c45304e"
  },
  {
   "metadata": {
    "ExecuteTime": {
     "end_time": "2024-08-16T18:34:55.597036Z",
     "start_time": "2024-08-16T18:34:42.667850Z"
    }
   },
   "cell_type": "code",
   "source": [
    "model = LogisticRegression()\n",
    "model.fit(Xtrain, ytrain)\n",
    "\n",
    "#y_train = model.predict(Xtrain)\n",
    "y_pred = model.predict(Xtest)\n",
    "\n",
    "\n",
    "print(accuracy_score(ytest, y_pred))"
   ],
   "id": "af1f25abd5ce94c0",
   "outputs": [
    {
     "name": "stdout",
     "output_type": "stream",
     "text": [
      "0.6228360232877475\n"
     ]
    },
    {
     "name": "stderr",
     "output_type": "stream",
     "text": [
      "/home/malleo/anaconda3/lib/python3.11/site-packages/sklearn/linear_model/_logistic.py:469: ConvergenceWarning: lbfgs failed to converge (status=1):\n",
      "STOP: TOTAL NO. of ITERATIONS REACHED LIMIT.\n",
      "\n",
      "Increase the number of iterations (max_iter) or scale the data as shown in:\n",
      "    https://scikit-learn.org/stable/modules/preprocessing.html\n",
      "Please also refer to the documentation for alternative solver options:\n",
      "    https://scikit-learn.org/stable/modules/linear_model.html#logistic-regression\n",
      "  n_iter_i = _check_optimize_result(\n"
     ]
    }
   ],
   "execution_count": 39
  },
  {
   "metadata": {},
   "cell_type": "code",
   "outputs": [],
   "execution_count": null,
   "source": "",
   "id": "ede3e07c62bfba82"
  }
 ],
 "metadata": {
  "kernelspec": {
   "display_name": "Python 3",
   "language": "python",
   "name": "python3"
  },
  "language_info": {
   "codemirror_mode": {
    "name": "ipython",
    "version": 2
   },
   "file_extension": ".py",
   "mimetype": "text/x-python",
   "name": "python",
   "nbconvert_exporter": "python",
   "pygments_lexer": "ipython2",
   "version": "2.7.6"
  }
 },
 "nbformat": 4,
 "nbformat_minor": 5
}
