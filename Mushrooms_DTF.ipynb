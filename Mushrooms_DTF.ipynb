{
 "cells": [
  {
   "cell_type": "code",
   "id": "initial_id",
   "metadata": {
    "collapsed": true,
    "ExecuteTime": {
     "end_time": "2024-08-25T06:46:52.766599Z",
     "start_time": "2024-08-25T06:46:52.761805Z"
    }
   },
   "source": [
    "import pandas as pd\n",
    "import numpy as np\n",
    "from category_encoders.one_hot import OneHotEncoder\n",
    "from sklearn.model_selection import train_test_split\n",
    "from sklearn.metrics import accuracy_score\n",
    "from category_encoders.leave_one_out import LeaveOneOutEncoder\n"
   ],
   "outputs": [],
   "execution_count": 76
  },
  {
   "metadata": {
    "ExecuteTime": {
     "end_time": "2024-08-25T06:19:52.251816Z",
     "start_time": "2024-08-25T06:19:52.152583Z"
    }
   },
   "cell_type": "code",
   "source": "from sklearn.tree import DecisionTreeClassifier",
   "id": "df0d6727dde5894",
   "outputs": [],
   "execution_count": 2
  },
  {
   "metadata": {
    "ExecuteTime": {
     "end_time": "2024-08-24T17:19:20.262452Z",
     "start_time": "2024-08-24T17:19:14.833144Z"
    }
   },
   "cell_type": "code",
   "source": "df = pd.read_csv('train.csv')",
   "id": "5ec85db717518311",
   "outputs": [],
   "execution_count": 3
  },
  {
   "metadata": {
    "ExecuteTime": {
     "end_time": "2024-08-22T18:44:16.248994Z",
     "start_time": "2024-08-22T18:44:16.243355Z"
    }
   },
   "cell_type": "code",
   "source": "df = df.iloc[:50000]",
   "id": "40d779661627d60e",
   "outputs": [],
   "execution_count": 102
  },
  {
   "metadata": {},
   "cell_type": "markdown",
   "source": "",
   "id": "727d74b29134e3d7"
  },
  {
   "metadata": {
    "ExecuteTime": {
     "end_time": "2024-08-23T19:23:12.061420Z",
     "start_time": "2024-08-23T19:23:11.658900Z"
    }
   },
   "cell_type": "code",
   "source": "df_copy = df.copy()",
   "id": "2017ef727d46aa1b",
   "outputs": [],
   "execution_count": 6
  },
  {
   "metadata": {
    "ExecuteTime": {
     "end_time": "2024-08-23T19:23:15.088097Z",
     "start_time": "2024-08-23T19:23:14.375929Z"
    }
   },
   "cell_type": "code",
   "source": "df_copy.dropna(subset=['cap-surface', 'gill-attachment', 'gill-spacing'],inplace = True)",
   "id": "d05a6c56e941e63d",
   "outputs": [],
   "execution_count": 7
  },
  {
   "metadata": {
    "ExecuteTime": {
     "end_time": "2024-08-23T19:23:17.742147Z",
     "start_time": "2024-08-23T19:23:17.151485Z"
    }
   },
   "cell_type": "code",
   "source": "df_copy.isnull().sum()",
   "id": "9f561c61efaa3700",
   "outputs": [
    {
     "data": {
      "text/plain": [
       "id                            0\n",
       "class                         0\n",
       "cap-diameter                  0\n",
       "cap-shape                     6\n",
       "cap-surface                   0\n",
       "cap-color                     3\n",
       "does-bruise-or-bleed          2\n",
       "gill-attachment               0\n",
       "gill-spacing                  0\n",
       "gill-color                    7\n",
       "stem-height                   0\n",
       "stem-width                    0\n",
       "stem-root               1135286\n",
       "stem-surface             659500\n",
       "stem-color                   13\n",
       "veil-type               1201556\n",
       "veil-color              1149287\n",
       "has-ring                     10\n",
       "ring-type                 48386\n",
       "spore-print-color       1141264\n",
       "habitat                      11\n",
       "season                        0\n",
       "dtype: int64"
      ]
     },
     "execution_count": 8,
     "metadata": {},
     "output_type": "execute_result"
    }
   ],
   "execution_count": 8
  },
  {
   "metadata": {
    "ExecuteTime": {
     "end_time": "2024-08-22T19:15:50.979516Z",
     "start_time": "2024-08-22T19:15:50.543353Z"
    }
   },
   "cell_type": "code",
   "source": "df_copy.dropna(subset=['cap-shape', 'cap-color', 'does-bruise-or-bleed','gill-color'],inplace = True)",
   "id": "8e97fbd8b20ddd19",
   "outputs": [],
   "execution_count": 430
  },
  {
   "metadata": {
    "ExecuteTime": {
     "end_time": "2024-08-22T19:15:54.502771Z",
     "start_time": "2024-08-22T19:15:54.430299Z"
    }
   },
   "cell_type": "code",
   "source": [
    "y = df_copy[\"class\"]\n",
    "y = y.map({\"p\":-1, \"e\":1})"
   ],
   "id": "80aee56e30b8eff",
   "outputs": [],
   "execution_count": 431
  },
  {
   "metadata": {
    "ExecuteTime": {
     "end_time": "2024-08-22T19:15:59.633464Z",
     "start_time": "2024-08-22T19:15:59.478264Z"
    }
   },
   "cell_type": "code",
   "source": "X = df_copy.drop([\"class\",'id'], axis=1)",
   "id": "6996d789c5a5b957",
   "outputs": [],
   "execution_count": 432
  },
  {
   "metadata": {
    "ExecuteTime": {
     "end_time": "2024-08-22T18:27:27.002136Z",
     "start_time": "2024-08-22T18:27:26.998100Z"
    }
   },
   "cell_type": "code",
   "source": [
    "from sklearn.metrics import mean_squared_error\n",
    "from sklearn.tree import DecisionTreeRegressor, plot_tree"
   ],
   "id": "411f930d66b6912d",
   "outputs": [],
   "execution_count": 44
  },
  {
   "metadata": {
    "ExecuteTime": {
     "end_time": "2024-08-22T19:17:35.276355Z",
     "start_time": "2024-08-22T19:16:03.950045Z"
    }
   },
   "cell_type": "code",
   "source": [
    "encoder_2 = OneHotEncoder(return_df=True)\n",
    "X2 = encoder_2.fit_transform(X,y)"
   ],
   "id": "2d9f2f78da1ae520",
   "outputs": [],
   "execution_count": 433
  },
  {
   "metadata": {
    "ExecuteTime": {
     "end_time": "2024-08-22T19:17:46.803695Z",
     "start_time": "2024-08-22T19:17:40.016889Z"
    }
   },
   "cell_type": "code",
   "source": "Xtrain_1, Xtest_1, ytrain_1, ytest_1 = train_test_split(X2, y, test_size=0.3, random_state=42)",
   "id": "ccfe3a4ca9632a86",
   "outputs": [],
   "execution_count": 434
  },
  {
   "metadata": {
    "ExecuteTime": {
     "end_time": "2024-08-22T19:17:49.366851Z",
     "start_time": "2024-08-22T19:17:49.363250Z"
    }
   },
   "cell_type": "code",
   "source": "dt =  DecisionTreeClassifier(criterion='entropy', max_depth=15, random_state=18)",
   "id": "3bca955816132f79",
   "outputs": [],
   "execution_count": 435
  },
  {
   "metadata": {
    "ExecuteTime": {
     "end_time": "2024-08-22T19:18:28.391235Z",
     "start_time": "2024-08-22T19:17:51.737698Z"
    }
   },
   "cell_type": "code",
   "source": [
    "dt.fit(Xtrain_1, ytrain_1)\n",
    "\n",
    "y_train_dt = dt.predict(Xtrain_1)\n",
    "y_test_dt = dt.predict(Xtest_1)"
   ],
   "id": "990a637fa1ef647a",
   "outputs": [],
   "execution_count": 436
  },
  {
   "metadata": {
    "ExecuteTime": {
     "end_time": "2024-08-22T19:18:32.277336Z",
     "start_time": "2024-08-22T19:18:32.191638Z"
    }
   },
   "cell_type": "code",
   "source": [
    "print(f\"Decision tree accuracy train: {accuracy_score(y_train_dt, ytrain_1):.8f}\")\n",
    "print(f\"Decision tree accuracy test: {accuracy_score(y_test_dt, ytest_1):.8f}\")"
   ],
   "id": "5bc82618dbfadfda",
   "outputs": [
    {
     "name": "stdout",
     "output_type": "stream",
     "text": [
      "Decision tree accuracy train: 0.99080606\n",
      "Decision tree accuracy test: 0.98873800\n"
     ]
    }
   ],
   "execution_count": 437
  },
  {
   "metadata": {
    "ExecuteTime": {
     "end_time": "2024-08-22T19:00:59.739146Z",
     "start_time": "2024-08-22T19:00:54.996456Z"
    }
   },
   "cell_type": "code",
   "source": "df_1 = pd.read_csv('train.csv')\n",
   "id": "9890e75858ede28a",
   "outputs": [],
   "execution_count": 394
  },
  {
   "metadata": {
    "ExecuteTime": {
     "end_time": "2024-08-22T19:01:00.830226Z",
     "start_time": "2024-08-22T19:01:00.827282Z"
    }
   },
   "cell_type": "code",
   "source": "df_1 = df_1.iloc[50000:100000]",
   "id": "751fb1182b85cf49",
   "outputs": [],
   "execution_count": 395
  },
  {
   "metadata": {
    "ExecuteTime": {
     "end_time": "2024-08-22T18:59:03.695612Z",
     "start_time": "2024-08-22T18:59:03.692870Z"
    }
   },
   "cell_type": "code",
   "source": "df_1 = df_1.iloc[50000:72229]",
   "id": "cf95f8e7af2bc807",
   "outputs": [],
   "execution_count": 362
  },
  {
   "metadata": {
    "ExecuteTime": {
     "end_time": "2024-08-22T19:01:03.053416Z",
     "start_time": "2024-08-22T19:01:03.039447Z"
    }
   },
   "cell_type": "code",
   "source": "df_copy_1 = df_1.copy()",
   "id": "bb9fae47d750d96b",
   "outputs": [],
   "execution_count": 396
  },
  {
   "metadata": {
    "ExecuteTime": {
     "end_time": "2024-08-22T19:01:04.163468Z",
     "start_time": "2024-08-22T19:01:04.113585Z"
    }
   },
   "cell_type": "code",
   "source": "df_copy_1.isnull().sum()",
   "id": "1ceef04b2b58b987",
   "outputs": [
    {
     "data": {
      "text/plain": [
       "id                          0\n",
       "class                       0\n",
       "cap-diameter                0\n",
       "cap-shape                   0\n",
       "cap-surface             10962\n",
       "cap-color                   0\n",
       "does-bruise-or-bleed        0\n",
       "gill-attachment          8331\n",
       "gill-spacing            20207\n",
       "gill-color                  0\n",
       "stem-height                 0\n",
       "stem-width                  0\n",
       "stem-root               44228\n",
       "stem-surface            31805\n",
       "stem-color                  0\n",
       "veil-type               47409\n",
       "veil-color              43971\n",
       "has-ring                    0\n",
       "ring-type                2038\n",
       "spore-print-color       45804\n",
       "habitat                     0\n",
       "season                      0\n",
       "dtype: int64"
      ]
     },
     "execution_count": 397,
     "metadata": {},
     "output_type": "execute_result"
    }
   ],
   "execution_count": 397
  },
  {
   "metadata": {
    "ExecuteTime": {
     "end_time": "2024-08-22T19:01:06.556174Z",
     "start_time": "2024-08-22T19:01:06.526741Z"
    }
   },
   "cell_type": "code",
   "source": "df_copy_1.dropna(subset=['cap-surface', 'gill-attachment', 'gill-spacing'],inplace = True)",
   "id": "d322409b1d9a8406",
   "outputs": [],
   "execution_count": 398
  },
  {
   "metadata": {
    "ExecuteTime": {
     "end_time": "2024-08-22T19:01:07.556494Z",
     "start_time": "2024-08-22T19:01:07.534708Z"
    }
   },
   "cell_type": "code",
   "source": "df_copy_1.isnull().sum()",
   "id": "48e94152e956826f",
   "outputs": [
    {
     "data": {
      "text/plain": [
       "id                          0\n",
       "class                       0\n",
       "cap-diameter                0\n",
       "cap-shape                   0\n",
       "cap-surface                 0\n",
       "cap-color                   0\n",
       "does-bruise-or-bleed        0\n",
       "gill-attachment             0\n",
       "gill-spacing                0\n",
       "gill-color                  0\n",
       "stem-height                 0\n",
       "stem-width                  0\n",
       "stem-root               18106\n",
       "stem-surface            10618\n",
       "stem-color                  0\n",
       "veil-type               19180\n",
       "veil-color              18343\n",
       "has-ring                    0\n",
       "ring-type                 759\n",
       "spore-print-color       18240\n",
       "habitat                     0\n",
       "season                      0\n",
       "dtype: int64"
      ]
     },
     "execution_count": 399,
     "metadata": {},
     "output_type": "execute_result"
    }
   ],
   "execution_count": 399
  },
  {
   "metadata": {
    "ExecuteTime": {
     "end_time": "2024-08-25T06:21:34.881444Z",
     "start_time": "2024-08-25T06:21:31.825568Z"
    }
   },
   "cell_type": "code",
   "source": "df_test = pd.read_csv('test.csv')",
   "id": "35d375278ae46738",
   "outputs": [],
   "execution_count": 8
  },
  {
   "metadata": {
    "ExecuteTime": {
     "end_time": "2024-08-23T19:23:43.864767Z",
     "start_time": "2024-08-23T19:23:42.589036Z"
    }
   },
   "cell_type": "code",
   "source": "df_test",
   "id": "3d4b401eed0cbf56",
   "outputs": [
    {
     "data": {
      "text/plain": [
       "              id  cap-diameter cap-shape cap-surface cap-color  \\\n",
       "0        3116945          8.64         x         NaN         n   \n",
       "1        3116946          6.90         o           t         o   \n",
       "2        3116947          2.00         b           g         n   \n",
       "3        3116948          3.47         x           t         n   \n",
       "4        3116949          6.17         x           h         y   \n",
       "...          ...           ...       ...         ...       ...   \n",
       "2077959  5194904          0.88         x           g         w   \n",
       "2077960  5194905          3.12         x           s         w   \n",
       "2077961  5194906          5.73         x           e         e   \n",
       "2077962  5194907          5.03         b           g         n   \n",
       "2077963  5194908         15.51         f         NaN         w   \n",
       "\n",
       "        does-bruise-or-bleed gill-attachment gill-spacing gill-color  \\\n",
       "0                          t             NaN          NaN          w   \n",
       "1                          f             NaN            c          y   \n",
       "2                          f             NaN            c          n   \n",
       "3                          f               s            c          n   \n",
       "4                          f               p          NaN          y   \n",
       "...                      ...             ...          ...        ...   \n",
       "2077959                    f               a            d          w   \n",
       "2077960                    f               d            c          w   \n",
       "2077961                    f               a          NaN          w   \n",
       "2077962                    f               a            d          g   \n",
       "2077963                    f               d            c          y   \n",
       "\n",
       "         stem-height  ...  stem-root stem-surface stem-color veil-type  \\\n",
       "0              11.13  ...          b          NaN          w         u   \n",
       "1               1.27  ...        NaN          NaN          n       NaN   \n",
       "2               6.18  ...        NaN          NaN          n       NaN   \n",
       "3               4.98  ...        NaN          NaN          w       NaN   \n",
       "4               6.73  ...        NaN          NaN          y       NaN   \n",
       "...              ...  ...        ...          ...        ...       ...   \n",
       "2077959         2.67  ...        NaN          NaN          e       NaN   \n",
       "2077960         2.69  ...        NaN          NaN          w       NaN   \n",
       "2077961         6.16  ...        NaN          NaN          y       NaN   \n",
       "2077962         6.00  ...        NaN            s          g       NaN   \n",
       "2077963         2.69  ...        NaN          NaN          w       NaN   \n",
       "\n",
       "        veil-color has-ring ring-type spore-print-color habitat season  \n",
       "0                w        t         g               NaN       d      a  \n",
       "1              NaN        f         f               NaN       d      a  \n",
       "2              NaN        f         f               NaN       d      s  \n",
       "3                n        t         z               NaN       d      u  \n",
       "4                y        t       NaN               NaN       d      u  \n",
       "...            ...      ...       ...               ...     ...    ...  \n",
       "2077959        NaN        f         f               NaN       d      u  \n",
       "2077960        NaN        f         f               NaN       g      a  \n",
       "2077961          w        t         z               NaN       d      a  \n",
       "2077962        NaN        f         f               NaN       d      a  \n",
       "2077963        NaN        f         f               NaN       d      w  \n",
       "\n",
       "[2077964 rows x 21 columns]"
      ],
      "text/html": [
       "<div>\n",
       "<style scoped>\n",
       "    .dataframe tbody tr th:only-of-type {\n",
       "        vertical-align: middle;\n",
       "    }\n",
       "\n",
       "    .dataframe tbody tr th {\n",
       "        vertical-align: top;\n",
       "    }\n",
       "\n",
       "    .dataframe thead th {\n",
       "        text-align: right;\n",
       "    }\n",
       "</style>\n",
       "<table border=\"1\" class=\"dataframe\">\n",
       "  <thead>\n",
       "    <tr style=\"text-align: right;\">\n",
       "      <th></th>\n",
       "      <th>id</th>\n",
       "      <th>cap-diameter</th>\n",
       "      <th>cap-shape</th>\n",
       "      <th>cap-surface</th>\n",
       "      <th>cap-color</th>\n",
       "      <th>does-bruise-or-bleed</th>\n",
       "      <th>gill-attachment</th>\n",
       "      <th>gill-spacing</th>\n",
       "      <th>gill-color</th>\n",
       "      <th>stem-height</th>\n",
       "      <th>...</th>\n",
       "      <th>stem-root</th>\n",
       "      <th>stem-surface</th>\n",
       "      <th>stem-color</th>\n",
       "      <th>veil-type</th>\n",
       "      <th>veil-color</th>\n",
       "      <th>has-ring</th>\n",
       "      <th>ring-type</th>\n",
       "      <th>spore-print-color</th>\n",
       "      <th>habitat</th>\n",
       "      <th>season</th>\n",
       "    </tr>\n",
       "  </thead>\n",
       "  <tbody>\n",
       "    <tr>\n",
       "      <th>0</th>\n",
       "      <td>3116945</td>\n",
       "      <td>8.64</td>\n",
       "      <td>x</td>\n",
       "      <td>NaN</td>\n",
       "      <td>n</td>\n",
       "      <td>t</td>\n",
       "      <td>NaN</td>\n",
       "      <td>NaN</td>\n",
       "      <td>w</td>\n",
       "      <td>11.13</td>\n",
       "      <td>...</td>\n",
       "      <td>b</td>\n",
       "      <td>NaN</td>\n",
       "      <td>w</td>\n",
       "      <td>u</td>\n",
       "      <td>w</td>\n",
       "      <td>t</td>\n",
       "      <td>g</td>\n",
       "      <td>NaN</td>\n",
       "      <td>d</td>\n",
       "      <td>a</td>\n",
       "    </tr>\n",
       "    <tr>\n",
       "      <th>1</th>\n",
       "      <td>3116946</td>\n",
       "      <td>6.90</td>\n",
       "      <td>o</td>\n",
       "      <td>t</td>\n",
       "      <td>o</td>\n",
       "      <td>f</td>\n",
       "      <td>NaN</td>\n",
       "      <td>c</td>\n",
       "      <td>y</td>\n",
       "      <td>1.27</td>\n",
       "      <td>...</td>\n",
       "      <td>NaN</td>\n",
       "      <td>NaN</td>\n",
       "      <td>n</td>\n",
       "      <td>NaN</td>\n",
       "      <td>NaN</td>\n",
       "      <td>f</td>\n",
       "      <td>f</td>\n",
       "      <td>NaN</td>\n",
       "      <td>d</td>\n",
       "      <td>a</td>\n",
       "    </tr>\n",
       "    <tr>\n",
       "      <th>2</th>\n",
       "      <td>3116947</td>\n",
       "      <td>2.00</td>\n",
       "      <td>b</td>\n",
       "      <td>g</td>\n",
       "      <td>n</td>\n",
       "      <td>f</td>\n",
       "      <td>NaN</td>\n",
       "      <td>c</td>\n",
       "      <td>n</td>\n",
       "      <td>6.18</td>\n",
       "      <td>...</td>\n",
       "      <td>NaN</td>\n",
       "      <td>NaN</td>\n",
       "      <td>n</td>\n",
       "      <td>NaN</td>\n",
       "      <td>NaN</td>\n",
       "      <td>f</td>\n",
       "      <td>f</td>\n",
       "      <td>NaN</td>\n",
       "      <td>d</td>\n",
       "      <td>s</td>\n",
       "    </tr>\n",
       "    <tr>\n",
       "      <th>3</th>\n",
       "      <td>3116948</td>\n",
       "      <td>3.47</td>\n",
       "      <td>x</td>\n",
       "      <td>t</td>\n",
       "      <td>n</td>\n",
       "      <td>f</td>\n",
       "      <td>s</td>\n",
       "      <td>c</td>\n",
       "      <td>n</td>\n",
       "      <td>4.98</td>\n",
       "      <td>...</td>\n",
       "      <td>NaN</td>\n",
       "      <td>NaN</td>\n",
       "      <td>w</td>\n",
       "      <td>NaN</td>\n",
       "      <td>n</td>\n",
       "      <td>t</td>\n",
       "      <td>z</td>\n",
       "      <td>NaN</td>\n",
       "      <td>d</td>\n",
       "      <td>u</td>\n",
       "    </tr>\n",
       "    <tr>\n",
       "      <th>4</th>\n",
       "      <td>3116949</td>\n",
       "      <td>6.17</td>\n",
       "      <td>x</td>\n",
       "      <td>h</td>\n",
       "      <td>y</td>\n",
       "      <td>f</td>\n",
       "      <td>p</td>\n",
       "      <td>NaN</td>\n",
       "      <td>y</td>\n",
       "      <td>6.73</td>\n",
       "      <td>...</td>\n",
       "      <td>NaN</td>\n",
       "      <td>NaN</td>\n",
       "      <td>y</td>\n",
       "      <td>NaN</td>\n",
       "      <td>y</td>\n",
       "      <td>t</td>\n",
       "      <td>NaN</td>\n",
       "      <td>NaN</td>\n",
       "      <td>d</td>\n",
       "      <td>u</td>\n",
       "    </tr>\n",
       "    <tr>\n",
       "      <th>...</th>\n",
       "      <td>...</td>\n",
       "      <td>...</td>\n",
       "      <td>...</td>\n",
       "      <td>...</td>\n",
       "      <td>...</td>\n",
       "      <td>...</td>\n",
       "      <td>...</td>\n",
       "      <td>...</td>\n",
       "      <td>...</td>\n",
       "      <td>...</td>\n",
       "      <td>...</td>\n",
       "      <td>...</td>\n",
       "      <td>...</td>\n",
       "      <td>...</td>\n",
       "      <td>...</td>\n",
       "      <td>...</td>\n",
       "      <td>...</td>\n",
       "      <td>...</td>\n",
       "      <td>...</td>\n",
       "      <td>...</td>\n",
       "      <td>...</td>\n",
       "    </tr>\n",
       "    <tr>\n",
       "      <th>2077959</th>\n",
       "      <td>5194904</td>\n",
       "      <td>0.88</td>\n",
       "      <td>x</td>\n",
       "      <td>g</td>\n",
       "      <td>w</td>\n",
       "      <td>f</td>\n",
       "      <td>a</td>\n",
       "      <td>d</td>\n",
       "      <td>w</td>\n",
       "      <td>2.67</td>\n",
       "      <td>...</td>\n",
       "      <td>NaN</td>\n",
       "      <td>NaN</td>\n",
       "      <td>e</td>\n",
       "      <td>NaN</td>\n",
       "      <td>NaN</td>\n",
       "      <td>f</td>\n",
       "      <td>f</td>\n",
       "      <td>NaN</td>\n",
       "      <td>d</td>\n",
       "      <td>u</td>\n",
       "    </tr>\n",
       "    <tr>\n",
       "      <th>2077960</th>\n",
       "      <td>5194905</td>\n",
       "      <td>3.12</td>\n",
       "      <td>x</td>\n",
       "      <td>s</td>\n",
       "      <td>w</td>\n",
       "      <td>f</td>\n",
       "      <td>d</td>\n",
       "      <td>c</td>\n",
       "      <td>w</td>\n",
       "      <td>2.69</td>\n",
       "      <td>...</td>\n",
       "      <td>NaN</td>\n",
       "      <td>NaN</td>\n",
       "      <td>w</td>\n",
       "      <td>NaN</td>\n",
       "      <td>NaN</td>\n",
       "      <td>f</td>\n",
       "      <td>f</td>\n",
       "      <td>NaN</td>\n",
       "      <td>g</td>\n",
       "      <td>a</td>\n",
       "    </tr>\n",
       "    <tr>\n",
       "      <th>2077961</th>\n",
       "      <td>5194906</td>\n",
       "      <td>5.73</td>\n",
       "      <td>x</td>\n",
       "      <td>e</td>\n",
       "      <td>e</td>\n",
       "      <td>f</td>\n",
       "      <td>a</td>\n",
       "      <td>NaN</td>\n",
       "      <td>w</td>\n",
       "      <td>6.16</td>\n",
       "      <td>...</td>\n",
       "      <td>NaN</td>\n",
       "      <td>NaN</td>\n",
       "      <td>y</td>\n",
       "      <td>NaN</td>\n",
       "      <td>w</td>\n",
       "      <td>t</td>\n",
       "      <td>z</td>\n",
       "      <td>NaN</td>\n",
       "      <td>d</td>\n",
       "      <td>a</td>\n",
       "    </tr>\n",
       "    <tr>\n",
       "      <th>2077962</th>\n",
       "      <td>5194907</td>\n",
       "      <td>5.03</td>\n",
       "      <td>b</td>\n",
       "      <td>g</td>\n",
       "      <td>n</td>\n",
       "      <td>f</td>\n",
       "      <td>a</td>\n",
       "      <td>d</td>\n",
       "      <td>g</td>\n",
       "      <td>6.00</td>\n",
       "      <td>...</td>\n",
       "      <td>NaN</td>\n",
       "      <td>s</td>\n",
       "      <td>g</td>\n",
       "      <td>NaN</td>\n",
       "      <td>NaN</td>\n",
       "      <td>f</td>\n",
       "      <td>f</td>\n",
       "      <td>NaN</td>\n",
       "      <td>d</td>\n",
       "      <td>a</td>\n",
       "    </tr>\n",
       "    <tr>\n",
       "      <th>2077963</th>\n",
       "      <td>5194908</td>\n",
       "      <td>15.51</td>\n",
       "      <td>f</td>\n",
       "      <td>NaN</td>\n",
       "      <td>w</td>\n",
       "      <td>f</td>\n",
       "      <td>d</td>\n",
       "      <td>c</td>\n",
       "      <td>y</td>\n",
       "      <td>2.69</td>\n",
       "      <td>...</td>\n",
       "      <td>NaN</td>\n",
       "      <td>NaN</td>\n",
       "      <td>w</td>\n",
       "      <td>NaN</td>\n",
       "      <td>NaN</td>\n",
       "      <td>f</td>\n",
       "      <td>f</td>\n",
       "      <td>NaN</td>\n",
       "      <td>d</td>\n",
       "      <td>w</td>\n",
       "    </tr>\n",
       "  </tbody>\n",
       "</table>\n",
       "<p>2077964 rows × 21 columns</p>\n",
       "</div>"
      ]
     },
     "execution_count": 10,
     "metadata": {},
     "output_type": "execute_result"
    }
   ],
   "execution_count": 10
  },
  {
   "metadata": {
    "ExecuteTime": {
     "end_time": "2024-08-25T06:21:38.832608Z",
     "start_time": "2024-08-25T06:21:37.878727Z"
    }
   },
   "cell_type": "code",
   "source": "df_test.isnull().sum()",
   "id": "927332b930200a0a",
   "outputs": [
    {
     "data": {
      "text/plain": [
       "id                            0\n",
       "cap-diameter                  7\n",
       "cap-shape                    31\n",
       "cap-surface              446904\n",
       "cap-color                    13\n",
       "does-bruise-or-bleed         10\n",
       "gill-attachment          349821\n",
       "gill-spacing             839595\n",
       "gill-color                   49\n",
       "stem-height                   1\n",
       "stem-width                    0\n",
       "stem-root               1838012\n",
       "stem-surface            1321488\n",
       "stem-color                   21\n",
       "veil-type               1971545\n",
       "veil-color              1826124\n",
       "has-ring                     19\n",
       "ring-type                 86195\n",
       "spore-print-color       1899617\n",
       "habitat                      25\n",
       "season                        0\n",
       "dtype: int64"
      ]
     },
     "execution_count": 9,
     "metadata": {},
     "output_type": "execute_result"
    }
   ],
   "execution_count": 9
  },
  {
   "metadata": {
    "ExecuteTime": {
     "end_time": "2024-08-25T06:21:42.631557Z",
     "start_time": "2024-08-25T06:21:41.679566Z"
    }
   },
   "cell_type": "code",
   "source": [
    "columns = []\n",
    "for col in df_test:\n",
    "    if df_test[col].isnull().sum() <100 and col != 'id':\n",
    "        columns.append(col)"
   ],
   "id": "6deee67d3ffe325b",
   "outputs": [],
   "execution_count": 10
  },
  {
   "metadata": {
    "ExecuteTime": {
     "end_time": "2024-08-24T17:20:09.222762Z",
     "start_time": "2024-08-24T17:20:09.217728Z"
    }
   },
   "cell_type": "code",
   "source": "columns",
   "id": "fea35417fe379c14",
   "outputs": [
    {
     "data": {
      "text/plain": [
       "['cap-diameter',\n",
       " 'cap-shape',\n",
       " 'cap-color',\n",
       " 'does-bruise-or-bleed',\n",
       " 'gill-color',\n",
       " 'stem-height',\n",
       " 'stem-width',\n",
       " 'stem-color',\n",
       " 'has-ring',\n",
       " 'habitat',\n",
       " 'season']"
      ]
     },
     "execution_count": 7,
     "metadata": {},
     "output_type": "execute_result"
    }
   ],
   "execution_count": 7
  },
  {
   "metadata": {
    "ExecuteTime": {
     "end_time": "2024-08-24T17:20:11.482935Z",
     "start_time": "2024-08-24T17:20:11.478355Z"
    }
   },
   "cell_type": "code",
   "source": "df_copy = pd.DataFrame()",
   "id": "5fa6c41e09d3f1cb",
   "outputs": [],
   "execution_count": 8
  },
  {
   "metadata": {
    "ExecuteTime": {
     "end_time": "2024-08-24T17:31:02.257451Z",
     "start_time": "2024-08-24T17:31:00.083069Z"
    }
   },
   "cell_type": "code",
   "source": [
    "for i in columns:\n",
    "    if i in df.columns and df[i].dtypes == 'float64':        \n",
    "        df_copy[i]=df[i].fillna(df[i].mean())\n",
    "    if i in df.columns and df[i].dtypes == 'object':\n",
    "        df_copy[i]=df[i].fillna(df[i].mode()[0])"
   ],
   "id": "28981fadd47fdaeb",
   "outputs": [],
   "execution_count": 19
  },
  {
   "metadata": {
    "ExecuteTime": {
     "end_time": "2024-08-24T17:31:04.801674Z",
     "start_time": "2024-08-24T17:31:04.785371Z"
    }
   },
   "cell_type": "code",
   "source": "df_copy.head()",
   "id": "373e1168e5d9767c",
   "outputs": [
    {
     "data": {
      "text/plain": [
       "   cap-diameter cap-shape cap-color does-bruise-or-bleed gill-color  \\\n",
       "0          8.80         f         u                    f          w   \n",
       "1          4.51         x         o                    f          n   \n",
       "2          6.94         f         b                    f          w   \n",
       "3          3.88         f         g                    f          g   \n",
       "4          5.85         x         w                    f          w   \n",
       "\n",
       "   stem-height  stem-width stem-color has-ring habitat season  \n",
       "0         4.51       15.39          w        f       d      a  \n",
       "1         4.79        6.48          o        t       d      w  \n",
       "2         6.85        9.93          n        f       l      w  \n",
       "3         4.16        6.53          w        f       d      u  \n",
       "4         3.37        8.36          w        f       g      a  "
      ],
      "text/html": [
       "<div>\n",
       "<style scoped>\n",
       "    .dataframe tbody tr th:only-of-type {\n",
       "        vertical-align: middle;\n",
       "    }\n",
       "\n",
       "    .dataframe tbody tr th {\n",
       "        vertical-align: top;\n",
       "    }\n",
       "\n",
       "    .dataframe thead th {\n",
       "        text-align: right;\n",
       "    }\n",
       "</style>\n",
       "<table border=\"1\" class=\"dataframe\">\n",
       "  <thead>\n",
       "    <tr style=\"text-align: right;\">\n",
       "      <th></th>\n",
       "      <th>cap-diameter</th>\n",
       "      <th>cap-shape</th>\n",
       "      <th>cap-color</th>\n",
       "      <th>does-bruise-or-bleed</th>\n",
       "      <th>gill-color</th>\n",
       "      <th>stem-height</th>\n",
       "      <th>stem-width</th>\n",
       "      <th>stem-color</th>\n",
       "      <th>has-ring</th>\n",
       "      <th>habitat</th>\n",
       "      <th>season</th>\n",
       "    </tr>\n",
       "  </thead>\n",
       "  <tbody>\n",
       "    <tr>\n",
       "      <th>0</th>\n",
       "      <td>8.80</td>\n",
       "      <td>f</td>\n",
       "      <td>u</td>\n",
       "      <td>f</td>\n",
       "      <td>w</td>\n",
       "      <td>4.51</td>\n",
       "      <td>15.39</td>\n",
       "      <td>w</td>\n",
       "      <td>f</td>\n",
       "      <td>d</td>\n",
       "      <td>a</td>\n",
       "    </tr>\n",
       "    <tr>\n",
       "      <th>1</th>\n",
       "      <td>4.51</td>\n",
       "      <td>x</td>\n",
       "      <td>o</td>\n",
       "      <td>f</td>\n",
       "      <td>n</td>\n",
       "      <td>4.79</td>\n",
       "      <td>6.48</td>\n",
       "      <td>o</td>\n",
       "      <td>t</td>\n",
       "      <td>d</td>\n",
       "      <td>w</td>\n",
       "    </tr>\n",
       "    <tr>\n",
       "      <th>2</th>\n",
       "      <td>6.94</td>\n",
       "      <td>f</td>\n",
       "      <td>b</td>\n",
       "      <td>f</td>\n",
       "      <td>w</td>\n",
       "      <td>6.85</td>\n",
       "      <td>9.93</td>\n",
       "      <td>n</td>\n",
       "      <td>f</td>\n",
       "      <td>l</td>\n",
       "      <td>w</td>\n",
       "    </tr>\n",
       "    <tr>\n",
       "      <th>3</th>\n",
       "      <td>3.88</td>\n",
       "      <td>f</td>\n",
       "      <td>g</td>\n",
       "      <td>f</td>\n",
       "      <td>g</td>\n",
       "      <td>4.16</td>\n",
       "      <td>6.53</td>\n",
       "      <td>w</td>\n",
       "      <td>f</td>\n",
       "      <td>d</td>\n",
       "      <td>u</td>\n",
       "    </tr>\n",
       "    <tr>\n",
       "      <th>4</th>\n",
       "      <td>5.85</td>\n",
       "      <td>x</td>\n",
       "      <td>w</td>\n",
       "      <td>f</td>\n",
       "      <td>w</td>\n",
       "      <td>3.37</td>\n",
       "      <td>8.36</td>\n",
       "      <td>w</td>\n",
       "      <td>f</td>\n",
       "      <td>g</td>\n",
       "      <td>a</td>\n",
       "    </tr>\n",
       "  </tbody>\n",
       "</table>\n",
       "</div>"
      ]
     },
     "execution_count": 20,
     "metadata": {},
     "output_type": "execute_result"
    }
   ],
   "execution_count": 20
  },
  {
   "metadata": {
    "ExecuteTime": {
     "end_time": "2024-08-24T17:31:07.798335Z",
     "start_time": "2024-08-24T17:31:07.086365Z"
    }
   },
   "cell_type": "code",
   "source": "df_copy.isnull().sum()",
   "id": "849267d3c1034cdc",
   "outputs": [
    {
     "data": {
      "text/plain": [
       "cap-diameter            0\n",
       "cap-shape               0\n",
       "cap-color               0\n",
       "does-bruise-or-bleed    0\n",
       "gill-color              0\n",
       "stem-height             0\n",
       "stem-width              0\n",
       "stem-color              0\n",
       "has-ring                0\n",
       "habitat                 0\n",
       "season                  0\n",
       "dtype: int64"
      ]
     },
     "execution_count": 21,
     "metadata": {},
     "output_type": "execute_result"
    }
   ],
   "execution_count": 21
  },
  {
   "metadata": {
    "ExecuteTime": {
     "end_time": "2024-08-24T17:20:28.828891Z",
     "start_time": "2024-08-24T17:20:28.821881Z"
    }
   },
   "cell_type": "code",
   "source": "df_copy.dtypes",
   "id": "5890eb186ade8341",
   "outputs": [
    {
     "data": {
      "text/plain": [
       "cap-diameter            float64\n",
       "cap-shape                object\n",
       "cap-color                object\n",
       "does-bruise-or-bleed     object\n",
       "gill-color               object\n",
       "stem-height             float64\n",
       "stem-width              float64\n",
       "stem-color               object\n",
       "has-ring                 object\n",
       "habitat                  object\n",
       "season                   object\n",
       "dtype: object"
      ]
     },
     "execution_count": 12,
     "metadata": {},
     "output_type": "execute_result"
    }
   ],
   "execution_count": 12
  },
  {
   "metadata": {
    "ExecuteTime": {
     "end_time": "2024-08-25T06:21:08.254455Z",
     "start_time": "2024-08-25T06:21:03.110693Z"
    }
   },
   "cell_type": "code",
   "source": "df_train = pd.read_csv('train.csv')",
   "id": "76e940d8172ded18",
   "outputs": [],
   "execution_count": 3
  },
  {
   "metadata": {
    "ExecuteTime": {
     "end_time": "2024-08-25T06:57:45.994578Z",
     "start_time": "2024-08-25T06:57:45.990790Z"
    }
   },
   "cell_type": "code",
   "source": "df_train_1 = df_train.iloc[:2500000]",
   "id": "92ed6f76e4ea2739",
   "outputs": [],
   "execution_count": 109
  },
  {
   "metadata": {
    "ExecuteTime": {
     "end_time": "2024-08-25T06:21:15.361054Z",
     "start_time": "2024-08-25T06:21:14.356218Z"
    }
   },
   "cell_type": "code",
   "source": "df_train_1.isnull().sum()",
   "id": "259f42f7bd9dd3cb",
   "outputs": [
    {
     "data": {
      "text/plain": [
       "id                            0\n",
       "class                         0\n",
       "cap-diameter                  2\n",
       "cap-shape                    27\n",
       "cap-surface              430609\n",
       "cap-color                     6\n",
       "does-bruise-or-bleed          6\n",
       "gill-attachment          336155\n",
       "gill-spacing             806969\n",
       "gill-color                   34\n",
       "stem-height                   0\n",
       "stem-width                    0\n",
       "stem-root               1769381\n",
       "stem-surface            1270997\n",
       "stem-color                   24\n",
       "veil-type               1897649\n",
       "veil-color              1758621\n",
       "has-ring                     13\n",
       "ring-type                 82738\n",
       "spore-print-color       1828692\n",
       "habitat                      28\n",
       "season                        0\n",
       "dtype: int64"
      ]
     },
     "execution_count": 5,
     "metadata": {},
     "output_type": "execute_result"
    }
   ],
   "execution_count": 5
  },
  {
   "metadata": {
    "ExecuteTime": {
     "end_time": "2024-08-25T06:57:50.736081Z",
     "start_time": "2024-08-25T06:57:50.245820Z"
    }
   },
   "cell_type": "code",
   "source": "df_train_copy = pd.DataFrame()",
   "id": "83b652c310f8a32a",
   "outputs": [],
   "execution_count": 110
  },
  {
   "metadata": {
    "ExecuteTime": {
     "end_time": "2024-08-25T06:57:55.386576Z",
     "start_time": "2024-08-25T06:57:53.717228Z"
    }
   },
   "cell_type": "code",
   "source": [
    "for column in df_train_1.columns:\n",
    "    if column == 'class':\n",
    "        df_train_copy[column] = df_train_1[column]\n",
    "    if column in columns and df_train_1[column].dtypes == 'float64':\n",
    "        df_train_copy[column]=df_train_1[column].fillna(df_train_1[column].mean())\n",
    "    if column in columns and df_train_1[column].dtypes == 'object':\n",
    "        df_train_copy[column]=df_train_1[column].fillna(df_train_1[column].mode()[0])"
   ],
   "id": "b1ebf843f4443998",
   "outputs": [],
   "execution_count": 111
  },
  {
   "metadata": {
    "ExecuteTime": {
     "end_time": "2024-08-25T06:22:02.583457Z",
     "start_time": "2024-08-25T06:22:02.058351Z"
    }
   },
   "cell_type": "code",
   "source": "df_train_copy.isnull().sum()",
   "id": "87baa69d38ced2f1",
   "outputs": [
    {
     "data": {
      "text/plain": [
       "class                   0\n",
       "cap-diameter            0\n",
       "cap-shape               0\n",
       "cap-color               0\n",
       "does-bruise-or-bleed    0\n",
       "gill-color              0\n",
       "stem-height             0\n",
       "stem-width              0\n",
       "stem-color              0\n",
       "has-ring                0\n",
       "habitat                 0\n",
       "season                  0\n",
       "dtype: int64"
      ]
     },
     "execution_count": 12,
     "metadata": {},
     "output_type": "execute_result"
    }
   ],
   "execution_count": 12
  },
  {
   "metadata": {
    "ExecuteTime": {
     "end_time": "2024-08-25T06:57:58.323301Z",
     "start_time": "2024-08-25T06:57:58.222170Z"
    }
   },
   "cell_type": "code",
   "source": [
    "y = df_train_copy[\"class\"]\n",
    "y = y.map({\"p\":-1, \"e\":1})"
   ],
   "id": "184d36c0166bf4d3",
   "outputs": [],
   "execution_count": 112
  },
  {
   "metadata": {
    "ExecuteTime": {
     "end_time": "2024-08-25T06:58:01.406900Z",
     "start_time": "2024-08-25T06:58:01.183448Z"
    }
   },
   "cell_type": "code",
   "source": "X = df_train_copy.drop([\"class\"], axis=1)",
   "id": "22361da95e1cec9b",
   "outputs": [],
   "execution_count": 113
  },
  {
   "metadata": {
    "ExecuteTime": {
     "end_time": "2024-08-25T06:58:13.514981Z",
     "start_time": "2024-08-25T06:58:04.298525Z"
    }
   },
   "cell_type": "code",
   "source": [
    "encoder = LeaveOneOutEncoder(return_df=True)\n",
    "X2 = encoder.fit_transform(X,y)\n",
    "X2.dtypes"
   ],
   "id": "48d1b12b0c369bd7",
   "outputs": [
    {
     "data": {
      "text/plain": [
       "cap-diameter            float64\n",
       "cap-shape               float64\n",
       "cap-color               float64\n",
       "does-bruise-or-bleed    float64\n",
       "gill-color              float64\n",
       "stem-height             float64\n",
       "stem-width              float64\n",
       "stem-color              float64\n",
       "has-ring                float64\n",
       "habitat                 float64\n",
       "season                  float64\n",
       "dtype: object"
      ]
     },
     "execution_count": 114,
     "metadata": {},
     "output_type": "execute_result"
    }
   ],
   "execution_count": 114
  },
  {
   "metadata": {
    "ExecuteTime": {
     "end_time": "2024-08-25T06:59:27.619458Z",
     "start_time": "2024-08-25T06:58:16.989045Z"
    }
   },
   "cell_type": "code",
   "source": [
    "encoder = OneHotEncoder(return_df=True)\n",
    "X2 = encoder.fit_transform(X,y)"
   ],
   "id": "1f904378661c8c66",
   "outputs": [],
   "execution_count": 115
  },
  {
   "metadata": {
    "ExecuteTime": {
     "end_time": "2024-08-25T06:59:39.934747Z",
     "start_time": "2024-08-25T06:59:31.008665Z"
    }
   },
   "cell_type": "code",
   "source": "Xtrain, Xtest, ytrain, ytest = train_test_split(X2, y, test_size=0.3, random_state=42)",
   "id": "f2a06da14fcb84e8",
   "outputs": [],
   "execution_count": 116
  },
  {
   "metadata": {
    "ExecuteTime": {
     "end_time": "2024-08-25T07:03:37.721304Z",
     "start_time": "2024-08-25T07:03:37.716915Z"
    }
   },
   "cell_type": "code",
   "source": "dt =  DecisionTreeClassifier(criterion='entropy', max_depth=18,random_state=18)",
   "id": "b159b370953d6c05",
   "outputs": [],
   "execution_count": 129
  },
  {
   "metadata": {
    "ExecuteTime": {
     "end_time": "2024-08-25T07:04:38.112837Z",
     "start_time": "2024-08-25T07:03:41.025449Z"
    }
   },
   "cell_type": "code",
   "source": [
    "dt.fit(Xtrain, ytrain)\n",
    "\n",
    "y_train_dt = dt.predict(Xtrain)\n",
    "y_test_dt = dt.predict(Xtest)"
   ],
   "id": "32eb7d771a38058b",
   "outputs": [],
   "execution_count": 130
  },
  {
   "metadata": {
    "ExecuteTime": {
     "end_time": "2024-08-25T07:04:41.601304Z",
     "start_time": "2024-08-25T07:04:41.425768Z"
    }
   },
   "cell_type": "code",
   "source": [
    "print(f\"Decision tree accuracy train: {accuracy_score(y_train_dt, ytrain):.8f}\")\n",
    "print(f\"Decision tree accuracy test: {accuracy_score(y_test_dt, ytest):.8f}\")"
   ],
   "id": "aea9f65bfd8d7edd",
   "outputs": [
    {
     "name": "stdout",
     "output_type": "stream",
     "text": [
      "Decision tree accuracy train: 0.97017886\n",
      "Decision tree accuracy test: 0.96471067\n"
     ]
    }
   ],
   "execution_count": 131
  },
  {
   "metadata": {
    "ExecuteTime": {
     "end_time": "2024-08-25T06:48:13.877935Z",
     "start_time": "2024-08-25T06:48:13.873240Z"
    }
   },
   "cell_type": "code",
   "source": "df_train_test = df_train.iloc[2000000:]",
   "id": "bcdff718113cd2d7",
   "outputs": [],
   "execution_count": 83
  },
  {
   "metadata": {
    "ExecuteTime": {
     "end_time": "2024-08-25T06:48:16.951315Z",
     "start_time": "2024-08-25T06:48:16.919474Z"
    }
   },
   "cell_type": "code",
   "source": "df_train_test_copy = pd.DataFrame()",
   "id": "93c9c4b8822ae538",
   "outputs": [],
   "execution_count": 84
  },
  {
   "metadata": {
    "ExecuteTime": {
     "end_time": "2024-08-25T06:48:21.791481Z",
     "start_time": "2024-08-25T06:48:21.059627Z"
    }
   },
   "cell_type": "code",
   "source": [
    "for column in df_train_test.columns:\n",
    "    if column == 'class':\n",
    "        df_train_test_copy[column] = df_train_test[column]\n",
    "    if column in columns and df_train_test[column].dtypes == 'float64':\n",
    "        df_train_test_copy[column]=df_train_test[column].fillna(df_train_test[column].mean())\n",
    "    if column in columns and df_train_test[column].dtypes == 'object':\n",
    "        df_train_test_copy[column]=df_train_test[column].fillna(df_train_test[column].mode()[0])"
   ],
   "id": "fe8e4a04c0afdfa0",
   "outputs": [],
   "execution_count": 85
  },
  {
   "metadata": {
    "ExecuteTime": {
     "end_time": "2024-08-25T06:48:36.967221Z",
     "start_time": "2024-08-25T06:48:36.902908Z"
    }
   },
   "cell_type": "code",
   "source": [
    "y_train_test = df_train_test_copy [\"class\"]\n",
    "y_train_test = y_train_test.map({\"p\":-1, \"e\":1})"
   ],
   "id": "b2f69acc8d80eb37",
   "outputs": [],
   "execution_count": 86
  },
  {
   "metadata": {
    "ExecuteTime": {
     "end_time": "2024-08-25T06:48:39.981556Z",
     "start_time": "2024-08-25T06:48:39.877181Z"
    }
   },
   "cell_type": "code",
   "source": "X_train_test = df_train_test_copy.drop([\"class\"], axis=1)",
   "id": "ee2e52cb2498fdf3",
   "outputs": [],
   "execution_count": 87
  },
  {
   "metadata": {
    "ExecuteTime": {
     "end_time": "2024-08-25T06:56:07.383078Z",
     "start_time": "2024-08-25T06:56:03.372698Z"
    }
   },
   "cell_type": "code",
   "source": [
    "encoder = LeaveOneOutEncoder(return_df=True)\n",
    "X2_test = encoder.fit_transform(X_train_test,y_train_test)"
   ],
   "id": "ce7ce3916b2d342a",
   "outputs": [],
   "execution_count": 94
  },
  {
   "metadata": {
    "ExecuteTime": {
     "end_time": "2024-08-25T06:45:25.213393Z",
     "start_time": "2024-08-25T06:44:28.571482Z"
    }
   },
   "cell_type": "code",
   "source": [
    "encoder = OneHotEncoder(return_df=True)\n",
    "X2_test = encoder.fit_transform(X_train_test,y_train_test)"
   ],
   "id": "3ea9cb73daee38f0",
   "outputs": [],
   "execution_count": 71
  },
  {
   "metadata": {
    "ExecuteTime": {
     "end_time": "2024-08-24T18:40:45.994710Z",
     "start_time": "2024-08-24T18:40:45.980375Z"
    }
   },
   "cell_type": "code",
   "source": "df_train_test_copy",
   "id": "8799f2068bcb7483",
   "outputs": [
    {
     "data": {
      "text/plain": [
       "        class  cap-diameter cap-shape cap-color does-bruise-or-bleed  \\\n",
       "1000000     p          3.54         f         n                    f   \n",
       "1000001     p          7.12         o         n                    f   \n",
       "1000002     p          6.57         o         o                    f   \n",
       "1000003     e          6.63         p         n                    f   \n",
       "1000004     e          7.75         s         n                    f   \n",
       "...       ...           ...       ...       ...                  ...   \n",
       "1999995     e          5.94         p         n                    f   \n",
       "1999996     p          3.14         b         n                    f   \n",
       "1999997     p          5.43         x         n                    f   \n",
       "1999998     p          5.19         c         y                    t   \n",
       "1999999     e          8.38         f         w                    f   \n",
       "\n",
       "        gill-color  stem-height  stem-width stem-color has-ring habitat season  \n",
       "1000000          n         4.86        4.91          y        f       d      a  \n",
       "1000001          o         3.16       10.86          n        f       d      a  \n",
       "1000002          o         1.33       13.42          n        f       d      w  \n",
       "1000003          w         7.45       12.98          g        f       d      u  \n",
       "1000004          w         4.87       24.97          n        f       d      a  \n",
       "...            ...          ...         ...        ...      ...     ...    ...  \n",
       "1999995          f         5.92       20.09          n        f       l      s  \n",
       "1999996          u         6.70        4.39          w        f       d      u  \n",
       "1999997          y         5.56       10.22          n        f       d      a  \n",
       "1999998          r         7.06        7.84          w        f       d      s  \n",
       "1999999          w         7.38       30.23          w        f       d      u  \n",
       "\n",
       "[1000000 rows x 12 columns]"
      ],
      "text/html": [
       "<div>\n",
       "<style scoped>\n",
       "    .dataframe tbody tr th:only-of-type {\n",
       "        vertical-align: middle;\n",
       "    }\n",
       "\n",
       "    .dataframe tbody tr th {\n",
       "        vertical-align: top;\n",
       "    }\n",
       "\n",
       "    .dataframe thead th {\n",
       "        text-align: right;\n",
       "    }\n",
       "</style>\n",
       "<table border=\"1\" class=\"dataframe\">\n",
       "  <thead>\n",
       "    <tr style=\"text-align: right;\">\n",
       "      <th></th>\n",
       "      <th>class</th>\n",
       "      <th>cap-diameter</th>\n",
       "      <th>cap-shape</th>\n",
       "      <th>cap-color</th>\n",
       "      <th>does-bruise-or-bleed</th>\n",
       "      <th>gill-color</th>\n",
       "      <th>stem-height</th>\n",
       "      <th>stem-width</th>\n",
       "      <th>stem-color</th>\n",
       "      <th>has-ring</th>\n",
       "      <th>habitat</th>\n",
       "      <th>season</th>\n",
       "    </tr>\n",
       "  </thead>\n",
       "  <tbody>\n",
       "    <tr>\n",
       "      <th>1000000</th>\n",
       "      <td>p</td>\n",
       "      <td>3.54</td>\n",
       "      <td>f</td>\n",
       "      <td>n</td>\n",
       "      <td>f</td>\n",
       "      <td>n</td>\n",
       "      <td>4.86</td>\n",
       "      <td>4.91</td>\n",
       "      <td>y</td>\n",
       "      <td>f</td>\n",
       "      <td>d</td>\n",
       "      <td>a</td>\n",
       "    </tr>\n",
       "    <tr>\n",
       "      <th>1000001</th>\n",
       "      <td>p</td>\n",
       "      <td>7.12</td>\n",
       "      <td>o</td>\n",
       "      <td>n</td>\n",
       "      <td>f</td>\n",
       "      <td>o</td>\n",
       "      <td>3.16</td>\n",
       "      <td>10.86</td>\n",
       "      <td>n</td>\n",
       "      <td>f</td>\n",
       "      <td>d</td>\n",
       "      <td>a</td>\n",
       "    </tr>\n",
       "    <tr>\n",
       "      <th>1000002</th>\n",
       "      <td>p</td>\n",
       "      <td>6.57</td>\n",
       "      <td>o</td>\n",
       "      <td>o</td>\n",
       "      <td>f</td>\n",
       "      <td>o</td>\n",
       "      <td>1.33</td>\n",
       "      <td>13.42</td>\n",
       "      <td>n</td>\n",
       "      <td>f</td>\n",
       "      <td>d</td>\n",
       "      <td>w</td>\n",
       "    </tr>\n",
       "    <tr>\n",
       "      <th>1000003</th>\n",
       "      <td>e</td>\n",
       "      <td>6.63</td>\n",
       "      <td>p</td>\n",
       "      <td>n</td>\n",
       "      <td>f</td>\n",
       "      <td>w</td>\n",
       "      <td>7.45</td>\n",
       "      <td>12.98</td>\n",
       "      <td>g</td>\n",
       "      <td>f</td>\n",
       "      <td>d</td>\n",
       "      <td>u</td>\n",
       "    </tr>\n",
       "    <tr>\n",
       "      <th>1000004</th>\n",
       "      <td>e</td>\n",
       "      <td>7.75</td>\n",
       "      <td>s</td>\n",
       "      <td>n</td>\n",
       "      <td>f</td>\n",
       "      <td>w</td>\n",
       "      <td>4.87</td>\n",
       "      <td>24.97</td>\n",
       "      <td>n</td>\n",
       "      <td>f</td>\n",
       "      <td>d</td>\n",
       "      <td>a</td>\n",
       "    </tr>\n",
       "    <tr>\n",
       "      <th>...</th>\n",
       "      <td>...</td>\n",
       "      <td>...</td>\n",
       "      <td>...</td>\n",
       "      <td>...</td>\n",
       "      <td>...</td>\n",
       "      <td>...</td>\n",
       "      <td>...</td>\n",
       "      <td>...</td>\n",
       "      <td>...</td>\n",
       "      <td>...</td>\n",
       "      <td>...</td>\n",
       "      <td>...</td>\n",
       "    </tr>\n",
       "    <tr>\n",
       "      <th>1999995</th>\n",
       "      <td>e</td>\n",
       "      <td>5.94</td>\n",
       "      <td>p</td>\n",
       "      <td>n</td>\n",
       "      <td>f</td>\n",
       "      <td>f</td>\n",
       "      <td>5.92</td>\n",
       "      <td>20.09</td>\n",
       "      <td>n</td>\n",
       "      <td>f</td>\n",
       "      <td>l</td>\n",
       "      <td>s</td>\n",
       "    </tr>\n",
       "    <tr>\n",
       "      <th>1999996</th>\n",
       "      <td>p</td>\n",
       "      <td>3.14</td>\n",
       "      <td>b</td>\n",
       "      <td>n</td>\n",
       "      <td>f</td>\n",
       "      <td>u</td>\n",
       "      <td>6.70</td>\n",
       "      <td>4.39</td>\n",
       "      <td>w</td>\n",
       "      <td>f</td>\n",
       "      <td>d</td>\n",
       "      <td>u</td>\n",
       "    </tr>\n",
       "    <tr>\n",
       "      <th>1999997</th>\n",
       "      <td>p</td>\n",
       "      <td>5.43</td>\n",
       "      <td>x</td>\n",
       "      <td>n</td>\n",
       "      <td>f</td>\n",
       "      <td>y</td>\n",
       "      <td>5.56</td>\n",
       "      <td>10.22</td>\n",
       "      <td>n</td>\n",
       "      <td>f</td>\n",
       "      <td>d</td>\n",
       "      <td>a</td>\n",
       "    </tr>\n",
       "    <tr>\n",
       "      <th>1999998</th>\n",
       "      <td>p</td>\n",
       "      <td>5.19</td>\n",
       "      <td>c</td>\n",
       "      <td>y</td>\n",
       "      <td>t</td>\n",
       "      <td>r</td>\n",
       "      <td>7.06</td>\n",
       "      <td>7.84</td>\n",
       "      <td>w</td>\n",
       "      <td>f</td>\n",
       "      <td>d</td>\n",
       "      <td>s</td>\n",
       "    </tr>\n",
       "    <tr>\n",
       "      <th>1999999</th>\n",
       "      <td>e</td>\n",
       "      <td>8.38</td>\n",
       "      <td>f</td>\n",
       "      <td>w</td>\n",
       "      <td>f</td>\n",
       "      <td>w</td>\n",
       "      <td>7.38</td>\n",
       "      <td>30.23</td>\n",
       "      <td>w</td>\n",
       "      <td>f</td>\n",
       "      <td>d</td>\n",
       "      <td>u</td>\n",
       "    </tr>\n",
       "  </tbody>\n",
       "</table>\n",
       "<p>1000000 rows × 12 columns</p>\n",
       "</div>"
      ]
     },
     "execution_count": 104,
     "metadata": {},
     "output_type": "execute_result"
    }
   ],
   "execution_count": 104
  },
  {
   "metadata": {
    "ExecuteTime": {
     "end_time": "2024-08-25T06:29:38.558271Z",
     "start_time": "2024-08-25T06:29:38.554226Z"
    }
   },
   "cell_type": "code",
   "source": "y_train_test.shape",
   "id": "b9dfb20f4a65c78a",
   "outputs": [
    {
     "data": {
      "text/plain": [
       "(2116945,)"
      ]
     },
     "execution_count": 28,
     "metadata": {},
     "output_type": "execute_result"
    }
   ],
   "execution_count": 28
  },
  {
   "metadata": {
    "ExecuteTime": {
     "end_time": "2024-08-25T06:29:34.944761Z",
     "start_time": "2024-08-25T06:29:34.938628Z"
    }
   },
   "cell_type": "code",
   "source": "X_train_test.shape",
   "id": "4574a7147ecc9207",
   "outputs": [
    {
     "data": {
      "text/plain": [
       "(2116945, 11)"
      ]
     },
     "execution_count": 27,
     "metadata": {},
     "output_type": "execute_result"
    }
   ],
   "execution_count": 27
  },
  {
   "metadata": {
    "ExecuteTime": {
     "end_time": "2024-08-25T06:56:17.073510Z",
     "start_time": "2024-08-25T06:56:16.981373Z"
    }
   },
   "cell_type": "code",
   "source": "y_train_test_dt = dt.predict(X2_test)",
   "id": "2d8afffa7883f30b",
   "outputs": [],
   "execution_count": 95
  },
  {
   "metadata": {
    "ExecuteTime": {
     "end_time": "2024-08-25T07:04:55.968785Z",
     "start_time": "2024-08-25T07:04:55.871492Z"
    }
   },
   "cell_type": "code",
   "source": "print(f\"Decision tree accuracy train: {accuracy_score(y_train_test_dt , y_train_test):.8f}\")",
   "id": "55375cf99816fbcf",
   "outputs": [
    {
     "name": "stdout",
     "output_type": "stream",
     "text": [
      "Decision tree accuracy train: 0.54417899\n"
     ]
    }
   ],
   "execution_count": 132
  },
  {
   "metadata": {
    "ExecuteTime": {
     "end_time": "2024-08-25T06:55:15.375277Z",
     "start_time": "2024-08-25T06:55:15.370061Z"
    }
   },
   "cell_type": "code",
   "source": "y_train_test_dt.shape",
   "id": "1f6730df5b4f45d9",
   "outputs": [
    {
     "data": {
      "text/plain": [
       "(2000000,)"
      ]
     },
     "execution_count": 92,
     "metadata": {},
     "output_type": "execute_result"
    }
   ],
   "execution_count": 92
  },
  {
   "metadata": {
    "ExecuteTime": {
     "end_time": "2024-08-25T06:55:23.215072Z",
     "start_time": "2024-08-25T06:55:23.209560Z"
    }
   },
   "cell_type": "code",
   "source": "y_train_test.shape",
   "id": "8ea1910d776b32b2",
   "outputs": [
    {
     "data": {
      "text/plain": [
       "(1116945,)"
      ]
     },
     "execution_count": 93,
     "metadata": {},
     "output_type": "execute_result"
    }
   ],
   "execution_count": 93
  },
  {
   "metadata": {
    "ExecuteTime": {
     "end_time": "2024-08-25T06:45:36.581574Z",
     "start_time": "2024-08-25T06:45:36.575499Z"
    }
   },
   "cell_type": "code",
   "source": "X2.shape",
   "id": "fe50f7b316987ca6",
   "outputs": [
    {
     "data": {
      "text/plain": [
       "(2100001, 308)"
      ]
     },
     "execution_count": 72,
     "metadata": {},
     "output_type": "execute_result"
    }
   ],
   "execution_count": 72
  },
  {
   "metadata": {
    "ExecuteTime": {
     "end_time": "2024-08-25T06:45:40.231060Z",
     "start_time": "2024-08-25T06:45:40.226630Z"
    }
   },
   "cell_type": "code",
   "source": "Xtrain.shape",
   "id": "b5a9f4d9d794af3f",
   "outputs": [
    {
     "data": {
      "text/plain": [
       "(1400000, 307)"
      ]
     },
     "execution_count": 73,
     "metadata": {},
     "output_type": "execute_result"
    }
   ],
   "execution_count": 73
  },
  {
   "metadata": {},
   "cell_type": "code",
   "outputs": [],
   "execution_count": null,
   "source": "",
   "id": "944e9cde47bb8aa8"
  }
 ],
 "metadata": {
  "kernelspec": {
   "display_name": "Python 3",
   "language": "python",
   "name": "python3"
  },
  "language_info": {
   "codemirror_mode": {
    "name": "ipython",
    "version": 2
   },
   "file_extension": ".py",
   "mimetype": "text/x-python",
   "name": "python",
   "nbconvert_exporter": "python",
   "pygments_lexer": "ipython2",
   "version": "2.7.6"
  }
 },
 "nbformat": 4,
 "nbformat_minor": 5
}
