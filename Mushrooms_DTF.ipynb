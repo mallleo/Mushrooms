{
 "cells": [
  {
   "cell_type": "code",
   "execution_count": 56,
   "id": "initial_id",
   "metadata": {
    "ExecuteTime": {
     "end_time": "2024-08-26T17:15:45.323700Z",
     "start_time": "2024-08-26T17:15:45.319584Z"
    }
   },
   "outputs": [],
   "source": [
    "import pandas as pd\n",
    "import numpy as np\n",
    "from category_encoders.one_hot import OneHotEncoder\n",
    "from sklearn.model_selection import train_test_split\n",
    "from sklearn.metrics import accuracy_score\n",
    "from category_encoders.leave_one_out import LeaveOneOutEncoder\n",
    "import re\n",
    "import warnings\n",
    "\n",
    "warnings.simplefilter(\"ignore\")\n",
    "%matplotlib inline\n"
   ]
  },
  {
   "cell_type": "code",
   "execution_count": 27,
   "id": "df0d6727dde5894",
   "metadata": {
    "ExecuteTime": {
     "end_time": "2024-08-26T16:01:21.458572Z",
     "start_time": "2024-08-26T16:01:21.365432Z"
    }
   },
   "outputs": [],
   "source": [
    "from sklearn.tree import DecisionTreeClassifier"
   ]
  },
  {
   "cell_type": "code",
   "execution_count": 3,
   "id": "5ec85db717518311",
   "metadata": {
    "ExecuteTime": {
     "end_time": "2024-08-26T16:01:37.740218Z",
     "start_time": "2024-08-26T16:01:32.455270Z"
    }
   },
   "outputs": [],
   "source": [
    "df = pd.read_csv('train.csv')"
   ]
  },
  {
   "cell_type": "code",
   "execution_count": 102,
   "id": "40d779661627d60e",
   "metadata": {
    "ExecuteTime": {
     "end_time": "2024-08-22T18:44:16.248994Z",
     "start_time": "2024-08-22T18:44:16.243355Z"
    }
   },
   "outputs": [],
   "source": [
    "df = df.iloc[:50000]"
   ]
  },
  {
   "cell_type": "markdown",
   "id": "727d74b29134e3d7",
   "metadata": {},
   "source": []
  },
  {
   "cell_type": "code",
   "execution_count": 6,
   "id": "2017ef727d46aa1b",
   "metadata": {
    "ExecuteTime": {
     "end_time": "2024-08-23T19:23:12.061420Z",
     "start_time": "2024-08-23T19:23:11.658900Z"
    }
   },
   "outputs": [],
   "source": [
    "df_copy = df.copy()"
   ]
  },
  {
   "cell_type": "code",
   "execution_count": 7,
   "id": "d05a6c56e941e63d",
   "metadata": {
    "ExecuteTime": {
     "end_time": "2024-08-23T19:23:15.088097Z",
     "start_time": "2024-08-23T19:23:14.375929Z"
    }
   },
   "outputs": [],
   "source": [
    "df_copy.dropna(subset=['cap-surface', 'gill-attachment', 'gill-spacing'],inplace = True)"
   ]
  },
  {
   "cell_type": "code",
   "execution_count": 8,
   "id": "9f561c61efaa3700",
   "metadata": {
    "ExecuteTime": {
     "end_time": "2024-08-23T19:23:17.742147Z",
     "start_time": "2024-08-23T19:23:17.151485Z"
    }
   },
   "outputs": [
    {
     "data": {
      "text/plain": [
       "id                            0\n",
       "class                         0\n",
       "cap-diameter                  0\n",
       "cap-shape                     6\n",
       "cap-surface                   0\n",
       "cap-color                     3\n",
       "does-bruise-or-bleed          2\n",
       "gill-attachment               0\n",
       "gill-spacing                  0\n",
       "gill-color                    7\n",
       "stem-height                   0\n",
       "stem-width                    0\n",
       "stem-root               1135286\n",
       "stem-surface             659500\n",
       "stem-color                   13\n",
       "veil-type               1201556\n",
       "veil-color              1149287\n",
       "has-ring                     10\n",
       "ring-type                 48386\n",
       "spore-print-color       1141264\n",
       "habitat                      11\n",
       "season                        0\n",
       "dtype: int64"
      ]
     },
     "execution_count": 8,
     "metadata": {},
     "output_type": "execute_result"
    }
   ],
   "source": [
    "df_copy.isnull().sum()"
   ]
  },
  {
   "cell_type": "code",
   "execution_count": 430,
   "id": "8e97fbd8b20ddd19",
   "metadata": {
    "ExecuteTime": {
     "end_time": "2024-08-22T19:15:50.979516Z",
     "start_time": "2024-08-22T19:15:50.543353Z"
    }
   },
   "outputs": [],
   "source": [
    "df_copy.dropna(subset=['cap-shape', 'cap-color', 'does-bruise-or-bleed','gill-color'],inplace = True)"
   ]
  },
  {
   "cell_type": "code",
   "execution_count": 431,
   "id": "80aee56e30b8eff",
   "metadata": {
    "ExecuteTime": {
     "end_time": "2024-08-22T19:15:54.502771Z",
     "start_time": "2024-08-22T19:15:54.430299Z"
    }
   },
   "outputs": [],
   "source": [
    "y = df_copy[\"class\"]\n",
    "y = y.map({\"p\":-1, \"e\":1})"
   ]
  },
  {
   "cell_type": "code",
   "execution_count": 432,
   "id": "6996d789c5a5b957",
   "metadata": {
    "ExecuteTime": {
     "end_time": "2024-08-22T19:15:59.633464Z",
     "start_time": "2024-08-22T19:15:59.478264Z"
    }
   },
   "outputs": [],
   "source": [
    "X = df_copy.drop([\"class\",'id'], axis=1)"
   ]
  },
  {
   "cell_type": "code",
   "execution_count": 44,
   "id": "411f930d66b6912d",
   "metadata": {
    "ExecuteTime": {
     "end_time": "2024-08-22T18:27:27.002136Z",
     "start_time": "2024-08-22T18:27:26.998100Z"
    }
   },
   "outputs": [],
   "source": [
    "from sklearn.metrics import mean_squared_error\n",
    "from sklearn.tree import DecisionTreeRegressor, plot_tree"
   ]
  },
  {
   "cell_type": "code",
   "execution_count": 433,
   "id": "2d9f2f78da1ae520",
   "metadata": {
    "ExecuteTime": {
     "end_time": "2024-08-22T19:17:35.276355Z",
     "start_time": "2024-08-22T19:16:03.950045Z"
    }
   },
   "outputs": [],
   "source": [
    "encoder_2 = OneHotEncoder(return_df=True)\n",
    "X2 = encoder_2.fit_transform(X,y)"
   ]
  },
  {
   "cell_type": "code",
   "execution_count": 434,
   "id": "ccfe3a4ca9632a86",
   "metadata": {
    "ExecuteTime": {
     "end_time": "2024-08-22T19:17:46.803695Z",
     "start_time": "2024-08-22T19:17:40.016889Z"
    }
   },
   "outputs": [],
   "source": [
    "Xtrain_1, Xtest_1, ytrain_1, ytest_1 = train_test_split(X2, y, test_size=0.3, random_state=42)"
   ]
  },
  {
   "cell_type": "code",
   "execution_count": 435,
   "id": "3bca955816132f79",
   "metadata": {
    "ExecuteTime": {
     "end_time": "2024-08-22T19:17:49.366851Z",
     "start_time": "2024-08-22T19:17:49.363250Z"
    }
   },
   "outputs": [],
   "source": [
    "dt =  DecisionTreeClassifier(criterion='entropy', max_depth=15, random_state=18)"
   ]
  },
  {
   "cell_type": "code",
   "execution_count": 436,
   "id": "990a637fa1ef647a",
   "metadata": {
    "ExecuteTime": {
     "end_time": "2024-08-22T19:18:28.391235Z",
     "start_time": "2024-08-22T19:17:51.737698Z"
    }
   },
   "outputs": [],
   "source": [
    "dt.fit(Xtrain_1, ytrain_1)\n",
    "\n",
    "y_train_dt = dt.predict(Xtrain_1)\n",
    "y_test_dt = dt.predict(Xtest_1)"
   ]
  },
  {
   "cell_type": "code",
   "execution_count": 437,
   "id": "5bc82618dbfadfda",
   "metadata": {
    "ExecuteTime": {
     "end_time": "2024-08-22T19:18:32.277336Z",
     "start_time": "2024-08-22T19:18:32.191638Z"
    }
   },
   "outputs": [
    {
     "name": "stdout",
     "output_type": "stream",
     "text": [
      "Decision tree accuracy train: 0.99080606\n",
      "Decision tree accuracy test: 0.98873800\n"
     ]
    }
   ],
   "source": [
    "print(f\"Decision tree accuracy train: {accuracy_score(y_train_dt, ytrain_1):.8f}\")\n",
    "print(f\"Decision tree accuracy test: {accuracy_score(y_test_dt, ytest_1):.8f}\")"
   ]
  },
  {
   "cell_type": "code",
   "execution_count": 4,
   "id": "9890e75858ede28a",
   "metadata": {
    "ExecuteTime": {
     "end_time": "2024-08-26T16:01:49.029123Z",
     "start_time": "2024-08-26T16:01:44.047523Z"
    }
   },
   "outputs": [],
   "source": [
    "df_1 = pd.read_csv('train.csv')"
   ]
  },
  {
   "cell_type": "code",
   "execution_count": 4,
   "id": "751fb1182b85cf49",
   "metadata": {
    "ExecuteTime": {
     "end_time": "2024-08-25T17:46:45.860180Z",
     "start_time": "2024-08-25T17:46:45.856127Z"
    }
   },
   "outputs": [],
   "source": [
    "df_1 = df_1.iloc[:1500000]"
   ]
  },
  {
   "cell_type": "code",
   "execution_count": 362,
   "id": "cf95f8e7af2bc807",
   "metadata": {
    "ExecuteTime": {
     "end_time": "2024-08-22T18:59:03.695612Z",
     "start_time": "2024-08-22T18:59:03.692870Z"
    }
   },
   "outputs": [],
   "source": [
    "df_1 = df_1.iloc[50000:72229]"
   ]
  },
  {
   "cell_type": "code",
   "execution_count": 5,
   "id": "bb9fae47d750d96b",
   "metadata": {
    "ExecuteTime": {
     "end_time": "2024-08-25T17:46:52.803440Z",
     "start_time": "2024-08-25T17:46:52.607284Z"
    }
   },
   "outputs": [],
   "source": [
    "df_copy_1 = df_1.copy()"
   ]
  },
  {
   "cell_type": "code",
   "execution_count": 6,
   "id": "1ceef04b2b58b987",
   "metadata": {
    "ExecuteTime": {
     "end_time": "2024-08-25T17:46:54.598278Z",
     "start_time": "2024-08-25T17:46:53.853196Z"
    }
   },
   "outputs": [
    {
     "data": {
      "text/plain": [
       "id                            0\n",
       "class                         0\n",
       "cap-diameter                  1\n",
       "cap-shape                    25\n",
       "cap-surface              322489\n",
       "cap-color                     3\n",
       "does-bruise-or-bleed          5\n",
       "gill-attachment          252307\n",
       "gill-spacing             604995\n",
       "gill-color                   24\n",
       "stem-height                   0\n",
       "stem-width                    0\n",
       "stem-root               1327207\n",
       "stem-surface             953081\n",
       "stem-color                   17\n",
       "veil-type               1423434\n",
       "veil-color              1319165\n",
       "has-ring                      9\n",
       "ring-type                 62021\n",
       "spore-print-color       1371414\n",
       "habitat                      24\n",
       "season                        0\n",
       "dtype: int64"
      ]
     },
     "execution_count": 6,
     "metadata": {},
     "output_type": "execute_result"
    }
   ],
   "source": [
    "df_copy_1.isnull().sum()"
   ]
  },
  {
   "cell_type": "code",
   "execution_count": 5,
   "id": "d322409b1d9a8406",
   "metadata": {
    "ExecuteTime": {
     "end_time": "2024-08-26T16:01:54.703677Z",
     "start_time": "2024-08-26T16:01:54.087475Z"
    }
   },
   "outputs": [
    {
     "ename": "NameError",
     "evalue": "name 'df_copy_1' is not defined",
     "output_type": "error",
     "traceback": [
      "\u001b[0;31m---------------------------------------------------------------------------\u001b[0m",
      "\u001b[0;31mNameError\u001b[0m                                 Traceback (most recent call last)",
      "Cell \u001b[0;32mIn[5], line 1\u001b[0m\n\u001b[0;32m----> 1\u001b[0m df_copy_1\u001b[38;5;241m.\u001b[39mdropna(subset\u001b[38;5;241m=\u001b[39m[\u001b[38;5;124m'\u001b[39m\u001b[38;5;124mcap-surface\u001b[39m\u001b[38;5;124m'\u001b[39m, \u001b[38;5;124m'\u001b[39m\u001b[38;5;124mgill-attachment\u001b[39m\u001b[38;5;124m'\u001b[39m, \u001b[38;5;124m'\u001b[39m\u001b[38;5;124mgill-spacing\u001b[39m\u001b[38;5;124m'\u001b[39m],inplace \u001b[38;5;241m=\u001b[39m \u001b[38;5;28;01mTrue\u001b[39;00m)\n",
      "\u001b[0;31mNameError\u001b[0m: name 'df_copy_1' is not defined"
     ]
    }
   ],
   "source": [
    "df_copy_1.dropna(subset=['cap-surface', 'gill-attachment', 'gill-spacing'],inplace = True)"
   ]
  },
  {
   "cell_type": "code",
   "execution_count": 399,
   "id": "48e94152e956826f",
   "metadata": {
    "ExecuteTime": {
     "end_time": "2024-08-22T19:01:07.556494Z",
     "start_time": "2024-08-22T19:01:07.534708Z"
    }
   },
   "outputs": [
    {
     "data": {
      "text/plain": [
       "id                          0\n",
       "class                       0\n",
       "cap-diameter                0\n",
       "cap-shape                   0\n",
       "cap-surface                 0\n",
       "cap-color                   0\n",
       "does-bruise-or-bleed        0\n",
       "gill-attachment             0\n",
       "gill-spacing                0\n",
       "gill-color                  0\n",
       "stem-height                 0\n",
       "stem-width                  0\n",
       "stem-root               18106\n",
       "stem-surface            10618\n",
       "stem-color                  0\n",
       "veil-type               19180\n",
       "veil-color              18343\n",
       "has-ring                    0\n",
       "ring-type                 759\n",
       "spore-print-color       18240\n",
       "habitat                     0\n",
       "season                      0\n",
       "dtype: int64"
      ]
     },
     "execution_count": 399,
     "metadata": {},
     "output_type": "execute_result"
    }
   ],
   "source": [
    "df_copy_1.isnull().sum()"
   ]
  },
  {
   "cell_type": "code",
   "execution_count": 28,
   "id": "35d375278ae46738",
   "metadata": {
    "ExecuteTime": {
     "end_time": "2024-08-26T16:21:58.486006Z",
     "start_time": "2024-08-26T16:21:55.423685Z"
    }
   },
   "outputs": [],
   "source": [
    "df_test = pd.read_csv('test.csv')"
   ]
  },
  {
   "cell_type": "code",
   "execution_count": 29,
   "id": "3d4b401eed0cbf56",
   "metadata": {
    "ExecuteTime": {
     "end_time": "2024-08-26T16:02:58.891850Z",
     "start_time": "2024-08-26T16:02:57.757622Z"
    }
   },
   "outputs": [
    {
     "data": {
      "text/html": [
       "<div>\n",
       "<style scoped>\n",
       "    .dataframe tbody tr th:only-of-type {\n",
       "        vertical-align: middle;\n",
       "    }\n",
       "\n",
       "    .dataframe tbody tr th {\n",
       "        vertical-align: top;\n",
       "    }\n",
       "\n",
       "    .dataframe thead th {\n",
       "        text-align: right;\n",
       "    }\n",
       "</style>\n",
       "<table border=\"1\" class=\"dataframe\">\n",
       "  <thead>\n",
       "    <tr style=\"text-align: right;\">\n",
       "      <th></th>\n",
       "      <th>id</th>\n",
       "      <th>cap-diameter</th>\n",
       "      <th>cap-shape</th>\n",
       "      <th>cap-surface</th>\n",
       "      <th>cap-color</th>\n",
       "      <th>does-bruise-or-bleed</th>\n",
       "      <th>gill-attachment</th>\n",
       "      <th>gill-spacing</th>\n",
       "      <th>gill-color</th>\n",
       "      <th>stem-height</th>\n",
       "      <th>...</th>\n",
       "      <th>stem-root</th>\n",
       "      <th>stem-surface</th>\n",
       "      <th>stem-color</th>\n",
       "      <th>veil-type</th>\n",
       "      <th>veil-color</th>\n",
       "      <th>has-ring</th>\n",
       "      <th>ring-type</th>\n",
       "      <th>spore-print-color</th>\n",
       "      <th>habitat</th>\n",
       "      <th>season</th>\n",
       "    </tr>\n",
       "  </thead>\n",
       "  <tbody>\n",
       "    <tr>\n",
       "      <th>0</th>\n",
       "      <td>3116945</td>\n",
       "      <td>8.64</td>\n",
       "      <td>x</td>\n",
       "      <td>NaN</td>\n",
       "      <td>n</td>\n",
       "      <td>t</td>\n",
       "      <td>NaN</td>\n",
       "      <td>NaN</td>\n",
       "      <td>w</td>\n",
       "      <td>11.13</td>\n",
       "      <td>...</td>\n",
       "      <td>b</td>\n",
       "      <td>NaN</td>\n",
       "      <td>w</td>\n",
       "      <td>u</td>\n",
       "      <td>w</td>\n",
       "      <td>t</td>\n",
       "      <td>g</td>\n",
       "      <td>NaN</td>\n",
       "      <td>d</td>\n",
       "      <td>a</td>\n",
       "    </tr>\n",
       "    <tr>\n",
       "      <th>1</th>\n",
       "      <td>3116946</td>\n",
       "      <td>6.90</td>\n",
       "      <td>o</td>\n",
       "      <td>t</td>\n",
       "      <td>o</td>\n",
       "      <td>f</td>\n",
       "      <td>NaN</td>\n",
       "      <td>c</td>\n",
       "      <td>y</td>\n",
       "      <td>1.27</td>\n",
       "      <td>...</td>\n",
       "      <td>NaN</td>\n",
       "      <td>NaN</td>\n",
       "      <td>n</td>\n",
       "      <td>NaN</td>\n",
       "      <td>NaN</td>\n",
       "      <td>f</td>\n",
       "      <td>f</td>\n",
       "      <td>NaN</td>\n",
       "      <td>d</td>\n",
       "      <td>a</td>\n",
       "    </tr>\n",
       "    <tr>\n",
       "      <th>2</th>\n",
       "      <td>3116947</td>\n",
       "      <td>2.00</td>\n",
       "      <td>b</td>\n",
       "      <td>g</td>\n",
       "      <td>n</td>\n",
       "      <td>f</td>\n",
       "      <td>NaN</td>\n",
       "      <td>c</td>\n",
       "      <td>n</td>\n",
       "      <td>6.18</td>\n",
       "      <td>...</td>\n",
       "      <td>NaN</td>\n",
       "      <td>NaN</td>\n",
       "      <td>n</td>\n",
       "      <td>NaN</td>\n",
       "      <td>NaN</td>\n",
       "      <td>f</td>\n",
       "      <td>f</td>\n",
       "      <td>NaN</td>\n",
       "      <td>d</td>\n",
       "      <td>s</td>\n",
       "    </tr>\n",
       "    <tr>\n",
       "      <th>3</th>\n",
       "      <td>3116948</td>\n",
       "      <td>3.47</td>\n",
       "      <td>x</td>\n",
       "      <td>t</td>\n",
       "      <td>n</td>\n",
       "      <td>f</td>\n",
       "      <td>s</td>\n",
       "      <td>c</td>\n",
       "      <td>n</td>\n",
       "      <td>4.98</td>\n",
       "      <td>...</td>\n",
       "      <td>NaN</td>\n",
       "      <td>NaN</td>\n",
       "      <td>w</td>\n",
       "      <td>NaN</td>\n",
       "      <td>n</td>\n",
       "      <td>t</td>\n",
       "      <td>z</td>\n",
       "      <td>NaN</td>\n",
       "      <td>d</td>\n",
       "      <td>u</td>\n",
       "    </tr>\n",
       "    <tr>\n",
       "      <th>4</th>\n",
       "      <td>3116949</td>\n",
       "      <td>6.17</td>\n",
       "      <td>x</td>\n",
       "      <td>h</td>\n",
       "      <td>y</td>\n",
       "      <td>f</td>\n",
       "      <td>p</td>\n",
       "      <td>NaN</td>\n",
       "      <td>y</td>\n",
       "      <td>6.73</td>\n",
       "      <td>...</td>\n",
       "      <td>NaN</td>\n",
       "      <td>NaN</td>\n",
       "      <td>y</td>\n",
       "      <td>NaN</td>\n",
       "      <td>y</td>\n",
       "      <td>t</td>\n",
       "      <td>NaN</td>\n",
       "      <td>NaN</td>\n",
       "      <td>d</td>\n",
       "      <td>u</td>\n",
       "    </tr>\n",
       "    <tr>\n",
       "      <th>...</th>\n",
       "      <td>...</td>\n",
       "      <td>...</td>\n",
       "      <td>...</td>\n",
       "      <td>...</td>\n",
       "      <td>...</td>\n",
       "      <td>...</td>\n",
       "      <td>...</td>\n",
       "      <td>...</td>\n",
       "      <td>...</td>\n",
       "      <td>...</td>\n",
       "      <td>...</td>\n",
       "      <td>...</td>\n",
       "      <td>...</td>\n",
       "      <td>...</td>\n",
       "      <td>...</td>\n",
       "      <td>...</td>\n",
       "      <td>...</td>\n",
       "      <td>...</td>\n",
       "      <td>...</td>\n",
       "      <td>...</td>\n",
       "      <td>...</td>\n",
       "    </tr>\n",
       "    <tr>\n",
       "      <th>2077959</th>\n",
       "      <td>5194904</td>\n",
       "      <td>0.88</td>\n",
       "      <td>x</td>\n",
       "      <td>g</td>\n",
       "      <td>w</td>\n",
       "      <td>f</td>\n",
       "      <td>a</td>\n",
       "      <td>d</td>\n",
       "      <td>w</td>\n",
       "      <td>2.67</td>\n",
       "      <td>...</td>\n",
       "      <td>NaN</td>\n",
       "      <td>NaN</td>\n",
       "      <td>e</td>\n",
       "      <td>NaN</td>\n",
       "      <td>NaN</td>\n",
       "      <td>f</td>\n",
       "      <td>f</td>\n",
       "      <td>NaN</td>\n",
       "      <td>d</td>\n",
       "      <td>u</td>\n",
       "    </tr>\n",
       "    <tr>\n",
       "      <th>2077960</th>\n",
       "      <td>5194905</td>\n",
       "      <td>3.12</td>\n",
       "      <td>x</td>\n",
       "      <td>s</td>\n",
       "      <td>w</td>\n",
       "      <td>f</td>\n",
       "      <td>d</td>\n",
       "      <td>c</td>\n",
       "      <td>w</td>\n",
       "      <td>2.69</td>\n",
       "      <td>...</td>\n",
       "      <td>NaN</td>\n",
       "      <td>NaN</td>\n",
       "      <td>w</td>\n",
       "      <td>NaN</td>\n",
       "      <td>NaN</td>\n",
       "      <td>f</td>\n",
       "      <td>f</td>\n",
       "      <td>NaN</td>\n",
       "      <td>g</td>\n",
       "      <td>a</td>\n",
       "    </tr>\n",
       "    <tr>\n",
       "      <th>2077961</th>\n",
       "      <td>5194906</td>\n",
       "      <td>5.73</td>\n",
       "      <td>x</td>\n",
       "      <td>e</td>\n",
       "      <td>e</td>\n",
       "      <td>f</td>\n",
       "      <td>a</td>\n",
       "      <td>NaN</td>\n",
       "      <td>w</td>\n",
       "      <td>6.16</td>\n",
       "      <td>...</td>\n",
       "      <td>NaN</td>\n",
       "      <td>NaN</td>\n",
       "      <td>y</td>\n",
       "      <td>NaN</td>\n",
       "      <td>w</td>\n",
       "      <td>t</td>\n",
       "      <td>z</td>\n",
       "      <td>NaN</td>\n",
       "      <td>d</td>\n",
       "      <td>a</td>\n",
       "    </tr>\n",
       "    <tr>\n",
       "      <th>2077962</th>\n",
       "      <td>5194907</td>\n",
       "      <td>5.03</td>\n",
       "      <td>b</td>\n",
       "      <td>g</td>\n",
       "      <td>n</td>\n",
       "      <td>f</td>\n",
       "      <td>a</td>\n",
       "      <td>d</td>\n",
       "      <td>g</td>\n",
       "      <td>6.00</td>\n",
       "      <td>...</td>\n",
       "      <td>NaN</td>\n",
       "      <td>s</td>\n",
       "      <td>g</td>\n",
       "      <td>NaN</td>\n",
       "      <td>NaN</td>\n",
       "      <td>f</td>\n",
       "      <td>f</td>\n",
       "      <td>NaN</td>\n",
       "      <td>d</td>\n",
       "      <td>a</td>\n",
       "    </tr>\n",
       "    <tr>\n",
       "      <th>2077963</th>\n",
       "      <td>5194908</td>\n",
       "      <td>15.51</td>\n",
       "      <td>f</td>\n",
       "      <td>NaN</td>\n",
       "      <td>w</td>\n",
       "      <td>f</td>\n",
       "      <td>d</td>\n",
       "      <td>c</td>\n",
       "      <td>y</td>\n",
       "      <td>2.69</td>\n",
       "      <td>...</td>\n",
       "      <td>NaN</td>\n",
       "      <td>NaN</td>\n",
       "      <td>w</td>\n",
       "      <td>NaN</td>\n",
       "      <td>NaN</td>\n",
       "      <td>f</td>\n",
       "      <td>f</td>\n",
       "      <td>NaN</td>\n",
       "      <td>d</td>\n",
       "      <td>w</td>\n",
       "    </tr>\n",
       "  </tbody>\n",
       "</table>\n",
       "<p>2077964 rows × 21 columns</p>\n",
       "</div>"
      ],
      "text/plain": [
       "              id  cap-diameter cap-shape cap-surface cap-color  \\\n",
       "0        3116945          8.64         x         NaN         n   \n",
       "1        3116946          6.90         o           t         o   \n",
       "2        3116947          2.00         b           g         n   \n",
       "3        3116948          3.47         x           t         n   \n",
       "4        3116949          6.17         x           h         y   \n",
       "...          ...           ...       ...         ...       ...   \n",
       "2077959  5194904          0.88         x           g         w   \n",
       "2077960  5194905          3.12         x           s         w   \n",
       "2077961  5194906          5.73         x           e         e   \n",
       "2077962  5194907          5.03         b           g         n   \n",
       "2077963  5194908         15.51         f         NaN         w   \n",
       "\n",
       "        does-bruise-or-bleed gill-attachment gill-spacing gill-color  \\\n",
       "0                          t             NaN          NaN          w   \n",
       "1                          f             NaN            c          y   \n",
       "2                          f             NaN            c          n   \n",
       "3                          f               s            c          n   \n",
       "4                          f               p          NaN          y   \n",
       "...                      ...             ...          ...        ...   \n",
       "2077959                    f               a            d          w   \n",
       "2077960                    f               d            c          w   \n",
       "2077961                    f               a          NaN          w   \n",
       "2077962                    f               a            d          g   \n",
       "2077963                    f               d            c          y   \n",
       "\n",
       "         stem-height  ...  stem-root stem-surface stem-color veil-type  \\\n",
       "0              11.13  ...          b          NaN          w         u   \n",
       "1               1.27  ...        NaN          NaN          n       NaN   \n",
       "2               6.18  ...        NaN          NaN          n       NaN   \n",
       "3               4.98  ...        NaN          NaN          w       NaN   \n",
       "4               6.73  ...        NaN          NaN          y       NaN   \n",
       "...              ...  ...        ...          ...        ...       ...   \n",
       "2077959         2.67  ...        NaN          NaN          e       NaN   \n",
       "2077960         2.69  ...        NaN          NaN          w       NaN   \n",
       "2077961         6.16  ...        NaN          NaN          y       NaN   \n",
       "2077962         6.00  ...        NaN            s          g       NaN   \n",
       "2077963         2.69  ...        NaN          NaN          w       NaN   \n",
       "\n",
       "        veil-color has-ring ring-type spore-print-color habitat season  \n",
       "0                w        t         g               NaN       d      a  \n",
       "1              NaN        f         f               NaN       d      a  \n",
       "2              NaN        f         f               NaN       d      s  \n",
       "3                n        t         z               NaN       d      u  \n",
       "4                y        t       NaN               NaN       d      u  \n",
       "...            ...      ...       ...               ...     ...    ...  \n",
       "2077959        NaN        f         f               NaN       d      u  \n",
       "2077960        NaN        f         f               NaN       g      a  \n",
       "2077961          w        t         z               NaN       d      a  \n",
       "2077962        NaN        f         f               NaN       d      a  \n",
       "2077963        NaN        f         f               NaN       d      w  \n",
       "\n",
       "[2077964 rows x 21 columns]"
      ]
     },
     "execution_count": 29,
     "metadata": {},
     "output_type": "execute_result"
    }
   ],
   "source": [
    "df_test"
   ]
  },
  {
   "cell_type": "code",
   "execution_count": 30,
   "id": "927332b930200a0a",
   "metadata": {
    "ExecuteTime": {
     "end_time": "2024-08-26T16:22:03.343359Z",
     "start_time": "2024-08-26T16:22:02.398729Z"
    }
   },
   "outputs": [
    {
     "data": {
      "text/plain": [
       "id                            0\n",
       "cap-diameter                  7\n",
       "cap-shape                    31\n",
       "cap-surface              446904\n",
       "cap-color                    13\n",
       "does-bruise-or-bleed         10\n",
       "gill-attachment          349821\n",
       "gill-spacing             839595\n",
       "gill-color                   49\n",
       "stem-height                   1\n",
       "stem-width                    0\n",
       "stem-root               1838012\n",
       "stem-surface            1321488\n",
       "stem-color                   21\n",
       "veil-type               1971545\n",
       "veil-color              1826124\n",
       "has-ring                     19\n",
       "ring-type                 86195\n",
       "spore-print-color       1899617\n",
       "habitat                      25\n",
       "season                        0\n",
       "dtype: int64"
      ]
     },
     "execution_count": 30,
     "metadata": {},
     "output_type": "execute_result"
    }
   ],
   "source": [
    "df_test.isnull().sum()"
   ]
  },
  {
   "cell_type": "code",
   "execution_count": 31,
   "id": "6deee67d3ffe325b",
   "metadata": {
    "ExecuteTime": {
     "end_time": "2024-08-26T16:03:12.727993Z",
     "start_time": "2024-08-26T16:03:11.819955Z"
    }
   },
   "outputs": [],
   "source": [
    "columns = []\n",
    "for col in df_test:\n",
    "    if df_test[col].isnull().sum() <100 and col != 'id':\n",
    "        columns.append(col)"
   ]
  },
  {
   "cell_type": "code",
   "execution_count": 32,
   "id": "fea35417fe379c14",
   "metadata": {
    "ExecuteTime": {
     "end_time": "2024-08-26T16:03:16.327773Z",
     "start_time": "2024-08-26T16:03:16.323898Z"
    }
   },
   "outputs": [
    {
     "data": {
      "text/plain": [
       "['cap-diameter',\n",
       " 'cap-shape',\n",
       " 'cap-color',\n",
       " 'does-bruise-or-bleed',\n",
       " 'gill-color',\n",
       " 'stem-height',\n",
       " 'stem-width',\n",
       " 'stem-color',\n",
       " 'has-ring',\n",
       " 'habitat',\n",
       " 'season']"
      ]
     },
     "execution_count": 32,
     "metadata": {},
     "output_type": "execute_result"
    }
   ],
   "source": [
    "columns"
   ]
  },
  {
   "cell_type": "code",
   "execution_count": 33,
   "id": "5fa6c41e09d3f1cb",
   "metadata": {
    "ExecuteTime": {
     "end_time": "2024-08-26T16:03:19.924338Z",
     "start_time": "2024-08-26T16:03:19.921371Z"
    }
   },
   "outputs": [],
   "source": [
    "df_copy_test_ = pd.DataFrame()"
   ]
  },
  {
   "cell_type": "code",
   "execution_count": 34,
   "id": "28981fadd47fdaeb",
   "metadata": {
    "ExecuteTime": {
     "end_time": "2024-08-26T16:29:32.864746Z",
     "start_time": "2024-08-26T16:29:31.506290Z"
    }
   },
   "outputs": [],
   "source": [
    "for i in columns:\n",
    "    if i in df_test.columns and df_test[i].dtypes == 'float64':        \n",
    "        df_copy_test_[i]=df_test[i].fillna(df_test[i].mean())\n",
    "    if i in df_test.columns and df_test[i].dtypes == 'object':\n",
    "        df_copy_test_[i]=df_test[i].fillna(df_test[i].mode()[0])"
   ]
  },
  {
   "cell_type": "code",
   "execution_count": 18,
   "id": "373e1168e5d9767c",
   "metadata": {
    "ExecuteTime": {
     "end_time": "2024-08-26T16:03:36.822996Z",
     "start_time": "2024-08-26T16:03:36.810323Z"
    }
   },
   "outputs": [
    {
     "data": {
      "text/html": [
       "<div>\n",
       "<style scoped>\n",
       "    .dataframe tbody tr th:only-of-type {\n",
       "        vertical-align: middle;\n",
       "    }\n",
       "\n",
       "    .dataframe tbody tr th {\n",
       "        vertical-align: top;\n",
       "    }\n",
       "\n",
       "    .dataframe thead th {\n",
       "        text-align: right;\n",
       "    }\n",
       "</style>\n",
       "<table border=\"1\" class=\"dataframe\">\n",
       "  <thead>\n",
       "    <tr style=\"text-align: right;\">\n",
       "      <th></th>\n",
       "      <th>cap-diameter</th>\n",
       "      <th>cap-shape</th>\n",
       "      <th>cap-color</th>\n",
       "      <th>does-bruise-or-bleed</th>\n",
       "      <th>gill-color</th>\n",
       "      <th>stem-height</th>\n",
       "      <th>stem-width</th>\n",
       "      <th>stem-color</th>\n",
       "      <th>has-ring</th>\n",
       "      <th>habitat</th>\n",
       "      <th>season</th>\n",
       "    </tr>\n",
       "  </thead>\n",
       "  <tbody>\n",
       "    <tr>\n",
       "      <th>0</th>\n",
       "      <td>8.64</td>\n",
       "      <td>x</td>\n",
       "      <td>n</td>\n",
       "      <td>t</td>\n",
       "      <td>w</td>\n",
       "      <td>11.13</td>\n",
       "      <td>17.12</td>\n",
       "      <td>w</td>\n",
       "      <td>t</td>\n",
       "      <td>d</td>\n",
       "      <td>a</td>\n",
       "    </tr>\n",
       "    <tr>\n",
       "      <th>1</th>\n",
       "      <td>6.90</td>\n",
       "      <td>o</td>\n",
       "      <td>o</td>\n",
       "      <td>f</td>\n",
       "      <td>y</td>\n",
       "      <td>1.27</td>\n",
       "      <td>10.75</td>\n",
       "      <td>n</td>\n",
       "      <td>f</td>\n",
       "      <td>d</td>\n",
       "      <td>a</td>\n",
       "    </tr>\n",
       "    <tr>\n",
       "      <th>2</th>\n",
       "      <td>2.00</td>\n",
       "      <td>b</td>\n",
       "      <td>n</td>\n",
       "      <td>f</td>\n",
       "      <td>n</td>\n",
       "      <td>6.18</td>\n",
       "      <td>3.14</td>\n",
       "      <td>n</td>\n",
       "      <td>f</td>\n",
       "      <td>d</td>\n",
       "      <td>s</td>\n",
       "    </tr>\n",
       "    <tr>\n",
       "      <th>3</th>\n",
       "      <td>3.47</td>\n",
       "      <td>x</td>\n",
       "      <td>n</td>\n",
       "      <td>f</td>\n",
       "      <td>n</td>\n",
       "      <td>4.98</td>\n",
       "      <td>8.51</td>\n",
       "      <td>w</td>\n",
       "      <td>t</td>\n",
       "      <td>d</td>\n",
       "      <td>u</td>\n",
       "    </tr>\n",
       "    <tr>\n",
       "      <th>4</th>\n",
       "      <td>6.17</td>\n",
       "      <td>x</td>\n",
       "      <td>y</td>\n",
       "      <td>f</td>\n",
       "      <td>y</td>\n",
       "      <td>6.73</td>\n",
       "      <td>13.70</td>\n",
       "      <td>y</td>\n",
       "      <td>t</td>\n",
       "      <td>d</td>\n",
       "      <td>u</td>\n",
       "    </tr>\n",
       "  </tbody>\n",
       "</table>\n",
       "</div>"
      ],
      "text/plain": [
       "   cap-diameter cap-shape cap-color does-bruise-or-bleed gill-color  \\\n",
       "0          8.64         x         n                    t          w   \n",
       "1          6.90         o         o                    f          y   \n",
       "2          2.00         b         n                    f          n   \n",
       "3          3.47         x         n                    f          n   \n",
       "4          6.17         x         y                    f          y   \n",
       "\n",
       "   stem-height  stem-width stem-color has-ring habitat season  \n",
       "0        11.13       17.12          w        t       d      a  \n",
       "1         1.27       10.75          n        f       d      a  \n",
       "2         6.18        3.14          n        f       d      s  \n",
       "3         4.98        8.51          w        t       d      u  \n",
       "4         6.73       13.70          y        t       d      u  "
      ]
     },
     "execution_count": 18,
     "metadata": {},
     "output_type": "execute_result"
    }
   ],
   "source": [
    "df_copy_test_.head()"
   ]
  },
  {
   "cell_type": "code",
   "execution_count": 19,
   "id": "849267d3c1034cdc",
   "metadata": {
    "ExecuteTime": {
     "end_time": "2024-08-26T16:03:41.431359Z",
     "start_time": "2024-08-26T16:03:40.958204Z"
    }
   },
   "outputs": [
    {
     "data": {
      "text/plain": [
       "cap-diameter            0\n",
       "cap-shape               0\n",
       "cap-color               0\n",
       "does-bruise-or-bleed    0\n",
       "gill-color              0\n",
       "stem-height             0\n",
       "stem-width              0\n",
       "stem-color              0\n",
       "has-ring                0\n",
       "habitat                 0\n",
       "season                  0\n",
       "dtype: int64"
      ]
     },
     "execution_count": 19,
     "metadata": {},
     "output_type": "execute_result"
    }
   ],
   "source": [
    "df_copy_test_.isnull().sum()"
   ]
  },
  {
   "cell_type": "code",
   "execution_count": 12,
   "id": "5890eb186ade8341",
   "metadata": {
    "ExecuteTime": {
     "end_time": "2024-08-24T17:20:28.828891Z",
     "start_time": "2024-08-24T17:20:28.821881Z"
    }
   },
   "outputs": [
    {
     "data": {
      "text/plain": [
       "cap-diameter            float64\n",
       "cap-shape                object\n",
       "cap-color                object\n",
       "does-bruise-or-bleed     object\n",
       "gill-color               object\n",
       "stem-height             float64\n",
       "stem-width              float64\n",
       "stem-color               object\n",
       "has-ring                 object\n",
       "habitat                  object\n",
       "season                   object\n",
       "dtype: object"
      ]
     },
     "execution_count": 12,
     "metadata": {},
     "output_type": "execute_result"
    }
   ],
   "source": [
    "df_copy.dtypes"
   ]
  },
  {
   "cell_type": "code",
   "execution_count": 35,
   "id": "c4177da9bfb18c1c",
   "metadata": {
    "ExecuteTime": {
     "end_time": "2024-08-26T16:22:17.283668Z",
     "start_time": "2024-08-26T16:22:16.331181Z"
    }
   },
   "outputs": [
    {
     "name": "stdout",
     "output_type": "stream",
     "text": [
      "col cap-shape: \n",
      "['x' 'o' 'b' 'f' 's' 'p' 'c' 'g' 't' 'i' 'a' 'n' '7.21' 'e' nan 'w' 'd'\n",
      " 'k' 'u' 'y' '3.34' '8.3' 'r' 'l' '3.32' '19.76' 'is f' '0.93' '5 f' 'z'\n",
      " 'p f' 'h' '1.25' 'm' '4.55' 'ring-type' '11.43' '6' '5.59' '4.41' '3.73'\n",
      " '3.47' '6.75' '51.63' '6.52' '9.49' '2.7' '3.15' '5.05' 'cap-diameter'\n",
      " '4.51' '4.86' '0.97' '3.94' '6.47' '3.23' '2.02' '1.53' '8' '6.15'\n",
      " '17.89' '0.74' '4.54']\n",
      "col cap-surface: \n",
      "[nan 't' 'g' 'h' 'd' 'e' 'y' 'k' 's' 'i' 'l' 'w' 'r' 'f' 'o' 'm' 'a' 'n'\n",
      " 'p' 'b' 'x' 'season' 'u' '6.04' 'z' '10.09' 'spore-print-color' 'c'\n",
      " '2.97' 'class' '7.78' '5.05' '5.92' '5.98' '11.96' '7.96' '9.53' '17.98'\n",
      " 'habitat' '2.47' '20.64' '8.34' 'has-ring' 'does None' '1.95' '16.48'\n",
      " '5.84' '5.93' '12.3' '14.18' '4.87' '15.52' '3.49' '6.58' '12.15' '6.7'\n",
      " '4.91' '0.94' '2.84' '5.1']\n",
      "col cap-color: \n",
      "['n' 'o' 'y' 'k' 'b' 'w' 'e' 'g' 'p' 'u' 'l' 'r' 'z' 'f' nan 's' 'd' 'i'\n",
      " '10.93' 'ring-type' 'a' 'x' '0.73' 'c' 't' '19.18' 'h' '5.35' 'm' '21.38'\n",
      " 'has-ring' '5.38' 'class' '7.41' '18.49' 'habitat' '5.16' '4.5' '4.75'\n",
      " '17.01' '3.0' '24.74' '12.91' '4.11' '4.92' '10.83' '1.83' '2.51' '6.74'\n",
      " '4.18' '23.96'\n",
      " 'cap---------------------------------------------------------------------------------root'\n",
      " '4.96' '0.91' 'season' '6.18' '4.61' '9.19']\n",
      "col does-bruise-or-bleed: \n",
      "['t' 'f' 'c' 'k' 'season' 'does t' nan 'x' 's' 'a' 'p' 'n' 'o' 'w' 'b' 'i'\n",
      " 'e' 'r' 'l' 'y' 'm' 'g' 'h']\n",
      "col gill-attachment: \n",
      "[nan 's' 'p' 'x' 'f' 'a' 'd' 'e' 'c' 't' 'i' 'u' '13.42' 'k' '6.24' 'n'\n",
      " 'w' 'm' 'class' 'z' 'l' '8.33' 'b' 'o' 'g' '2.75' '0.95' 'r' 'season'\n",
      " 'spore-print-color' '1.75' 'y' 'h' '3.7' '23.73' '1.58' '1.32' '12.22'\n",
      " '6.35' '17.77' '1.26' '7.18' '8.21' '2.51' '6.11' '17.11' '10.62' '0.93'\n",
      " '25.92' '4.8' 'e s' '29.82' '1.56' '8.1' '0.88' '11.8' '17.97' '12.99'\n",
      " '23.18' '22.33' '2.86' 'has-ring' '1.83' '0.87' '2.17' '2.82' 'is None']\n",
      "col gill-spacing: \n",
      "[nan 'c' 'f' 'd' 's' 'e' 'has f' 'a' 'y' 'm' 'w' 'b' 'g' 'p' 'x' '1.61'\n",
      " 'r' '1.46' '2.93' 't' '3.42' 'i' 'k' 'does c' '2.98' '6.52' '13.66'\n",
      " '0.73' 'does None' '1.64' '2.44' '4.92' '1.68' '2.7' '5' '18.89']\n",
      "col gill-color: \n",
      "['w' 'y' 'n' 'e' 'f' 'b' 'g' 'p' 'o' 'u' 'k' 'r' 'l' 'd' nan 'has-ring'\n",
      " 'season' 't' 's' 'a' 'x' 'c' '8.95' 'i' '6.3' 'h' '1.55' '19.46'\n",
      " 'spacing' 'z' 'class' '5.01' '10.56' '12.87' 'is w'\n",
      " 'does-bruise-or-bleed' '17.26' '18' 'spore-print-color' 'ring-type'\n",
      " 'does f' '7.07' '3.38' 'm' '8.53' '18.05' 'habitat' '2.6' '7.81' 'has g'\n",
      " '9.69' '4' '10.34' '21.87' '9.41' '4.78' '2.83']\n",
      "col stem-root: \n",
      "['b' nan 's' 'r' 'c' 'f' 'a' 'p' 'u' 'o' 'x' 't' 'e' 'w' 'g' '1.48' 'k'\n",
      " 'd' 'y' '1.62' '18.29' 'm' 'l' 'h' 'n' 'i' '3.24' '13.46' 'z' '2.82'\n",
      " '3.59' '24.73']\n",
      "col stem-surface: \n",
      "[nan 's' 'g' 'y' 't' 'i' 'k' 'h' 'f' 'w' 'l' 'r' 'd' 'e' '2.98' 'b' 'c'\n",
      " 'does None' '6.06' 'u' 'o' '2.95' 'season' '6.18' 'p' 'class' '32.6' 'n'\n",
      " 'a' '32.63' 'x' 'm' '9.98' 'cap-diameter' '2.73' '15.25' '5.57' '15.55'\n",
      " '18.35' '3.24' '6.12' '13.09' '4.76' '35.38' 'sp' 'z' '6.51' '8.73'\n",
      " '10.14' '13.01' '15.51' 'does-bruise-or-bleed' '11.53' '4.54' '6.59']\n",
      "col stem-color: \n",
      "['w' 'n' 'y' 'g' 'o' 'p' 'u' 'e' 'k' 'r' 'l' 'b' 's' 'f' nan 'h' 'x' 'a'\n",
      " '3.05' 't' 'stem-root' 'veil-color' 'm' 'c' 'd' '7.35' '8.04' '6.58'\n",
      " 'veil-type' '17.16' 'season' '2.96' '17.49' 'i' 'z' '10.6' '11.31' '5.5'\n",
      " 'ring-type' '11.0' '8.09' '10.93' '6.67' '6.99' '5.61' '6.93'\n",
      " 'does-bruise-or-bleed' '6.28' '2.84' '7.71' 'spore-print-color' 'class'\n",
      " '3.66' '3.8' 'habitat' '3.02']\n",
      "col veil-type: \n",
      "['u' nan 'l' 'e' 'y' 'w' 'p' 'g' 'k' 'a' 's' 'c' 'b' 'n' '11' 'm']\n",
      "col veil-color: \n",
      "['w' nan 'n' 'y' 'e' 'u' 'k' 'i' 'p' 'g' 'r' 'f' 'b' 'h' 's' 't' '4.02'\n",
      " 'o' 'd' 'm' 'l' '9' 'c' 'a']\n",
      "col has-ring: \n",
      "['t' 'f' nan 'u' 'a' 'c' 'l' 'g' 'i' 'm' 'p' 'r' 'x' 'y' 'd' 'e' 'z' 'k'\n",
      " 'o' 'h' 'b' 's' 'w' '20.96']\n",
      "col ring-type: \n",
      "['g' 'f' 'z' nan 'r' 'e' 'l' 'p' 'm' 'd' 'n' 'u' 's' 'season' 'k' 't' 'a'\n",
      " 'y' 'o' 'c' 'w' '1' 'x' 'b' 'h' 'ring-type' 'i' '3.48' 'is p' '12.63'\n",
      " '10.36' '8.12' 'does f' '18.5' '9.33' 'spore-print-color' '2']\n",
      "col spore-print-color: \n",
      "[nan 'p' 'k' 'w' 'n' 'r' 'g' 'u' 'b' 'o' 'f' 't' 'e' 'h' 'veil-color' 'd'\n",
      " 'l' 'i' 's' 'y' 'a' '17.72' '2.52' '8.82' '6.14' 'c' '27.48' 'ring-type'\n",
      " 'z' 'x' '26.48' '3.65' '4' '2.92']\n",
      "col habitat: \n",
      "['d' 'p' 'u' 'g' 'h' 'm' 'l' 'w' 's' 't' 'habitat' 'k' nan 'n' 'x' 'o' 'e'\n",
      " 'a' 'spore-print-color' 'class' 'c' 'b' 'y' 'r' '4.58' '4.76' 'has-ring'\n",
      " '19.85' 'f' '2.53' '9.01' '2.02' '5.84' '7.01' 'i' '5.92' '5.83' 'z'\n",
      " '1.75' '3.19']\n",
      "col season: \n",
      "['a' 's' 'u' 'w']\n"
     ]
    }
   ],
   "source": [
    "for col in df_test:\n",
    "    if df_test[col].dtypes =='object':\n",
    "        print(f\"col {col}: \\n{df_test[col].unique()}\")"
   ]
  },
  {
   "cell_type": "code",
   "execution_count": 36,
   "id": "3f94d0701a2e43a2",
   "metadata": {
    "ExecuteTime": {
     "end_time": "2024-08-26T16:22:27.376293Z",
     "start_time": "2024-08-26T16:22:27.295434Z"
    }
   },
   "outputs": [
    {
     "data": {
      "text/plain": [
       "cap-shape\n",
       "x       957980\n",
       "f       452360\n",
       "s       242698\n",
       "b       211879\n",
       "o        71972\n",
       "         ...  \n",
       "5.59         1\n",
       "4.41         1\n",
       "3.73         1\n",
       "3.47         1\n",
       "4.54         1\n",
       "Name: count, Length: 62, dtype: int64"
      ]
     },
     "execution_count": 36,
     "metadata": {},
     "output_type": "execute_result"
    }
   ],
   "source": [
    "df_copy_test_['cap-shape'].value_counts()"
   ]
  },
  {
   "cell_type": "code",
   "execution_count": 43,
   "id": "d88e167f98922d42",
   "metadata": {
    "ExecuteTime": {
     "end_time": "2024-08-25T18:05:54.004185Z",
     "start_time": "2024-08-25T18:05:53.963385Z"
    }
   },
   "outputs": [
    {
     "data": {
      "text/plain": [
       "cap-shape\n",
       "x       957949\n",
       "f       452360\n",
       "s       242698\n",
       "b       211879\n",
       "o        71972\n",
       "         ...  \n",
       "5.59         1\n",
       "4.41         1\n",
       "3.73         1\n",
       "3.47         1\n",
       "4.54         1\n",
       "Name: count, Length: 63, dtype: int64"
      ]
     },
     "execution_count": 43,
     "metadata": {},
     "output_type": "execute_result"
    }
   ],
   "source": [
    "df_test['cap-shape'].value_counts(dropna=False)"
   ]
  },
  {
   "cell_type": "code",
   "execution_count": 37,
   "id": "8be64b4b41afd249",
   "metadata": {
    "ExecuteTime": {
     "end_time": "2024-08-26T16:22:32.900803Z",
     "start_time": "2024-08-26T16:22:32.838881Z"
    }
   },
   "outputs": [
    {
     "data": {
      "text/plain": [
       "array(['x', 'o', 'b', 'f', 's', 'p', 'c', 'g', 't', 'i', 'a', 'n', '7.21',\n",
       "       'e', nan, 'w', 'd', 'k', 'u', 'y', '3.34', '8.3', 'r', 'l', '3.32',\n",
       "       '19.76', 'is f', '0.93', '5 f', 'z', 'p f', 'h', '1.25', 'm',\n",
       "       '4.55', 'ring-type', '11.43', '6', '5.59', '4.41', '3.73', '3.47',\n",
       "       '6.75', '51.63', '6.52', '9.49', '2.7', '3.15', '5.05',\n",
       "       'cap-diameter', '4.51', '4.86', '0.97', '3.94', '6.47', '3.23',\n",
       "       '2.02', '1.53', '8', '6.15', '17.89', '0.74', '4.54'], dtype=object)"
      ]
     },
     "execution_count": 37,
     "metadata": {},
     "output_type": "execute_result"
    }
   ],
   "source": [
    "df_test['cap-shape'].unique()"
   ]
  },
  {
   "cell_type": "code",
   "execution_count": null,
   "id": "88391a07d270e91c",
   "metadata": {},
   "outputs": [],
   "source": [
    "df_test['cap-shape'].iloc()"
   ]
  },
  {
   "cell_type": "code",
   "execution_count": 108,
   "id": "3a8b9f3a007ccf95",
   "metadata": {
    "ExecuteTime": {
     "end_time": "2024-08-26T18:08:24.459331Z",
     "start_time": "2024-08-26T18:08:24.324542Z"
    }
   },
   "outputs": [
    {
     "data": {
      "text/html": [
       "<div>\n",
       "<style scoped>\n",
       "    .dataframe tbody tr th:only-of-type {\n",
       "        vertical-align: middle;\n",
       "    }\n",
       "\n",
       "    .dataframe tbody tr th {\n",
       "        vertical-align: top;\n",
       "    }\n",
       "\n",
       "    .dataframe thead th {\n",
       "        text-align: right;\n",
       "    }\n",
       "</style>\n",
       "<table border=\"1\" class=\"dataframe\">\n",
       "  <thead>\n",
       "    <tr style=\"text-align: right;\">\n",
       "      <th></th>\n",
       "      <th>id</th>\n",
       "      <th>cap-diameter</th>\n",
       "      <th>cap-shape</th>\n",
       "      <th>cap-surface</th>\n",
       "      <th>cap-color</th>\n",
       "      <th>does-bruise-or-bleed</th>\n",
       "      <th>gill-attachment</th>\n",
       "      <th>gill-spacing</th>\n",
       "      <th>gill-color</th>\n",
       "      <th>stem-height</th>\n",
       "      <th>...</th>\n",
       "      <th>stem-root</th>\n",
       "      <th>stem-surface</th>\n",
       "      <th>stem-color</th>\n",
       "      <th>veil-type</th>\n",
       "      <th>veil-color</th>\n",
       "      <th>has-ring</th>\n",
       "      <th>ring-type</th>\n",
       "      <th>spore-print-color</th>\n",
       "      <th>habitat</th>\n",
       "      <th>season</th>\n",
       "    </tr>\n",
       "  </thead>\n",
       "  <tbody>\n",
       "    <tr>\n",
       "      <th>864501</th>\n",
       "      <td>3981446</td>\n",
       "      <td>1.52</td>\n",
       "      <td>6</td>\n",
       "      <td>t</td>\n",
       "      <td>n</td>\n",
       "      <td>f</td>\n",
       "      <td>a</td>\n",
       "      <td>NaN</td>\n",
       "      <td>n</td>\n",
       "      <td>5.09</td>\n",
       "      <td>...</td>\n",
       "      <td>NaN</td>\n",
       "      <td>t</td>\n",
       "      <td>y</td>\n",
       "      <td>NaN</td>\n",
       "      <td>NaN</td>\n",
       "      <td>t</td>\n",
       "      <td>f</td>\n",
       "      <td>NaN</td>\n",
       "      <td>g</td>\n",
       "      <td>u</td>\n",
       "    </tr>\n",
       "  </tbody>\n",
       "</table>\n",
       "<p>1 rows × 21 columns</p>\n",
       "</div>"
      ],
      "text/plain": [
       "             id  cap-diameter cap-shape cap-surface cap-color  \\\n",
       "864501  3981446          1.52         6           t         n   \n",
       "\n",
       "       does-bruise-or-bleed gill-attachment gill-spacing gill-color  \\\n",
       "864501                    f               a          NaN          n   \n",
       "\n",
       "        stem-height  ...  stem-root stem-surface stem-color veil-type  \\\n",
       "864501         5.09  ...        NaN            t          y       NaN   \n",
       "\n",
       "       veil-color has-ring ring-type spore-print-color habitat season  \n",
       "864501        NaN        t         f               NaN       g      u  \n",
       "\n",
       "[1 rows x 21 columns]"
      ]
     },
     "execution_count": 108,
     "metadata": {},
     "output_type": "execute_result"
    }
   ],
   "source": [
    "df_test.loc[df_test['cap-shape']== '8']"
   ]
  },
  {
   "cell_type": "code",
   "execution_count": 57,
   "id": "ade7518a137908c0",
   "metadata": {
    "ExecuteTime": {
     "end_time": "2024-08-26T18:13:13.865296Z",
     "start_time": "2024-08-26T18:13:11.000137Z"
    }
   },
   "outputs": [],
   "source": [
    "\n",
    "for i,value in enumerate(df_copy_test_['cap-shape']):\n",
    "    value = value.replace(\" \",\"\")\n",
    "    if re.match(\"^\\d+?\\.\\d+?$\", value) or re.match(\"^\\d+?$\", value):\n",
    "        #print(f\"число: {value}\") \n",
    "        #print(f\"мода: {df_copy_test_['cap-shape'].mode()[0]}\")\n",
    "        df_copy_test_['cap-shape'].loc[i] = df_copy_test_['cap-shape'].mode()[0]\n",
    "    elif len(value) > 1:        \n",
    "        #print(f\"не число а строка: {value}:\")\n",
    "        #print(f\"не число а строка,мода: {df_copy_test_['cap-shape'].mode()[0]}\")\n",
    "        #i+=1\n",
    "        df_copy_test_['cap-shape'].loc[i] = df_copy_test_['cap-shape'].mode()[0]\n",
    "\n",
    "    else:\n",
    "       #print(f\"не число: {value}\")\n",
    "       #i = i.append(value)\n",
    "        pass\n",
    "    \n",
    "#print(i)\n",
    "    #print(f\"{value}: \\n{type(value)}\")\n",
    "    "
   ]
  },
  {
   "cell_type": "code",
   "execution_count": 58,
   "id": "37f395a3",
   "metadata": {
    "scrolled": true
   },
   "outputs": [
    {
     "data": {
      "text/plain": [
       "array(['x', 'o', 'b', 'f', 's', 'p', 'c', 'g', 't', 'i', 'a', 'n', 'e',\n",
       "       'w', 'd', 'k', 'u', 'y', 'r', 'l', 'z', 'h', 'm'], dtype=object)"
      ]
     },
     "execution_count": 58,
     "metadata": {},
     "output_type": "execute_result"
    }
   ],
   "source": [
    "df_copy_test_['cap-shape'].unique()"
   ]
  },
  {
   "cell_type": "code",
   "execution_count": null,
   "id": "90c4d126",
   "metadata": {},
   "outputs": [],
   "source": []
  },
  {
   "cell_type": "code",
   "execution_count": null,
   "id": "a741bf97",
   "metadata": {},
   "outputs": [],
   "source": []
  },
  {
   "cell_type": "code",
   "execution_count": 39,
   "id": "5b30a89a515d3318",
   "metadata": {
    "ExecuteTime": {
     "end_time": "2024-08-26T18:15:40.541143Z",
     "start_time": "2024-08-26T18:15:40.538374Z"
    }
   },
   "outputs": [],
   "source": [
    "a = pd.DataFrame()"
   ]
  },
  {
   "cell_type": "code",
   "execution_count": 47,
   "id": "c703aed0",
   "metadata": {},
   "outputs": [
    {
     "ename": "TypeError",
     "evalue": "cannot concatenate object of type '<class 'str'>'; only Series and DataFrame objs are valid",
     "output_type": "error",
     "traceback": [
      "\u001b[1;31m---------------------------------------------------------------------------\u001b[0m",
      "\u001b[1;31mTypeError\u001b[0m                                 Traceback (most recent call last)",
      "Cell \u001b[1;32mIn[47], line 1\u001b[0m\n\u001b[1;32m----> 1\u001b[0m a \u001b[38;5;241m=\u001b[39m pd\u001b[38;5;241m.\u001b[39mconcat({\u001b[38;5;124m'\u001b[39m\u001b[38;5;124mnumbers\u001b[39m\u001b[38;5;124m'\u001b[39m:\u001b[38;5;124m'\u001b[39m\u001b[38;5;124m5\u001b[39m\u001b[38;5;124m'\u001b[39m},ignore_index\u001b[38;5;241m=\u001b[39m\u001b[38;5;28;01mTrue\u001b[39;00m)\n",
      "File \u001b[1;32m~\\anaconda3\\Lib\\site-packages\\pandas\\core\\reshape\\concat.py:372\u001b[0m, in \u001b[0;36mconcat\u001b[1;34m(objs, axis, join, ignore_index, keys, levels, names, verify_integrity, sort, copy)\u001b[0m\n\u001b[0;32m    369\u001b[0m \u001b[38;5;28;01melif\u001b[39;00m copy \u001b[38;5;129;01mand\u001b[39;00m using_copy_on_write():\n\u001b[0;32m    370\u001b[0m     copy \u001b[38;5;241m=\u001b[39m \u001b[38;5;28;01mFalse\u001b[39;00m\n\u001b[1;32m--> 372\u001b[0m op \u001b[38;5;241m=\u001b[39m _Concatenator(\n\u001b[0;32m    373\u001b[0m     objs,\n\u001b[0;32m    374\u001b[0m     axis\u001b[38;5;241m=\u001b[39maxis,\n\u001b[0;32m    375\u001b[0m     ignore_index\u001b[38;5;241m=\u001b[39mignore_index,\n\u001b[0;32m    376\u001b[0m     join\u001b[38;5;241m=\u001b[39mjoin,\n\u001b[0;32m    377\u001b[0m     keys\u001b[38;5;241m=\u001b[39mkeys,\n\u001b[0;32m    378\u001b[0m     levels\u001b[38;5;241m=\u001b[39mlevels,\n\u001b[0;32m    379\u001b[0m     names\u001b[38;5;241m=\u001b[39mnames,\n\u001b[0;32m    380\u001b[0m     verify_integrity\u001b[38;5;241m=\u001b[39mverify_integrity,\n\u001b[0;32m    381\u001b[0m     copy\u001b[38;5;241m=\u001b[39mcopy,\n\u001b[0;32m    382\u001b[0m     sort\u001b[38;5;241m=\u001b[39msort,\n\u001b[0;32m    383\u001b[0m )\n\u001b[0;32m    385\u001b[0m \u001b[38;5;28;01mreturn\u001b[39;00m op\u001b[38;5;241m.\u001b[39mget_result()\n",
      "File \u001b[1;32m~\\anaconda3\\Lib\\site-packages\\pandas\\core\\reshape\\concat.py:462\u001b[0m, in \u001b[0;36m_Concatenator.__init__\u001b[1;34m(self, objs, axis, join, keys, levels, names, ignore_index, verify_integrity, copy, sort)\u001b[0m\n\u001b[0;32m    457\u001b[0m     \u001b[38;5;28;01mif\u001b[39;00m \u001b[38;5;129;01mnot\u001b[39;00m \u001b[38;5;28misinstance\u001b[39m(obj, (ABCSeries, ABCDataFrame)):\n\u001b[0;32m    458\u001b[0m         msg \u001b[38;5;241m=\u001b[39m (\n\u001b[0;32m    459\u001b[0m             \u001b[38;5;124mf\u001b[39m\u001b[38;5;124m\"\u001b[39m\u001b[38;5;124mcannot concatenate object of type \u001b[39m\u001b[38;5;124m'\u001b[39m\u001b[38;5;132;01m{\u001b[39;00m\u001b[38;5;28mtype\u001b[39m(obj)\u001b[38;5;132;01m}\u001b[39;00m\u001b[38;5;124m'\u001b[39m\u001b[38;5;124m; \u001b[39m\u001b[38;5;124m\"\u001b[39m\n\u001b[0;32m    460\u001b[0m             \u001b[38;5;124m\"\u001b[39m\u001b[38;5;124monly Series and DataFrame objs are valid\u001b[39m\u001b[38;5;124m\"\u001b[39m\n\u001b[0;32m    461\u001b[0m         )\n\u001b[1;32m--> 462\u001b[0m         \u001b[38;5;28;01mraise\u001b[39;00m \u001b[38;5;167;01mTypeError\u001b[39;00m(msg)\n\u001b[0;32m    464\u001b[0m     ndims\u001b[38;5;241m.\u001b[39madd(obj\u001b[38;5;241m.\u001b[39mndim)\n\u001b[0;32m    466\u001b[0m \u001b[38;5;66;03m# get the sample\u001b[39;00m\n\u001b[0;32m    467\u001b[0m \u001b[38;5;66;03m# want the highest ndim that we have, and must be non-empty\u001b[39;00m\n\u001b[0;32m    468\u001b[0m \u001b[38;5;66;03m# unless all objs are empty\u001b[39;00m\n",
      "\u001b[1;31mTypeError\u001b[0m: cannot concatenate object of type '<class 'str'>'; only Series and DataFrame objs are valid"
     ]
    }
   ],
   "source": [
    "a = pd.concat({'numbers':'5'},ignore_index=True)"
   ]
  },
  {
   "cell_type": "code",
   "execution_count": null,
   "id": "928ba643",
   "metadata": {},
   "outputs": [],
   "source": []
  },
  {
   "cell_type": "code",
   "execution_count": null,
   "id": "130e54eb",
   "metadata": {},
   "outputs": [],
   "source": []
  },
  {
   "cell_type": "code",
   "execution_count": 118,
   "id": "2fed2fbbe532810a",
   "metadata": {
    "ExecuteTime": {
     "end_time": "2024-08-26T18:16:05.300016Z",
     "start_time": "2024-08-26T18:16:05.295040Z"
    }
   },
   "outputs": [
    {
     "name": "stdout",
     "output_type": "stream",
     "text": [
      "yes\n"
     ]
    }
   ],
   "source": [
    "if re.match(\"^\\d+?$\", a):\n",
    "    print(\"yes\")"
   ]
  },
  {
   "cell_type": "code",
   "execution_count": 82,
   "id": "e71c50c0767e08c9",
   "metadata": {
    "ExecuteTime": {
     "end_time": "2024-08-26T17:34:40.745332Z",
     "start_time": "2024-08-26T17:34:40.741928Z"
    }
   },
   "outputs": [
    {
     "name": "stdout",
     "output_type": "stream",
     "text": [
      "Nop\n"
     ]
    }
   ],
   "source": [
    "if re.match(\"^\\d+?\\.\\d+?$\", a):\n",
    "    print(a)\n",
    "else:\n",
    "    print('Nop')"
   ]
  },
  {
   "cell_type": "code",
   "execution_count": null,
   "id": "70e670ed53e67474",
   "metadata": {},
   "outputs": [],
   "source": [
    "\\"
   ]
  },
  {
   "cell_type": "code",
   "execution_count": null,
   "id": "8e1c7ff755e96a18",
   "metadata": {},
   "outputs": [],
   "source": []
  },
  {
   "cell_type": "code",
   "execution_count": null,
   "id": "8c1396ee3c7e90f9",
   "metadata": {},
   "outputs": [],
   "source": []
  },
  {
   "cell_type": "code",
   "execution_count": null,
   "id": "c59bf7e021d84d27",
   "metadata": {},
   "outputs": [],
   "source": []
  },
  {
   "cell_type": "code",
   "execution_count": 37,
   "id": "2cdd869a5d503ec0",
   "metadata": {
    "ExecuteTime": {
     "end_time": "2024-08-26T16:37:29.020431Z",
     "start_time": "2024-08-26T16:37:28.989010Z"
    }
   },
   "outputs": [
    {
     "data": {
      "text/plain": [
       "array(['n', 'o', 'y', 'k', 'b', 'w', 'e', 'g', 'p', 'u', 'l', 'r', 'z',\n",
       "       'f', 's', 'd', 'i', '10.93', 'ring-type', 'a', 'x', '0.73', 'c',\n",
       "       't', '19.18', 'h', '5.35', 'm', '21.38', 'has-ring', '5.38',\n",
       "       'class', '7.41', '18.49', 'habitat', '5.16', '4.5', '4.75',\n",
       "       '17.01', '3.0', '24.74', '12.91', '4.11', '4.92', '10.83', '1.83',\n",
       "       '2.51', '6.74', '4.18', '23.96',\n",
       "       'cap---------------------------------------------------------------------------------root',\n",
       "       '4.96', '0.91', 'season', '6.18', '4.61', '9.19'], dtype=object)"
      ]
     },
     "execution_count": 37,
     "metadata": {},
     "output_type": "execute_result"
    }
   ],
   "source": [
    "df_copy_test_['cap-color'].unique()"
   ]
  },
  {
   "cell_type": "code",
   "execution_count": 53,
   "id": "71f384450546a2dc",
   "metadata": {
    "ExecuteTime": {
     "end_time": "2024-08-26T16:37:58.066512Z",
     "start_time": "2024-08-26T16:37:57.902223Z"
    }
   },
   "outputs": [
    {
     "name": "stdout",
     "output_type": "stream",
     "text": [
      "10.93: \n",
      "5\n",
      "ring-type: \n",
      "9\n",
      "0.73: \n",
      "4\n",
      "19.18: \n",
      "5\n",
      "5.35: \n",
      "4\n",
      "21.38: \n",
      "5\n",
      "has-ring: \n",
      "8\n",
      "5.38: \n",
      "4\n",
      "class: \n",
      "5\n",
      "7.41: \n",
      "4\n",
      "18.49: \n",
      "5\n",
      "habitat: \n",
      "7\n",
      "5.16: \n",
      "4\n",
      "4.5: \n",
      "3\n",
      "4.75: \n",
      "4\n",
      "17.01: \n",
      "5\n",
      "3.0: \n",
      "3\n",
      "24.74: \n",
      "5\n",
      "12.91: \n",
      "5\n",
      "4.11: \n",
      "4\n",
      "4.92: \n",
      "4\n",
      "10.83: \n",
      "5\n",
      "1.83: \n",
      "4\n",
      "2.51: \n",
      "4\n",
      "6.74: \n",
      "4\n",
      "4.18: \n",
      "4\n",
      "23.96: \n",
      "5\n",
      "cap---------------------------------------------------------------------------------root: \n",
      "88\n",
      "4.96: \n",
      "4\n",
      "0.91: \n",
      "4\n",
      "season: \n",
      "6\n",
      "6.18: \n",
      "4\n",
      "4.61: \n",
      "4\n",
      "9.19: \n",
      "4\n",
      "34\n"
     ]
    }
   ],
   "source": [
    "i=0\n",
    "for value in df_copy_test_['cap-color'].unique():\n",
    "\n",
    "    if len(value) > 1:\n",
    "\n",
    "        print(f\"{value}: \\n{len(value)}\")\n",
    "        i+=1\n",
    "print(i)"
   ]
  },
  {
   "cell_type": "code",
   "execution_count": null,
   "id": "19c16b064c218dde",
   "metadata": {},
   "outputs": [],
   "source": []
  },
  {
   "cell_type": "code",
   "execution_count": 6,
   "id": "76e940d8172ded18",
   "metadata": {
    "ExecuteTime": {
     "end_time": "2024-08-26T16:02:20.748951Z",
     "start_time": "2024-08-26T16:02:15.804182Z"
    }
   },
   "outputs": [],
   "source": [
    "df_train = pd.read_csv('train.csv')"
   ]
  },
  {
   "cell_type": "code",
   "execution_count": 7,
   "id": "92ed6f76e4ea2739",
   "metadata": {
    "ExecuteTime": {
     "end_time": "2024-08-26T16:02:29.081189Z",
     "start_time": "2024-08-26T16:02:29.077160Z"
    }
   },
   "outputs": [],
   "source": [
    "df_train_1 = df_train.iloc[:1000]"
   ]
  },
  {
   "cell_type": "code",
   "execution_count": 8,
   "id": "259f42f7bd9dd3cb",
   "metadata": {
    "ExecuteTime": {
     "end_time": "2024-08-26T16:02:32.391238Z",
     "start_time": "2024-08-26T16:02:32.383231Z"
    }
   },
   "outputs": [
    {
     "data": {
      "text/plain": [
       "id                        0\n",
       "class                     0\n",
       "cap-diameter              0\n",
       "cap-shape                 0\n",
       "cap-surface             223\n",
       "cap-color                 0\n",
       "does-bruise-or-bleed      0\n",
       "gill-attachment         157\n",
       "gill-spacing            445\n",
       "gill-color                0\n",
       "stem-height               0\n",
       "stem-width                0\n",
       "stem-root               885\n",
       "stem-surface            647\n",
       "stem-color                0\n",
       "veil-type               949\n",
       "veil-color              883\n",
       "has-ring                  0\n",
       "ring-type                41\n",
       "spore-print-color       917\n",
       "habitat                   0\n",
       "season                    0\n",
       "dtype: int64"
      ]
     },
     "execution_count": 8,
     "metadata": {},
     "output_type": "execute_result"
    }
   ],
   "source": [
    "df_train_1.isnull().sum()"
   ]
  },
  {
   "cell_type": "code",
   "execution_count": 9,
   "id": "83b652c310f8a32a",
   "metadata": {
    "ExecuteTime": {
     "end_time": "2024-08-26T16:02:35.882268Z",
     "start_time": "2024-08-26T16:02:35.877778Z"
    }
   },
   "outputs": [],
   "source": [
    "df_train_copy = pd.DataFrame()"
   ]
  },
  {
   "cell_type": "code",
   "execution_count": 10,
   "id": "b1ebf843f4443998",
   "metadata": {
    "ExecuteTime": {
     "end_time": "2024-08-26T16:02:38.901284Z",
     "start_time": "2024-08-26T16:02:38.875621Z"
    }
   },
   "outputs": [
    {
     "ename": "NameError",
     "evalue": "name 'columns' is not defined",
     "output_type": "error",
     "traceback": [
      "\u001b[0;31m---------------------------------------------------------------------------\u001b[0m",
      "\u001b[0;31mNameError\u001b[0m                                 Traceback (most recent call last)",
      "Cell \u001b[0;32mIn[10], line 4\u001b[0m\n\u001b[1;32m      2\u001b[0m \u001b[38;5;28;01mif\u001b[39;00m column \u001b[38;5;241m==\u001b[39m \u001b[38;5;124m'\u001b[39m\u001b[38;5;124mclass\u001b[39m\u001b[38;5;124m'\u001b[39m:\n\u001b[1;32m      3\u001b[0m     df_train_copy[column] \u001b[38;5;241m=\u001b[39m df_train_1[column]\n\u001b[0;32m----> 4\u001b[0m \u001b[38;5;28;01mif\u001b[39;00m column \u001b[38;5;129;01min\u001b[39;00m columns \u001b[38;5;129;01mand\u001b[39;00m df_train_1[column]\u001b[38;5;241m.\u001b[39mdtypes \u001b[38;5;241m==\u001b[39m \u001b[38;5;124m'\u001b[39m\u001b[38;5;124mfloat64\u001b[39m\u001b[38;5;124m'\u001b[39m:\n\u001b[1;32m      5\u001b[0m     df_train_copy[column]\u001b[38;5;241m=\u001b[39mdf_train_1[column]\u001b[38;5;241m.\u001b[39mfillna(df_train_1[column]\u001b[38;5;241m.\u001b[39mmean())\n\u001b[1;32m      6\u001b[0m \u001b[38;5;28;01mif\u001b[39;00m column \u001b[38;5;129;01min\u001b[39;00m columns \u001b[38;5;129;01mand\u001b[39;00m df_train_1[column]\u001b[38;5;241m.\u001b[39mdtypes \u001b[38;5;241m==\u001b[39m \u001b[38;5;124m'\u001b[39m\u001b[38;5;124mobject\u001b[39m\u001b[38;5;124m'\u001b[39m:\n",
      "\u001b[0;31mNameError\u001b[0m: name 'columns' is not defined"
     ]
    }
   ],
   "source": [
    "for column in df_train_1.columns:\n",
    "    if column == 'class':\n",
    "        df_train_copy[column] = df_train_1[column]\n",
    "    if column in columns and df_train_1[column].dtypes == 'float64':\n",
    "        df_train_copy[column]=df_train_1[column].fillna(df_train_1[column].mean())\n",
    "    if column in columns and df_train_1[column].dtypes == 'object':\n",
    "        df_train_copy[column]=df_train_1[column].fillna(df_train_1[column].mode()[0])"
   ]
  },
  {
   "cell_type": "code",
   "execution_count": 12,
   "id": "87baa69d38ced2f1",
   "metadata": {
    "ExecuteTime": {
     "end_time": "2024-08-25T06:22:02.583457Z",
     "start_time": "2024-08-25T06:22:02.058351Z"
    }
   },
   "outputs": [
    {
     "data": {
      "text/plain": [
       "class                   0\n",
       "cap-diameter            0\n",
       "cap-shape               0\n",
       "cap-color               0\n",
       "does-bruise-or-bleed    0\n",
       "gill-color              0\n",
       "stem-height             0\n",
       "stem-width              0\n",
       "stem-color              0\n",
       "has-ring                0\n",
       "habitat                 0\n",
       "season                  0\n",
       "dtype: int64"
      ]
     },
     "execution_count": 12,
     "metadata": {},
     "output_type": "execute_result"
    }
   ],
   "source": [
    "df_train_copy.isnull().sum()"
   ]
  },
  {
   "cell_type": "code",
   "execution_count": 57,
   "id": "bddf6a920fc3bfe9",
   "metadata": {
    "ExecuteTime": {
     "end_time": "2024-08-25T18:12:17.912152Z",
     "start_time": "2024-08-25T18:12:16.988792Z"
    }
   },
   "outputs": [
    {
     "name": "stdout",
     "output_type": "stream",
     "text": [
      "col class: \n",
      "['e' 'p']\n",
      "col cap-shape: \n",
      "['f' 'x' 'p' 'b' 'o' 'c' 's' 'd' 'e' 'n' 'w' 'k' 'l' '19.29' '5 f' 't' 'g'\n",
      " 'z' 'a' '2.85' '7 x' 'r' 'u' '3.55' 'is s' 'y' '4.22' '3.6' '21.56' 'i'\n",
      " '6 x' '24.16' '8' 'm' 'ring-type' '10.13' 'is p' '7.43' 'h' '0.82'\n",
      " '10.46' '2.77' '2.94' '12.62' '5.15' '19.04' '4.97' '49.21' 'b f' '9.13'\n",
      " '1.66' '3.37' '7.21' '3.25' '11.12' '3 x' '4.3' '7.41' '6.21' '8.29'\n",
      " '54.78']\n",
      "col cap-color: \n",
      "['u' 'o' 'b' 'g' 'w' 'n' 'e' 'y' 'r' 'p' 'k' 'l' 'i' 'h' 'd' 's' 'a' 'f'\n",
      " '2.05' 'season' 'c' 'x' '13' '7.72' 'm' 'z' '6.76' '7.15' 't' 'ring-type'\n",
      " 'class' '12.89' '8.83' '24.75' '22.38' '1.51' '10.1' '17.94' '3.57'\n",
      " 'does n' '4.89' '6.2' '21.53' '6.41' '4.98' '3.95' 'does-bruise-or-bleed'\n",
      " '6.59' '5.25' 'veil-color' '6.9' '5.41' '11.13' '3.11' '2.57' '17.93'\n",
      " '2.7' '8.57' '11.92' '3.08' '2.82' '4.24' '17.19' '3.34' '7' '2.9' '6.36'\n",
      " '5.91' '10.56' '26.89' '4. n']\n",
      "col does-bruise-or-bleed: \n",
      "['f' 't' 'd' 'has-ring' 'w' 'o' 'b' 'x' 'p' 'g' 'y' 'r' 'a' 'l' 'i' 'c'\n",
      " 'n' 'z' 's' 'k' 'h' '3.43' 'e' '4.42' '2.9' 'u']\n",
      "col gill-color: \n",
      "['w' 'n' 'g' 'k' 'y' 'f' 'p' 'o' 'b' 'u' 'e' 'r' 'd' 't' '3.45' 'z' '5'\n",
      " '3.39' 'season' 'h' 'x' 's' '4' 'class' 'c' 'm' 'spacing' '0.92' '18.12'\n",
      " 'l' 'does w' 'a' '7.59' '8.06' '6.19' 'has-ring' '4.49' '9.46' '5.01'\n",
      " 'ring-type' '3.4' 'i' '17' '10.07' 'stem-root' '20.6' 'spore-print-color'\n",
      " '18.03' 'does-bruise-or-bleed' '8.83' 'habitat' '10.21' '4.64' '6.4'\n",
      " 'is y' 'e y' '1.91']\n",
      "col stem-color: \n",
      "['w' 'o' 'n' 'y' 'e' 'u' 'p' 'f' 'g' 'r' 'k' 'l' 'b' '3.13' 't' 'z' 'a'\n",
      " 'h' 'd' 's' '7.33' 'is n' 'i' 'c' 'x' 'e n' '1.75' 'm' '33.52'\n",
      " 'ring-type' '2.78' 'spore-print-color' '23.59' '8.32' 'is w' '26.4'\n",
      " '4.75' '7.84' 'class' '2.75' '8.49' '4.49' '1.41' '17.45' '3.53' '12.92'\n",
      " '3.98' '20.07' '7.7' '22.6' '6.31' '6.09']\n",
      "col has-ring: \n",
      "['f' 't' 'h' 'r' 'y' 'c' 'e' 'g' 'l' 's' 'p' 'x' 'k' 'z' 'f has-ring' 'd'\n",
      " 'o' 'n' 'm' 'i' '10.3']\n",
      "col habitat: \n",
      "['d' 'l' 'g' 'h' 'p' 'm' 'u' 'w' 'y' 'n' 'a' 's' 'k' 'habitat' 'z' '8.09'\n",
      " '17.1' 'b' 't' 'c' '9.28' 'ring-type' 'e' 'r' 'does-bruise-or-bleed' 'f'\n",
      " 'is w' 'o' '2.94' 'x' '4' 'is h' '5.56' 'class' 'i' '10.07' '7.31' '5.62'\n",
      " 'spore-print-color' 'cap-diameter' '3.11' '16.46' '7.37' 'veil-type'\n",
      " '17.38' '1.66' '6.63' '18.35' '6.75']\n",
      "col season: \n",
      "['a' 'w' 'u' 's']\n"
     ]
    }
   ],
   "source": [
    "for col in df_train_copy:\n",
    "    if df_train_copy[col].dtypes =='object':\n",
    "        print(f\"col {col}: \\n{df_train_copy[col].unique()}\")"
   ]
  },
  {
   "cell_type": "code",
   "execution_count": 60,
   "id": "ae2f3374cd9c6662",
   "metadata": {
    "ExecuteTime": {
     "end_time": "2024-08-25T18:15:21.811019Z",
     "start_time": "2024-08-25T18:15:21.687333Z"
    }
   },
   "outputs": [
    {
     "data": {
      "text/plain": [
       "array(['u', 'o', 'b', 'g', 'w', 'n', 'e', 'y', 'r', 'p', 'k', 'l', 'i',\n",
       "       'h', 'd', 's', 'a', 'f', '2.05', 'season', 'c', 'x', '13', '7.72',\n",
       "       'm', 'z', '6.76', '7.15', 't', 'ring-type', 'class', '12.89',\n",
       "       '8.83', '24.75', '22.38', '1.51', '10.1', '17.94', '3.57',\n",
       "       'does n', '4.89', '6.2', '21.53', '6.41', '4.98', '3.95',\n",
       "       'does-bruise-or-bleed', '6.59', '5.25', 'veil-color', '6.9',\n",
       "       '5.41', '11.13', '3.11', '2.57', '17.93', '2.7', '8.57', '11.92',\n",
       "       '3.08', '2.82', '4.24', '17.19', '3.34', '7', '2.9', '6.36',\n",
       "       '5.91', '10.56', '26.89', '4. n'], dtype=object)"
      ]
     },
     "execution_count": 60,
     "metadata": {},
     "output_type": "execute_result"
    }
   ],
   "source": [
    "df_train_copy['cap-color'].unique()"
   ]
  },
  {
   "cell_type": "code",
   "execution_count": 61,
   "id": "fdcf2ca15d413f5c",
   "metadata": {
    "ExecuteTime": {
     "end_time": "2024-08-25T18:15:51.114197Z",
     "start_time": "2024-08-25T18:15:51.068214Z"
    }
   },
   "outputs": [
    {
     "data": {
      "text/plain": [
       "cap-color\n",
       "n        1090367\n",
       "y         310271\n",
       "w         304614\n",
       "g         169114\n",
       "e         157927\n",
       "          ...   \n",
       "21.53          1\n",
       "6.41           1\n",
       "4.98           1\n",
       "3.95           1\n",
       "4. n           1\n",
       "Name: count, Length: 71, dtype: int64"
      ]
     },
     "execution_count": 61,
     "metadata": {},
     "output_type": "execute_result"
    }
   ],
   "source": [
    "df_train_copy['cap-color'].value_counts(dropna=False)"
   ]
  },
  {
   "cell_type": "code",
   "execution_count": null,
   "id": "4b49f884f1b1c8b7",
   "metadata": {},
   "outputs": [],
   "source": []
  },
  {
   "cell_type": "code",
   "execution_count": null,
   "id": "53d73ecfe35a5492",
   "metadata": {},
   "outputs": [],
   "source": []
  },
  {
   "cell_type": "code",
   "execution_count": null,
   "id": "cc6ce23991bcacab",
   "metadata": {},
   "outputs": [],
   "source": []
  },
  {
   "cell_type": "code",
   "execution_count": null,
   "id": "22d3ceadbd8a272e",
   "metadata": {},
   "outputs": [],
   "source": []
  },
  {
   "cell_type": "code",
   "execution_count": 112,
   "id": "184d36c0166bf4d3",
   "metadata": {
    "ExecuteTime": {
     "end_time": "2024-08-25T06:57:58.323301Z",
     "start_time": "2024-08-25T06:57:58.222170Z"
    }
   },
   "outputs": [],
   "source": [
    "y = df_train_copy[\"class\"]\n",
    "y = y.map({\"p\":-1, \"e\":1})"
   ]
  },
  {
   "cell_type": "code",
   "execution_count": 113,
   "id": "22361da95e1cec9b",
   "metadata": {
    "ExecuteTime": {
     "end_time": "2024-08-25T06:58:01.406900Z",
     "start_time": "2024-08-25T06:58:01.183448Z"
    }
   },
   "outputs": [],
   "source": [
    "X = df_train_copy.drop([\"class\"], axis=1)"
   ]
  },
  {
   "cell_type": "code",
   "execution_count": 114,
   "id": "48d1b12b0c369bd7",
   "metadata": {
    "ExecuteTime": {
     "end_time": "2024-08-25T06:58:13.514981Z",
     "start_time": "2024-08-25T06:58:04.298525Z"
    }
   },
   "outputs": [
    {
     "data": {
      "text/plain": [
       "cap-diameter            float64\n",
       "cap-shape               float64\n",
       "cap-color               float64\n",
       "does-bruise-or-bleed    float64\n",
       "gill-color              float64\n",
       "stem-height             float64\n",
       "stem-width              float64\n",
       "stem-color              float64\n",
       "has-ring                float64\n",
       "habitat                 float64\n",
       "season                  float64\n",
       "dtype: object"
      ]
     },
     "execution_count": 114,
     "metadata": {},
     "output_type": "execute_result"
    }
   ],
   "source": [
    "encoder = LeaveOneOutEncoder(return_df=True)\n",
    "X2 = encoder.fit_transform(X,y)\n",
    "X2.dtypes"
   ]
  },
  {
   "cell_type": "code",
   "execution_count": 115,
   "id": "1f904378661c8c66",
   "metadata": {
    "ExecuteTime": {
     "end_time": "2024-08-25T06:59:27.619458Z",
     "start_time": "2024-08-25T06:58:16.989045Z"
    }
   },
   "outputs": [],
   "source": [
    "encoder = OneHotEncoder(return_df=True)\n",
    "X2 = encoder.fit_transform(X,y)"
   ]
  },
  {
   "cell_type": "code",
   "execution_count": 116,
   "id": "f2a06da14fcb84e8",
   "metadata": {
    "ExecuteTime": {
     "end_time": "2024-08-25T06:59:39.934747Z",
     "start_time": "2024-08-25T06:59:31.008665Z"
    }
   },
   "outputs": [],
   "source": [
    "Xtrain, Xtest, ytrain, ytest = train_test_split(X2, y, test_size=0.3, random_state=42)"
   ]
  },
  {
   "cell_type": "code",
   "execution_count": 129,
   "id": "b159b370953d6c05",
   "metadata": {
    "ExecuteTime": {
     "end_time": "2024-08-25T07:03:37.721304Z",
     "start_time": "2024-08-25T07:03:37.716915Z"
    }
   },
   "outputs": [],
   "source": [
    "dt =  DecisionTreeClassifier(criterion='entropy', max_depth=18,random_state=18)"
   ]
  },
  {
   "cell_type": "code",
   "execution_count": 130,
   "id": "32eb7d771a38058b",
   "metadata": {
    "ExecuteTime": {
     "end_time": "2024-08-25T07:04:38.112837Z",
     "start_time": "2024-08-25T07:03:41.025449Z"
    }
   },
   "outputs": [],
   "source": [
    "dt.fit(Xtrain, ytrain)\n",
    "\n",
    "y_train_dt = dt.predict(Xtrain)\n",
    "y_test_dt = dt.predict(Xtest)"
   ]
  },
  {
   "cell_type": "code",
   "execution_count": 131,
   "id": "aea9f65bfd8d7edd",
   "metadata": {
    "ExecuteTime": {
     "end_time": "2024-08-25T07:04:41.601304Z",
     "start_time": "2024-08-25T07:04:41.425768Z"
    }
   },
   "outputs": [
    {
     "name": "stdout",
     "output_type": "stream",
     "text": [
      "Decision tree accuracy train: 0.97017886\n",
      "Decision tree accuracy test: 0.96471067\n"
     ]
    }
   ],
   "source": [
    "print(f\"Decision tree accuracy train: {accuracy_score(y_train_dt, ytrain):.8f}\")\n",
    "print(f\"Decision tree accuracy test: {accuracy_score(y_test_dt, ytest):.8f}\")"
   ]
  },
  {
   "cell_type": "code",
   "execution_count": 83,
   "id": "bcdff718113cd2d7",
   "metadata": {
    "ExecuteTime": {
     "end_time": "2024-08-25T06:48:13.877935Z",
     "start_time": "2024-08-25T06:48:13.873240Z"
    }
   },
   "outputs": [],
   "source": [
    "df_train_test = df_train.iloc[2000000:]"
   ]
  },
  {
   "cell_type": "code",
   "execution_count": 84,
   "id": "93c9c4b8822ae538",
   "metadata": {
    "ExecuteTime": {
     "end_time": "2024-08-25T06:48:16.951315Z",
     "start_time": "2024-08-25T06:48:16.919474Z"
    }
   },
   "outputs": [],
   "source": [
    "df_train_test_copy = pd.DataFrame()"
   ]
  },
  {
   "cell_type": "code",
   "execution_count": 85,
   "id": "fe8e4a04c0afdfa0",
   "metadata": {
    "ExecuteTime": {
     "end_time": "2024-08-25T06:48:21.791481Z",
     "start_time": "2024-08-25T06:48:21.059627Z"
    }
   },
   "outputs": [],
   "source": [
    "for column in df_train_test.columns:\n",
    "    if column == 'class':\n",
    "        df_train_test_copy[column] = df_train_test[column]\n",
    "    if column in columns and df_train_test[column].dtypes == 'float64':\n",
    "        df_train_test_copy[column]=df_train_test[column].fillna(df_train_test[column].mean())\n",
    "    if column in columns and df_train_test[column].dtypes == 'object':\n",
    "        df_train_test_copy[column]=df_train_test[column].fillna(df_train_test[column].mode()[0])"
   ]
  },
  {
   "cell_type": "code",
   "execution_count": 86,
   "id": "b2f69acc8d80eb37",
   "metadata": {
    "ExecuteTime": {
     "end_time": "2024-08-25T06:48:36.967221Z",
     "start_time": "2024-08-25T06:48:36.902908Z"
    }
   },
   "outputs": [],
   "source": [
    "y_train_test = df_train_test_copy [\"class\"]\n",
    "y_train_test = y_train_test.map({\"p\":-1, \"e\":1})"
   ]
  },
  {
   "cell_type": "code",
   "execution_count": 87,
   "id": "ee2e52cb2498fdf3",
   "metadata": {
    "ExecuteTime": {
     "end_time": "2024-08-25T06:48:39.981556Z",
     "start_time": "2024-08-25T06:48:39.877181Z"
    }
   },
   "outputs": [],
   "source": [
    "X_train_test = df_train_test_copy.drop([\"class\"], axis=1)"
   ]
  },
  {
   "cell_type": "code",
   "execution_count": 94,
   "id": "ce7ce3916b2d342a",
   "metadata": {
    "ExecuteTime": {
     "end_time": "2024-08-25T06:56:07.383078Z",
     "start_time": "2024-08-25T06:56:03.372698Z"
    }
   },
   "outputs": [],
   "source": [
    "encoder = LeaveOneOutEncoder(return_df=True)\n",
    "X2_test = encoder.fit_transform(X_train_test,y_train_test)"
   ]
  },
  {
   "cell_type": "code",
   "execution_count": 71,
   "id": "3ea9cb73daee38f0",
   "metadata": {
    "ExecuteTime": {
     "end_time": "2024-08-25T06:45:25.213393Z",
     "start_time": "2024-08-25T06:44:28.571482Z"
    }
   },
   "outputs": [],
   "source": [
    "encoder = OneHotEncoder(return_df=True)\n",
    "X2_test = encoder.fit_transform(X_train_test,y_train_test)"
   ]
  },
  {
   "cell_type": "code",
   "execution_count": 104,
   "id": "8799f2068bcb7483",
   "metadata": {
    "ExecuteTime": {
     "end_time": "2024-08-24T18:40:45.994710Z",
     "start_time": "2024-08-24T18:40:45.980375Z"
    }
   },
   "outputs": [
    {
     "data": {
      "text/html": [
       "<div>\n",
       "<style scoped>\n",
       "    .dataframe tbody tr th:only-of-type {\n",
       "        vertical-align: middle;\n",
       "    }\n",
       "\n",
       "    .dataframe tbody tr th {\n",
       "        vertical-align: top;\n",
       "    }\n",
       "\n",
       "    .dataframe thead th {\n",
       "        text-align: right;\n",
       "    }\n",
       "</style>\n",
       "<table border=\"1\" class=\"dataframe\">\n",
       "  <thead>\n",
       "    <tr style=\"text-align: right;\">\n",
       "      <th></th>\n",
       "      <th>class</th>\n",
       "      <th>cap-diameter</th>\n",
       "      <th>cap-shape</th>\n",
       "      <th>cap-color</th>\n",
       "      <th>does-bruise-or-bleed</th>\n",
       "      <th>gill-color</th>\n",
       "      <th>stem-height</th>\n",
       "      <th>stem-width</th>\n",
       "      <th>stem-color</th>\n",
       "      <th>has-ring</th>\n",
       "      <th>habitat</th>\n",
       "      <th>season</th>\n",
       "    </tr>\n",
       "  </thead>\n",
       "  <tbody>\n",
       "    <tr>\n",
       "      <th>1000000</th>\n",
       "      <td>p</td>\n",
       "      <td>3.54</td>\n",
       "      <td>f</td>\n",
       "      <td>n</td>\n",
       "      <td>f</td>\n",
       "      <td>n</td>\n",
       "      <td>4.86</td>\n",
       "      <td>4.91</td>\n",
       "      <td>y</td>\n",
       "      <td>f</td>\n",
       "      <td>d</td>\n",
       "      <td>a</td>\n",
       "    </tr>\n",
       "    <tr>\n",
       "      <th>1000001</th>\n",
       "      <td>p</td>\n",
       "      <td>7.12</td>\n",
       "      <td>o</td>\n",
       "      <td>n</td>\n",
       "      <td>f</td>\n",
       "      <td>o</td>\n",
       "      <td>3.16</td>\n",
       "      <td>10.86</td>\n",
       "      <td>n</td>\n",
       "      <td>f</td>\n",
       "      <td>d</td>\n",
       "      <td>a</td>\n",
       "    </tr>\n",
       "    <tr>\n",
       "      <th>1000002</th>\n",
       "      <td>p</td>\n",
       "      <td>6.57</td>\n",
       "      <td>o</td>\n",
       "      <td>o</td>\n",
       "      <td>f</td>\n",
       "      <td>o</td>\n",
       "      <td>1.33</td>\n",
       "      <td>13.42</td>\n",
       "      <td>n</td>\n",
       "      <td>f</td>\n",
       "      <td>d</td>\n",
       "      <td>w</td>\n",
       "    </tr>\n",
       "    <tr>\n",
       "      <th>1000003</th>\n",
       "      <td>e</td>\n",
       "      <td>6.63</td>\n",
       "      <td>p</td>\n",
       "      <td>n</td>\n",
       "      <td>f</td>\n",
       "      <td>w</td>\n",
       "      <td>7.45</td>\n",
       "      <td>12.98</td>\n",
       "      <td>g</td>\n",
       "      <td>f</td>\n",
       "      <td>d</td>\n",
       "      <td>u</td>\n",
       "    </tr>\n",
       "    <tr>\n",
       "      <th>1000004</th>\n",
       "      <td>e</td>\n",
       "      <td>7.75</td>\n",
       "      <td>s</td>\n",
       "      <td>n</td>\n",
       "      <td>f</td>\n",
       "      <td>w</td>\n",
       "      <td>4.87</td>\n",
       "      <td>24.97</td>\n",
       "      <td>n</td>\n",
       "      <td>f</td>\n",
       "      <td>d</td>\n",
       "      <td>a</td>\n",
       "    </tr>\n",
       "    <tr>\n",
       "      <th>...</th>\n",
       "      <td>...</td>\n",
       "      <td>...</td>\n",
       "      <td>...</td>\n",
       "      <td>...</td>\n",
       "      <td>...</td>\n",
       "      <td>...</td>\n",
       "      <td>...</td>\n",
       "      <td>...</td>\n",
       "      <td>...</td>\n",
       "      <td>...</td>\n",
       "      <td>...</td>\n",
       "      <td>...</td>\n",
       "    </tr>\n",
       "    <tr>\n",
       "      <th>1999995</th>\n",
       "      <td>e</td>\n",
       "      <td>5.94</td>\n",
       "      <td>p</td>\n",
       "      <td>n</td>\n",
       "      <td>f</td>\n",
       "      <td>f</td>\n",
       "      <td>5.92</td>\n",
       "      <td>20.09</td>\n",
       "      <td>n</td>\n",
       "      <td>f</td>\n",
       "      <td>l</td>\n",
       "      <td>s</td>\n",
       "    </tr>\n",
       "    <tr>\n",
       "      <th>1999996</th>\n",
       "      <td>p</td>\n",
       "      <td>3.14</td>\n",
       "      <td>b</td>\n",
       "      <td>n</td>\n",
       "      <td>f</td>\n",
       "      <td>u</td>\n",
       "      <td>6.70</td>\n",
       "      <td>4.39</td>\n",
       "      <td>w</td>\n",
       "      <td>f</td>\n",
       "      <td>d</td>\n",
       "      <td>u</td>\n",
       "    </tr>\n",
       "    <tr>\n",
       "      <th>1999997</th>\n",
       "      <td>p</td>\n",
       "      <td>5.43</td>\n",
       "      <td>x</td>\n",
       "      <td>n</td>\n",
       "      <td>f</td>\n",
       "      <td>y</td>\n",
       "      <td>5.56</td>\n",
       "      <td>10.22</td>\n",
       "      <td>n</td>\n",
       "      <td>f</td>\n",
       "      <td>d</td>\n",
       "      <td>a</td>\n",
       "    </tr>\n",
       "    <tr>\n",
       "      <th>1999998</th>\n",
       "      <td>p</td>\n",
       "      <td>5.19</td>\n",
       "      <td>c</td>\n",
       "      <td>y</td>\n",
       "      <td>t</td>\n",
       "      <td>r</td>\n",
       "      <td>7.06</td>\n",
       "      <td>7.84</td>\n",
       "      <td>w</td>\n",
       "      <td>f</td>\n",
       "      <td>d</td>\n",
       "      <td>s</td>\n",
       "    </tr>\n",
       "    <tr>\n",
       "      <th>1999999</th>\n",
       "      <td>e</td>\n",
       "      <td>8.38</td>\n",
       "      <td>f</td>\n",
       "      <td>w</td>\n",
       "      <td>f</td>\n",
       "      <td>w</td>\n",
       "      <td>7.38</td>\n",
       "      <td>30.23</td>\n",
       "      <td>w</td>\n",
       "      <td>f</td>\n",
       "      <td>d</td>\n",
       "      <td>u</td>\n",
       "    </tr>\n",
       "  </tbody>\n",
       "</table>\n",
       "<p>1000000 rows × 12 columns</p>\n",
       "</div>"
      ],
      "text/plain": [
       "        class  cap-diameter cap-shape cap-color does-bruise-or-bleed  \\\n",
       "1000000     p          3.54         f         n                    f   \n",
       "1000001     p          7.12         o         n                    f   \n",
       "1000002     p          6.57         o         o                    f   \n",
       "1000003     e          6.63         p         n                    f   \n",
       "1000004     e          7.75         s         n                    f   \n",
       "...       ...           ...       ...       ...                  ...   \n",
       "1999995     e          5.94         p         n                    f   \n",
       "1999996     p          3.14         b         n                    f   \n",
       "1999997     p          5.43         x         n                    f   \n",
       "1999998     p          5.19         c         y                    t   \n",
       "1999999     e          8.38         f         w                    f   \n",
       "\n",
       "        gill-color  stem-height  stem-width stem-color has-ring habitat season  \n",
       "1000000          n         4.86        4.91          y        f       d      a  \n",
       "1000001          o         3.16       10.86          n        f       d      a  \n",
       "1000002          o         1.33       13.42          n        f       d      w  \n",
       "1000003          w         7.45       12.98          g        f       d      u  \n",
       "1000004          w         4.87       24.97          n        f       d      a  \n",
       "...            ...          ...         ...        ...      ...     ...    ...  \n",
       "1999995          f         5.92       20.09          n        f       l      s  \n",
       "1999996          u         6.70        4.39          w        f       d      u  \n",
       "1999997          y         5.56       10.22          n        f       d      a  \n",
       "1999998          r         7.06        7.84          w        f       d      s  \n",
       "1999999          w         7.38       30.23          w        f       d      u  \n",
       "\n",
       "[1000000 rows x 12 columns]"
      ]
     },
     "execution_count": 104,
     "metadata": {},
     "output_type": "execute_result"
    }
   ],
   "source": [
    "df_train_test_copy"
   ]
  },
  {
   "cell_type": "code",
   "execution_count": 28,
   "id": "b9dfb20f4a65c78a",
   "metadata": {
    "ExecuteTime": {
     "end_time": "2024-08-25T06:29:38.558271Z",
     "start_time": "2024-08-25T06:29:38.554226Z"
    }
   },
   "outputs": [
    {
     "data": {
      "text/plain": [
       "(2116945,)"
      ]
     },
     "execution_count": 28,
     "metadata": {},
     "output_type": "execute_result"
    }
   ],
   "source": [
    "y_train_test.shape"
   ]
  },
  {
   "cell_type": "code",
   "execution_count": 27,
   "id": "4574a7147ecc9207",
   "metadata": {
    "ExecuteTime": {
     "end_time": "2024-08-25T06:29:34.944761Z",
     "start_time": "2024-08-25T06:29:34.938628Z"
    }
   },
   "outputs": [
    {
     "data": {
      "text/plain": [
       "(2116945, 11)"
      ]
     },
     "execution_count": 27,
     "metadata": {},
     "output_type": "execute_result"
    }
   ],
   "source": [
    "X_train_test.shape"
   ]
  },
  {
   "cell_type": "code",
   "execution_count": 95,
   "id": "2d8afffa7883f30b",
   "metadata": {
    "ExecuteTime": {
     "end_time": "2024-08-25T06:56:17.073510Z",
     "start_time": "2024-08-25T06:56:16.981373Z"
    }
   },
   "outputs": [],
   "source": [
    "y_train_test_dt = dt.predict(X2_test)"
   ]
  },
  {
   "cell_type": "code",
   "execution_count": 132,
   "id": "55375cf99816fbcf",
   "metadata": {
    "ExecuteTime": {
     "end_time": "2024-08-25T07:04:55.968785Z",
     "start_time": "2024-08-25T07:04:55.871492Z"
    }
   },
   "outputs": [
    {
     "name": "stdout",
     "output_type": "stream",
     "text": [
      "Decision tree accuracy train: 0.54417899\n"
     ]
    }
   ],
   "source": [
    "print(f\"Decision tree accuracy train: {accuracy_score(y_train_test_dt , y_train_test):.8f}\")"
   ]
  },
  {
   "cell_type": "code",
   "execution_count": 92,
   "id": "1f6730df5b4f45d9",
   "metadata": {
    "ExecuteTime": {
     "end_time": "2024-08-25T06:55:15.375277Z",
     "start_time": "2024-08-25T06:55:15.370061Z"
    }
   },
   "outputs": [
    {
     "data": {
      "text/plain": [
       "(2000000,)"
      ]
     },
     "execution_count": 92,
     "metadata": {},
     "output_type": "execute_result"
    }
   ],
   "source": [
    "y_train_test_dt.shape"
   ]
  },
  {
   "cell_type": "code",
   "execution_count": 93,
   "id": "8ea1910d776b32b2",
   "metadata": {
    "ExecuteTime": {
     "end_time": "2024-08-25T06:55:23.215072Z",
     "start_time": "2024-08-25T06:55:23.209560Z"
    }
   },
   "outputs": [
    {
     "data": {
      "text/plain": [
       "(1116945,)"
      ]
     },
     "execution_count": 93,
     "metadata": {},
     "output_type": "execute_result"
    }
   ],
   "source": [
    "y_train_test.shape"
   ]
  },
  {
   "cell_type": "code",
   "execution_count": 72,
   "id": "fe50f7b316987ca6",
   "metadata": {
    "ExecuteTime": {
     "end_time": "2024-08-25T06:45:36.581574Z",
     "start_time": "2024-08-25T06:45:36.575499Z"
    }
   },
   "outputs": [
    {
     "data": {
      "text/plain": [
       "(2100001, 308)"
      ]
     },
     "execution_count": 72,
     "metadata": {},
     "output_type": "execute_result"
    }
   ],
   "source": [
    "X2.shape"
   ]
  },
  {
   "cell_type": "code",
   "execution_count": 73,
   "id": "b5a9f4d9d794af3f",
   "metadata": {
    "ExecuteTime": {
     "end_time": "2024-08-25T06:45:40.231060Z",
     "start_time": "2024-08-25T06:45:40.226630Z"
    }
   },
   "outputs": [
    {
     "data": {
      "text/plain": [
       "(1400000, 307)"
      ]
     },
     "execution_count": 73,
     "metadata": {},
     "output_type": "execute_result"
    }
   ],
   "source": [
    "Xtrain.shape"
   ]
  },
  {
   "cell_type": "code",
   "execution_count": null,
   "id": "944e9cde47bb8aa8",
   "metadata": {},
   "outputs": [],
   "source": []
  }
 ],
 "metadata": {
  "kernelspec": {
   "display_name": "Python 3 (ipykernel)",
   "language": "python",
   "name": "python3"
  },
  "language_info": {
   "codemirror_mode": {
    "name": "ipython",
    "version": 3
   },
   "file_extension": ".py",
   "mimetype": "text/x-python",
   "name": "python",
   "nbconvert_exporter": "python",
   "pygments_lexer": "ipython3",
   "version": "3.11.5"
  }
 },
 "nbformat": 4,
 "nbformat_minor": 5
}
