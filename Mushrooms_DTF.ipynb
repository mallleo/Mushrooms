{
 "cells": [
  {
   "cell_type": "code",
   "id": "initial_id",
   "metadata": {
    "ExecuteTime": {
     "end_time": "2024-08-27T18:49:15.632984Z",
     "start_time": "2024-08-27T18:49:14.201131Z"
    }
   },
   "source": [
    "import pandas as pd\n",
    "import numpy as np\n",
    "from category_encoders.one_hot import OneHotEncoder\n",
    "from sklearn.model_selection import train_test_split\n",
    "from sklearn.metrics import accuracy_score\n",
    "from category_encoders.leave_one_out import LeaveOneOutEncoder\n",
    "import re\n",
    "import warnings\n",
    "from sklearn.tree import DecisionTreeClassifier\n",
    "\n",
    "warnings.simplefilter(\"ignore\")\n",
    "%matplotlib inline\n"
   ],
   "outputs": [],
   "execution_count": 1
  },
  {
   "cell_type": "code",
   "execution_count": 27,
   "id": "df0d6727dde5894",
   "metadata": {
    "ExecuteTime": {
     "end_time": "2024-08-26T16:01:21.458572Z",
     "start_time": "2024-08-26T16:01:21.365432Z"
    }
   },
   "outputs": [],
   "source": []
  },
  {
   "cell_type": "code",
   "id": "5ec85db717518311",
   "metadata": {
    "ExecuteTime": {
     "end_time": "2024-08-27T18:49:23.096473Z",
     "start_time": "2024-08-27T18:49:17.639636Z"
    }
   },
   "source": [
    "df = pd.read_csv('train.csv')"
   ],
   "outputs": [],
   "execution_count": 2
  },
  {
   "cell_type": "code",
   "id": "40d779661627d60e",
   "metadata": {
    "ExecuteTime": {
     "end_time": "2024-08-27T18:49:25.610402Z",
     "start_time": "2024-08-27T18:49:25.605044Z"
    }
   },
   "source": [
    "df = df.iloc[:50000]"
   ],
   "outputs": [],
   "execution_count": 3
  },
  {
   "cell_type": "markdown",
   "id": "727d74b29134e3d7",
   "metadata": {},
   "source": []
  },
  {
   "cell_type": "code",
   "execution_count": 6,
   "id": "2017ef727d46aa1b",
   "metadata": {
    "ExecuteTime": {
     "end_time": "2024-08-23T19:23:12.061420Z",
     "start_time": "2024-08-23T19:23:11.658900Z"
    }
   },
   "outputs": [],
   "source": [
    "df_copy = df.copy()"
   ]
  },
  {
   "cell_type": "code",
   "execution_count": 7,
   "id": "d05a6c56e941e63d",
   "metadata": {
    "ExecuteTime": {
     "end_time": "2024-08-23T19:23:15.088097Z",
     "start_time": "2024-08-23T19:23:14.375929Z"
    }
   },
   "outputs": [],
   "source": [
    "df_copy.dropna(subset=['cap-surface', 'gill-attachment', 'gill-spacing'],inplace = True)"
   ]
  },
  {
   "cell_type": "code",
   "execution_count": 8,
   "id": "9f561c61efaa3700",
   "metadata": {
    "ExecuteTime": {
     "end_time": "2024-08-23T19:23:17.742147Z",
     "start_time": "2024-08-23T19:23:17.151485Z"
    }
   },
   "outputs": [
    {
     "data": {
      "text/plain": [
       "id                            0\n",
       "class                         0\n",
       "cap-diameter                  0\n",
       "cap-shape                     6\n",
       "cap-surface                   0\n",
       "cap-color                     3\n",
       "does-bruise-or-bleed          2\n",
       "gill-attachment               0\n",
       "gill-spacing                  0\n",
       "gill-color                    7\n",
       "stem-height                   0\n",
       "stem-width                    0\n",
       "stem-root               1135286\n",
       "stem-surface             659500\n",
       "stem-color                   13\n",
       "veil-type               1201556\n",
       "veil-color              1149287\n",
       "has-ring                     10\n",
       "ring-type                 48386\n",
       "spore-print-color       1141264\n",
       "habitat                      11\n",
       "season                        0\n",
       "dtype: int64"
      ]
     },
     "execution_count": 8,
     "metadata": {},
     "output_type": "execute_result"
    }
   ],
   "source": [
    "df_copy.isnull().sum()"
   ]
  },
  {
   "cell_type": "code",
   "execution_count": 430,
   "id": "8e97fbd8b20ddd19",
   "metadata": {
    "ExecuteTime": {
     "end_time": "2024-08-22T19:15:50.979516Z",
     "start_time": "2024-08-22T19:15:50.543353Z"
    }
   },
   "outputs": [],
   "source": [
    "df_copy.dropna(subset=['cap-shape', 'cap-color', 'does-bruise-or-bleed','gill-color'],inplace = True)"
   ]
  },
  {
   "cell_type": "code",
   "execution_count": 431,
   "id": "80aee56e30b8eff",
   "metadata": {
    "ExecuteTime": {
     "end_time": "2024-08-22T19:15:54.502771Z",
     "start_time": "2024-08-22T19:15:54.430299Z"
    }
   },
   "outputs": [],
   "source": [
    "y = df_copy[\"class\"]\n",
    "y = y.map({\"p\":-1, \"e\":1})"
   ]
  },
  {
   "cell_type": "code",
   "execution_count": 432,
   "id": "6996d789c5a5b957",
   "metadata": {
    "ExecuteTime": {
     "end_time": "2024-08-22T19:15:59.633464Z",
     "start_time": "2024-08-22T19:15:59.478264Z"
    }
   },
   "outputs": [],
   "source": [
    "X = df_copy.drop([\"class\",'id'], axis=1)"
   ]
  },
  {
   "cell_type": "code",
   "execution_count": 44,
   "id": "411f930d66b6912d",
   "metadata": {
    "ExecuteTime": {
     "end_time": "2024-08-22T18:27:27.002136Z",
     "start_time": "2024-08-22T18:27:26.998100Z"
    }
   },
   "outputs": [],
   "source": [
    "from sklearn.metrics import mean_squared_error\n",
    "from sklearn.tree import DecisionTreeRegressor, plot_tree"
   ]
  },
  {
   "cell_type": "code",
   "execution_count": 433,
   "id": "2d9f2f78da1ae520",
   "metadata": {
    "ExecuteTime": {
     "end_time": "2024-08-22T19:17:35.276355Z",
     "start_time": "2024-08-22T19:16:03.950045Z"
    }
   },
   "outputs": [],
   "source": [
    "encoder_2 = OneHotEncoder(return_df=True)\n",
    "X2 = encoder_2.fit_transform(X,y)"
   ]
  },
  {
   "cell_type": "code",
   "execution_count": 434,
   "id": "ccfe3a4ca9632a86",
   "metadata": {
    "ExecuteTime": {
     "end_time": "2024-08-22T19:17:46.803695Z",
     "start_time": "2024-08-22T19:17:40.016889Z"
    }
   },
   "outputs": [],
   "source": [
    "Xtrain_1, Xtest_1, ytrain_1, ytest_1 = train_test_split(X2, y, test_size=0.3, random_state=42)"
   ]
  },
  {
   "cell_type": "code",
   "execution_count": 435,
   "id": "3bca955816132f79",
   "metadata": {
    "ExecuteTime": {
     "end_time": "2024-08-22T19:17:49.366851Z",
     "start_time": "2024-08-22T19:17:49.363250Z"
    }
   },
   "outputs": [],
   "source": [
    "dt =  DecisionTreeClassifier(criterion='entropy', max_depth=15, random_state=18)"
   ]
  },
  {
   "cell_type": "code",
   "execution_count": 436,
   "id": "990a637fa1ef647a",
   "metadata": {
    "ExecuteTime": {
     "end_time": "2024-08-22T19:18:28.391235Z",
     "start_time": "2024-08-22T19:17:51.737698Z"
    }
   },
   "outputs": [],
   "source": [
    "dt.fit(Xtrain_1, ytrain_1)\n",
    "\n",
    "y_train_dt = dt.predict(Xtrain_1)\n",
    "y_test_dt = dt.predict(Xtest_1)"
   ]
  },
  {
   "cell_type": "code",
   "execution_count": 437,
   "id": "5bc82618dbfadfda",
   "metadata": {
    "ExecuteTime": {
     "end_time": "2024-08-22T19:18:32.277336Z",
     "start_time": "2024-08-22T19:18:32.191638Z"
    }
   },
   "outputs": [
    {
     "name": "stdout",
     "output_type": "stream",
     "text": [
      "Decision tree accuracy train: 0.99080606\n",
      "Decision tree accuracy test: 0.98873800\n"
     ]
    }
   ],
   "source": [
    "print(f\"Decision tree accuracy train: {accuracy_score(y_train_dt, ytrain_1):.8f}\")\n",
    "print(f\"Decision tree accuracy test: {accuracy_score(y_test_dt, ytest_1):.8f}\")"
   ]
  },
  {
   "cell_type": "code",
   "execution_count": 10,
   "id": "9890e75858ede28a",
   "metadata": {
    "ExecuteTime": {
     "end_time": "2024-08-26T16:01:49.029123Z",
     "start_time": "2024-08-26T16:01:44.047523Z"
    }
   },
   "outputs": [],
   "source": [
    "df_1 = pd.read_csv('train.csv')"
   ]
  },
  {
   "cell_type": "code",
   "execution_count": 9,
   "id": "751fb1182b85cf49",
   "metadata": {
    "ExecuteTime": {
     "end_time": "2024-08-25T17:46:45.860180Z",
     "start_time": "2024-08-25T17:46:45.856127Z"
    }
   },
   "outputs": [],
   "source": [
    "df_1 = df_1.iloc[:1500000]"
   ]
  },
  {
   "cell_type": "code",
   "execution_count": 362,
   "id": "cf95f8e7af2bc807",
   "metadata": {
    "ExecuteTime": {
     "end_time": "2024-08-22T18:59:03.695612Z",
     "start_time": "2024-08-22T18:59:03.692870Z"
    }
   },
   "outputs": [],
   "source": [
    "df_1 = df_1.iloc[50000:72229]"
   ]
  },
  {
   "cell_type": "code",
   "execution_count": 5,
   "id": "bb9fae47d750d96b",
   "metadata": {
    "ExecuteTime": {
     "end_time": "2024-08-25T17:46:52.803440Z",
     "start_time": "2024-08-25T17:46:52.607284Z"
    }
   },
   "outputs": [],
   "source": [
    "df_copy_1 = df_1.copy()"
   ]
  },
  {
   "cell_type": "code",
   "execution_count": 6,
   "id": "1ceef04b2b58b987",
   "metadata": {
    "ExecuteTime": {
     "end_time": "2024-08-25T17:46:54.598278Z",
     "start_time": "2024-08-25T17:46:53.853196Z"
    }
   },
   "outputs": [
    {
     "data": {
      "text/plain": [
       "id                            0\n",
       "class                         0\n",
       "cap-diameter                  1\n",
       "cap-shape                    25\n",
       "cap-surface              322489\n",
       "cap-color                     3\n",
       "does-bruise-or-bleed          5\n",
       "gill-attachment          252307\n",
       "gill-spacing             604995\n",
       "gill-color                   24\n",
       "stem-height                   0\n",
       "stem-width                    0\n",
       "stem-root               1327207\n",
       "stem-surface             953081\n",
       "stem-color                   17\n",
       "veil-type               1423434\n",
       "veil-color              1319165\n",
       "has-ring                      9\n",
       "ring-type                 62021\n",
       "spore-print-color       1371414\n",
       "habitat                      24\n",
       "season                        0\n",
       "dtype: int64"
      ]
     },
     "execution_count": 6,
     "metadata": {},
     "output_type": "execute_result"
    }
   ],
   "source": [
    "df_copy_1.isnull().sum()"
   ]
  },
  {
   "cell_type": "code",
   "execution_count": 5,
   "id": "d322409b1d9a8406",
   "metadata": {
    "ExecuteTime": {
     "end_time": "2024-08-26T16:01:54.703677Z",
     "start_time": "2024-08-26T16:01:54.087475Z"
    }
   },
   "outputs": [
    {
     "ename": "NameError",
     "evalue": "name 'df_copy_1' is not defined",
     "output_type": "error",
     "traceback": [
      "\u001B[0;31m---------------------------------------------------------------------------\u001B[0m",
      "\u001B[0;31mNameError\u001B[0m                                 Traceback (most recent call last)",
      "Cell \u001B[0;32mIn[5], line 1\u001B[0m\n\u001B[0;32m----> 1\u001B[0m df_copy_1\u001B[38;5;241m.\u001B[39mdropna(subset\u001B[38;5;241m=\u001B[39m[\u001B[38;5;124m'\u001B[39m\u001B[38;5;124mcap-surface\u001B[39m\u001B[38;5;124m'\u001B[39m, \u001B[38;5;124m'\u001B[39m\u001B[38;5;124mgill-attachment\u001B[39m\u001B[38;5;124m'\u001B[39m, \u001B[38;5;124m'\u001B[39m\u001B[38;5;124mgill-spacing\u001B[39m\u001B[38;5;124m'\u001B[39m],inplace \u001B[38;5;241m=\u001B[39m \u001B[38;5;28;01mTrue\u001B[39;00m)\n",
      "\u001B[0;31mNameError\u001B[0m: name 'df_copy_1' is not defined"
     ]
    }
   ],
   "source": [
    "df_copy_1.dropna(subset=['cap-surface', 'gill-attachment', 'gill-spacing'],inplace = True)"
   ]
  },
  {
   "cell_type": "code",
   "execution_count": 399,
   "id": "48e94152e956826f",
   "metadata": {
    "ExecuteTime": {
     "end_time": "2024-08-22T19:01:07.556494Z",
     "start_time": "2024-08-22T19:01:07.534708Z"
    }
   },
   "outputs": [
    {
     "data": {
      "text/plain": [
       "id                          0\n",
       "class                       0\n",
       "cap-diameter                0\n",
       "cap-shape                   0\n",
       "cap-surface                 0\n",
       "cap-color                   0\n",
       "does-bruise-or-bleed        0\n",
       "gill-attachment             0\n",
       "gill-spacing                0\n",
       "gill-color                  0\n",
       "stem-height                 0\n",
       "stem-width                  0\n",
       "stem-root               18106\n",
       "stem-surface            10618\n",
       "stem-color                  0\n",
       "veil-type               19180\n",
       "veil-color              18343\n",
       "has-ring                    0\n",
       "ring-type                 759\n",
       "spore-print-color       18240\n",
       "habitat                     0\n",
       "season                      0\n",
       "dtype: int64"
      ]
     },
     "execution_count": 399,
     "metadata": {},
     "output_type": "execute_result"
    }
   ],
   "source": [
    "df_copy_1.isnull().sum()"
   ]
  },
  {
   "metadata": {},
   "cell_type": "markdown",
   "source": "## Обработаем тестовую выборку ##",
   "id": "b9eab190502c978d"
  },
  {
   "cell_type": "code",
   "id": "35d375278ae46738",
   "metadata": {
    "ExecuteTime": {
     "end_time": "2024-08-27T18:50:36.033100Z",
     "start_time": "2024-08-27T18:50:32.686554Z"
    }
   },
   "source": [
    "df_test = pd.read_csv('test.csv')"
   ],
   "outputs": [],
   "execution_count": 4
  },
  {
   "cell_type": "code",
   "id": "3d4b401eed0cbf56",
   "metadata": {
    "ExecuteTime": {
     "end_time": "2024-08-27T18:50:41.264789Z",
     "start_time": "2024-08-27T18:50:39.879210Z"
    }
   },
   "source": [
    "df_test"
   ],
   "outputs": [
    {
     "data": {
      "text/plain": [
       "              id  cap-diameter cap-shape cap-surface cap-color  \\\n",
       "0        3116945          8.64         x         NaN         n   \n",
       "1        3116946          6.90         o           t         o   \n",
       "2        3116947          2.00         b           g         n   \n",
       "3        3116948          3.47         x           t         n   \n",
       "4        3116949          6.17         x           h         y   \n",
       "...          ...           ...       ...         ...       ...   \n",
       "2077959  5194904          0.88         x           g         w   \n",
       "2077960  5194905          3.12         x           s         w   \n",
       "2077961  5194906          5.73         x           e         e   \n",
       "2077962  5194907          5.03         b           g         n   \n",
       "2077963  5194908         15.51         f         NaN         w   \n",
       "\n",
       "        does-bruise-or-bleed gill-attachment gill-spacing gill-color  \\\n",
       "0                          t             NaN          NaN          w   \n",
       "1                          f             NaN            c          y   \n",
       "2                          f             NaN            c          n   \n",
       "3                          f               s            c          n   \n",
       "4                          f               p          NaN          y   \n",
       "...                      ...             ...          ...        ...   \n",
       "2077959                    f               a            d          w   \n",
       "2077960                    f               d            c          w   \n",
       "2077961                    f               a          NaN          w   \n",
       "2077962                    f               a            d          g   \n",
       "2077963                    f               d            c          y   \n",
       "\n",
       "         stem-height  ...  stem-root stem-surface stem-color veil-type  \\\n",
       "0              11.13  ...          b          NaN          w         u   \n",
       "1               1.27  ...        NaN          NaN          n       NaN   \n",
       "2               6.18  ...        NaN          NaN          n       NaN   \n",
       "3               4.98  ...        NaN          NaN          w       NaN   \n",
       "4               6.73  ...        NaN          NaN          y       NaN   \n",
       "...              ...  ...        ...          ...        ...       ...   \n",
       "2077959         2.67  ...        NaN          NaN          e       NaN   \n",
       "2077960         2.69  ...        NaN          NaN          w       NaN   \n",
       "2077961         6.16  ...        NaN          NaN          y       NaN   \n",
       "2077962         6.00  ...        NaN            s          g       NaN   \n",
       "2077963         2.69  ...        NaN          NaN          w       NaN   \n",
       "\n",
       "        veil-color has-ring ring-type spore-print-color habitat season  \n",
       "0                w        t         g               NaN       d      a  \n",
       "1              NaN        f         f               NaN       d      a  \n",
       "2              NaN        f         f               NaN       d      s  \n",
       "3                n        t         z               NaN       d      u  \n",
       "4                y        t       NaN               NaN       d      u  \n",
       "...            ...      ...       ...               ...     ...    ...  \n",
       "2077959        NaN        f         f               NaN       d      u  \n",
       "2077960        NaN        f         f               NaN       g      a  \n",
       "2077961          w        t         z               NaN       d      a  \n",
       "2077962        NaN        f         f               NaN       d      a  \n",
       "2077963        NaN        f         f               NaN       d      w  \n",
       "\n",
       "[2077964 rows x 21 columns]"
      ],
      "text/html": [
       "<div>\n",
       "<style scoped>\n",
       "    .dataframe tbody tr th:only-of-type {\n",
       "        vertical-align: middle;\n",
       "    }\n",
       "\n",
       "    .dataframe tbody tr th {\n",
       "        vertical-align: top;\n",
       "    }\n",
       "\n",
       "    .dataframe thead th {\n",
       "        text-align: right;\n",
       "    }\n",
       "</style>\n",
       "<table border=\"1\" class=\"dataframe\">\n",
       "  <thead>\n",
       "    <tr style=\"text-align: right;\">\n",
       "      <th></th>\n",
       "      <th>id</th>\n",
       "      <th>cap-diameter</th>\n",
       "      <th>cap-shape</th>\n",
       "      <th>cap-surface</th>\n",
       "      <th>cap-color</th>\n",
       "      <th>does-bruise-or-bleed</th>\n",
       "      <th>gill-attachment</th>\n",
       "      <th>gill-spacing</th>\n",
       "      <th>gill-color</th>\n",
       "      <th>stem-height</th>\n",
       "      <th>...</th>\n",
       "      <th>stem-root</th>\n",
       "      <th>stem-surface</th>\n",
       "      <th>stem-color</th>\n",
       "      <th>veil-type</th>\n",
       "      <th>veil-color</th>\n",
       "      <th>has-ring</th>\n",
       "      <th>ring-type</th>\n",
       "      <th>spore-print-color</th>\n",
       "      <th>habitat</th>\n",
       "      <th>season</th>\n",
       "    </tr>\n",
       "  </thead>\n",
       "  <tbody>\n",
       "    <tr>\n",
       "      <th>0</th>\n",
       "      <td>3116945</td>\n",
       "      <td>8.64</td>\n",
       "      <td>x</td>\n",
       "      <td>NaN</td>\n",
       "      <td>n</td>\n",
       "      <td>t</td>\n",
       "      <td>NaN</td>\n",
       "      <td>NaN</td>\n",
       "      <td>w</td>\n",
       "      <td>11.13</td>\n",
       "      <td>...</td>\n",
       "      <td>b</td>\n",
       "      <td>NaN</td>\n",
       "      <td>w</td>\n",
       "      <td>u</td>\n",
       "      <td>w</td>\n",
       "      <td>t</td>\n",
       "      <td>g</td>\n",
       "      <td>NaN</td>\n",
       "      <td>d</td>\n",
       "      <td>a</td>\n",
       "    </tr>\n",
       "    <tr>\n",
       "      <th>1</th>\n",
       "      <td>3116946</td>\n",
       "      <td>6.90</td>\n",
       "      <td>o</td>\n",
       "      <td>t</td>\n",
       "      <td>o</td>\n",
       "      <td>f</td>\n",
       "      <td>NaN</td>\n",
       "      <td>c</td>\n",
       "      <td>y</td>\n",
       "      <td>1.27</td>\n",
       "      <td>...</td>\n",
       "      <td>NaN</td>\n",
       "      <td>NaN</td>\n",
       "      <td>n</td>\n",
       "      <td>NaN</td>\n",
       "      <td>NaN</td>\n",
       "      <td>f</td>\n",
       "      <td>f</td>\n",
       "      <td>NaN</td>\n",
       "      <td>d</td>\n",
       "      <td>a</td>\n",
       "    </tr>\n",
       "    <tr>\n",
       "      <th>2</th>\n",
       "      <td>3116947</td>\n",
       "      <td>2.00</td>\n",
       "      <td>b</td>\n",
       "      <td>g</td>\n",
       "      <td>n</td>\n",
       "      <td>f</td>\n",
       "      <td>NaN</td>\n",
       "      <td>c</td>\n",
       "      <td>n</td>\n",
       "      <td>6.18</td>\n",
       "      <td>...</td>\n",
       "      <td>NaN</td>\n",
       "      <td>NaN</td>\n",
       "      <td>n</td>\n",
       "      <td>NaN</td>\n",
       "      <td>NaN</td>\n",
       "      <td>f</td>\n",
       "      <td>f</td>\n",
       "      <td>NaN</td>\n",
       "      <td>d</td>\n",
       "      <td>s</td>\n",
       "    </tr>\n",
       "    <tr>\n",
       "      <th>3</th>\n",
       "      <td>3116948</td>\n",
       "      <td>3.47</td>\n",
       "      <td>x</td>\n",
       "      <td>t</td>\n",
       "      <td>n</td>\n",
       "      <td>f</td>\n",
       "      <td>s</td>\n",
       "      <td>c</td>\n",
       "      <td>n</td>\n",
       "      <td>4.98</td>\n",
       "      <td>...</td>\n",
       "      <td>NaN</td>\n",
       "      <td>NaN</td>\n",
       "      <td>w</td>\n",
       "      <td>NaN</td>\n",
       "      <td>n</td>\n",
       "      <td>t</td>\n",
       "      <td>z</td>\n",
       "      <td>NaN</td>\n",
       "      <td>d</td>\n",
       "      <td>u</td>\n",
       "    </tr>\n",
       "    <tr>\n",
       "      <th>4</th>\n",
       "      <td>3116949</td>\n",
       "      <td>6.17</td>\n",
       "      <td>x</td>\n",
       "      <td>h</td>\n",
       "      <td>y</td>\n",
       "      <td>f</td>\n",
       "      <td>p</td>\n",
       "      <td>NaN</td>\n",
       "      <td>y</td>\n",
       "      <td>6.73</td>\n",
       "      <td>...</td>\n",
       "      <td>NaN</td>\n",
       "      <td>NaN</td>\n",
       "      <td>y</td>\n",
       "      <td>NaN</td>\n",
       "      <td>y</td>\n",
       "      <td>t</td>\n",
       "      <td>NaN</td>\n",
       "      <td>NaN</td>\n",
       "      <td>d</td>\n",
       "      <td>u</td>\n",
       "    </tr>\n",
       "    <tr>\n",
       "      <th>...</th>\n",
       "      <td>...</td>\n",
       "      <td>...</td>\n",
       "      <td>...</td>\n",
       "      <td>...</td>\n",
       "      <td>...</td>\n",
       "      <td>...</td>\n",
       "      <td>...</td>\n",
       "      <td>...</td>\n",
       "      <td>...</td>\n",
       "      <td>...</td>\n",
       "      <td>...</td>\n",
       "      <td>...</td>\n",
       "      <td>...</td>\n",
       "      <td>...</td>\n",
       "      <td>...</td>\n",
       "      <td>...</td>\n",
       "      <td>...</td>\n",
       "      <td>...</td>\n",
       "      <td>...</td>\n",
       "      <td>...</td>\n",
       "      <td>...</td>\n",
       "    </tr>\n",
       "    <tr>\n",
       "      <th>2077959</th>\n",
       "      <td>5194904</td>\n",
       "      <td>0.88</td>\n",
       "      <td>x</td>\n",
       "      <td>g</td>\n",
       "      <td>w</td>\n",
       "      <td>f</td>\n",
       "      <td>a</td>\n",
       "      <td>d</td>\n",
       "      <td>w</td>\n",
       "      <td>2.67</td>\n",
       "      <td>...</td>\n",
       "      <td>NaN</td>\n",
       "      <td>NaN</td>\n",
       "      <td>e</td>\n",
       "      <td>NaN</td>\n",
       "      <td>NaN</td>\n",
       "      <td>f</td>\n",
       "      <td>f</td>\n",
       "      <td>NaN</td>\n",
       "      <td>d</td>\n",
       "      <td>u</td>\n",
       "    </tr>\n",
       "    <tr>\n",
       "      <th>2077960</th>\n",
       "      <td>5194905</td>\n",
       "      <td>3.12</td>\n",
       "      <td>x</td>\n",
       "      <td>s</td>\n",
       "      <td>w</td>\n",
       "      <td>f</td>\n",
       "      <td>d</td>\n",
       "      <td>c</td>\n",
       "      <td>w</td>\n",
       "      <td>2.69</td>\n",
       "      <td>...</td>\n",
       "      <td>NaN</td>\n",
       "      <td>NaN</td>\n",
       "      <td>w</td>\n",
       "      <td>NaN</td>\n",
       "      <td>NaN</td>\n",
       "      <td>f</td>\n",
       "      <td>f</td>\n",
       "      <td>NaN</td>\n",
       "      <td>g</td>\n",
       "      <td>a</td>\n",
       "    </tr>\n",
       "    <tr>\n",
       "      <th>2077961</th>\n",
       "      <td>5194906</td>\n",
       "      <td>5.73</td>\n",
       "      <td>x</td>\n",
       "      <td>e</td>\n",
       "      <td>e</td>\n",
       "      <td>f</td>\n",
       "      <td>a</td>\n",
       "      <td>NaN</td>\n",
       "      <td>w</td>\n",
       "      <td>6.16</td>\n",
       "      <td>...</td>\n",
       "      <td>NaN</td>\n",
       "      <td>NaN</td>\n",
       "      <td>y</td>\n",
       "      <td>NaN</td>\n",
       "      <td>w</td>\n",
       "      <td>t</td>\n",
       "      <td>z</td>\n",
       "      <td>NaN</td>\n",
       "      <td>d</td>\n",
       "      <td>a</td>\n",
       "    </tr>\n",
       "    <tr>\n",
       "      <th>2077962</th>\n",
       "      <td>5194907</td>\n",
       "      <td>5.03</td>\n",
       "      <td>b</td>\n",
       "      <td>g</td>\n",
       "      <td>n</td>\n",
       "      <td>f</td>\n",
       "      <td>a</td>\n",
       "      <td>d</td>\n",
       "      <td>g</td>\n",
       "      <td>6.00</td>\n",
       "      <td>...</td>\n",
       "      <td>NaN</td>\n",
       "      <td>s</td>\n",
       "      <td>g</td>\n",
       "      <td>NaN</td>\n",
       "      <td>NaN</td>\n",
       "      <td>f</td>\n",
       "      <td>f</td>\n",
       "      <td>NaN</td>\n",
       "      <td>d</td>\n",
       "      <td>a</td>\n",
       "    </tr>\n",
       "    <tr>\n",
       "      <th>2077963</th>\n",
       "      <td>5194908</td>\n",
       "      <td>15.51</td>\n",
       "      <td>f</td>\n",
       "      <td>NaN</td>\n",
       "      <td>w</td>\n",
       "      <td>f</td>\n",
       "      <td>d</td>\n",
       "      <td>c</td>\n",
       "      <td>y</td>\n",
       "      <td>2.69</td>\n",
       "      <td>...</td>\n",
       "      <td>NaN</td>\n",
       "      <td>NaN</td>\n",
       "      <td>w</td>\n",
       "      <td>NaN</td>\n",
       "      <td>NaN</td>\n",
       "      <td>f</td>\n",
       "      <td>f</td>\n",
       "      <td>NaN</td>\n",
       "      <td>d</td>\n",
       "      <td>w</td>\n",
       "    </tr>\n",
       "  </tbody>\n",
       "</table>\n",
       "<p>2077964 rows × 21 columns</p>\n",
       "</div>"
      ]
     },
     "execution_count": 5,
     "metadata": {},
     "output_type": "execute_result"
    }
   ],
   "execution_count": 5
  },
  {
   "cell_type": "code",
   "id": "927332b930200a0a",
   "metadata": {
    "ExecuteTime": {
     "end_time": "2024-08-27T18:50:47.344511Z",
     "start_time": "2024-08-27T18:50:46.402298Z"
    }
   },
   "source": [
    "df_test.isnull().sum()"
   ],
   "outputs": [
    {
     "data": {
      "text/plain": [
       "id                            0\n",
       "cap-diameter                  7\n",
       "cap-shape                    31\n",
       "cap-surface              446904\n",
       "cap-color                    13\n",
       "does-bruise-or-bleed         10\n",
       "gill-attachment          349821\n",
       "gill-spacing             839595\n",
       "gill-color                   49\n",
       "stem-height                   1\n",
       "stem-width                    0\n",
       "stem-root               1838012\n",
       "stem-surface            1321488\n",
       "stem-color                   21\n",
       "veil-type               1971545\n",
       "veil-color              1826124\n",
       "has-ring                     19\n",
       "ring-type                 86195\n",
       "spore-print-color       1899617\n",
       "habitat                      25\n",
       "season                        0\n",
       "dtype: int64"
      ]
     },
     "execution_count": 6,
     "metadata": {},
     "output_type": "execute_result"
    }
   ],
   "execution_count": 6
  },
  {
   "cell_type": "code",
   "id": "6deee67d3ffe325b",
   "metadata": {
    "ExecuteTime": {
     "end_time": "2024-08-27T18:50:51.358693Z",
     "start_time": "2024-08-27T18:50:50.318377Z"
    }
   },
   "source": [
    "columns = []\n",
    "for col in df_test:\n",
    "    if df_test[col].isnull().sum() <100 and col != 'id':\n",
    "        columns.append(col)"
   ],
   "outputs": [],
   "execution_count": 7
  },
  {
   "cell_type": "code",
   "id": "fea35417fe379c14",
   "metadata": {
    "ExecuteTime": {
     "end_time": "2024-08-27T18:50:53.725137Z",
     "start_time": "2024-08-27T18:50:53.719112Z"
    }
   },
   "source": [
    "columns"
   ],
   "outputs": [
    {
     "data": {
      "text/plain": [
       "['cap-diameter',\n",
       " 'cap-shape',\n",
       " 'cap-color',\n",
       " 'does-bruise-or-bleed',\n",
       " 'gill-color',\n",
       " 'stem-height',\n",
       " 'stem-width',\n",
       " 'stem-color',\n",
       " 'has-ring',\n",
       " 'habitat',\n",
       " 'season']"
      ]
     },
     "execution_count": 8,
     "metadata": {},
     "output_type": "execute_result"
    }
   ],
   "execution_count": 8
  },
  {
   "cell_type": "code",
   "id": "5fa6c41e09d3f1cb",
   "metadata": {
    "ExecuteTime": {
     "end_time": "2024-08-27T18:50:56.217551Z",
     "start_time": "2024-08-27T18:50:56.211561Z"
    }
   },
   "source": [
    "df_copy_test_ = pd.DataFrame()"
   ],
   "outputs": [],
   "execution_count": 9
  },
  {
   "cell_type": "code",
   "id": "28981fadd47fdaeb",
   "metadata": {
    "ExecuteTime": {
     "end_time": "2024-08-27T18:50:59.647242Z",
     "start_time": "2024-08-27T18:50:58.287611Z"
    }
   },
   "source": [
    "for i in columns:\n",
    "    if i in df_test.columns and df_test[i].dtypes == 'float64':        \n",
    "        df_copy_test_[i]=df_test[i].fillna(df_test[i].mean())\n",
    "    if i in df_test.columns and df_test[i].dtypes == 'object':\n",
    "        df_copy_test_[i]=df_test[i].fillna(df_test[i].mode()[0])"
   ],
   "outputs": [],
   "execution_count": 10
  },
  {
   "cell_type": "code",
   "id": "373e1168e5d9767c",
   "metadata": {
    "ExecuteTime": {
     "end_time": "2024-08-27T18:51:01.161325Z",
     "start_time": "2024-08-27T18:51:01.143177Z"
    }
   },
   "source": [
    "df_copy_test_.head()"
   ],
   "outputs": [
    {
     "data": {
      "text/plain": [
       "   cap-diameter cap-shape cap-color does-bruise-or-bleed gill-color  \\\n",
       "0          8.64         x         n                    t          w   \n",
       "1          6.90         o         o                    f          y   \n",
       "2          2.00         b         n                    f          n   \n",
       "3          3.47         x         n                    f          n   \n",
       "4          6.17         x         y                    f          y   \n",
       "\n",
       "   stem-height  stem-width stem-color has-ring habitat season  \n",
       "0        11.13       17.12          w        t       d      a  \n",
       "1         1.27       10.75          n        f       d      a  \n",
       "2         6.18        3.14          n        f       d      s  \n",
       "3         4.98        8.51          w        t       d      u  \n",
       "4         6.73       13.70          y        t       d      u  "
      ],
      "text/html": [
       "<div>\n",
       "<style scoped>\n",
       "    .dataframe tbody tr th:only-of-type {\n",
       "        vertical-align: middle;\n",
       "    }\n",
       "\n",
       "    .dataframe tbody tr th {\n",
       "        vertical-align: top;\n",
       "    }\n",
       "\n",
       "    .dataframe thead th {\n",
       "        text-align: right;\n",
       "    }\n",
       "</style>\n",
       "<table border=\"1\" class=\"dataframe\">\n",
       "  <thead>\n",
       "    <tr style=\"text-align: right;\">\n",
       "      <th></th>\n",
       "      <th>cap-diameter</th>\n",
       "      <th>cap-shape</th>\n",
       "      <th>cap-color</th>\n",
       "      <th>does-bruise-or-bleed</th>\n",
       "      <th>gill-color</th>\n",
       "      <th>stem-height</th>\n",
       "      <th>stem-width</th>\n",
       "      <th>stem-color</th>\n",
       "      <th>has-ring</th>\n",
       "      <th>habitat</th>\n",
       "      <th>season</th>\n",
       "    </tr>\n",
       "  </thead>\n",
       "  <tbody>\n",
       "    <tr>\n",
       "      <th>0</th>\n",
       "      <td>8.64</td>\n",
       "      <td>x</td>\n",
       "      <td>n</td>\n",
       "      <td>t</td>\n",
       "      <td>w</td>\n",
       "      <td>11.13</td>\n",
       "      <td>17.12</td>\n",
       "      <td>w</td>\n",
       "      <td>t</td>\n",
       "      <td>d</td>\n",
       "      <td>a</td>\n",
       "    </tr>\n",
       "    <tr>\n",
       "      <th>1</th>\n",
       "      <td>6.90</td>\n",
       "      <td>o</td>\n",
       "      <td>o</td>\n",
       "      <td>f</td>\n",
       "      <td>y</td>\n",
       "      <td>1.27</td>\n",
       "      <td>10.75</td>\n",
       "      <td>n</td>\n",
       "      <td>f</td>\n",
       "      <td>d</td>\n",
       "      <td>a</td>\n",
       "    </tr>\n",
       "    <tr>\n",
       "      <th>2</th>\n",
       "      <td>2.00</td>\n",
       "      <td>b</td>\n",
       "      <td>n</td>\n",
       "      <td>f</td>\n",
       "      <td>n</td>\n",
       "      <td>6.18</td>\n",
       "      <td>3.14</td>\n",
       "      <td>n</td>\n",
       "      <td>f</td>\n",
       "      <td>d</td>\n",
       "      <td>s</td>\n",
       "    </tr>\n",
       "    <tr>\n",
       "      <th>3</th>\n",
       "      <td>3.47</td>\n",
       "      <td>x</td>\n",
       "      <td>n</td>\n",
       "      <td>f</td>\n",
       "      <td>n</td>\n",
       "      <td>4.98</td>\n",
       "      <td>8.51</td>\n",
       "      <td>w</td>\n",
       "      <td>t</td>\n",
       "      <td>d</td>\n",
       "      <td>u</td>\n",
       "    </tr>\n",
       "    <tr>\n",
       "      <th>4</th>\n",
       "      <td>6.17</td>\n",
       "      <td>x</td>\n",
       "      <td>y</td>\n",
       "      <td>f</td>\n",
       "      <td>y</td>\n",
       "      <td>6.73</td>\n",
       "      <td>13.70</td>\n",
       "      <td>y</td>\n",
       "      <td>t</td>\n",
       "      <td>d</td>\n",
       "      <td>u</td>\n",
       "    </tr>\n",
       "  </tbody>\n",
       "</table>\n",
       "</div>"
      ]
     },
     "execution_count": 11,
     "metadata": {},
     "output_type": "execute_result"
    }
   ],
   "execution_count": 11
  },
  {
   "cell_type": "code",
   "id": "849267d3c1034cdc",
   "metadata": {
    "ExecuteTime": {
     "end_time": "2024-08-27T18:51:03.884774Z",
     "start_time": "2024-08-27T18:51:03.399919Z"
    }
   },
   "source": [
    "df_copy_test_.isnull().sum()"
   ],
   "outputs": [
    {
     "data": {
      "text/plain": [
       "cap-diameter            0\n",
       "cap-shape               0\n",
       "cap-color               0\n",
       "does-bruise-or-bleed    0\n",
       "gill-color              0\n",
       "stem-height             0\n",
       "stem-width              0\n",
       "stem-color              0\n",
       "has-ring                0\n",
       "habitat                 0\n",
       "season                  0\n",
       "dtype: int64"
      ]
     },
     "execution_count": 12,
     "metadata": {},
     "output_type": "execute_result"
    }
   ],
   "execution_count": 12
  },
  {
   "cell_type": "code",
   "id": "5890eb186ade8341",
   "metadata": {
    "ExecuteTime": {
     "end_time": "2024-08-27T18:51:16.729160Z",
     "start_time": "2024-08-27T18:51:16.722569Z"
    }
   },
   "source": "df_copy_test_.dtypes",
   "outputs": [
    {
     "data": {
      "text/plain": [
       "cap-diameter            float64\n",
       "cap-shape                object\n",
       "cap-color                object\n",
       "does-bruise-or-bleed     object\n",
       "gill-color               object\n",
       "stem-height             float64\n",
       "stem-width              float64\n",
       "stem-color               object\n",
       "has-ring                 object\n",
       "habitat                  object\n",
       "season                   object\n",
       "dtype: object"
      ]
     },
     "execution_count": 14,
     "metadata": {},
     "output_type": "execute_result"
    }
   ],
   "execution_count": 14
  },
  {
   "cell_type": "code",
   "id": "ade7518a137908c0",
   "metadata": {
    "ExecuteTime": {
     "end_time": "2024-08-27T18:52:12.393944Z",
     "start_time": "2024-08-27T18:51:33.151591Z"
    }
   },
   "source": [
    "for column in columns:\n",
    "    if column == 'cap-diameter' or column =='stem-height' or column =='stem-width':\n",
    "        continue\n",
    "    for i,value in enumerate(df_copy_test_[column]):\n",
    "        #print(value)\n",
    "        #print(value)\n",
    "           \n",
    "        value = value.replace(\" \",\"\")\n",
    "        \n",
    "        if re.match(\"^\\d+?\\.\\d+?$\", value) or re.match(\"^\\d+?$\", value):\n",
    "            #print(f\"число: {value}\") \n",
    "            #print(f\"мода: {df_copy_test_['cap-shape'].mode()[0]}\")\n",
    "            df_copy_test_[column].loc[i] = df_copy_test_[column].mode()[0]\n",
    "        elif len(value) > 1:        \n",
    "            #print(f\"не число а строка: {value}:\")\n",
    "            #print(f\"не число а строка,мода: {df_copy_test_['cap-shape'].mode()[0]}\")\n",
    "            #i+=1\n",
    "            df_copy_test_[column].loc[i] = df_copy_test_[column].mode()[0]\n",
    "\n",
    "        else:\n",
    "           #print(f\"не число: {value}\")\n",
    "           #i = i.append(value)\n",
    "            pass\n",
    "\n",
    "#print(i)\n",
    "    #print(f\"{value}: \\n{type(value)}\")\n",
    "    "
   ],
   "outputs": [],
   "execution_count": 15
  },
  {
   "metadata": {
    "ExecuteTime": {
     "end_time": "2024-08-27T19:00:52.923837Z",
     "start_time": "2024-08-27T19:00:21.892910Z"
    }
   },
   "cell_type": "code",
   "source": [
    "encoder = OneHotEncoder(return_df=True)\n",
    "X2 = encoder.fit_transform(df_copy_test_)"
   ],
   "id": "eacd8de56adee397",
   "outputs": [],
   "execution_count": 23
  },
  {
   "metadata": {
    "ExecuteTime": {
     "end_time": "2024-08-27T19:01:15.823145Z",
     "start_time": "2024-08-27T19:01:15.817627Z"
    }
   },
   "cell_type": "code",
   "source": "X2.shape",
   "id": "1e221d989df3d0e7",
   "outputs": [
    {
     "data": {
      "text/plain": [
       "(2077964, 164)"
      ]
     },
     "execution_count": 25,
     "metadata": {},
     "output_type": "execute_result"
    }
   ],
   "execution_count": 25
  },
  {
   "metadata": {},
   "cell_type": "markdown",
   "source": "## Обработаем тренировочные данные ##",
   "id": "27a9923150edb2e6"
  },
  {
   "cell_type": "code",
   "id": "76e940d8172ded18",
   "metadata": {
    "ExecuteTime": {
     "end_time": "2024-08-27T18:57:50.654373Z",
     "start_time": "2024-08-27T18:57:45.647447Z"
    }
   },
   "source": [
    "df_train = pd.read_csv('train.csv')"
   ],
   "outputs": [],
   "execution_count": 22
  },
  {
   "cell_type": "code",
   "id": "92ed6f76e4ea2739",
   "metadata": {
    "ExecuteTime": {
     "end_time": "2024-08-27T19:09:12.056245Z",
     "start_time": "2024-08-27T19:09:12.051408Z"
    }
   },
   "source": "df_train_1 = df_train.iloc[:1000000]",
   "outputs": [],
   "execution_count": 52
  },
  {
   "cell_type": "code",
   "id": "259f42f7bd9dd3cb",
   "metadata": {
    "ExecuteTime": {
     "end_time": "2024-08-27T19:09:14.644162Z",
     "start_time": "2024-08-27T19:09:14.145807Z"
    }
   },
   "source": [
    "df_train_1.isnull().sum()"
   ],
   "outputs": [
    {
     "data": {
      "text/plain": [
       "id                           0\n",
       "class                        0\n",
       "cap-diameter                 1\n",
       "cap-shape                   15\n",
       "cap-surface             215059\n",
       "cap-color                    3\n",
       "does-bruise-or-bleed         2\n",
       "gill-attachment         168264\n",
       "gill-spacing            402783\n",
       "gill-color                  18\n",
       "stem-height                  0\n",
       "stem-width                   0\n",
       "stem-root               884569\n",
       "stem-surface            635762\n",
       "stem-color                  11\n",
       "veil-type               949017\n",
       "veil-color              879500\n",
       "has-ring                     7\n",
       "ring-type                41142\n",
       "spore-print-color       914287\n",
       "habitat                     17\n",
       "season                       0\n",
       "dtype: int64"
      ]
     },
     "execution_count": 53,
     "metadata": {},
     "output_type": "execute_result"
    }
   ],
   "execution_count": 53
  },
  {
   "cell_type": "code",
   "id": "83b652c310f8a32a",
   "metadata": {
    "ExecuteTime": {
     "end_time": "2024-08-27T19:09:16.852138Z",
     "start_time": "2024-08-27T19:09:16.848242Z"
    }
   },
   "source": [
    "df_train_copy = pd.DataFrame()"
   ],
   "outputs": [],
   "execution_count": 54
  },
  {
   "cell_type": "code",
   "id": "b1ebf843f4443998",
   "metadata": {
    "ExecuteTime": {
     "end_time": "2024-08-27T19:09:19.952887Z",
     "start_time": "2024-08-27T19:09:19.300573Z"
    }
   },
   "source": [
    "for column in df_train_1.columns:\n",
    "    if column == 'class':\n",
    "        df_train_copy[column] = df_train_1[column]\n",
    "    if column in columns and df_train_1[column].dtypes == 'float64':\n",
    "        df_train_copy[column]=df_train_1[column].fillna(df_train_1[column].mean())\n",
    "    if column in columns and df_train_1[column].dtypes == 'object':\n",
    "        df_train_copy[column]=df_train_1[column].fillna(df_train_1[column].mode()[0])"
   ],
   "outputs": [],
   "execution_count": 55
  },
  {
   "cell_type": "code",
   "id": "87baa69d38ced2f1",
   "metadata": {
    "ExecuteTime": {
     "end_time": "2024-08-27T19:09:29.096974Z",
     "start_time": "2024-08-27T19:09:28.813066Z"
    }
   },
   "source": "df_train_copy.isnull().sum()",
   "outputs": [
    {
     "data": {
      "text/plain": [
       "class                   0\n",
       "cap-diameter            0\n",
       "cap-shape               0\n",
       "cap-color               0\n",
       "does-bruise-or-bleed    0\n",
       "gill-color              0\n",
       "stem-height             0\n",
       "stem-width              0\n",
       "stem-color              0\n",
       "has-ring                0\n",
       "habitat                 0\n",
       "season                  0\n",
       "dtype: int64"
      ]
     },
     "execution_count": 57,
     "metadata": {},
     "output_type": "execute_result"
    }
   ],
   "execution_count": 57
  },
  {
   "metadata": {
    "ExecuteTime": {
     "end_time": "2024-08-27T19:09:32.233087Z",
     "start_time": "2024-08-27T19:09:32.182213Z"
    }
   },
   "cell_type": "code",
   "source": "df_train_copy['has-ring'].unique()",
   "id": "51557f9833f984d1",
   "outputs": [
    {
     "data": {
      "text/plain": [
       "array(['f', 't', 'h', 'r', 'y', 'c', 'e', 'g', 'l', 's', 'p', 'x', 'k',\n",
       "       'z', 'f has-ring', 'd', 'o'], dtype=object)"
      ]
     },
     "execution_count": 58,
     "metadata": {},
     "output_type": "execute_result"
    }
   ],
   "execution_count": 58
  },
  {
   "cell_type": "code",
   "id": "bddf6a920fc3bfe9",
   "metadata": {
    "ExecuteTime": {
     "end_time": "2024-08-27T19:09:52.166989Z",
     "start_time": "2024-08-27T19:09:37.216666Z"
    }
   },
   "source": [
    "for column in columns:\n",
    "    if column == 'cap-diameter' or column =='stem-height' or column =='stem-width':\n",
    "        continue\n",
    "    for i,value in enumerate(df_train_copy[column]):\n",
    "        #print(value)\n",
    "        #print(value)\n",
    "\n",
    "        value = value.replace(\" \",\"\")\n",
    "\n",
    "        if re.match(\"^\\d+?\\.\\d+?$\", value) or re.match(\"^\\d+?$\", value):\n",
    "            #print(f\"число: {value}\") \n",
    "            #print(f\"мода: {df_copy_test_['cap-shape'].mode()[0]}\")\n",
    "            df_train_copy[column].loc[i] = df_train_copy[column].mode()[0]\n",
    "        elif len(value) > 1:\n",
    "            #print(f\"не число а строка: {value}:\")\n",
    "            #print(f\"не число а строка,мода: {df_copy_test_['cap-shape'].mode()[0]}\")\n",
    "            #i+=1\n",
    "            df_train_copy[column].loc[i] = df_train_copy[column].mode()[0]\n",
    "\n",
    "        else:\n",
    "            #print(f\"не число: {value}\")\n",
    "            #i = i.append(value)\n",
    "            pass\n",
    "\n",
    "#print(i)\n",
    "#print(f\"{value}: \\n{type(value)}\")"
   ],
   "outputs": [],
   "execution_count": 59
  },
  {
   "cell_type": "code",
   "id": "184d36c0166bf4d3",
   "metadata": {
    "ExecuteTime": {
     "end_time": "2024-08-27T19:09:54.554045Z",
     "start_time": "2024-08-27T19:09:54.511565Z"
    }
   },
   "source": [
    "y = df_train_copy[\"class\"]\n",
    "y = y.map({\"p\":-1, \"e\":1})"
   ],
   "outputs": [],
   "execution_count": 60
  },
  {
   "cell_type": "code",
   "id": "22361da95e1cec9b",
   "metadata": {
    "ExecuteTime": {
     "end_time": "2024-08-27T19:09:56.649336Z",
     "start_time": "2024-08-27T19:09:56.577329Z"
    }
   },
   "source": [
    "X = df_train_copy.drop([\"class\"], axis=1)"
   ],
   "outputs": [],
   "execution_count": 61
  },
  {
   "cell_type": "code",
   "id": "48d1b12b0c369bd7",
   "metadata": {
    "ExecuteTime": {
     "end_time": "2024-08-27T19:10:02.399178Z",
     "start_time": "2024-08-27T19:09:58.728865Z"
    }
   },
   "source": [
    "encoder = LeaveOneOutEncoder(return_df=True)\n",
    "X2 = encoder.fit_transform(X,y)\n",
    "X2.dtypes"
   ],
   "outputs": [
    {
     "data": {
      "text/plain": [
       "cap-diameter            float64\n",
       "cap-shape               float64\n",
       "cap-color               float64\n",
       "does-bruise-or-bleed    float64\n",
       "gill-color              float64\n",
       "stem-height             float64\n",
       "stem-width              float64\n",
       "stem-color              float64\n",
       "has-ring                float64\n",
       "habitat                 float64\n",
       "season                  float64\n",
       "dtype: object"
      ]
     },
     "execution_count": 62,
     "metadata": {},
     "output_type": "execute_result"
    }
   ],
   "execution_count": 62
  },
  {
   "cell_type": "code",
   "id": "1f904378661c8c66",
   "metadata": {
    "ExecuteTime": {
     "end_time": "2024-08-27T19:10:15.870740Z",
     "start_time": "2024-08-27T19:10:02.401201Z"
    }
   },
   "source": [
    "encoder = OneHotEncoder(return_df=True)\n",
    "X2 = encoder.fit_transform(X,y)"
   ],
   "outputs": [],
   "execution_count": 63
  },
  {
   "cell_type": "code",
   "id": "f2a06da14fcb84e8",
   "metadata": {
    "ExecuteTime": {
     "end_time": "2024-08-27T19:10:17.024722Z",
     "start_time": "2024-08-27T19:10:15.872348Z"
    }
   },
   "source": [
    "Xtrain, Xtest, ytrain, ytest = train_test_split(X2, y, test_size=0.3, random_state=42)"
   ],
   "outputs": [],
   "execution_count": 64
  },
  {
   "cell_type": "code",
   "id": "b159b370953d6c05",
   "metadata": {
    "ExecuteTime": {
     "end_time": "2024-08-27T19:10:22.126140Z",
     "start_time": "2024-08-27T19:10:22.121969Z"
    }
   },
   "source": [
    "dt =  DecisionTreeClassifier(criterion='entropy', max_depth=18,random_state=18)"
   ],
   "outputs": [],
   "execution_count": 65
  },
  {
   "cell_type": "code",
   "id": "32eb7d771a38058b",
   "metadata": {
    "ExecuteTime": {
     "end_time": "2024-08-27T19:10:36.046303Z",
     "start_time": "2024-08-27T19:10:24.789268Z"
    }
   },
   "source": [
    "dt.fit(Xtrain, ytrain)\n",
    "\n",
    "y_train_dt = dt.predict(Xtrain)\n",
    "y_test_dt = dt.predict(Xtest)"
   ],
   "outputs": [],
   "execution_count": 66
  },
  {
   "cell_type": "code",
   "id": "aea9f65bfd8d7edd",
   "metadata": {
    "ExecuteTime": {
     "end_time": "2024-08-27T19:10:41.335906Z",
     "start_time": "2024-08-27T19:10:41.263049Z"
    }
   },
   "source": [
    "print(f\"Decision tree accuracy train: {accuracy_score(y_train_dt, ytrain):.8f}\")\n",
    "print(f\"Decision tree accuracy test: {accuracy_score(y_test_dt, ytest):.8f}\")"
   ],
   "outputs": [
    {
     "name": "stdout",
     "output_type": "stream",
     "text": [
      "Decision tree accuracy train: 0.97145143\n",
      "Decision tree accuracy test: 0.96278000\n"
     ]
    }
   ],
   "execution_count": 67
  },
  {
   "cell_type": "code",
   "id": "bcdff718113cd2d7",
   "metadata": {
    "ExecuteTime": {
     "end_time": "2024-08-27T19:36:34.028840Z",
     "start_time": "2024-08-27T19:36:34.024126Z"
    }
   },
   "source": "df_train_test = df_train.iloc[2000000:]",
   "outputs": [],
   "execution_count": 142
  },
  {
   "cell_type": "code",
   "id": "93c9c4b8822ae538",
   "metadata": {
    "ExecuteTime": {
     "end_time": "2024-08-27T19:36:37.162384Z",
     "start_time": "2024-08-27T19:36:37.158906Z"
    }
   },
   "source": [
    "df_train_test_copy = pd.DataFrame()"
   ],
   "outputs": [],
   "execution_count": 143
  },
  {
   "cell_type": "code",
   "id": "fe8e4a04c0afdfa0",
   "metadata": {
    "ExecuteTime": {
     "end_time": "2024-08-27T19:36:40.835912Z",
     "start_time": "2024-08-27T19:36:40.122765Z"
    }
   },
   "source": [
    "for column in df_train_test.columns:\n",
    "    if column == 'class':\n",
    "        df_train_test_copy[column] = df_train_test[column]\n",
    "    if column in columns and df_train_test[column].dtypes == 'float64':\n",
    "        df_train_test_copy[column]=df_train_test[column].fillna(df_train_test[column].mean())\n",
    "    if column in columns and df_train_test[column].dtypes == 'object':\n",
    "        df_train_test_copy[column]=df_train_test[column].fillna(df_train_test[column].mode()[0])"
   ],
   "outputs": [],
   "execution_count": 144
  },
  {
   "metadata": {
    "ExecuteTime": {
     "end_time": "2024-08-27T19:40:18.259561Z",
     "start_time": "2024-08-27T19:40:01.600450Z"
    }
   },
   "cell_type": "code",
   "source": [
    "for column in columns:\n",
    "    \n",
    "    if column == 'cap-diameter' or column =='stem-height' or column =='stem-width':\n",
    "        continue\n",
    "    for i,value in enumerate(df_train_test_copy[column]):\n",
    "        \n",
    "        #print(i)\n",
    "        #print(value)\n",
    "\n",
    "        value = value.replace(\" \",\"\")\n",
    "\n",
    "        if re.match(\"^\\d+?\\.\\d+?$\", value) or re.match(\"^\\d+?$\", value):\n",
    "            #print(f\"число: {value}\") \n",
    "            #print(f\"мода: {df_copy_test_['cap-shape'].mode()[0]}\")\n",
    "            df_train_test_copy[column].loc[i] = df_train_test_copy[column].mode()[0]\n",
    "            #print(f'это цифры{df_train_test_copy[column].mode()[0]}')\n",
    "        elif len(value) > 1:\n",
    "            #print(f\"не число а строка: {value}:\")\n",
    "            #print(f\"не число а строка,мода: {df_copy_test_['cap-shape'].mode()[0]}\")\n",
    "            #i+=1\n",
    "            df_train_test_copy[column].loc[i] = df_train_test_copy[column].mode()[0]\n",
    "\n",
    "        else:\n",
    "            #print(f\"не число: {value}\")\n",
    "            #i = i.append(value)\n",
    "            pass\n"
   ],
   "id": "ba4a80bd1d363f2e",
   "outputs": [],
   "execution_count": 146
  },
  {
   "cell_type": "code",
   "id": "b2f69acc8d80eb37",
   "metadata": {
    "ExecuteTime": {
     "end_time": "2024-08-27T19:42:23.008607Z",
     "start_time": "2024-08-27T19:42:22.936979Z"
    }
   },
   "source": [
    "y_train_test = df_train_test_copy [\"class\"]\n",
    "y_train_test = y_train_test.map({\"p\":-1, \"e\":1})"
   ],
   "outputs": [],
   "execution_count": 147
  },
  {
   "cell_type": "code",
   "id": "ee2e52cb2498fdf3",
   "metadata": {
    "ExecuteTime": {
     "end_time": "2024-08-27T19:42:26.142975Z",
     "start_time": "2024-08-27T19:42:26.041890Z"
    }
   },
   "source": [
    "X_train_test = df_train_test_copy.drop([\"class\"], axis=1)"
   ],
   "outputs": [],
   "execution_count": 148
  },
  {
   "cell_type": "code",
   "execution_count": 94,
   "id": "ce7ce3916b2d342a",
   "metadata": {
    "ExecuteTime": {
     "end_time": "2024-08-25T06:56:07.383078Z",
     "start_time": "2024-08-25T06:56:03.372698Z"
    }
   },
   "outputs": [],
   "source": [
    "encoder = LeaveOneOutEncoder(return_df=True)\n",
    "X2_test = encoder.fit_transform(X_train_test,y_train_test)"
   ]
  },
  {
   "cell_type": "code",
   "id": "3ea9cb73daee38f0",
   "metadata": {
    "ExecuteTime": {
     "end_time": "2024-08-27T19:42:55.387645Z",
     "start_time": "2024-08-27T19:42:30.627141Z"
    }
   },
   "source": [
    "encoder = OneHotEncoder(return_df=True)\n",
    "X2_test = encoder.fit_transform(X_train_test,y_train_test)"
   ],
   "outputs": [],
   "execution_count": 149
  },
  {
   "metadata": {
    "ExecuteTime": {
     "end_time": "2024-08-27T19:20:12.283640Z",
     "start_time": "2024-08-27T19:20:12.278886Z"
    }
   },
   "cell_type": "code",
   "source": [
    "X2_columns = []\n",
    "\n",
    "for column in X2.columns:\n",
    "    X2_columns.append(column)"
   ],
   "id": "e17b5393dfa2b237",
   "outputs": [],
   "execution_count": 101
  },
  {
   "cell_type": "code",
   "id": "4574a7147ecc9207",
   "metadata": {
    "ExecuteTime": {
     "end_time": "2024-08-27T19:21:40.771120Z",
     "start_time": "2024-08-27T19:21:40.766048Z"
    }
   },
   "source": [
    "X2_test_columns = []\n",
    "\n",
    "for column in X2_test:\n",
    "    X2_test_columns.append(column)"
   ],
   "outputs": [],
   "execution_count": 105
  },
  {
   "metadata": {
    "ExecuteTime": {
     "end_time": "2024-08-27T19:43:05.901112Z",
     "start_time": "2024-08-27T19:43:05.843692Z"
    }
   },
   "cell_type": "code",
   "source": "y_test_dt = dt.predict(X2_test)",
   "id": "b19286ac2439395",
   "outputs": [
    {
     "ename": "ValueError",
     "evalue": "The feature names should match those that were passed during fit.\nFeature names unseen at fit time:\n- cap-color_24\n- cap-color_25\n- cap-color_26\n- cap-color_27\n- cap-color_28\n- ...\n",
     "output_type": "error",
     "traceback": [
      "\u001B[0;31m---------------------------------------------------------------------------\u001B[0m",
      "\u001B[0;31mValueError\u001B[0m                                Traceback (most recent call last)",
      "Cell \u001B[0;32mIn[150], line 1\u001B[0m\n\u001B[0;32m----> 1\u001B[0m y_test_dt \u001B[38;5;241m=\u001B[39m dt\u001B[38;5;241m.\u001B[39mpredict(X2_test)\n",
      "File \u001B[0;32m~/anaconda3/lib/python3.11/site-packages/sklearn/tree/_classes.py:529\u001B[0m, in \u001B[0;36mBaseDecisionTree.predict\u001B[0;34m(self, X, check_input)\u001B[0m\n\u001B[1;32m    506\u001B[0m \u001B[38;5;250m\u001B[39m\u001B[38;5;124;03m\"\"\"Predict class or regression value for X.\u001B[39;00m\n\u001B[1;32m    507\u001B[0m \n\u001B[1;32m    508\u001B[0m \u001B[38;5;124;03mFor a classification model, the predicted class for each sample in X is\u001B[39;00m\n\u001B[0;32m   (...)\u001B[0m\n\u001B[1;32m    526\u001B[0m \u001B[38;5;124;03m    The predicted classes, or the predict values.\u001B[39;00m\n\u001B[1;32m    527\u001B[0m \u001B[38;5;124;03m\"\"\"\u001B[39;00m\n\u001B[1;32m    528\u001B[0m check_is_fitted(\u001B[38;5;28mself\u001B[39m)\n\u001B[0;32m--> 529\u001B[0m X \u001B[38;5;241m=\u001B[39m \u001B[38;5;28mself\u001B[39m\u001B[38;5;241m.\u001B[39m_validate_X_predict(X, check_input)\n\u001B[1;32m    530\u001B[0m proba \u001B[38;5;241m=\u001B[39m \u001B[38;5;28mself\u001B[39m\u001B[38;5;241m.\u001B[39mtree_\u001B[38;5;241m.\u001B[39mpredict(X)\n\u001B[1;32m    531\u001B[0m n_samples \u001B[38;5;241m=\u001B[39m X\u001B[38;5;241m.\u001B[39mshape[\u001B[38;5;241m0\u001B[39m]\n",
      "File \u001B[0;32m~/anaconda3/lib/python3.11/site-packages/sklearn/tree/_classes.py:489\u001B[0m, in \u001B[0;36mBaseDecisionTree._validate_X_predict\u001B[0;34m(self, X, check_input)\u001B[0m\n\u001B[1;32m    487\u001B[0m \u001B[38;5;28;01melse\u001B[39;00m:\n\u001B[1;32m    488\u001B[0m     force_all_finite \u001B[38;5;241m=\u001B[39m \u001B[38;5;28;01mTrue\u001B[39;00m\n\u001B[0;32m--> 489\u001B[0m X \u001B[38;5;241m=\u001B[39m \u001B[38;5;28mself\u001B[39m\u001B[38;5;241m.\u001B[39m_validate_data(\n\u001B[1;32m    490\u001B[0m     X,\n\u001B[1;32m    491\u001B[0m     dtype\u001B[38;5;241m=\u001B[39mDTYPE,\n\u001B[1;32m    492\u001B[0m     accept_sparse\u001B[38;5;241m=\u001B[39m\u001B[38;5;124m\"\u001B[39m\u001B[38;5;124mcsr\u001B[39m\u001B[38;5;124m\"\u001B[39m,\n\u001B[1;32m    493\u001B[0m     reset\u001B[38;5;241m=\u001B[39m\u001B[38;5;28;01mFalse\u001B[39;00m,\n\u001B[1;32m    494\u001B[0m     force_all_finite\u001B[38;5;241m=\u001B[39mforce_all_finite,\n\u001B[1;32m    495\u001B[0m )\n\u001B[1;32m    496\u001B[0m \u001B[38;5;28;01mif\u001B[39;00m issparse(X) \u001B[38;5;129;01mand\u001B[39;00m (\n\u001B[1;32m    497\u001B[0m     X\u001B[38;5;241m.\u001B[39mindices\u001B[38;5;241m.\u001B[39mdtype \u001B[38;5;241m!=\u001B[39m np\u001B[38;5;241m.\u001B[39mintc \u001B[38;5;129;01mor\u001B[39;00m X\u001B[38;5;241m.\u001B[39mindptr\u001B[38;5;241m.\u001B[39mdtype \u001B[38;5;241m!=\u001B[39m np\u001B[38;5;241m.\u001B[39mintc\n\u001B[1;32m    498\u001B[0m ):\n\u001B[1;32m    499\u001B[0m     \u001B[38;5;28;01mraise\u001B[39;00m \u001B[38;5;167;01mValueError\u001B[39;00m(\u001B[38;5;124m\"\u001B[39m\u001B[38;5;124mNo support for np.int64 index based sparse matrices\u001B[39m\u001B[38;5;124m\"\u001B[39m)\n",
      "File \u001B[0;32m~/anaconda3/lib/python3.11/site-packages/sklearn/base.py:608\u001B[0m, in \u001B[0;36mBaseEstimator._validate_data\u001B[0;34m(self, X, y, reset, validate_separately, cast_to_ndarray, **check_params)\u001B[0m\n\u001B[1;32m    537\u001B[0m \u001B[38;5;28;01mdef\u001B[39;00m \u001B[38;5;21m_validate_data\u001B[39m(\n\u001B[1;32m    538\u001B[0m     \u001B[38;5;28mself\u001B[39m,\n\u001B[1;32m    539\u001B[0m     X\u001B[38;5;241m=\u001B[39m\u001B[38;5;124m\"\u001B[39m\u001B[38;5;124mno_validation\u001B[39m\u001B[38;5;124m\"\u001B[39m,\n\u001B[0;32m   (...)\u001B[0m\n\u001B[1;32m    544\u001B[0m     \u001B[38;5;241m*\u001B[39m\u001B[38;5;241m*\u001B[39mcheck_params,\n\u001B[1;32m    545\u001B[0m ):\n\u001B[1;32m    546\u001B[0m \u001B[38;5;250m    \u001B[39m\u001B[38;5;124;03m\"\"\"Validate input data and set or check the `n_features_in_` attribute.\u001B[39;00m\n\u001B[1;32m    547\u001B[0m \n\u001B[1;32m    548\u001B[0m \u001B[38;5;124;03m    Parameters\u001B[39;00m\n\u001B[0;32m   (...)\u001B[0m\n\u001B[1;32m    606\u001B[0m \u001B[38;5;124;03m        validated.\u001B[39;00m\n\u001B[1;32m    607\u001B[0m \u001B[38;5;124;03m    \"\"\"\u001B[39;00m\n\u001B[0;32m--> 608\u001B[0m     \u001B[38;5;28mself\u001B[39m\u001B[38;5;241m.\u001B[39m_check_feature_names(X, reset\u001B[38;5;241m=\u001B[39mreset)\n\u001B[1;32m    610\u001B[0m     \u001B[38;5;28;01mif\u001B[39;00m y \u001B[38;5;129;01mis\u001B[39;00m \u001B[38;5;28;01mNone\u001B[39;00m \u001B[38;5;129;01mand\u001B[39;00m \u001B[38;5;28mself\u001B[39m\u001B[38;5;241m.\u001B[39m_get_tags()[\u001B[38;5;124m\"\u001B[39m\u001B[38;5;124mrequires_y\u001B[39m\u001B[38;5;124m\"\u001B[39m]:\n\u001B[1;32m    611\u001B[0m         \u001B[38;5;28;01mraise\u001B[39;00m \u001B[38;5;167;01mValueError\u001B[39;00m(\n\u001B[1;32m    612\u001B[0m             \u001B[38;5;124mf\u001B[39m\u001B[38;5;124m\"\u001B[39m\u001B[38;5;124mThis \u001B[39m\u001B[38;5;132;01m{\u001B[39;00m\u001B[38;5;28mself\u001B[39m\u001B[38;5;241m.\u001B[39m\u001B[38;5;18m__class__\u001B[39m\u001B[38;5;241m.\u001B[39m\u001B[38;5;18m__name__\u001B[39m\u001B[38;5;132;01m}\u001B[39;00m\u001B[38;5;124m estimator \u001B[39m\u001B[38;5;124m\"\u001B[39m\n\u001B[1;32m    613\u001B[0m             \u001B[38;5;124m\"\u001B[39m\u001B[38;5;124mrequires y to be passed, but the target y is None.\u001B[39m\u001B[38;5;124m\"\u001B[39m\n\u001B[1;32m    614\u001B[0m         )\n",
      "File \u001B[0;32m~/anaconda3/lib/python3.11/site-packages/sklearn/base.py:535\u001B[0m, in \u001B[0;36mBaseEstimator._check_feature_names\u001B[0;34m(self, X, reset)\u001B[0m\n\u001B[1;32m    530\u001B[0m \u001B[38;5;28;01mif\u001B[39;00m \u001B[38;5;129;01mnot\u001B[39;00m missing_names \u001B[38;5;129;01mand\u001B[39;00m \u001B[38;5;129;01mnot\u001B[39;00m unexpected_names:\n\u001B[1;32m    531\u001B[0m     message \u001B[38;5;241m+\u001B[39m\u001B[38;5;241m=\u001B[39m (\n\u001B[1;32m    532\u001B[0m         \u001B[38;5;124m\"\u001B[39m\u001B[38;5;124mFeature names must be in the same order as they were in fit.\u001B[39m\u001B[38;5;130;01m\\n\u001B[39;00m\u001B[38;5;124m\"\u001B[39m\n\u001B[1;32m    533\u001B[0m     )\n\u001B[0;32m--> 535\u001B[0m \u001B[38;5;28;01mraise\u001B[39;00m \u001B[38;5;167;01mValueError\u001B[39;00m(message)\n",
      "\u001B[0;31mValueError\u001B[0m: The feature names should match those that were passed during fit.\nFeature names unseen at fit time:\n- cap-color_24\n- cap-color_25\n- cap-color_26\n- cap-color_27\n- cap-color_28\n- ...\n"
     ]
    }
   ],
   "execution_count": 150
  },
  {
   "metadata": {
    "ExecuteTime": {
     "end_time": "2024-08-27T19:43:08.733145Z",
     "start_time": "2024-08-27T19:43:08.728168Z"
    }
   },
   "cell_type": "code",
   "source": "X2_test.shape",
   "id": "518b247af25836e6",
   "outputs": [
    {
     "data": {
      "text/plain": [
       "(1116945, 245)"
      ]
     },
     "execution_count": 151,
     "metadata": {},
     "output_type": "execute_result"
    }
   ],
   "execution_count": 151
  },
  {
   "metadata": {
    "ExecuteTime": {
     "end_time": "2024-08-27T19:43:32.830255Z",
     "start_time": "2024-08-27T19:43:32.822763Z"
    }
   },
   "cell_type": "code",
   "source": "X2.shape",
   "id": "2e37408948ff15c1",
   "outputs": [
    {
     "data": {
      "text/plain": [
       "(1000000, 153)"
      ]
     },
     "execution_count": 152,
     "metadata": {},
     "output_type": "execute_result"
    }
   ],
   "execution_count": 152
  },
  {
   "metadata": {},
   "cell_type": "code",
   "outputs": [],
   "execution_count": null,
   "source": "",
   "id": "fc534c22d3e6852"
  }
 ],
 "metadata": {
  "kernelspec": {
   "display_name": "Python 3 (ipykernel)",
   "language": "python",
   "name": "python3"
  },
  "language_info": {
   "codemirror_mode": {
    "name": "ipython",
    "version": 3
   },
   "file_extension": ".py",
   "mimetype": "text/x-python",
   "name": "python",
   "nbconvert_exporter": "python",
   "pygments_lexer": "ipython3",
   "version": "3.11.5"
  }
 },
 "nbformat": 4,
 "nbformat_minor": 5
}
