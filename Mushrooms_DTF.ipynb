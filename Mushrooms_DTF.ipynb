{
 "cells": [
  {
   "cell_type": "code",
   "execution_count": 1,
   "id": "initial_id",
   "metadata": {
    "ExecuteTime": {
     "end_time": "2024-09-01T16:39:13.907341Z",
     "start_time": "2024-09-01T16:39:13.898388Z"
    }
   },
   "outputs": [],
   "source": [
    "import pandas as pd\n",
    "import numpy as np\n",
    "from category_encoders.one_hot import OneHotEncoder\n",
    "from sklearn.model_selection import train_test_split\n",
    "from sklearn.metrics import accuracy_score\n",
    "from category_encoders.leave_one_out import LeaveOneOutEncoder\n",
    "import re\n",
    "import warnings\n",
    "from sklearn.tree import DecisionTreeClassifier\n",
    "from sklearn.metrics import matthews_corrcoef\n",
    "\n",
    "warnings.simplefilter(\"ignore\")\n",
    "%matplotlib inline\n"
   ]
  },
  {
   "cell_type": "markdown",
   "id": "b9eab190502c978d",
   "metadata": {},
   "source": [
    "## Обработаем тестовую выборку ##"
   ]
  },
  {
   "cell_type": "code",
   "execution_count": 3,
   "id": "35d375278ae46738",
   "metadata": {
    "ExecuteTime": {
     "end_time": "2024-09-01T16:26:06.868539Z",
     "start_time": "2024-09-01T16:26:03.633197Z"
    }
   },
   "outputs": [],
   "source": [
    "df_test = pd.read_csv('test.csv')"
   ]
  },
  {
   "cell_type": "code",
   "execution_count": 3,
   "id": "3d4b401eed0cbf56",
   "metadata": {
    "ExecuteTime": {
     "end_time": "2024-09-01T16:26:09.370382Z",
     "start_time": "2024-09-01T16:26:08.015924Z"
    }
   },
   "outputs": [
    {
     "data": {
      "text/html": [
       "<div>\n",
       "<style scoped>\n",
       "    .dataframe tbody tr th:only-of-type {\n",
       "        vertical-align: middle;\n",
       "    }\n",
       "\n",
       "    .dataframe tbody tr th {\n",
       "        vertical-align: top;\n",
       "    }\n",
       "\n",
       "    .dataframe thead th {\n",
       "        text-align: right;\n",
       "    }\n",
       "</style>\n",
       "<table border=\"1\" class=\"dataframe\">\n",
       "  <thead>\n",
       "    <tr style=\"text-align: right;\">\n",
       "      <th></th>\n",
       "      <th>id</th>\n",
       "      <th>cap-diameter</th>\n",
       "      <th>cap-shape</th>\n",
       "      <th>cap-surface</th>\n",
       "      <th>cap-color</th>\n",
       "      <th>does-bruise-or-bleed</th>\n",
       "      <th>gill-attachment</th>\n",
       "      <th>gill-spacing</th>\n",
       "      <th>gill-color</th>\n",
       "      <th>stem-height</th>\n",
       "      <th>...</th>\n",
       "      <th>stem-root</th>\n",
       "      <th>stem-surface</th>\n",
       "      <th>stem-color</th>\n",
       "      <th>veil-type</th>\n",
       "      <th>veil-color</th>\n",
       "      <th>has-ring</th>\n",
       "      <th>ring-type</th>\n",
       "      <th>spore-print-color</th>\n",
       "      <th>habitat</th>\n",
       "      <th>season</th>\n",
       "    </tr>\n",
       "  </thead>\n",
       "  <tbody>\n",
       "    <tr>\n",
       "      <th>0</th>\n",
       "      <td>3116945</td>\n",
       "      <td>8.64</td>\n",
       "      <td>x</td>\n",
       "      <td>NaN</td>\n",
       "      <td>n</td>\n",
       "      <td>t</td>\n",
       "      <td>NaN</td>\n",
       "      <td>NaN</td>\n",
       "      <td>w</td>\n",
       "      <td>11.13</td>\n",
       "      <td>...</td>\n",
       "      <td>b</td>\n",
       "      <td>NaN</td>\n",
       "      <td>w</td>\n",
       "      <td>u</td>\n",
       "      <td>w</td>\n",
       "      <td>t</td>\n",
       "      <td>g</td>\n",
       "      <td>NaN</td>\n",
       "      <td>d</td>\n",
       "      <td>a</td>\n",
       "    </tr>\n",
       "    <tr>\n",
       "      <th>1</th>\n",
       "      <td>3116946</td>\n",
       "      <td>6.90</td>\n",
       "      <td>o</td>\n",
       "      <td>t</td>\n",
       "      <td>o</td>\n",
       "      <td>f</td>\n",
       "      <td>NaN</td>\n",
       "      <td>c</td>\n",
       "      <td>y</td>\n",
       "      <td>1.27</td>\n",
       "      <td>...</td>\n",
       "      <td>NaN</td>\n",
       "      <td>NaN</td>\n",
       "      <td>n</td>\n",
       "      <td>NaN</td>\n",
       "      <td>NaN</td>\n",
       "      <td>f</td>\n",
       "      <td>f</td>\n",
       "      <td>NaN</td>\n",
       "      <td>d</td>\n",
       "      <td>a</td>\n",
       "    </tr>\n",
       "    <tr>\n",
       "      <th>2</th>\n",
       "      <td>3116947</td>\n",
       "      <td>2.00</td>\n",
       "      <td>b</td>\n",
       "      <td>g</td>\n",
       "      <td>n</td>\n",
       "      <td>f</td>\n",
       "      <td>NaN</td>\n",
       "      <td>c</td>\n",
       "      <td>n</td>\n",
       "      <td>6.18</td>\n",
       "      <td>...</td>\n",
       "      <td>NaN</td>\n",
       "      <td>NaN</td>\n",
       "      <td>n</td>\n",
       "      <td>NaN</td>\n",
       "      <td>NaN</td>\n",
       "      <td>f</td>\n",
       "      <td>f</td>\n",
       "      <td>NaN</td>\n",
       "      <td>d</td>\n",
       "      <td>s</td>\n",
       "    </tr>\n",
       "    <tr>\n",
       "      <th>3</th>\n",
       "      <td>3116948</td>\n",
       "      <td>3.47</td>\n",
       "      <td>x</td>\n",
       "      <td>t</td>\n",
       "      <td>n</td>\n",
       "      <td>f</td>\n",
       "      <td>s</td>\n",
       "      <td>c</td>\n",
       "      <td>n</td>\n",
       "      <td>4.98</td>\n",
       "      <td>...</td>\n",
       "      <td>NaN</td>\n",
       "      <td>NaN</td>\n",
       "      <td>w</td>\n",
       "      <td>NaN</td>\n",
       "      <td>n</td>\n",
       "      <td>t</td>\n",
       "      <td>z</td>\n",
       "      <td>NaN</td>\n",
       "      <td>d</td>\n",
       "      <td>u</td>\n",
       "    </tr>\n",
       "    <tr>\n",
       "      <th>4</th>\n",
       "      <td>3116949</td>\n",
       "      <td>6.17</td>\n",
       "      <td>x</td>\n",
       "      <td>h</td>\n",
       "      <td>y</td>\n",
       "      <td>f</td>\n",
       "      <td>p</td>\n",
       "      <td>NaN</td>\n",
       "      <td>y</td>\n",
       "      <td>6.73</td>\n",
       "      <td>...</td>\n",
       "      <td>NaN</td>\n",
       "      <td>NaN</td>\n",
       "      <td>y</td>\n",
       "      <td>NaN</td>\n",
       "      <td>y</td>\n",
       "      <td>t</td>\n",
       "      <td>NaN</td>\n",
       "      <td>NaN</td>\n",
       "      <td>d</td>\n",
       "      <td>u</td>\n",
       "    </tr>\n",
       "    <tr>\n",
       "      <th>...</th>\n",
       "      <td>...</td>\n",
       "      <td>...</td>\n",
       "      <td>...</td>\n",
       "      <td>...</td>\n",
       "      <td>...</td>\n",
       "      <td>...</td>\n",
       "      <td>...</td>\n",
       "      <td>...</td>\n",
       "      <td>...</td>\n",
       "      <td>...</td>\n",
       "      <td>...</td>\n",
       "      <td>...</td>\n",
       "      <td>...</td>\n",
       "      <td>...</td>\n",
       "      <td>...</td>\n",
       "      <td>...</td>\n",
       "      <td>...</td>\n",
       "      <td>...</td>\n",
       "      <td>...</td>\n",
       "      <td>...</td>\n",
       "      <td>...</td>\n",
       "    </tr>\n",
       "    <tr>\n",
       "      <th>2077959</th>\n",
       "      <td>5194904</td>\n",
       "      <td>0.88</td>\n",
       "      <td>x</td>\n",
       "      <td>g</td>\n",
       "      <td>w</td>\n",
       "      <td>f</td>\n",
       "      <td>a</td>\n",
       "      <td>d</td>\n",
       "      <td>w</td>\n",
       "      <td>2.67</td>\n",
       "      <td>...</td>\n",
       "      <td>NaN</td>\n",
       "      <td>NaN</td>\n",
       "      <td>e</td>\n",
       "      <td>NaN</td>\n",
       "      <td>NaN</td>\n",
       "      <td>f</td>\n",
       "      <td>f</td>\n",
       "      <td>NaN</td>\n",
       "      <td>d</td>\n",
       "      <td>u</td>\n",
       "    </tr>\n",
       "    <tr>\n",
       "      <th>2077960</th>\n",
       "      <td>5194905</td>\n",
       "      <td>3.12</td>\n",
       "      <td>x</td>\n",
       "      <td>s</td>\n",
       "      <td>w</td>\n",
       "      <td>f</td>\n",
       "      <td>d</td>\n",
       "      <td>c</td>\n",
       "      <td>w</td>\n",
       "      <td>2.69</td>\n",
       "      <td>...</td>\n",
       "      <td>NaN</td>\n",
       "      <td>NaN</td>\n",
       "      <td>w</td>\n",
       "      <td>NaN</td>\n",
       "      <td>NaN</td>\n",
       "      <td>f</td>\n",
       "      <td>f</td>\n",
       "      <td>NaN</td>\n",
       "      <td>g</td>\n",
       "      <td>a</td>\n",
       "    </tr>\n",
       "    <tr>\n",
       "      <th>2077961</th>\n",
       "      <td>5194906</td>\n",
       "      <td>5.73</td>\n",
       "      <td>x</td>\n",
       "      <td>e</td>\n",
       "      <td>e</td>\n",
       "      <td>f</td>\n",
       "      <td>a</td>\n",
       "      <td>NaN</td>\n",
       "      <td>w</td>\n",
       "      <td>6.16</td>\n",
       "      <td>...</td>\n",
       "      <td>NaN</td>\n",
       "      <td>NaN</td>\n",
       "      <td>y</td>\n",
       "      <td>NaN</td>\n",
       "      <td>w</td>\n",
       "      <td>t</td>\n",
       "      <td>z</td>\n",
       "      <td>NaN</td>\n",
       "      <td>d</td>\n",
       "      <td>a</td>\n",
       "    </tr>\n",
       "    <tr>\n",
       "      <th>2077962</th>\n",
       "      <td>5194907</td>\n",
       "      <td>5.03</td>\n",
       "      <td>b</td>\n",
       "      <td>g</td>\n",
       "      <td>n</td>\n",
       "      <td>f</td>\n",
       "      <td>a</td>\n",
       "      <td>d</td>\n",
       "      <td>g</td>\n",
       "      <td>6.00</td>\n",
       "      <td>...</td>\n",
       "      <td>NaN</td>\n",
       "      <td>s</td>\n",
       "      <td>g</td>\n",
       "      <td>NaN</td>\n",
       "      <td>NaN</td>\n",
       "      <td>f</td>\n",
       "      <td>f</td>\n",
       "      <td>NaN</td>\n",
       "      <td>d</td>\n",
       "      <td>a</td>\n",
       "    </tr>\n",
       "    <tr>\n",
       "      <th>2077963</th>\n",
       "      <td>5194908</td>\n",
       "      <td>15.51</td>\n",
       "      <td>f</td>\n",
       "      <td>NaN</td>\n",
       "      <td>w</td>\n",
       "      <td>f</td>\n",
       "      <td>d</td>\n",
       "      <td>c</td>\n",
       "      <td>y</td>\n",
       "      <td>2.69</td>\n",
       "      <td>...</td>\n",
       "      <td>NaN</td>\n",
       "      <td>NaN</td>\n",
       "      <td>w</td>\n",
       "      <td>NaN</td>\n",
       "      <td>NaN</td>\n",
       "      <td>f</td>\n",
       "      <td>f</td>\n",
       "      <td>NaN</td>\n",
       "      <td>d</td>\n",
       "      <td>w</td>\n",
       "    </tr>\n",
       "  </tbody>\n",
       "</table>\n",
       "<p>2077964 rows × 21 columns</p>\n",
       "</div>"
      ],
      "text/plain": [
       "              id  cap-diameter cap-shape cap-surface cap-color  \\\n",
       "0        3116945          8.64         x         NaN         n   \n",
       "1        3116946          6.90         o           t         o   \n",
       "2        3116947          2.00         b           g         n   \n",
       "3        3116948          3.47         x           t         n   \n",
       "4        3116949          6.17         x           h         y   \n",
       "...          ...           ...       ...         ...       ...   \n",
       "2077959  5194904          0.88         x           g         w   \n",
       "2077960  5194905          3.12         x           s         w   \n",
       "2077961  5194906          5.73         x           e         e   \n",
       "2077962  5194907          5.03         b           g         n   \n",
       "2077963  5194908         15.51         f         NaN         w   \n",
       "\n",
       "        does-bruise-or-bleed gill-attachment gill-spacing gill-color  \\\n",
       "0                          t             NaN          NaN          w   \n",
       "1                          f             NaN            c          y   \n",
       "2                          f             NaN            c          n   \n",
       "3                          f               s            c          n   \n",
       "4                          f               p          NaN          y   \n",
       "...                      ...             ...          ...        ...   \n",
       "2077959                    f               a            d          w   \n",
       "2077960                    f               d            c          w   \n",
       "2077961                    f               a          NaN          w   \n",
       "2077962                    f               a            d          g   \n",
       "2077963                    f               d            c          y   \n",
       "\n",
       "         stem-height  ...  stem-root stem-surface stem-color veil-type  \\\n",
       "0              11.13  ...          b          NaN          w         u   \n",
       "1               1.27  ...        NaN          NaN          n       NaN   \n",
       "2               6.18  ...        NaN          NaN          n       NaN   \n",
       "3               4.98  ...        NaN          NaN          w       NaN   \n",
       "4               6.73  ...        NaN          NaN          y       NaN   \n",
       "...              ...  ...        ...          ...        ...       ...   \n",
       "2077959         2.67  ...        NaN          NaN          e       NaN   \n",
       "2077960         2.69  ...        NaN          NaN          w       NaN   \n",
       "2077961         6.16  ...        NaN          NaN          y       NaN   \n",
       "2077962         6.00  ...        NaN            s          g       NaN   \n",
       "2077963         2.69  ...        NaN          NaN          w       NaN   \n",
       "\n",
       "        veil-color has-ring ring-type spore-print-color habitat season  \n",
       "0                w        t         g               NaN       d      a  \n",
       "1              NaN        f         f               NaN       d      a  \n",
       "2              NaN        f         f               NaN       d      s  \n",
       "3                n        t         z               NaN       d      u  \n",
       "4                y        t       NaN               NaN       d      u  \n",
       "...            ...      ...       ...               ...     ...    ...  \n",
       "2077959        NaN        f         f               NaN       d      u  \n",
       "2077960        NaN        f         f               NaN       g      a  \n",
       "2077961          w        t         z               NaN       d      a  \n",
       "2077962        NaN        f         f               NaN       d      a  \n",
       "2077963        NaN        f         f               NaN       d      w  \n",
       "\n",
       "[2077964 rows x 21 columns]"
      ]
     },
     "execution_count": 3,
     "metadata": {},
     "output_type": "execute_result"
    }
   ],
   "source": [
    "df_test"
   ]
  },
  {
   "cell_type": "code",
   "execution_count": 5,
   "id": "927332b930200a0a",
   "metadata": {
    "ExecuteTime": {
     "end_time": "2024-09-01T16:26:13.696414Z",
     "start_time": "2024-09-01T16:26:12.758805Z"
    }
   },
   "outputs": [
    {
     "data": {
      "text/plain": [
       "id                            0\n",
       "cap-diameter                  7\n",
       "cap-shape                    31\n",
       "cap-surface              446904\n",
       "cap-color                    13\n",
       "does-bruise-or-bleed         10\n",
       "gill-attachment          349821\n",
       "gill-spacing             839595\n",
       "gill-color                   49\n",
       "stem-height                   1\n",
       "stem-width                    0\n",
       "stem-root               1838012\n",
       "stem-surface            1321488\n",
       "stem-color                   21\n",
       "veil-type               1971545\n",
       "veil-color              1826124\n",
       "has-ring                     19\n",
       "ring-type                 86195\n",
       "spore-print-color       1899617\n",
       "habitat                      25\n",
       "season                        0\n",
       "dtype: int64"
      ]
     },
     "execution_count": 5,
     "metadata": {},
     "output_type": "execute_result"
    }
   ],
   "source": [
    " df_test.isnull().sum()"
   ]
  },
  {
   "cell_type": "code",
   "execution_count": 6,
   "id": "6deee67d3ffe325b",
   "metadata": {
    "ExecuteTime": {
     "end_time": "2024-09-01T16:26:19.473611Z",
     "start_time": "2024-09-01T16:26:18.511812Z"
    }
   },
   "outputs": [],
   "source": [
    "columns = []\n",
    "for col in df_test:\n",
    "    if df_test[col].isnull().sum() <100 and col != 'id':\n",
    "        columns.append(col)"
   ]
  },
  {
   "cell_type": "code",
   "execution_count": 7,
   "id": "fea35417fe379c14",
   "metadata": {
    "ExecuteTime": {
     "end_time": "2024-09-01T16:26:25.704416Z",
     "start_time": "2024-09-01T16:26:25.698979Z"
    }
   },
   "outputs": [
    {
     "data": {
      "text/plain": [
       "['cap-diameter',\n",
       " 'cap-shape',\n",
       " 'cap-color',\n",
       " 'does-bruise-or-bleed',\n",
       " 'gill-color',\n",
       " 'stem-height',\n",
       " 'stem-width',\n",
       " 'stem-color',\n",
       " 'has-ring',\n",
       " 'habitat',\n",
       " 'season']"
      ]
     },
     "execution_count": 7,
     "metadata": {},
     "output_type": "execute_result"
    }
   ],
   "source": [
    "columns"
   ]
  },
  {
   "cell_type": "code",
   "execution_count": 8,
   "id": "5fa6c41e09d3f1cb",
   "metadata": {
    "ExecuteTime": {
     "end_time": "2024-09-01T16:26:27.112925Z",
     "start_time": "2024-09-01T16:26:27.105776Z"
    }
   },
   "outputs": [],
   "source": [
    "df_copy_test_ = pd.DataFrame()"
   ]
  },
  {
   "cell_type": "code",
   "execution_count": 9,
   "id": "28981fadd47fdaeb",
   "metadata": {
    "ExecuteTime": {
     "end_time": "2024-09-01T16:26:30.230925Z",
     "start_time": "2024-09-01T16:26:28.639802Z"
    }
   },
   "outputs": [],
   "source": [
    "for i in columns:\n",
    "    if i in df_test.columns and df_test[i].dtypes == 'float64':        \n",
    "        df_copy_test_[i]=df_test[i].fillna(df_test[i].mean())\n",
    "    else:\n",
    "#     elif i in df_test.columns and df_test[i].dtypes == 'object':\n",
    "        df_copy_test_[i]=df_test[i].fillna(df_test[i].mode()[0])"
   ]
  },
  {
   "cell_type": "code",
   "execution_count": 10,
   "id": "ed1492d5",
   "metadata": {
    "ExecuteTime": {
     "end_time": "2024-09-01T16:26:38.224694Z",
     "start_time": "2024-09-01T16:26:38.218261Z"
    }
   },
   "outputs": [
    {
     "data": {
      "text/plain": [
       "cap-diameter            float64\n",
       "cap-shape                object\n",
       "cap-color                object\n",
       "does-bruise-or-bleed     object\n",
       "gill-color               object\n",
       "stem-height             float64\n",
       "stem-width              float64\n",
       "stem-color               object\n",
       "has-ring                 object\n",
       "habitat                  object\n",
       "season                   object\n",
       "dtype: object"
      ]
     },
     "execution_count": 10,
     "metadata": {},
     "output_type": "execute_result"
    }
   ],
   "source": [
    "df_copy_test_.dtypes"
   ]
  },
  {
   "cell_type": "code",
   "execution_count": 11,
   "id": "373e1168e5d9767c",
   "metadata": {
    "ExecuteTime": {
     "end_time": "2024-09-01T16:26:40.234852Z",
     "start_time": "2024-09-01T16:26:40.211198Z"
    }
   },
   "outputs": [
    {
     "data": {
      "text/html": [
       "<div>\n",
       "<style scoped>\n",
       "    .dataframe tbody tr th:only-of-type {\n",
       "        vertical-align: middle;\n",
       "    }\n",
       "\n",
       "    .dataframe tbody tr th {\n",
       "        vertical-align: top;\n",
       "    }\n",
       "\n",
       "    .dataframe thead th {\n",
       "        text-align: right;\n",
       "    }\n",
       "</style>\n",
       "<table border=\"1\" class=\"dataframe\">\n",
       "  <thead>\n",
       "    <tr style=\"text-align: right;\">\n",
       "      <th></th>\n",
       "      <th>cap-diameter</th>\n",
       "      <th>cap-shape</th>\n",
       "      <th>cap-color</th>\n",
       "      <th>does-bruise-or-bleed</th>\n",
       "      <th>gill-color</th>\n",
       "      <th>stem-height</th>\n",
       "      <th>stem-width</th>\n",
       "      <th>stem-color</th>\n",
       "      <th>has-ring</th>\n",
       "      <th>habitat</th>\n",
       "      <th>season</th>\n",
       "    </tr>\n",
       "  </thead>\n",
       "  <tbody>\n",
       "    <tr>\n",
       "      <th>0</th>\n",
       "      <td>8.64</td>\n",
       "      <td>x</td>\n",
       "      <td>n</td>\n",
       "      <td>t</td>\n",
       "      <td>w</td>\n",
       "      <td>11.13</td>\n",
       "      <td>17.12</td>\n",
       "      <td>w</td>\n",
       "      <td>t</td>\n",
       "      <td>d</td>\n",
       "      <td>a</td>\n",
       "    </tr>\n",
       "    <tr>\n",
       "      <th>1</th>\n",
       "      <td>6.90</td>\n",
       "      <td>o</td>\n",
       "      <td>o</td>\n",
       "      <td>f</td>\n",
       "      <td>y</td>\n",
       "      <td>1.27</td>\n",
       "      <td>10.75</td>\n",
       "      <td>n</td>\n",
       "      <td>f</td>\n",
       "      <td>d</td>\n",
       "      <td>a</td>\n",
       "    </tr>\n",
       "    <tr>\n",
       "      <th>2</th>\n",
       "      <td>2.00</td>\n",
       "      <td>b</td>\n",
       "      <td>n</td>\n",
       "      <td>f</td>\n",
       "      <td>n</td>\n",
       "      <td>6.18</td>\n",
       "      <td>3.14</td>\n",
       "      <td>n</td>\n",
       "      <td>f</td>\n",
       "      <td>d</td>\n",
       "      <td>s</td>\n",
       "    </tr>\n",
       "    <tr>\n",
       "      <th>3</th>\n",
       "      <td>3.47</td>\n",
       "      <td>x</td>\n",
       "      <td>n</td>\n",
       "      <td>f</td>\n",
       "      <td>n</td>\n",
       "      <td>4.98</td>\n",
       "      <td>8.51</td>\n",
       "      <td>w</td>\n",
       "      <td>t</td>\n",
       "      <td>d</td>\n",
       "      <td>u</td>\n",
       "    </tr>\n",
       "    <tr>\n",
       "      <th>4</th>\n",
       "      <td>6.17</td>\n",
       "      <td>x</td>\n",
       "      <td>y</td>\n",
       "      <td>f</td>\n",
       "      <td>y</td>\n",
       "      <td>6.73</td>\n",
       "      <td>13.70</td>\n",
       "      <td>y</td>\n",
       "      <td>t</td>\n",
       "      <td>d</td>\n",
       "      <td>u</td>\n",
       "    </tr>\n",
       "  </tbody>\n",
       "</table>\n",
       "</div>"
      ],
      "text/plain": [
       "   cap-diameter cap-shape cap-color does-bruise-or-bleed gill-color  \\\n",
       "0          8.64         x         n                    t          w   \n",
       "1          6.90         o         o                    f          y   \n",
       "2          2.00         b         n                    f          n   \n",
       "3          3.47         x         n                    f          n   \n",
       "4          6.17         x         y                    f          y   \n",
       "\n",
       "   stem-height  stem-width stem-color has-ring habitat season  \n",
       "0        11.13       17.12          w        t       d      a  \n",
       "1         1.27       10.75          n        f       d      a  \n",
       "2         6.18        3.14          n        f       d      s  \n",
       "3         4.98        8.51          w        t       d      u  \n",
       "4         6.73       13.70          y        t       d      u  "
      ]
     },
     "execution_count": 11,
     "metadata": {},
     "output_type": "execute_result"
    }
   ],
   "source": [
    "df_copy_test_.head()"
   ]
  },
  {
   "cell_type": "code",
   "execution_count": 12,
   "id": "849267d3c1034cdc",
   "metadata": {
    "ExecuteTime": {
     "end_time": "2024-09-01T16:26:42.494480Z",
     "start_time": "2024-09-01T16:26:41.893009Z"
    }
   },
   "outputs": [
    {
     "data": {
      "text/plain": [
       "cap-diameter            0\n",
       "cap-shape               0\n",
       "cap-color               0\n",
       "does-bruise-or-bleed    0\n",
       "gill-color              0\n",
       "stem-height             0\n",
       "stem-width              0\n",
       "stem-color              0\n",
       "has-ring                0\n",
       "habitat                 0\n",
       "season                  0\n",
       "dtype: int64"
      ]
     },
     "execution_count": 12,
     "metadata": {},
     "output_type": "execute_result"
    }
   ],
   "source": [
    "df_copy_test_.isnull().sum()"
   ]
  },
  {
   "cell_type": "code",
   "execution_count": 13,
   "id": "5890eb186ade8341",
   "metadata": {
    "ExecuteTime": {
     "end_time": "2024-09-01T16:26:43.567327Z",
     "start_time": "2024-09-01T16:26:43.560765Z"
    }
   },
   "outputs": [
    {
     "data": {
      "text/plain": [
       "cap-diameter            float64\n",
       "cap-shape                object\n",
       "cap-color                object\n",
       "does-bruise-or-bleed     object\n",
       "gill-color               object\n",
       "stem-height             float64\n",
       "stem-width              float64\n",
       "stem-color               object\n",
       "has-ring                 object\n",
       "habitat                  object\n",
       "season                   object\n",
       "dtype: object"
      ]
     },
     "execution_count": 13,
     "metadata": {},
     "output_type": "execute_result"
    }
   ],
   "source": [
    "df_copy_test_.dtypes"
   ]
  },
  {
   "cell_type": "code",
   "execution_count": 14,
   "id": "ade7518a137908c0",
   "metadata": {
    "ExecuteTime": {
     "end_time": "2024-09-01T16:27:22.208255Z",
     "start_time": "2024-09-01T16:26:45.545369Z"
    }
   },
   "outputs": [],
   "source": [
    "for column in columns:\n",
    "    if column == 'cap-diameter' or column =='stem-height' or column =='stem-width':\n",
    "        continue\n",
    "    for i,value in enumerate(df_copy_test_[column]):\n",
    "        #print(value)\n",
    "        #print(value)\n",
    "           \n",
    "        value = value.replace(\" \",\"\")\n",
    "        \n",
    "        if re.match(\"^\\d+?\\.\\d+?$\", value) or re.match(\"^\\d+?$\", value):\n",
    "            #print(f\"число: {value}\") \n",
    "            #print(f\"мода: {df_copy_test_['cap-shape'].mode()[0]}\")\n",
    "            df_copy_test_[column].loc[i] = df_copy_test_[column].mode()[0]\n",
    "        elif len(value) > 1:        \n",
    "            #print(f\"не число а строка: {value}:\")\n",
    "            #print(f\"не число а строка,мода: {df_copy_test_['cap-shape'].mode()[0]}\")\n",
    "            #i+=1\n",
    "            df_copy_test_[column].loc[i] = df_copy_test_[column].mode()[0]\n",
    "\n",
    "        else:\n",
    "           #print(f\"не число: {value}\")\n",
    "           #i = i.append(value)\n",
    "            pass\n",
    "\n",
    "#print(i)\n",
    "    #print(f\"{value}: \\n{type(value)}\")\n",
    "    "
   ]
  },
  {
   "cell_type": "code",
   "execution_count": 15,
   "id": "eacd8de56adee397",
   "metadata": {
    "ExecuteTime": {
     "end_time": "2024-09-01T16:27:53.760544Z",
     "start_time": "2024-09-01T16:27:23.586917Z"
    }
   },
   "outputs": [],
   "source": [
    "encoder = OneHotEncoder(return_df=True)\n",
    "X_test = encoder.fit_transform(df_copy_test_)"
   ]
  },
  {
   "cell_type": "code",
   "execution_count": 15,
   "id": "1e221d989df3d0e7",
   "metadata": {
    "ExecuteTime": {
     "end_time": "2024-09-01T16:27:56.140304Z",
     "start_time": "2024-09-01T16:27:56.134288Z"
    }
   },
   "outputs": [
    {
     "data": {
      "text/plain": [
       "(2077964, 164)"
      ]
     },
     "execution_count": 15,
     "metadata": {},
     "output_type": "execute_result"
    }
   ],
   "source": [
    "X_test.shape"
   ]
  },
  {
   "cell_type": "markdown",
   "id": "27a9923150edb2e6",
   "metadata": {},
   "source": [
    "## Обработаем тренировочные данные ##"
   ]
  },
  {
   "cell_type": "code",
   "execution_count": 16,
   "id": "76e940d8172ded18",
   "metadata": {
    "ExecuteTime": {
     "end_time": "2024-09-01T16:28:03.994851Z",
     "start_time": "2024-09-01T16:27:58.933942Z"
    }
   },
   "outputs": [],
   "source": [
    "df_train = pd.read_csv('train.csv')"
   ]
  },
  {
   "cell_type": "code",
   "execution_count": 17,
   "id": "8020a57e",
   "metadata": {
    "ExecuteTime": {
     "end_time": "2024-09-01T16:28:13.099841Z",
     "start_time": "2024-09-01T16:28:12.712256Z"
    }
   },
   "outputs": [],
   "source": [
    "df_train_1 = df_train.copy()"
   ]
  },
  {
   "cell_type": "code",
   "execution_count": 18,
   "id": "e38cc151",
   "metadata": {
    "ExecuteTime": {
     "end_time": "2024-09-01T16:28:19.277486Z",
     "start_time": "2024-09-01T16:28:19.269794Z"
    }
   },
   "outputs": [
    {
     "data": {
      "text/plain": [
       "id                        int64\n",
       "class                    object\n",
       "cap-diameter            float64\n",
       "cap-shape                object\n",
       "cap-surface              object\n",
       "cap-color                object\n",
       "does-bruise-or-bleed     object\n",
       "gill-attachment          object\n",
       "gill-spacing             object\n",
       "gill-color               object\n",
       "stem-height             float64\n",
       "stem-width              float64\n",
       "stem-root                object\n",
       "stem-surface             object\n",
       "stem-color               object\n",
       "veil-type                object\n",
       "veil-color               object\n",
       "has-ring                 object\n",
       "ring-type                object\n",
       "spore-print-color        object\n",
       "habitat                  object\n",
       "season                   object\n",
       "dtype: object"
      ]
     },
     "execution_count": 18,
     "metadata": {},
     "output_type": "execute_result"
    }
   ],
   "source": [
    "df_train_1.dtypes"
   ]
  },
  {
   "cell_type": "code",
   "execution_count": 19,
   "id": "92ed6f76e4ea2739",
   "metadata": {
    "ExecuteTime": {
     "end_time": "2024-09-01T16:28:21.169890Z",
     "start_time": "2024-09-01T16:28:21.165249Z"
    }
   },
   "outputs": [],
   "source": [
    "#df_train_1 = df_train.iloc[:1000000]"
   ]
  },
  {
   "cell_type": "code",
   "execution_count": 20,
   "id": "259f42f7bd9dd3cb",
   "metadata": {
    "ExecuteTime": {
     "end_time": "2024-09-01T16:28:23.831954Z",
     "start_time": "2024-09-01T16:28:22.208820Z"
    }
   },
   "outputs": [
    {
     "data": {
      "text/plain": [
       "id                            0\n",
       "class                         0\n",
       "cap-diameter                  4\n",
       "cap-shape                    40\n",
       "cap-surface              671023\n",
       "cap-color                    12\n",
       "does-bruise-or-bleed          8\n",
       "gill-attachment          523936\n",
       "gill-spacing            1258435\n",
       "gill-color                   57\n",
       "stem-height                   0\n",
       "stem-width                    0\n",
       "stem-root               2757023\n",
       "stem-surface            1980861\n",
       "stem-color                   38\n",
       "veil-type               2957493\n",
       "veil-color              2740947\n",
       "has-ring                     24\n",
       "ring-type                128880\n",
       "spore-print-color       2849682\n",
       "habitat                      45\n",
       "season                        0\n",
       "dtype: int64"
      ]
     },
     "execution_count": 20,
     "metadata": {},
     "output_type": "execute_result"
    }
   ],
   "source": [
    "df_train_1.isnull().sum()"
   ]
  },
  {
   "cell_type": "code",
   "execution_count": 21,
   "id": "83b652c310f8a32a",
   "metadata": {
    "ExecuteTime": {
     "end_time": "2024-09-01T16:28:28.266317Z",
     "start_time": "2024-09-01T16:28:28.262343Z"
    }
   },
   "outputs": [],
   "source": [
    "df_train_copy = pd.DataFrame()"
   ]
  },
  {
   "cell_type": "code",
   "execution_count": 22,
   "id": "b1ebf843f4443998",
   "metadata": {
    "ExecuteTime": {
     "end_time": "2024-09-01T16:28:31.642602Z",
     "start_time": "2024-09-01T16:28:29.506018Z"
    }
   },
   "outputs": [],
   "source": [
    "for column in df_train_1.columns:\n",
    "    if column == 'class':\n",
    "        df_train_copy[column] = df_train_1[column]\n",
    "    if column in columns and df_train_1[column].dtypes == 'float64':\n",
    "        df_train_copy[column]=df_train_1[column].fillna(df_train_1[column].mean())\n",
    "    if column in columns and df_train_1[column].dtypes == 'object':\n",
    "        df_train_copy[column]=df_train_1[column].fillna(df_train_1[column].mode()[0])"
   ]
  },
  {
   "cell_type": "code",
   "execution_count": 23,
   "id": "fa423e5b",
   "metadata": {
    "ExecuteTime": {
     "end_time": "2024-09-01T16:28:32.878129Z",
     "start_time": "2024-09-01T16:28:32.871555Z"
    }
   },
   "outputs": [
    {
     "data": {
      "text/plain": [
       "class                    object\n",
       "cap-diameter            float64\n",
       "cap-shape                object\n",
       "cap-color                object\n",
       "does-bruise-or-bleed     object\n",
       "gill-color               object\n",
       "stem-height             float64\n",
       "stem-width              float64\n",
       "stem-color               object\n",
       "has-ring                 object\n",
       "habitat                  object\n",
       "season                   object\n",
       "dtype: object"
      ]
     },
     "execution_count": 23,
     "metadata": {},
     "output_type": "execute_result"
    }
   ],
   "source": [
    "df_train_copy.dtypes"
   ]
  },
  {
   "cell_type": "code",
   "execution_count": 24,
   "id": "87baa69d38ced2f1",
   "metadata": {
    "ExecuteTime": {
     "end_time": "2024-09-01T16:28:35.180258Z",
     "start_time": "2024-09-01T16:28:34.272658Z"
    }
   },
   "outputs": [
    {
     "data": {
      "text/plain": [
       "class                   0\n",
       "cap-diameter            0\n",
       "cap-shape               0\n",
       "cap-color               0\n",
       "does-bruise-or-bleed    0\n",
       "gill-color              0\n",
       "stem-height             0\n",
       "stem-width              0\n",
       "stem-color              0\n",
       "has-ring                0\n",
       "habitat                 0\n",
       "season                  0\n",
       "dtype: int64"
      ]
     },
     "execution_count": 24,
     "metadata": {},
     "output_type": "execute_result"
    }
   ],
   "source": [
    "df_train_copy.isnull().sum()"
   ]
  },
  {
   "cell_type": "code",
   "execution_count": 25,
   "id": "c321a061",
   "metadata": {
    "ExecuteTime": {
     "end_time": "2024-09-01T16:28:38.183392Z",
     "start_time": "2024-09-01T16:28:38.165084Z"
    }
   },
   "outputs": [
    {
     "data": {
      "text/html": [
       "<div>\n",
       "<style scoped>\n",
       "    .dataframe tbody tr th:only-of-type {\n",
       "        vertical-align: middle;\n",
       "    }\n",
       "\n",
       "    .dataframe tbody tr th {\n",
       "        vertical-align: top;\n",
       "    }\n",
       "\n",
       "    .dataframe thead th {\n",
       "        text-align: right;\n",
       "    }\n",
       "</style>\n",
       "<table border=\"1\" class=\"dataframe\">\n",
       "  <thead>\n",
       "    <tr style=\"text-align: right;\">\n",
       "      <th></th>\n",
       "      <th>class</th>\n",
       "      <th>cap-diameter</th>\n",
       "      <th>cap-shape</th>\n",
       "      <th>cap-color</th>\n",
       "      <th>does-bruise-or-bleed</th>\n",
       "      <th>gill-color</th>\n",
       "      <th>stem-height</th>\n",
       "      <th>stem-width</th>\n",
       "      <th>stem-color</th>\n",
       "      <th>has-ring</th>\n",
       "      <th>habitat</th>\n",
       "      <th>season</th>\n",
       "    </tr>\n",
       "  </thead>\n",
       "  <tbody>\n",
       "    <tr>\n",
       "      <th>0</th>\n",
       "      <td>e</td>\n",
       "      <td>8.80</td>\n",
       "      <td>f</td>\n",
       "      <td>u</td>\n",
       "      <td>f</td>\n",
       "      <td>w</td>\n",
       "      <td>4.51</td>\n",
       "      <td>15.39</td>\n",
       "      <td>w</td>\n",
       "      <td>f</td>\n",
       "      <td>d</td>\n",
       "      <td>a</td>\n",
       "    </tr>\n",
       "    <tr>\n",
       "      <th>1</th>\n",
       "      <td>p</td>\n",
       "      <td>4.51</td>\n",
       "      <td>x</td>\n",
       "      <td>o</td>\n",
       "      <td>f</td>\n",
       "      <td>n</td>\n",
       "      <td>4.79</td>\n",
       "      <td>6.48</td>\n",
       "      <td>o</td>\n",
       "      <td>t</td>\n",
       "      <td>d</td>\n",
       "      <td>w</td>\n",
       "    </tr>\n",
       "    <tr>\n",
       "      <th>2</th>\n",
       "      <td>e</td>\n",
       "      <td>6.94</td>\n",
       "      <td>f</td>\n",
       "      <td>b</td>\n",
       "      <td>f</td>\n",
       "      <td>w</td>\n",
       "      <td>6.85</td>\n",
       "      <td>9.93</td>\n",
       "      <td>n</td>\n",
       "      <td>f</td>\n",
       "      <td>l</td>\n",
       "      <td>w</td>\n",
       "    </tr>\n",
       "    <tr>\n",
       "      <th>3</th>\n",
       "      <td>e</td>\n",
       "      <td>3.88</td>\n",
       "      <td>f</td>\n",
       "      <td>g</td>\n",
       "      <td>f</td>\n",
       "      <td>g</td>\n",
       "      <td>4.16</td>\n",
       "      <td>6.53</td>\n",
       "      <td>w</td>\n",
       "      <td>f</td>\n",
       "      <td>d</td>\n",
       "      <td>u</td>\n",
       "    </tr>\n",
       "    <tr>\n",
       "      <th>4</th>\n",
       "      <td>e</td>\n",
       "      <td>5.85</td>\n",
       "      <td>x</td>\n",
       "      <td>w</td>\n",
       "      <td>f</td>\n",
       "      <td>w</td>\n",
       "      <td>3.37</td>\n",
       "      <td>8.36</td>\n",
       "      <td>w</td>\n",
       "      <td>f</td>\n",
       "      <td>g</td>\n",
       "      <td>a</td>\n",
       "    </tr>\n",
       "  </tbody>\n",
       "</table>\n",
       "</div>"
      ],
      "text/plain": [
       "  class  cap-diameter cap-shape cap-color does-bruise-or-bleed gill-color  \\\n",
       "0     e          8.80         f         u                    f          w   \n",
       "1     p          4.51         x         o                    f          n   \n",
       "2     e          6.94         f         b                    f          w   \n",
       "3     e          3.88         f         g                    f          g   \n",
       "4     e          5.85         x         w                    f          w   \n",
       "\n",
       "   stem-height  stem-width stem-color has-ring habitat season  \n",
       "0         4.51       15.39          w        f       d      a  \n",
       "1         4.79        6.48          o        t       d      w  \n",
       "2         6.85        9.93          n        f       l      w  \n",
       "3         4.16        6.53          w        f       d      u  \n",
       "4         3.37        8.36          w        f       g      a  "
      ]
     },
     "execution_count": 25,
     "metadata": {},
     "output_type": "execute_result"
    }
   ],
   "source": [
    "df_train_copy.head()"
   ]
  },
  {
   "cell_type": "code",
   "execution_count": 26,
   "id": "51557f9833f984d1",
   "metadata": {
    "ExecuteTime": {
     "end_time": "2024-09-01T16:28:40.097632Z",
     "start_time": "2024-09-01T16:28:39.954972Z"
    }
   },
   "outputs": [
    {
     "data": {
      "text/plain": [
       "array(['a', 'w', 'u', 's'], dtype=object)"
      ]
     },
     "execution_count": 26,
     "metadata": {},
     "output_type": "execute_result"
    }
   ],
   "source": [
    "df_train_copy['season'].unique()"
   ]
  },
  {
   "cell_type": "code",
   "execution_count": 27,
   "id": "7f26ed2d",
   "metadata": {
    "ExecuteTime": {
     "end_time": "2024-09-01T16:28:41.296483Z",
     "start_time": "2024-09-01T16:28:41.291397Z"
    }
   },
   "outputs": [
    {
     "data": {
      "text/plain": [
       "(3116945, 12)"
      ]
     },
     "execution_count": 27,
     "metadata": {},
     "output_type": "execute_result"
    }
   ],
   "source": [
    "df_train_copy.shape"
   ]
  },
  {
   "cell_type": "code",
   "execution_count": 28,
   "id": "bddf6a920fc3bfe9",
   "metadata": {
    "ExecuteTime": {
     "end_time": "2024-09-01T16:29:48.465272Z",
     "start_time": "2024-09-01T16:28:43.469159Z"
    }
   },
   "outputs": [],
   "source": [
    "for column in columns:\n",
    "    if column == 'cap-diameter' or column =='stem-height' or column =='stem-width':\n",
    "        continue\n",
    "    for i,value in enumerate(df_train_copy[column]):\n",
    "        #print(value)\n",
    "        #print(value)\n",
    "\n",
    "        value = value.replace(\" \",\"\")\n",
    "\n",
    "        if re.match(\"^\\d+?\\.\\d+?$\", value) or re.match(\"^\\d+?$\", value):\n",
    "            #print(f\"число: {value}\") \n",
    "            #print(f\"мода: {df_copy_test_['cap-shape'].mode()[0]}\")\n",
    "            df_train_copy[column].loc[i] = df_train_copy[column].mode()[0]\n",
    "        elif len(value) > 1:\n",
    "            #print(f\"не число а строка: {value}:\")\n",
    "            #print(f\"не число а строка,мода: {df_copy_test_['cap-shape'].mode()[0]}\")\n",
    "            #i+=1\n",
    "            df_train_copy[column].loc[i] = df_train_copy[column].mode()[0]\n",
    "\n",
    "        else:\n",
    "            #print(f\"не число: {value}\")\n",
    "            #i = i.append(value)\n",
    "            pass\n",
    "\n",
    "#print(i)\n",
    "#print(f\"{value}: \\n{type(value)}\") "
   ]
  },
  {
   "cell_type": "code",
   "execution_count": 29,
   "id": "184d36c0166bf4d3",
   "metadata": {
    "ExecuteTime": {
     "end_time": "2024-09-01T16:30:11.061988Z",
     "start_time": "2024-09-01T16:30:10.913421Z"
    }
   },
   "outputs": [],
   "source": [
    "y = df_train_copy[\"class\"]\n",
    "y = y.map({\"p\":-1, \"e\":1})"
   ]
  },
  {
   "cell_type": "code",
   "execution_count": 30,
   "id": "22361da95e1cec9b",
   "metadata": {
    "ExecuteTime": {
     "end_time": "2024-09-01T16:30:13.149659Z",
     "start_time": "2024-09-01T16:30:12.737215Z"
    }
   },
   "outputs": [],
   "source": [
    "X = df_train_copy.drop([\"class\"], axis=1)"
   ]
  },
  {
   "cell_type": "code",
   "execution_count": 31,
   "id": "31afc151",
   "metadata": {
    "ExecuteTime": {
     "end_time": "2024-09-01T16:30:14.199911Z",
     "start_time": "2024-09-01T16:30:14.193190Z"
    }
   },
   "outputs": [
    {
     "data": {
      "text/plain": [
       "cap-diameter            float64\n",
       "cap-shape                object\n",
       "cap-color                object\n",
       "does-bruise-or-bleed     object\n",
       "gill-color               object\n",
       "stem-height             float64\n",
       "stem-width              float64\n",
       "stem-color               object\n",
       "has-ring                 object\n",
       "habitat                  object\n",
       "season                   object\n",
       "dtype: object"
      ]
     },
     "execution_count": 31,
     "metadata": {},
     "output_type": "execute_result"
    }
   ],
   "source": [
    "X.dtypes"
   ]
  },
  {
   "cell_type": "code",
   "execution_count": 32,
   "id": "48d1b12b0c369bd7",
   "metadata": {
    "ExecuteTime": {
     "end_time": "2024-09-01T16:30:15.933621Z",
     "start_time": "2024-09-01T16:30:15.929927Z"
    }
   },
   "outputs": [],
   "source": [
    "# encoder = LeaveOneOutEncoder(return_df=True)\n",
    "# X2 = encoder.fit_transform(X,y)\n",
    "# X2.dtypes"
   ]
  },
  {
   "cell_type": "code",
   "execution_count": 32,
   "id": "1f904378661c8c66",
   "metadata": {
    "ExecuteTime": {
     "end_time": "2024-09-01T16:31:04.460315Z",
     "start_time": "2024-09-01T16:30:17.079347Z"
    }
   },
   "outputs": [],
   "source": [
    "encoder = OneHotEncoder(return_df=True)\n",
    "X_train = encoder.fit_transform(X,y)"
   ]
  },
  {
   "cell_type": "code",
   "execution_count": 34,
   "id": "e747730f",
   "metadata": {
    "ExecuteTime": {
     "end_time": "2024-09-01T16:32:43.723519Z",
     "start_time": "2024-09-01T16:31:53.284097Z"
    }
   },
   "outputs": [],
   "source": [
    "# yencoder = OneHotEncoder(return_df=True)\n",
    "# X2 = encoder.fit_transform(X)"
   ]
  },
  {
   "cell_type": "code",
   "execution_count": 33,
   "id": "ac5be36c",
   "metadata": {
    "jupyter": {
     "is_executing": true
    }
   },
   "outputs": [
    {
     "data": {
      "text/plain": [
       "(3116945, 165)"
      ]
     },
     "execution_count": 33,
     "metadata": {},
     "output_type": "execute_result"
    }
   ],
   "source": [
    "X_train.shape"
   ]
  },
  {
   "cell_type": "code",
   "execution_count": 34,
   "id": "5c50d54d",
   "metadata": {
    "jupyter": {
     "is_executing": true
    }
   },
   "outputs": [
    {
     "data": {
      "text/plain": [
       "(2077964, 164)"
      ]
     },
     "execution_count": 34,
     "metadata": {},
     "output_type": "execute_result"
    }
   ],
   "source": [
    "X_test.shape"
   ]
  },
  {
   "cell_type": "markdown",
   "id": "10b53810",
   "metadata": {},
   "source": [
    "## Посмотрим разницу в уникальных данных по столбцам в наших датасетах ##"
   ]
  },
  {
   "cell_type": "code",
   "execution_count": 35,
   "id": "dad23b32",
   "metadata": {
    "ExecuteTime": {
     "end_time": "2024-09-01T16:33:31.334818Z",
     "start_time": "2024-09-01T16:33:31.330180Z"
    }
   },
   "outputs": [],
   "source": [
    "train_unique = pd.DataFrame()"
   ]
  },
  {
   "cell_type": "code",
   "execution_count": 36,
   "id": "a5d758de",
   "metadata": {
    "ExecuteTime": {
     "end_time": "2024-09-01T16:33:34.335948Z",
     "start_time": "2024-09-01T16:33:33.146452Z"
    }
   },
   "outputs": [],
   "source": [
    "for i,column in enumerate(columns):\n",
    "    if column == 'cap-diameter' or column =='stem-height' or column =='stem-width':\n",
    "        continue\n",
    "    train_unique = pd.concat([train_unique,pd.DataFrame(df_train_copy[column].unique())], ignore_index=True, axis=1)    \n",
    "     "
   ]
  },
  {
   "cell_type": "code",
   "execution_count": 37,
   "id": "a5c863d0c6431bcc",
   "metadata": {
    "ExecuteTime": {
     "end_time": "2024-09-01T16:33:35.827566Z",
     "start_time": "2024-09-01T16:33:35.821854Z"
    }
   },
   "outputs": [
    {
     "data": {
      "text/plain": [
       "0    object\n",
       "1    object\n",
       "2    object\n",
       "3    object\n",
       "4    object\n",
       "5    object\n",
       "6    object\n",
       "7    object\n",
       "dtype: object"
      ]
     },
     "execution_count": 37,
     "metadata": {},
     "output_type": "execute_result"
    }
   ],
   "source": [
    "train_unique.dtypes"
   ]
  },
  {
   "cell_type": "code",
   "execution_count": 37,
   "id": "fe1f3033628f3fe9",
   "metadata": {
    "jupyter": {
     "is_executing": true
    }
   },
   "outputs": [],
   "source": [
    "train_unique.sort_values(by=5, ascending=True, inplace=True)"
   ]
  },
  {
   "cell_type": "code",
   "execution_count": 38,
   "id": "319a66af4a01cbb0",
   "metadata": {
    "ExecuteTime": {
     "end_time": "2024-09-01T16:33:42.277810Z",
     "start_time": "2024-09-01T16:33:42.255677Z"
    }
   },
   "outputs": [
    {
     "data": {
      "text/html": [
       "<div>\n",
       "<style scoped>\n",
       "    .dataframe tbody tr th:only-of-type {\n",
       "        vertical-align: middle;\n",
       "    }\n",
       "\n",
       "    .dataframe tbody tr th {\n",
       "        vertical-align: top;\n",
       "    }\n",
       "\n",
       "    .dataframe thead th {\n",
       "        text-align: right;\n",
       "    }\n",
       "</style>\n",
       "<table border=\"1\" class=\"dataframe\">\n",
       "  <thead>\n",
       "    <tr style=\"text-align: right;\">\n",
       "      <th></th>\n",
       "      <th>0</th>\n",
       "      <th>1</th>\n",
       "      <th>2</th>\n",
       "      <th>3</th>\n",
       "      <th>4</th>\n",
       "      <th>5</th>\n",
       "      <th>6</th>\n",
       "      <th>7</th>\n",
       "    </tr>\n",
       "  </thead>\n",
       "  <tbody>\n",
       "    <tr>\n",
       "      <th>20</th>\n",
       "      <td>i</td>\n",
       "      <td>m</td>\n",
       "      <td>e</td>\n",
       "      <td>l</td>\n",
       "      <td>c</td>\n",
       "      <td>a</td>\n",
       "      <td>o</td>\n",
       "      <td>NaN</td>\n",
       "    </tr>\n",
       "    <tr>\n",
       "      <th>5</th>\n",
       "      <td>c</td>\n",
       "      <td>n</td>\n",
       "      <td>b</td>\n",
       "      <td>f</td>\n",
       "      <td>u</td>\n",
       "      <td>c</td>\n",
       "      <td>m</td>\n",
       "      <td>NaN</td>\n",
       "    </tr>\n",
       "    <tr>\n",
       "      <th>14</th>\n",
       "      <td>g</td>\n",
       "      <td>d</td>\n",
       "      <td>c</td>\n",
       "      <td>z</td>\n",
       "      <td>z</td>\n",
       "      <td>d</td>\n",
       "      <td>b</td>\n",
       "      <td>NaN</td>\n",
       "    </tr>\n",
       "    <tr>\n",
       "      <th>6</th>\n",
       "      <td>s</td>\n",
       "      <td>e</td>\n",
       "      <td>x</td>\n",
       "      <td>p</td>\n",
       "      <td>p</td>\n",
       "      <td>e</td>\n",
       "      <td>u</td>\n",
       "      <td>NaN</td>\n",
       "    </tr>\n",
       "    <tr>\n",
       "      <th>0</th>\n",
       "      <td>f</td>\n",
       "      <td>u</td>\n",
       "      <td>f</td>\n",
       "      <td>w</td>\n",
       "      <td>w</td>\n",
       "      <td>f</td>\n",
       "      <td>d</td>\n",
       "      <td>a</td>\n",
       "    </tr>\n",
       "    <tr>\n",
       "      <th>7</th>\n",
       "      <td>d</td>\n",
       "      <td>y</td>\n",
       "      <td>p</td>\n",
       "      <td>o</td>\n",
       "      <td>f</td>\n",
       "      <td>g</td>\n",
       "      <td>w</td>\n",
       "      <td>NaN</td>\n",
       "    </tr>\n",
       "    <tr>\n",
       "      <th>2</th>\n",
       "      <td>p</td>\n",
       "      <td>b</td>\n",
       "      <td>d</td>\n",
       "      <td>g</td>\n",
       "      <td>n</td>\n",
       "      <td>h</td>\n",
       "      <td>g</td>\n",
       "      <td>u</td>\n",
       "    </tr>\n",
       "    <tr>\n",
       "      <th>18</th>\n",
       "      <td>u</td>\n",
       "      <td>c</td>\n",
       "      <td>k</td>\n",
       "      <td>c</td>\n",
       "      <td>s</td>\n",
       "      <td>i</td>\n",
       "      <td>r</td>\n",
       "      <td>NaN</td>\n",
       "    </tr>\n",
       "    <tr>\n",
       "      <th>12</th>\n",
       "      <td>l</td>\n",
       "      <td>i</td>\n",
       "      <td>l</td>\n",
       "      <td>d</td>\n",
       "      <td>b</td>\n",
       "      <td>k</td>\n",
       "      <td>k</td>\n",
       "      <td>NaN</td>\n",
       "    </tr>\n",
       "    <tr>\n",
       "      <th>8</th>\n",
       "      <td>e</td>\n",
       "      <td>r</td>\n",
       "      <td>g</td>\n",
       "      <td>b</td>\n",
       "      <td>g</td>\n",
       "      <td>l</td>\n",
       "      <td>y</td>\n",
       "      <td>NaN</td>\n",
       "    </tr>\n",
       "    <tr>\n",
       "      <th>17</th>\n",
       "      <td>r</td>\n",
       "      <td>f</td>\n",
       "      <td>s</td>\n",
       "      <td>s</td>\n",
       "      <td>d</td>\n",
       "      <td>m</td>\n",
       "      <td>e</td>\n",
       "      <td>NaN</td>\n",
       "    </tr>\n",
       "    <tr>\n",
       "      <th>16</th>\n",
       "      <td>a</td>\n",
       "      <td>a</td>\n",
       "      <td>z</td>\n",
       "      <td>x</td>\n",
       "      <td>h</td>\n",
       "      <td>n</td>\n",
       "      <td>c</td>\n",
       "      <td>NaN</td>\n",
       "    </tr>\n",
       "    <tr>\n",
       "      <th>15</th>\n",
       "      <td>z</td>\n",
       "      <td>s</td>\n",
       "      <td>n</td>\n",
       "      <td>h</td>\n",
       "      <td>a</td>\n",
       "      <td>o</td>\n",
       "      <td>t</td>\n",
       "      <td>NaN</td>\n",
       "    </tr>\n",
       "    <tr>\n",
       "      <th>10</th>\n",
       "      <td>w</td>\n",
       "      <td>k</td>\n",
       "      <td>r</td>\n",
       "      <td>e</td>\n",
       "      <td>k</td>\n",
       "      <td>p</td>\n",
       "      <td>a</td>\n",
       "      <td>NaN</td>\n",
       "    </tr>\n",
       "    <tr>\n",
       "      <th>3</th>\n",
       "      <td>b</td>\n",
       "      <td>g</td>\n",
       "      <td>w</td>\n",
       "      <td>k</td>\n",
       "      <td>y</td>\n",
       "      <td>r</td>\n",
       "      <td>h</td>\n",
       "      <td>s</td>\n",
       "    </tr>\n",
       "    <tr>\n",
       "      <th>9</th>\n",
       "      <td>n</td>\n",
       "      <td>p</td>\n",
       "      <td>y</td>\n",
       "      <td>u</td>\n",
       "      <td>r</td>\n",
       "      <td>s</td>\n",
       "      <td>n</td>\n",
       "      <td>NaN</td>\n",
       "    </tr>\n",
       "    <tr>\n",
       "      <th>1</th>\n",
       "      <td>x</td>\n",
       "      <td>o</td>\n",
       "      <td>t</td>\n",
       "      <td>n</td>\n",
       "      <td>o</td>\n",
       "      <td>t</td>\n",
       "      <td>l</td>\n",
       "      <td>w</td>\n",
       "    </tr>\n",
       "    <tr>\n",
       "      <th>19</th>\n",
       "      <td>y</td>\n",
       "      <td>x</td>\n",
       "      <td>h</td>\n",
       "      <td>m</td>\n",
       "      <td>i</td>\n",
       "      <td>w</td>\n",
       "      <td>f</td>\n",
       "      <td>NaN</td>\n",
       "    </tr>\n",
       "    <tr>\n",
       "      <th>11</th>\n",
       "      <td>k</td>\n",
       "      <td>l</td>\n",
       "      <td>a</td>\n",
       "      <td>r</td>\n",
       "      <td>l</td>\n",
       "      <td>x</td>\n",
       "      <td>s</td>\n",
       "      <td>NaN</td>\n",
       "    </tr>\n",
       "    <tr>\n",
       "      <th>4</th>\n",
       "      <td>o</td>\n",
       "      <td>w</td>\n",
       "      <td>o</td>\n",
       "      <td>y</td>\n",
       "      <td>e</td>\n",
       "      <td>y</td>\n",
       "      <td>p</td>\n",
       "      <td>NaN</td>\n",
       "    </tr>\n",
       "    <tr>\n",
       "      <th>13</th>\n",
       "      <td>t</td>\n",
       "      <td>h</td>\n",
       "      <td>i</td>\n",
       "      <td>t</td>\n",
       "      <td>t</td>\n",
       "      <td>z</td>\n",
       "      <td>z</td>\n",
       "      <td>NaN</td>\n",
       "    </tr>\n",
       "    <tr>\n",
       "      <th>21</th>\n",
       "      <td>m</td>\n",
       "      <td>z</td>\n",
       "      <td>u</td>\n",
       "      <td>a</td>\n",
       "      <td>x</td>\n",
       "      <td>NaN</td>\n",
       "      <td>x</td>\n",
       "      <td>NaN</td>\n",
       "    </tr>\n",
       "    <tr>\n",
       "      <th>22</th>\n",
       "      <td>h</td>\n",
       "      <td>t</td>\n",
       "      <td>NaN</td>\n",
       "      <td>i</td>\n",
       "      <td>m</td>\n",
       "      <td>NaN</td>\n",
       "      <td>i</td>\n",
       "      <td>NaN</td>\n",
       "    </tr>\n",
       "  </tbody>\n",
       "</table>\n",
       "</div>"
      ],
      "text/plain": [
       "    0  1    2  3  4    5  6    7\n",
       "20  i  m    e  l  c    a  o  NaN\n",
       "5   c  n    b  f  u    c  m  NaN\n",
       "14  g  d    c  z  z    d  b  NaN\n",
       "6   s  e    x  p  p    e  u  NaN\n",
       "0   f  u    f  w  w    f  d    a\n",
       "7   d  y    p  o  f    g  w  NaN\n",
       "2   p  b    d  g  n    h  g    u\n",
       "18  u  c    k  c  s    i  r  NaN\n",
       "12  l  i    l  d  b    k  k  NaN\n",
       "8   e  r    g  b  g    l  y  NaN\n",
       "17  r  f    s  s  d    m  e  NaN\n",
       "16  a  a    z  x  h    n  c  NaN\n",
       "15  z  s    n  h  a    o  t  NaN\n",
       "10  w  k    r  e  k    p  a  NaN\n",
       "3   b  g    w  k  y    r  h    s\n",
       "9   n  p    y  u  r    s  n  NaN\n",
       "1   x  o    t  n  o    t  l    w\n",
       "19  y  x    h  m  i    w  f  NaN\n",
       "11  k  l    a  r  l    x  s  NaN\n",
       "4   o  w    o  y  e    y  p  NaN\n",
       "13  t  h    i  t  t    z  z  NaN\n",
       "21  m  z    u  a  x  NaN  x  NaN\n",
       "22  h  t  NaN  i  m  NaN  i  NaN"
      ]
     },
     "execution_count": 38,
     "metadata": {},
     "output_type": "execute_result"
    }
   ],
   "source": [
    "train_unique"
   ]
  },
  {
   "cell_type": "markdown",
   "id": "4d9ca681bae9e2aa",
   "metadata": {},
   "source": [
    "## Посмотрим на уникальные данные в тестовой выборке ##"
   ]
  },
  {
   "cell_type": "code",
   "execution_count": 39,
   "id": "5a4aafae",
   "metadata": {
    "ExecuteTime": {
     "end_time": "2024-09-01T16:33:45.183159Z",
     "start_time": "2024-09-01T16:33:45.177243Z"
    }
   },
   "outputs": [],
   "source": [
    "test_unique = pd.DataFrame()"
   ]
  },
  {
   "cell_type": "code",
   "execution_count": 40,
   "id": "df9ed396",
   "metadata": {
    "ExecuteTime": {
     "end_time": "2024-09-01T16:33:47.146423Z",
     "start_time": "2024-09-01T16:33:46.336985Z"
    }
   },
   "outputs": [],
   "source": [
    "for i,column in enumerate(columns):\n",
    "    if column == 'cap-diameter' or column =='stem-height' or column =='stem-width':\n",
    "        continue\n",
    "    test_unique = pd.concat([test_unique,pd.DataFrame(df_copy_test_[column].unique())], ignore_index=True, axis=1)"
   ]
  },
  {
   "cell_type": "code",
   "execution_count": 41,
   "id": "612f8f63de96ecf3",
   "metadata": {
    "ExecuteTime": {
     "end_time": "2024-09-01T16:33:48.384819Z",
     "start_time": "2024-09-01T16:33:48.378294Z"
    }
   },
   "outputs": [
    {
     "data": {
      "text/plain": [
       "0    object\n",
       "1    object\n",
       "2    object\n",
       "3    object\n",
       "4    object\n",
       "5    object\n",
       "6    object\n",
       "7    object\n",
       "dtype: object"
      ]
     },
     "execution_count": 41,
     "metadata": {},
     "output_type": "execute_result"
    }
   ],
   "source": [
    "test_unique.dtypes"
   ]
  },
  {
   "cell_type": "code",
   "execution_count": 42,
   "id": "f227c740970f1d41",
   "metadata": {
    "jupyter": {
     "is_executing": true
    }
   },
   "outputs": [],
   "source": [
    "test_unique.sort_values(by=5, ascending=True, inplace=True)"
   ]
  },
  {
   "cell_type": "code",
   "execution_count": 43,
   "id": "9722c5a7",
   "metadata": {
    "jupyter": {
     "is_executing": true
    }
   },
   "outputs": [
    {
     "data": {
      "text/html": [
       "<div>\n",
       "<style scoped>\n",
       "    .dataframe tbody tr th:only-of-type {\n",
       "        vertical-align: middle;\n",
       "    }\n",
       "\n",
       "    .dataframe tbody tr th {\n",
       "        vertical-align: top;\n",
       "    }\n",
       "\n",
       "    .dataframe thead th {\n",
       "        text-align: right;\n",
       "    }\n",
       "</style>\n",
       "<table border=\"1\" class=\"dataframe\">\n",
       "  <thead>\n",
       "    <tr style=\"text-align: right;\">\n",
       "      <th></th>\n",
       "      <th>0</th>\n",
       "      <th>1</th>\n",
       "      <th>2</th>\n",
       "      <th>3</th>\n",
       "      <th>4</th>\n",
       "      <th>5</th>\n",
       "      <th>6</th>\n",
       "      <th>7</th>\n",
       "    </tr>\n",
       "  </thead>\n",
       "  <tbody>\n",
       "    <tr>\n",
       "      <th>3</th>\n",
       "      <td>f</td>\n",
       "      <td>k</td>\n",
       "      <td>k</td>\n",
       "      <td>e</td>\n",
       "      <td>g</td>\n",
       "      <td>a</td>\n",
       "      <td>g</td>\n",
       "      <td>w</td>\n",
       "    </tr>\n",
       "    <tr>\n",
       "      <th>19</th>\n",
       "      <td>l</td>\n",
       "      <td>c</td>\n",
       "      <td>h</td>\n",
       "      <td>i</td>\n",
       "      <td>c</td>\n",
       "      <td>b</td>\n",
       "      <td>r</td>\n",
       "      <td>NaN</td>\n",
       "    </tr>\n",
       "    <tr>\n",
       "      <th>4</th>\n",
       "      <td>s</td>\n",
       "      <td>b</td>\n",
       "      <td>x</td>\n",
       "      <td>f</td>\n",
       "      <td>o</td>\n",
       "      <td>c</td>\n",
       "      <td>h</td>\n",
       "      <td>NaN</td>\n",
       "    </tr>\n",
       "    <tr>\n",
       "      <th>13</th>\n",
       "      <td>w</td>\n",
       "      <td>f</td>\n",
       "      <td>e</td>\n",
       "      <td>d</td>\n",
       "      <td>f</td>\n",
       "      <td>d</td>\n",
       "      <td>o</td>\n",
       "      <td>NaN</td>\n",
       "    </tr>\n",
       "    <tr>\n",
       "      <th>14</th>\n",
       "      <td>d</td>\n",
       "      <td>s</td>\n",
       "      <td>r</td>\n",
       "      <td>t</td>\n",
       "      <td>h</td>\n",
       "      <td>e</td>\n",
       "      <td>e</td>\n",
       "      <td>NaN</td>\n",
       "    </tr>\n",
       "    <tr>\n",
       "      <th>1</th>\n",
       "      <td>o</td>\n",
       "      <td>o</td>\n",
       "      <td>f</td>\n",
       "      <td>y</td>\n",
       "      <td>n</td>\n",
       "      <td>f</td>\n",
       "      <td>p</td>\n",
       "      <td>s</td>\n",
       "    </tr>\n",
       "    <tr>\n",
       "      <th>6</th>\n",
       "      <td>c</td>\n",
       "      <td>e</td>\n",
       "      <td>a</td>\n",
       "      <td>g</td>\n",
       "      <td>u</td>\n",
       "      <td>g</td>\n",
       "      <td>l</td>\n",
       "      <td>NaN</td>\n",
       "    </tr>\n",
       "    <tr>\n",
       "      <th>18</th>\n",
       "      <td>r</td>\n",
       "      <td>x</td>\n",
       "      <td>g</td>\n",
       "      <td>c</td>\n",
       "      <td>m</td>\n",
       "      <td>h</td>\n",
       "      <td>y</td>\n",
       "      <td>NaN</td>\n",
       "    </tr>\n",
       "    <tr>\n",
       "      <th>7</th>\n",
       "      <td>g</td>\n",
       "      <td>g</td>\n",
       "      <td>p</td>\n",
       "      <td>p</td>\n",
       "      <td>e</td>\n",
       "      <td>i</td>\n",
       "      <td>w</td>\n",
       "      <td>NaN</td>\n",
       "    </tr>\n",
       "    <tr>\n",
       "      <th>16</th>\n",
       "      <td>u</td>\n",
       "      <td>i</td>\n",
       "      <td>y</td>\n",
       "      <td>a</td>\n",
       "      <td>a</td>\n",
       "      <td>k</td>\n",
       "      <td>c</td>\n",
       "      <td>NaN</td>\n",
       "    </tr>\n",
       "    <tr>\n",
       "      <th>5</th>\n",
       "      <td>p</td>\n",
       "      <td>w</td>\n",
       "      <td>s</td>\n",
       "      <td>b</td>\n",
       "      <td>p</td>\n",
       "      <td>l</td>\n",
       "      <td>m</td>\n",
       "      <td>NaN</td>\n",
       "    </tr>\n",
       "    <tr>\n",
       "      <th>8</th>\n",
       "      <td>t</td>\n",
       "      <td>p</td>\n",
       "      <td>n</td>\n",
       "      <td>o</td>\n",
       "      <td>k</td>\n",
       "      <td>m</td>\n",
       "      <td>s</td>\n",
       "      <td>NaN</td>\n",
       "    </tr>\n",
       "    <tr>\n",
       "      <th>17</th>\n",
       "      <td>y</td>\n",
       "      <td>a</td>\n",
       "      <td>m</td>\n",
       "      <td>x</td>\n",
       "      <td>t</td>\n",
       "      <td>o</td>\n",
       "      <td>b</td>\n",
       "      <td>NaN</td>\n",
       "    </tr>\n",
       "    <tr>\n",
       "      <th>9</th>\n",
       "      <td>i</td>\n",
       "      <td>u</td>\n",
       "      <td>o</td>\n",
       "      <td>u</td>\n",
       "      <td>r</td>\n",
       "      <td>p</td>\n",
       "      <td>t</td>\n",
       "      <td>NaN</td>\n",
       "    </tr>\n",
       "    <tr>\n",
       "      <th>10</th>\n",
       "      <td>a</td>\n",
       "      <td>l</td>\n",
       "      <td>w</td>\n",
       "      <td>k</td>\n",
       "      <td>l</td>\n",
       "      <td>r</td>\n",
       "      <td>k</td>\n",
       "      <td>NaN</td>\n",
       "    </tr>\n",
       "    <tr>\n",
       "      <th>20</th>\n",
       "      <td>z</td>\n",
       "      <td>t</td>\n",
       "      <td>NaN</td>\n",
       "      <td>h</td>\n",
       "      <td>d</td>\n",
       "      <td>s</td>\n",
       "      <td>f</td>\n",
       "      <td>NaN</td>\n",
       "    </tr>\n",
       "    <tr>\n",
       "      <th>0</th>\n",
       "      <td>x</td>\n",
       "      <td>n</td>\n",
       "      <td>t</td>\n",
       "      <td>w</td>\n",
       "      <td>w</td>\n",
       "      <td>t</td>\n",
       "      <td>d</td>\n",
       "      <td>a</td>\n",
       "    </tr>\n",
       "    <tr>\n",
       "      <th>2</th>\n",
       "      <td>b</td>\n",
       "      <td>y</td>\n",
       "      <td>c</td>\n",
       "      <td>n</td>\n",
       "      <td>y</td>\n",
       "      <td>u</td>\n",
       "      <td>u</td>\n",
       "      <td>u</td>\n",
       "    </tr>\n",
       "    <tr>\n",
       "      <th>21</th>\n",
       "      <td>h</td>\n",
       "      <td>h</td>\n",
       "      <td>NaN</td>\n",
       "      <td>z</td>\n",
       "      <td>i</td>\n",
       "      <td>w</td>\n",
       "      <td>i</td>\n",
       "      <td>NaN</td>\n",
       "    </tr>\n",
       "    <tr>\n",
       "      <th>11</th>\n",
       "      <td>n</td>\n",
       "      <td>r</td>\n",
       "      <td>b</td>\n",
       "      <td>r</td>\n",
       "      <td>b</td>\n",
       "      <td>x</td>\n",
       "      <td>n</td>\n",
       "      <td>NaN</td>\n",
       "    </tr>\n",
       "    <tr>\n",
       "      <th>12</th>\n",
       "      <td>e</td>\n",
       "      <td>z</td>\n",
       "      <td>i</td>\n",
       "      <td>l</td>\n",
       "      <td>s</td>\n",
       "      <td>y</td>\n",
       "      <td>x</td>\n",
       "      <td>NaN</td>\n",
       "    </tr>\n",
       "    <tr>\n",
       "      <th>15</th>\n",
       "      <td>k</td>\n",
       "      <td>d</td>\n",
       "      <td>l</td>\n",
       "      <td>s</td>\n",
       "      <td>x</td>\n",
       "      <td>z</td>\n",
       "      <td>a</td>\n",
       "      <td>NaN</td>\n",
       "    </tr>\n",
       "    <tr>\n",
       "      <th>22</th>\n",
       "      <td>m</td>\n",
       "      <td>m</td>\n",
       "      <td>NaN</td>\n",
       "      <td>m</td>\n",
       "      <td>z</td>\n",
       "      <td>NaN</td>\n",
       "      <td>z</td>\n",
       "      <td>NaN</td>\n",
       "    </tr>\n",
       "  </tbody>\n",
       "</table>\n",
       "</div>"
      ],
      "text/plain": [
       "    0  1    2  3  4    5  6    7\n",
       "3   f  k    k  e  g    a  g    w\n",
       "19  l  c    h  i  c    b  r  NaN\n",
       "4   s  b    x  f  o    c  h  NaN\n",
       "13  w  f    e  d  f    d  o  NaN\n",
       "14  d  s    r  t  h    e  e  NaN\n",
       "1   o  o    f  y  n    f  p    s\n",
       "6   c  e    a  g  u    g  l  NaN\n",
       "18  r  x    g  c  m    h  y  NaN\n",
       "7   g  g    p  p  e    i  w  NaN\n",
       "16  u  i    y  a  a    k  c  NaN\n",
       "5   p  w    s  b  p    l  m  NaN\n",
       "8   t  p    n  o  k    m  s  NaN\n",
       "17  y  a    m  x  t    o  b  NaN\n",
       "9   i  u    o  u  r    p  t  NaN\n",
       "10  a  l    w  k  l    r  k  NaN\n",
       "20  z  t  NaN  h  d    s  f  NaN\n",
       "0   x  n    t  w  w    t  d    a\n",
       "2   b  y    c  n  y    u  u    u\n",
       "21  h  h  NaN  z  i    w  i  NaN\n",
       "11  n  r    b  r  b    x  n  NaN\n",
       "12  e  z    i  l  s    y  x  NaN\n",
       "15  k  d    l  s  x    z  a  NaN\n",
       "22  m  m  NaN  m  z  NaN  z  NaN"
      ]
     },
     "execution_count": 43,
     "metadata": {},
     "output_type": "execute_result"
    }
   ],
   "source": [
    "test_unique"
   ]
  },
  {
   "cell_type": "code",
   "execution_count": 44,
   "id": "e9adfaa7",
   "metadata": {
    "jupyter": {
     "is_executing": true
    }
   },
   "outputs": [
    {
     "data": {
      "text/plain": [
       "['cap-diameter',\n",
       " 'cap-shape',\n",
       " 'cap-color',\n",
       " 'does-bruise-or-bleed',\n",
       " 'gill-color',\n",
       " 'stem-height',\n",
       " 'stem-width',\n",
       " 'stem-color',\n",
       " 'has-ring',\n",
       " 'habitat',\n",
       " 'season']"
      ]
     },
     "execution_count": 44,
     "metadata": {},
     "output_type": "execute_result"
    }
   ],
   "source": [
    "columns"
   ]
  },
  {
   "cell_type": "code",
   "execution_count": 45,
   "id": "e67e4e7b",
   "metadata": {
    "jupyter": {
     "is_executing": true
    }
   },
   "outputs": [
    {
     "data": {
      "text/plain": [
       "cap-diameter            float64\n",
       "cap-shape                object\n",
       "cap-color                object\n",
       "does-bruise-or-bleed     object\n",
       "gill-color               object\n",
       "stem-height             float64\n",
       "stem-width              float64\n",
       "stem-color               object\n",
       "has-ring                 object\n",
       "habitat                  object\n",
       "season                   object\n",
       "dtype: object"
      ]
     },
     "execution_count": 45,
     "metadata": {},
     "output_type": "execute_result"
    }
   ],
   "source": [
    "df_copy_test_.dtypes"
   ]
  },
  {
   "cell_type": "markdown",
   "id": "5c74ac96388af308",
   "metadata": {},
   "source": [
    "## Заменим уникальные значения в тестовых и тренировочных выборках на медианные по столбцам ##"
   ]
  },
  {
   "cell_type": "code",
   "execution_count": 46,
   "id": "7ea6dd60d2c1c6ed",
   "metadata": {
    "ExecuteTime": {
     "end_time": "2024-09-01T16:33:50.826261Z",
     "start_time": "2024-09-01T16:33:50.821723Z"
    }
   },
   "outputs": [],
   "source": [
    "df_test_copy = df_copy_test_"
   ]
  },
  {
   "cell_type": "code",
   "execution_count": 47,
   "id": "b7e691457e128c68",
   "metadata": {
    "ExecuteTime": {
     "end_time": "2024-09-01T16:33:51.980172Z",
     "start_time": "2024-09-01T16:33:51.948978Z"
    }
   },
   "outputs": [
    {
     "data": {
      "text/html": [
       "<div>\n",
       "<style scoped>\n",
       "    .dataframe tbody tr th:only-of-type {\n",
       "        vertical-align: middle;\n",
       "    }\n",
       "\n",
       "    .dataframe tbody tr th {\n",
       "        vertical-align: top;\n",
       "    }\n",
       "\n",
       "    .dataframe thead th {\n",
       "        text-align: right;\n",
       "    }\n",
       "</style>\n",
       "<table border=\"1\" class=\"dataframe\">\n",
       "  <thead>\n",
       "    <tr style=\"text-align: right;\">\n",
       "      <th></th>\n",
       "      <th>cap-diameter</th>\n",
       "      <th>cap-shape</th>\n",
       "      <th>cap-color</th>\n",
       "      <th>does-bruise-or-bleed</th>\n",
       "      <th>gill-color</th>\n",
       "      <th>stem-height</th>\n",
       "      <th>stem-width</th>\n",
       "      <th>stem-color</th>\n",
       "      <th>has-ring</th>\n",
       "      <th>habitat</th>\n",
       "      <th>season</th>\n",
       "    </tr>\n",
       "  </thead>\n",
       "  <tbody>\n",
       "    <tr>\n",
       "      <th>0</th>\n",
       "      <td>8.64</td>\n",
       "      <td>x</td>\n",
       "      <td>n</td>\n",
       "      <td>t</td>\n",
       "      <td>w</td>\n",
       "      <td>11.13</td>\n",
       "      <td>17.12</td>\n",
       "      <td>w</td>\n",
       "      <td>t</td>\n",
       "      <td>d</td>\n",
       "      <td>a</td>\n",
       "    </tr>\n",
       "    <tr>\n",
       "      <th>1</th>\n",
       "      <td>6.90</td>\n",
       "      <td>o</td>\n",
       "      <td>o</td>\n",
       "      <td>f</td>\n",
       "      <td>y</td>\n",
       "      <td>1.27</td>\n",
       "      <td>10.75</td>\n",
       "      <td>n</td>\n",
       "      <td>f</td>\n",
       "      <td>d</td>\n",
       "      <td>a</td>\n",
       "    </tr>\n",
       "    <tr>\n",
       "      <th>2</th>\n",
       "      <td>2.00</td>\n",
       "      <td>b</td>\n",
       "      <td>n</td>\n",
       "      <td>f</td>\n",
       "      <td>n</td>\n",
       "      <td>6.18</td>\n",
       "      <td>3.14</td>\n",
       "      <td>n</td>\n",
       "      <td>f</td>\n",
       "      <td>d</td>\n",
       "      <td>s</td>\n",
       "    </tr>\n",
       "    <tr>\n",
       "      <th>3</th>\n",
       "      <td>3.47</td>\n",
       "      <td>x</td>\n",
       "      <td>n</td>\n",
       "      <td>f</td>\n",
       "      <td>n</td>\n",
       "      <td>4.98</td>\n",
       "      <td>8.51</td>\n",
       "      <td>w</td>\n",
       "      <td>t</td>\n",
       "      <td>d</td>\n",
       "      <td>u</td>\n",
       "    </tr>\n",
       "    <tr>\n",
       "      <th>4</th>\n",
       "      <td>6.17</td>\n",
       "      <td>x</td>\n",
       "      <td>y</td>\n",
       "      <td>f</td>\n",
       "      <td>y</td>\n",
       "      <td>6.73</td>\n",
       "      <td>13.70</td>\n",
       "      <td>y</td>\n",
       "      <td>t</td>\n",
       "      <td>d</td>\n",
       "      <td>u</td>\n",
       "    </tr>\n",
       "    <tr>\n",
       "      <th>...</th>\n",
       "      <td>...</td>\n",
       "      <td>...</td>\n",
       "      <td>...</td>\n",
       "      <td>...</td>\n",
       "      <td>...</td>\n",
       "      <td>...</td>\n",
       "      <td>...</td>\n",
       "      <td>...</td>\n",
       "      <td>...</td>\n",
       "      <td>...</td>\n",
       "      <td>...</td>\n",
       "    </tr>\n",
       "    <tr>\n",
       "      <th>2077959</th>\n",
       "      <td>0.88</td>\n",
       "      <td>x</td>\n",
       "      <td>w</td>\n",
       "      <td>f</td>\n",
       "      <td>w</td>\n",
       "      <td>2.67</td>\n",
       "      <td>1.35</td>\n",
       "      <td>e</td>\n",
       "      <td>f</td>\n",
       "      <td>d</td>\n",
       "      <td>u</td>\n",
       "    </tr>\n",
       "    <tr>\n",
       "      <th>2077960</th>\n",
       "      <td>3.12</td>\n",
       "      <td>x</td>\n",
       "      <td>w</td>\n",
       "      <td>f</td>\n",
       "      <td>w</td>\n",
       "      <td>2.69</td>\n",
       "      <td>7.38</td>\n",
       "      <td>w</td>\n",
       "      <td>f</td>\n",
       "      <td>g</td>\n",
       "      <td>a</td>\n",
       "    </tr>\n",
       "    <tr>\n",
       "      <th>2077961</th>\n",
       "      <td>5.73</td>\n",
       "      <td>x</td>\n",
       "      <td>e</td>\n",
       "      <td>f</td>\n",
       "      <td>w</td>\n",
       "      <td>6.16</td>\n",
       "      <td>9.74</td>\n",
       "      <td>y</td>\n",
       "      <td>t</td>\n",
       "      <td>d</td>\n",
       "      <td>a</td>\n",
       "    </tr>\n",
       "    <tr>\n",
       "      <th>2077962</th>\n",
       "      <td>5.03</td>\n",
       "      <td>b</td>\n",
       "      <td>n</td>\n",
       "      <td>f</td>\n",
       "      <td>g</td>\n",
       "      <td>6.00</td>\n",
       "      <td>3.46</td>\n",
       "      <td>g</td>\n",
       "      <td>f</td>\n",
       "      <td>d</td>\n",
       "      <td>a</td>\n",
       "    </tr>\n",
       "    <tr>\n",
       "      <th>2077963</th>\n",
       "      <td>15.51</td>\n",
       "      <td>f</td>\n",
       "      <td>w</td>\n",
       "      <td>f</td>\n",
       "      <td>y</td>\n",
       "      <td>2.69</td>\n",
       "      <td>17.71</td>\n",
       "      <td>w</td>\n",
       "      <td>f</td>\n",
       "      <td>d</td>\n",
       "      <td>w</td>\n",
       "    </tr>\n",
       "  </tbody>\n",
       "</table>\n",
       "<p>2077964 rows × 11 columns</p>\n",
       "</div>"
      ],
      "text/plain": [
       "         cap-diameter cap-shape cap-color does-bruise-or-bleed gill-color  \\\n",
       "0                8.64         x         n                    t          w   \n",
       "1                6.90         o         o                    f          y   \n",
       "2                2.00         b         n                    f          n   \n",
       "3                3.47         x         n                    f          n   \n",
       "4                6.17         x         y                    f          y   \n",
       "...               ...       ...       ...                  ...        ...   \n",
       "2077959          0.88         x         w                    f          w   \n",
       "2077960          3.12         x         w                    f          w   \n",
       "2077961          5.73         x         e                    f          w   \n",
       "2077962          5.03         b         n                    f          g   \n",
       "2077963         15.51         f         w                    f          y   \n",
       "\n",
       "         stem-height  stem-width stem-color has-ring habitat season  \n",
       "0              11.13       17.12          w        t       d      a  \n",
       "1               1.27       10.75          n        f       d      a  \n",
       "2               6.18        3.14          n        f       d      s  \n",
       "3               4.98        8.51          w        t       d      u  \n",
       "4               6.73       13.70          y        t       d      u  \n",
       "...              ...         ...        ...      ...     ...    ...  \n",
       "2077959         2.67        1.35          e        f       d      u  \n",
       "2077960         2.69        7.38          w        f       g      a  \n",
       "2077961         6.16        9.74          y        t       d      a  \n",
       "2077962         6.00        3.46          g        f       d      a  \n",
       "2077963         2.69       17.71          w        f       d      w  \n",
       "\n",
       "[2077964 rows x 11 columns]"
      ]
     },
     "execution_count": 47,
     "metadata": {},
     "output_type": "execute_result"
    }
   ],
   "source": [
    "df_test_copy"
   ]
  },
  {
   "cell_type": "code",
   "execution_count": 48,
   "id": "c85430f47fdde88a",
   "metadata": {
    "ExecuteTime": {
     "end_time": "2024-09-01T16:33:52.875786Z",
     "start_time": "2024-09-01T16:33:52.868930Z"
    }
   },
   "outputs": [
    {
     "data": {
      "text/plain": [
       "pandas.core.frame.DataFrame"
      ]
     },
     "execution_count": 48,
     "metadata": {},
     "output_type": "execute_result"
    }
   ],
   "source": [
    "type(df_test_copy)"
   ]
  },
  {
   "cell_type": "code",
   "execution_count": 49,
   "id": "c2327cb60cdf7b62",
   "metadata": {
    "ExecuteTime": {
     "end_time": "2024-09-01T16:33:54.367174Z",
     "start_time": "2024-09-01T16:33:54.360239Z"
    }
   },
   "outputs": [
    {
     "data": {
      "text/plain": [
       "pandas.core.frame.DataFrame"
      ]
     },
     "execution_count": 49,
     "metadata": {},
     "output_type": "execute_result"
    }
   ],
   "source": [
    "type(df_copy_test_)"
   ]
  },
  {
   "cell_type": "code",
   "execution_count": 50,
   "id": "fe6bd0c01d2e9143",
   "metadata": {
    "ExecuteTime": {
     "end_time": "2024-09-01T16:33:55.979540Z",
     "start_time": "2024-09-01T16:33:55.705659Z"
    }
   },
   "outputs": [],
   "source": [
    "df_copy_test_['has-ring'] = df_copy_test_['has-ring'].replace('b', df_copy_test_['has-ring'].mode()[0])"
   ]
  },
  {
   "cell_type": "code",
   "execution_count": 51,
   "id": "9b6de02a114a922c",
   "metadata": {
    "ExecuteTime": {
     "end_time": "2024-09-01T16:33:56.474948Z",
     "start_time": "2024-09-01T16:33:56.334379Z"
    }
   },
   "outputs": [
    {
     "data": {
      "text/html": [
       "<div>\n",
       "<style scoped>\n",
       "    .dataframe tbody tr th:only-of-type {\n",
       "        vertical-align: middle;\n",
       "    }\n",
       "\n",
       "    .dataframe tbody tr th {\n",
       "        vertical-align: top;\n",
       "    }\n",
       "\n",
       "    .dataframe thead th {\n",
       "        text-align: right;\n",
       "    }\n",
       "</style>\n",
       "<table border=\"1\" class=\"dataframe\">\n",
       "  <thead>\n",
       "    <tr style=\"text-align: right;\">\n",
       "      <th></th>\n",
       "      <th>cap-diameter</th>\n",
       "      <th>cap-shape</th>\n",
       "      <th>cap-color</th>\n",
       "      <th>does-bruise-or-bleed</th>\n",
       "      <th>gill-color</th>\n",
       "      <th>stem-height</th>\n",
       "      <th>stem-width</th>\n",
       "      <th>stem-color</th>\n",
       "      <th>has-ring</th>\n",
       "      <th>habitat</th>\n",
       "      <th>season</th>\n",
       "    </tr>\n",
       "  </thead>\n",
       "  <tbody>\n",
       "  </tbody>\n",
       "</table>\n",
       "</div>"
      ],
      "text/plain": [
       "Empty DataFrame\n",
       "Columns: [cap-diameter, cap-shape, cap-color, does-bruise-or-bleed, gill-color, stem-height, stem-width, stem-color, has-ring, habitat, season]\n",
       "Index: []"
      ]
     },
     "execution_count": 51,
     "metadata": {},
     "output_type": "execute_result"
    }
   ],
   "source": [
    "df_copy_test_.loc[df_copy_test_['has-ring'] == 'b']"
   ]
  },
  {
   "cell_type": "code",
   "execution_count": 52,
   "id": "a3457090",
   "metadata": {
    "ExecuteTime": {
     "end_time": "2024-09-01T16:33:57.038713Z",
     "start_time": "2024-09-01T16:33:56.803781Z"
    }
   },
   "outputs": [],
   "source": [
    "df_copy_test_['does-bruise-or-bleed'] = df_copy_test_['does-bruise-or-bleed'].replace('m', df_copy_test_['does-bruise-or-bleed'].mode()[0])"
   ]
  },
  {
   "cell_type": "code",
   "execution_count": 53,
   "id": "961b6712",
   "metadata": {
    "ExecuteTime": {
     "end_time": "2024-09-01T16:33:57.297638Z",
     "start_time": "2024-09-01T16:33:57.158219Z"
    }
   },
   "outputs": [
    {
     "data": {
      "text/html": [
       "<div>\n",
       "<style scoped>\n",
       "    .dataframe tbody tr th:only-of-type {\n",
       "        vertical-align: middle;\n",
       "    }\n",
       "\n",
       "    .dataframe tbody tr th {\n",
       "        vertical-align: top;\n",
       "    }\n",
       "\n",
       "    .dataframe thead th {\n",
       "        text-align: right;\n",
       "    }\n",
       "</style>\n",
       "<table border=\"1\" class=\"dataframe\">\n",
       "  <thead>\n",
       "    <tr style=\"text-align: right;\">\n",
       "      <th></th>\n",
       "      <th>cap-diameter</th>\n",
       "      <th>cap-shape</th>\n",
       "      <th>cap-color</th>\n",
       "      <th>does-bruise-or-bleed</th>\n",
       "      <th>gill-color</th>\n",
       "      <th>stem-height</th>\n",
       "      <th>stem-width</th>\n",
       "      <th>stem-color</th>\n",
       "      <th>has-ring</th>\n",
       "      <th>habitat</th>\n",
       "      <th>season</th>\n",
       "    </tr>\n",
       "  </thead>\n",
       "  <tbody>\n",
       "  </tbody>\n",
       "</table>\n",
       "</div>"
      ],
      "text/plain": [
       "Empty DataFrame\n",
       "Columns: [cap-diameter, cap-shape, cap-color, does-bruise-or-bleed, gill-color, stem-height, stem-width, stem-color, has-ring, habitat, season]\n",
       "Index: []"
      ]
     },
     "execution_count": 53,
     "metadata": {},
     "output_type": "execute_result"
    }
   ],
   "source": [
    "df_copy_test_.loc[df_copy_test_['does-bruise-or-bleed'] == 'm']"
   ]
  },
  {
   "cell_type": "code",
   "execution_count": 54,
   "id": "fd466e7a",
   "metadata": {
    "ExecuteTime": {
     "end_time": "2024-09-01T16:33:57.516218Z",
     "start_time": "2024-09-01T16:33:57.509179Z"
    }
   },
   "outputs": [
    {
     "data": {
      "text/plain": [
       "class                    object\n",
       "cap-diameter            float64\n",
       "cap-shape                object\n",
       "cap-color                object\n",
       "does-bruise-or-bleed     object\n",
       "gill-color               object\n",
       "stem-height             float64\n",
       "stem-width              float64\n",
       "stem-color               object\n",
       "has-ring                 object\n",
       "habitat                  object\n",
       "season                   object\n",
       "dtype: object"
      ]
     },
     "execution_count": 54,
     "metadata": {},
     "output_type": "execute_result"
    }
   ],
   "source": [
    "df_train_copy.dtypes"
   ]
  },
  {
   "cell_type": "code",
   "execution_count": 55,
   "id": "221b4dbb",
   "metadata": {
    "ExecuteTime": {
     "end_time": "2024-09-01T16:33:58.367793Z",
     "start_time": "2024-09-01T16:33:58.003353Z"
    }
   },
   "outputs": [],
   "source": [
    "df_train_copy['does-bruise-or-bleed'] = df_train_copy['does-bruise-or-bleed'].replace('d', df_copy_test_['does-bruise-or-bleed'].mode()[0])"
   ]
  },
  {
   "cell_type": "code",
   "execution_count": 56,
   "id": "9b5e6416554f642c",
   "metadata": {
    "ExecuteTime": {
     "end_time": "2024-09-01T16:33:58.677285Z",
     "start_time": "2024-09-01T16:33:58.478886Z"
    }
   },
   "outputs": [
    {
     "data": {
      "text/html": [
       "<div>\n",
       "<style scoped>\n",
       "    .dataframe tbody tr th:only-of-type {\n",
       "        vertical-align: middle;\n",
       "    }\n",
       "\n",
       "    .dataframe tbody tr th {\n",
       "        vertical-align: top;\n",
       "    }\n",
       "\n",
       "    .dataframe thead th {\n",
       "        text-align: right;\n",
       "    }\n",
       "</style>\n",
       "<table border=\"1\" class=\"dataframe\">\n",
       "  <thead>\n",
       "    <tr style=\"text-align: right;\">\n",
       "      <th></th>\n",
       "      <th>class</th>\n",
       "      <th>cap-diameter</th>\n",
       "      <th>cap-shape</th>\n",
       "      <th>cap-color</th>\n",
       "      <th>does-bruise-or-bleed</th>\n",
       "      <th>gill-color</th>\n",
       "      <th>stem-height</th>\n",
       "      <th>stem-width</th>\n",
       "      <th>stem-color</th>\n",
       "      <th>has-ring</th>\n",
       "      <th>habitat</th>\n",
       "      <th>season</th>\n",
       "    </tr>\n",
       "  </thead>\n",
       "  <tbody>\n",
       "  </tbody>\n",
       "</table>\n",
       "</div>"
      ],
      "text/plain": [
       "Empty DataFrame\n",
       "Columns: [class, cap-diameter, cap-shape, cap-color, does-bruise-or-bleed, gill-color, stem-height, stem-width, stem-color, has-ring, habitat, season]\n",
       "Index: []"
      ]
     },
     "execution_count": 56,
     "metadata": {},
     "output_type": "execute_result"
    }
   ],
   "source": [
    "df_train_copy.loc[df_train_copy['does-bruise-or-bleed'] == 'd']"
   ]
  },
  {
   "cell_type": "code",
   "execution_count": 57,
   "id": "f16a7aabbf0e39b8",
   "metadata": {
    "ExecuteTime": {
     "end_time": "2024-09-01T16:33:59.142207Z",
     "start_time": "2024-09-01T16:33:58.860062Z"
    }
   },
   "outputs": [],
   "source": [
    "df_train_copy['does-bruise-or-bleed'] = df_train_copy['does-bruise-or-bleed'].replace('u', df_copy_test_['does-bruise-or-bleed'].mode()[0])"
   ]
  },
  {
   "cell_type": "code",
   "execution_count": 58,
   "id": "6a2d51dbf8537351",
   "metadata": {
    "ExecuteTime": {
     "end_time": "2024-09-01T16:33:59.666008Z",
     "start_time": "2024-09-01T16:33:59.486897Z"
    }
   },
   "outputs": [
    {
     "data": {
      "text/html": [
       "<div>\n",
       "<style scoped>\n",
       "    .dataframe tbody tr th:only-of-type {\n",
       "        vertical-align: middle;\n",
       "    }\n",
       "\n",
       "    .dataframe tbody tr th {\n",
       "        vertical-align: top;\n",
       "    }\n",
       "\n",
       "    .dataframe thead th {\n",
       "        text-align: right;\n",
       "    }\n",
       "</style>\n",
       "<table border=\"1\" class=\"dataframe\">\n",
       "  <thead>\n",
       "    <tr style=\"text-align: right;\">\n",
       "      <th></th>\n",
       "      <th>class</th>\n",
       "      <th>cap-diameter</th>\n",
       "      <th>cap-shape</th>\n",
       "      <th>cap-color</th>\n",
       "      <th>does-bruise-or-bleed</th>\n",
       "      <th>gill-color</th>\n",
       "      <th>stem-height</th>\n",
       "      <th>stem-width</th>\n",
       "      <th>stem-color</th>\n",
       "      <th>has-ring</th>\n",
       "      <th>habitat</th>\n",
       "      <th>season</th>\n",
       "    </tr>\n",
       "  </thead>\n",
       "  <tbody>\n",
       "  </tbody>\n",
       "</table>\n",
       "</div>"
      ],
      "text/plain": [
       "Empty DataFrame\n",
       "Columns: [class, cap-diameter, cap-shape, cap-color, does-bruise-or-bleed, gill-color, stem-height, stem-width, stem-color, has-ring, habitat, season]\n",
       "Index: []"
      ]
     },
     "execution_count": 58,
     "metadata": {},
     "output_type": "execute_result"
    }
   ],
   "source": [
    "df_train_copy.loc[df_train_copy['does-bruise-or-bleed'] == 'u']"
   ]
  },
  {
   "cell_type": "code",
   "execution_count": 59,
   "id": "fe76bbb98d37aaeb",
   "metadata": {
    "ExecuteTime": {
     "end_time": "2024-09-01T16:34:00.038990Z",
     "start_time": "2024-09-01T16:33:59.775560Z"
    }
   },
   "outputs": [],
   "source": [
    "df_train_copy['does-bruise-or-bleed'] = df_train_copy['does-bruise-or-bleed'].replace('z', df_copy_test_['does-bruise-or-bleed'].mode()[0])"
   ]
  },
  {
   "cell_type": "code",
   "execution_count": 60,
   "id": "66b117d322d22ffb",
   "metadata": {
    "ExecuteTime": {
     "end_time": "2024-09-01T16:34:00.607931Z",
     "start_time": "2024-09-01T16:34:00.432991Z"
    }
   },
   "outputs": [
    {
     "data": {
      "text/html": [
       "<div>\n",
       "<style scoped>\n",
       "    .dataframe tbody tr th:only-of-type {\n",
       "        vertical-align: middle;\n",
       "    }\n",
       "\n",
       "    .dataframe tbody tr th {\n",
       "        vertical-align: top;\n",
       "    }\n",
       "\n",
       "    .dataframe thead th {\n",
       "        text-align: right;\n",
       "    }\n",
       "</style>\n",
       "<table border=\"1\" class=\"dataframe\">\n",
       "  <thead>\n",
       "    <tr style=\"text-align: right;\">\n",
       "      <th></th>\n",
       "      <th>class</th>\n",
       "      <th>cap-diameter</th>\n",
       "      <th>cap-shape</th>\n",
       "      <th>cap-color</th>\n",
       "      <th>does-bruise-or-bleed</th>\n",
       "      <th>gill-color</th>\n",
       "      <th>stem-height</th>\n",
       "      <th>stem-width</th>\n",
       "      <th>stem-color</th>\n",
       "      <th>has-ring</th>\n",
       "      <th>habitat</th>\n",
       "      <th>season</th>\n",
       "    </tr>\n",
       "  </thead>\n",
       "  <tbody>\n",
       "  </tbody>\n",
       "</table>\n",
       "</div>"
      ],
      "text/plain": [
       "Empty DataFrame\n",
       "Columns: [class, cap-diameter, cap-shape, cap-color, does-bruise-or-bleed, gill-color, stem-height, stem-width, stem-color, has-ring, habitat, season]\n",
       "Index: []"
      ]
     },
     "execution_count": 60,
     "metadata": {},
     "output_type": "execute_result"
    }
   ],
   "source": [
    "df_train_copy.loc[df_train_copy['does-bruise-or-bleed'] == 'z']"
   ]
  },
  {
   "cell_type": "markdown",
   "id": "2699becd8356b2ce",
   "metadata": {},
   "source": [
    "## Закодируем наши данные "
   ]
  },
  {
   "cell_type": "markdown",
   "id": "bb45868b9ec0edf5",
   "metadata": {},
   "source": [
    "**Обновим датасеты с данными**"
   ]
  },
  {
   "cell_type": "code",
   "execution_count": 61,
   "id": "91193449633d90f4",
   "metadata": {
    "ExecuteTime": {
     "end_time": "2024-09-01T16:34:42.434713Z",
     "start_time": "2024-09-01T16:34:09.279526Z"
    }
   },
   "outputs": [],
   "source": [
    "encoder = OneHotEncoder(return_df=True)        # Тестовый датасет\n",
    "X_test = encoder.fit_transform(df_copy_test_) "
   ]
  },
  {
   "cell_type": "code",
   "execution_count": 62,
   "id": "1bfac1e51424f61f",
   "metadata": {
    "ExecuteTime": {
     "end_time": "2024-09-01T16:34:45.836383Z",
     "start_time": "2024-09-01T16:34:45.831689Z"
    }
   },
   "outputs": [
    {
     "data": {
      "text/plain": [
       "(2077964, 162)"
      ]
     },
     "execution_count": 62,
     "metadata": {},
     "output_type": "execute_result"
    }
   ],
   "source": [
    "X_test.shape"
   ]
  },
  {
   "cell_type": "code",
   "execution_count": 63,
   "id": "dacfd152e86f9edc",
   "metadata": {
    "ExecuteTime": {
     "end_time": "2024-09-01T16:34:47.289499Z",
     "start_time": "2024-09-01T16:34:47.118708Z"
    }
   },
   "outputs": [],
   "source": [
    "y_train = df_train_copy[\"class\"]                  # Таргет тренировочного датасета\n",
    "y_train = y_train.map({\"p\":-1, \"e\":1})"
   ]
  },
  {
   "cell_type": "code",
   "execution_count": 64,
   "id": "8d17f580c83656b6",
   "metadata": {
    "ExecuteTime": {
     "end_time": "2024-09-01T16:34:48.638586Z",
     "start_time": "2024-09-01T16:34:48.200920Z"
    }
   },
   "outputs": [],
   "source": [
    "X_train = df_train_copy.drop([\"class\"], axis=1)   # Тренировочный датасет"
   ]
  },
  {
   "cell_type": "code",
   "execution_count": 65,
   "id": "d1b48d9ec1186453",
   "metadata": {
    "ExecuteTime": {
     "end_time": "2024-09-01T16:34:49.977230Z",
     "start_time": "2024-09-01T16:34:49.971585Z"
    }
   },
   "outputs": [
    {
     "data": {
      "text/plain": [
       "(3116945, 11)"
      ]
     },
     "execution_count": 65,
     "metadata": {},
     "output_type": "execute_result"
    }
   ],
   "source": [
    "X_train.shape"
   ]
  },
  {
   "cell_type": "code",
   "execution_count": 66,
   "id": "d64963a0",
   "metadata": {
    "ExecuteTime": {
     "end_time": "2024-09-01T16:35:38.115191Z",
     "start_time": "2024-09-01T16:34:51.532203Z"
    }
   },
   "outputs": [],
   "source": [
    "encoder = OneHotEncoder(return_df=True)\n",
    "X_train_2 = encoder.fit_transform(X_train,y_train)"
   ]
  },
  {
   "cell_type": "code",
   "execution_count": 67,
   "id": "24d52b7c6f973691",
   "metadata": {
    "ExecuteTime": {
     "end_time": "2024-09-01T16:35:52.223719Z",
     "start_time": "2024-09-01T16:35:52.218091Z"
    }
   },
   "outputs": [
    {
     "data": {
      "text/plain": [
       "(2077964, 162)"
      ]
     },
     "execution_count": 67,
     "metadata": {},
     "output_type": "execute_result"
    }
   ],
   "source": [
    "X_test.shape"
   ]
  },
  {
   "cell_type": "code",
   "execution_count": 68,
   "id": "7cbb205154d5ba83",
   "metadata": {
    "ExecuteTime": {
     "end_time": "2024-09-01T16:35:53.872067Z",
     "start_time": "2024-09-01T16:35:53.864776Z"
    }
   },
   "outputs": [
    {
     "data": {
      "text/plain": [
       "(3116945, 162)"
      ]
     },
     "execution_count": 68,
     "metadata": {},
     "output_type": "execute_result"
    }
   ],
   "source": [
    "X_train_2.shape"
   ]
  },
  {
   "cell_type": "markdown",
   "id": "7c0b225fa7b580d1",
   "metadata": {},
   "source": []
  },
  {
   "cell_type": "markdown",
   "id": "4165356d00293fae",
   "metadata": {},
   "source": []
  },
  {
   "cell_type": "code",
   "execution_count": 70,
   "id": "07049c9c",
   "metadata": {},
   "outputs": [
    {
     "data": {
      "text/html": [
       "<div>\n",
       "<style scoped>\n",
       "    .dataframe tbody tr th:only-of-type {\n",
       "        vertical-align: middle;\n",
       "    }\n",
       "\n",
       "    .dataframe tbody tr th {\n",
       "        vertical-align: top;\n",
       "    }\n",
       "\n",
       "    .dataframe thead th {\n",
       "        text-align: right;\n",
       "    }\n",
       "</style>\n",
       "<table border=\"1\" class=\"dataframe\">\n",
       "  <thead>\n",
       "    <tr style=\"text-align: right;\">\n",
       "      <th></th>\n",
       "      <th>cap-diameter</th>\n",
       "      <th>cap-shape</th>\n",
       "      <th>cap-color</th>\n",
       "      <th>does-bruise-or-bleed</th>\n",
       "      <th>gill-color</th>\n",
       "      <th>stem-height</th>\n",
       "      <th>stem-width</th>\n",
       "      <th>stem-color</th>\n",
       "      <th>has-ring</th>\n",
       "      <th>habitat</th>\n",
       "      <th>season</th>\n",
       "    </tr>\n",
       "  </thead>\n",
       "  <tbody>\n",
       "    <tr>\n",
       "      <th>0</th>\n",
       "      <td>8.80</td>\n",
       "      <td>f</td>\n",
       "      <td>u</td>\n",
       "      <td>f</td>\n",
       "      <td>w</td>\n",
       "      <td>4.51</td>\n",
       "      <td>15.39</td>\n",
       "      <td>w</td>\n",
       "      <td>f</td>\n",
       "      <td>d</td>\n",
       "      <td>a</td>\n",
       "    </tr>\n",
       "    <tr>\n",
       "      <th>1</th>\n",
       "      <td>4.51</td>\n",
       "      <td>x</td>\n",
       "      <td>o</td>\n",
       "      <td>f</td>\n",
       "      <td>n</td>\n",
       "      <td>4.79</td>\n",
       "      <td>6.48</td>\n",
       "      <td>o</td>\n",
       "      <td>t</td>\n",
       "      <td>d</td>\n",
       "      <td>w</td>\n",
       "    </tr>\n",
       "    <tr>\n",
       "      <th>2</th>\n",
       "      <td>6.94</td>\n",
       "      <td>f</td>\n",
       "      <td>b</td>\n",
       "      <td>f</td>\n",
       "      <td>w</td>\n",
       "      <td>6.85</td>\n",
       "      <td>9.93</td>\n",
       "      <td>n</td>\n",
       "      <td>f</td>\n",
       "      <td>l</td>\n",
       "      <td>w</td>\n",
       "    </tr>\n",
       "    <tr>\n",
       "      <th>3</th>\n",
       "      <td>3.88</td>\n",
       "      <td>f</td>\n",
       "      <td>g</td>\n",
       "      <td>f</td>\n",
       "      <td>g</td>\n",
       "      <td>4.16</td>\n",
       "      <td>6.53</td>\n",
       "      <td>w</td>\n",
       "      <td>f</td>\n",
       "      <td>d</td>\n",
       "      <td>u</td>\n",
       "    </tr>\n",
       "    <tr>\n",
       "      <th>4</th>\n",
       "      <td>5.85</td>\n",
       "      <td>x</td>\n",
       "      <td>w</td>\n",
       "      <td>f</td>\n",
       "      <td>w</td>\n",
       "      <td>3.37</td>\n",
       "      <td>8.36</td>\n",
       "      <td>w</td>\n",
       "      <td>f</td>\n",
       "      <td>g</td>\n",
       "      <td>a</td>\n",
       "    </tr>\n",
       "  </tbody>\n",
       "</table>\n",
       "</div>"
      ],
      "text/plain": [
       "   cap-diameter cap-shape cap-color does-bruise-or-bleed gill-color  \\\n",
       "0          8.80         f         u                    f          w   \n",
       "1          4.51         x         o                    f          n   \n",
       "2          6.94         f         b                    f          w   \n",
       "3          3.88         f         g                    f          g   \n",
       "4          5.85         x         w                    f          w   \n",
       "\n",
       "   stem-height  stem-width stem-color has-ring habitat season  \n",
       "0         4.51       15.39          w        f       d      a  \n",
       "1         4.79        6.48          o        t       d      w  \n",
       "2         6.85        9.93          n        f       l      w  \n",
       "3         4.16        6.53          w        f       d      u  \n",
       "4         3.37        8.36          w        f       g      a  "
      ]
     },
     "execution_count": 70,
     "metadata": {},
     "output_type": "execute_result"
    }
   ],
   "source": [
    "X_train.head()"
   ]
  },
  {
   "cell_type": "code",
   "execution_count": 72,
   "id": "376e6f0a",
   "metadata": {},
   "outputs": [
    {
     "data": {
      "text/html": [
       "<div>\n",
       "<style scoped>\n",
       "    .dataframe tbody tr th:only-of-type {\n",
       "        vertical-align: middle;\n",
       "    }\n",
       "\n",
       "    .dataframe tbody tr th {\n",
       "        vertical-align: top;\n",
       "    }\n",
       "\n",
       "    .dataframe thead th {\n",
       "        text-align: right;\n",
       "    }\n",
       "</style>\n",
       "<table border=\"1\" class=\"dataframe\">\n",
       "  <thead>\n",
       "    <tr style=\"text-align: right;\">\n",
       "      <th></th>\n",
       "      <th>id</th>\n",
       "      <th>class</th>\n",
       "      <th>cap-diameter</th>\n",
       "      <th>cap-shape</th>\n",
       "      <th>cap-surface</th>\n",
       "      <th>cap-color</th>\n",
       "      <th>does-bruise-or-bleed</th>\n",
       "      <th>gill-attachment</th>\n",
       "      <th>gill-spacing</th>\n",
       "      <th>gill-color</th>\n",
       "      <th>...</th>\n",
       "      <th>stem-root</th>\n",
       "      <th>stem-surface</th>\n",
       "      <th>stem-color</th>\n",
       "      <th>veil-type</th>\n",
       "      <th>veil-color</th>\n",
       "      <th>has-ring</th>\n",
       "      <th>ring-type</th>\n",
       "      <th>spore-print-color</th>\n",
       "      <th>habitat</th>\n",
       "      <th>season</th>\n",
       "    </tr>\n",
       "  </thead>\n",
       "  <tbody>\n",
       "    <tr>\n",
       "      <th>0</th>\n",
       "      <td>0</td>\n",
       "      <td>e</td>\n",
       "      <td>8.80</td>\n",
       "      <td>f</td>\n",
       "      <td>s</td>\n",
       "      <td>u</td>\n",
       "      <td>f</td>\n",
       "      <td>a</td>\n",
       "      <td>c</td>\n",
       "      <td>w</td>\n",
       "      <td>...</td>\n",
       "      <td>NaN</td>\n",
       "      <td>NaN</td>\n",
       "      <td>w</td>\n",
       "      <td>NaN</td>\n",
       "      <td>NaN</td>\n",
       "      <td>f</td>\n",
       "      <td>f</td>\n",
       "      <td>NaN</td>\n",
       "      <td>d</td>\n",
       "      <td>a</td>\n",
       "    </tr>\n",
       "    <tr>\n",
       "      <th>1</th>\n",
       "      <td>1</td>\n",
       "      <td>p</td>\n",
       "      <td>4.51</td>\n",
       "      <td>x</td>\n",
       "      <td>h</td>\n",
       "      <td>o</td>\n",
       "      <td>f</td>\n",
       "      <td>a</td>\n",
       "      <td>c</td>\n",
       "      <td>n</td>\n",
       "      <td>...</td>\n",
       "      <td>NaN</td>\n",
       "      <td>y</td>\n",
       "      <td>o</td>\n",
       "      <td>NaN</td>\n",
       "      <td>NaN</td>\n",
       "      <td>t</td>\n",
       "      <td>z</td>\n",
       "      <td>NaN</td>\n",
       "      <td>d</td>\n",
       "      <td>w</td>\n",
       "    </tr>\n",
       "    <tr>\n",
       "      <th>2</th>\n",
       "      <td>2</td>\n",
       "      <td>e</td>\n",
       "      <td>6.94</td>\n",
       "      <td>f</td>\n",
       "      <td>s</td>\n",
       "      <td>b</td>\n",
       "      <td>f</td>\n",
       "      <td>x</td>\n",
       "      <td>c</td>\n",
       "      <td>w</td>\n",
       "      <td>...</td>\n",
       "      <td>NaN</td>\n",
       "      <td>s</td>\n",
       "      <td>n</td>\n",
       "      <td>NaN</td>\n",
       "      <td>NaN</td>\n",
       "      <td>f</td>\n",
       "      <td>f</td>\n",
       "      <td>NaN</td>\n",
       "      <td>l</td>\n",
       "      <td>w</td>\n",
       "    </tr>\n",
       "    <tr>\n",
       "      <th>3</th>\n",
       "      <td>3</td>\n",
       "      <td>e</td>\n",
       "      <td>3.88</td>\n",
       "      <td>f</td>\n",
       "      <td>y</td>\n",
       "      <td>g</td>\n",
       "      <td>f</td>\n",
       "      <td>s</td>\n",
       "      <td>NaN</td>\n",
       "      <td>g</td>\n",
       "      <td>...</td>\n",
       "      <td>NaN</td>\n",
       "      <td>NaN</td>\n",
       "      <td>w</td>\n",
       "      <td>NaN</td>\n",
       "      <td>NaN</td>\n",
       "      <td>f</td>\n",
       "      <td>f</td>\n",
       "      <td>NaN</td>\n",
       "      <td>d</td>\n",
       "      <td>u</td>\n",
       "    </tr>\n",
       "    <tr>\n",
       "      <th>4</th>\n",
       "      <td>4</td>\n",
       "      <td>e</td>\n",
       "      <td>5.85</td>\n",
       "      <td>x</td>\n",
       "      <td>l</td>\n",
       "      <td>w</td>\n",
       "      <td>f</td>\n",
       "      <td>d</td>\n",
       "      <td>NaN</td>\n",
       "      <td>w</td>\n",
       "      <td>...</td>\n",
       "      <td>NaN</td>\n",
       "      <td>NaN</td>\n",
       "      <td>w</td>\n",
       "      <td>NaN</td>\n",
       "      <td>NaN</td>\n",
       "      <td>f</td>\n",
       "      <td>f</td>\n",
       "      <td>NaN</td>\n",
       "      <td>g</td>\n",
       "      <td>a</td>\n",
       "    </tr>\n",
       "    <tr>\n",
       "      <th>...</th>\n",
       "      <td>...</td>\n",
       "      <td>...</td>\n",
       "      <td>...</td>\n",
       "      <td>...</td>\n",
       "      <td>...</td>\n",
       "      <td>...</td>\n",
       "      <td>...</td>\n",
       "      <td>...</td>\n",
       "      <td>...</td>\n",
       "      <td>...</td>\n",
       "      <td>...</td>\n",
       "      <td>...</td>\n",
       "      <td>...</td>\n",
       "      <td>...</td>\n",
       "      <td>...</td>\n",
       "      <td>...</td>\n",
       "      <td>...</td>\n",
       "      <td>...</td>\n",
       "      <td>...</td>\n",
       "      <td>...</td>\n",
       "      <td>...</td>\n",
       "    </tr>\n",
       "    <tr>\n",
       "      <th>3116940</th>\n",
       "      <td>3116940</td>\n",
       "      <td>e</td>\n",
       "      <td>9.29</td>\n",
       "      <td>f</td>\n",
       "      <td>NaN</td>\n",
       "      <td>n</td>\n",
       "      <td>t</td>\n",
       "      <td>NaN</td>\n",
       "      <td>NaN</td>\n",
       "      <td>w</td>\n",
       "      <td>...</td>\n",
       "      <td>b</td>\n",
       "      <td>NaN</td>\n",
       "      <td>w</td>\n",
       "      <td>u</td>\n",
       "      <td>w</td>\n",
       "      <td>t</td>\n",
       "      <td>g</td>\n",
       "      <td>NaN</td>\n",
       "      <td>d</td>\n",
       "      <td>u</td>\n",
       "    </tr>\n",
       "    <tr>\n",
       "      <th>3116941</th>\n",
       "      <td>3116941</td>\n",
       "      <td>e</td>\n",
       "      <td>10.88</td>\n",
       "      <td>s</td>\n",
       "      <td>NaN</td>\n",
       "      <td>w</td>\n",
       "      <td>t</td>\n",
       "      <td>d</td>\n",
       "      <td>c</td>\n",
       "      <td>p</td>\n",
       "      <td>...</td>\n",
       "      <td>NaN</td>\n",
       "      <td>NaN</td>\n",
       "      <td>w</td>\n",
       "      <td>NaN</td>\n",
       "      <td>NaN</td>\n",
       "      <td>f</td>\n",
       "      <td>f</td>\n",
       "      <td>NaN</td>\n",
       "      <td>d</td>\n",
       "      <td>u</td>\n",
       "    </tr>\n",
       "    <tr>\n",
       "      <th>3116942</th>\n",
       "      <td>3116942</td>\n",
       "      <td>p</td>\n",
       "      <td>7.82</td>\n",
       "      <td>x</td>\n",
       "      <td>e</td>\n",
       "      <td>e</td>\n",
       "      <td>f</td>\n",
       "      <td>a</td>\n",
       "      <td>NaN</td>\n",
       "      <td>w</td>\n",
       "      <td>...</td>\n",
       "      <td>NaN</td>\n",
       "      <td>NaN</td>\n",
       "      <td>y</td>\n",
       "      <td>NaN</td>\n",
       "      <td>w</td>\n",
       "      <td>t</td>\n",
       "      <td>z</td>\n",
       "      <td>NaN</td>\n",
       "      <td>d</td>\n",
       "      <td>a</td>\n",
       "    </tr>\n",
       "    <tr>\n",
       "      <th>3116943</th>\n",
       "      <td>3116943</td>\n",
       "      <td>e</td>\n",
       "      <td>9.45</td>\n",
       "      <td>p</td>\n",
       "      <td>i</td>\n",
       "      <td>n</td>\n",
       "      <td>t</td>\n",
       "      <td>e</td>\n",
       "      <td>NaN</td>\n",
       "      <td>p</td>\n",
       "      <td>...</td>\n",
       "      <td>NaN</td>\n",
       "      <td>y</td>\n",
       "      <td>w</td>\n",
       "      <td>NaN</td>\n",
       "      <td>NaN</td>\n",
       "      <td>t</td>\n",
       "      <td>p</td>\n",
       "      <td>NaN</td>\n",
       "      <td>d</td>\n",
       "      <td>u</td>\n",
       "    </tr>\n",
       "    <tr>\n",
       "      <th>3116944</th>\n",
       "      <td>3116944</td>\n",
       "      <td>p</td>\n",
       "      <td>3.20</td>\n",
       "      <td>x</td>\n",
       "      <td>s</td>\n",
       "      <td>g</td>\n",
       "      <td>f</td>\n",
       "      <td>d</td>\n",
       "      <td>c</td>\n",
       "      <td>w</td>\n",
       "      <td>...</td>\n",
       "      <td>NaN</td>\n",
       "      <td>NaN</td>\n",
       "      <td>w</td>\n",
       "      <td>NaN</td>\n",
       "      <td>NaN</td>\n",
       "      <td>f</td>\n",
       "      <td>f</td>\n",
       "      <td>NaN</td>\n",
       "      <td>g</td>\n",
       "      <td>u</td>\n",
       "    </tr>\n",
       "  </tbody>\n",
       "</table>\n",
       "<p>3116945 rows × 22 columns</p>\n",
       "</div>"
      ],
      "text/plain": [
       "              id class  cap-diameter cap-shape cap-surface cap-color  \\\n",
       "0              0     e          8.80         f           s         u   \n",
       "1              1     p          4.51         x           h         o   \n",
       "2              2     e          6.94         f           s         b   \n",
       "3              3     e          3.88         f           y         g   \n",
       "4              4     e          5.85         x           l         w   \n",
       "...          ...   ...           ...       ...         ...       ...   \n",
       "3116940  3116940     e          9.29         f         NaN         n   \n",
       "3116941  3116941     e         10.88         s         NaN         w   \n",
       "3116942  3116942     p          7.82         x           e         e   \n",
       "3116943  3116943     e          9.45         p           i         n   \n",
       "3116944  3116944     p          3.20         x           s         g   \n",
       "\n",
       "        does-bruise-or-bleed gill-attachment gill-spacing gill-color  ...  \\\n",
       "0                          f               a            c          w  ...   \n",
       "1                          f               a            c          n  ...   \n",
       "2                          f               x            c          w  ...   \n",
       "3                          f               s          NaN          g  ...   \n",
       "4                          f               d          NaN          w  ...   \n",
       "...                      ...             ...          ...        ...  ...   \n",
       "3116940                    t             NaN          NaN          w  ...   \n",
       "3116941                    t               d            c          p  ...   \n",
       "3116942                    f               a          NaN          w  ...   \n",
       "3116943                    t               e          NaN          p  ...   \n",
       "3116944                    f               d            c          w  ...   \n",
       "\n",
       "         stem-root  stem-surface stem-color veil-type veil-color has-ring  \\\n",
       "0              NaN           NaN          w       NaN        NaN        f   \n",
       "1              NaN             y          o       NaN        NaN        t   \n",
       "2              NaN             s          n       NaN        NaN        f   \n",
       "3              NaN           NaN          w       NaN        NaN        f   \n",
       "4              NaN           NaN          w       NaN        NaN        f   \n",
       "...            ...           ...        ...       ...        ...      ...   \n",
       "3116940          b           NaN          w         u          w        t   \n",
       "3116941        NaN           NaN          w       NaN        NaN        f   \n",
       "3116942        NaN           NaN          y       NaN          w        t   \n",
       "3116943        NaN             y          w       NaN        NaN        t   \n",
       "3116944        NaN           NaN          w       NaN        NaN        f   \n",
       "\n",
       "        ring-type spore-print-color habitat season  \n",
       "0               f               NaN       d      a  \n",
       "1               z               NaN       d      w  \n",
       "2               f               NaN       l      w  \n",
       "3               f               NaN       d      u  \n",
       "4               f               NaN       g      a  \n",
       "...           ...               ...     ...    ...  \n",
       "3116940         g               NaN       d      u  \n",
       "3116941         f               NaN       d      u  \n",
       "3116942         z               NaN       d      a  \n",
       "3116943         p               NaN       d      u  \n",
       "3116944         f               NaN       g      u  \n",
       "\n",
       "[3116945 rows x 22 columns]"
      ]
     },
     "execution_count": 72,
     "metadata": {},
     "output_type": "execute_result"
    }
   ],
   "source": [
    "df_train"
   ]
  },
  {
   "cell_type": "code",
   "execution_count": 75,
   "id": "11a32af3",
   "metadata": {},
   "outputs": [
    {
     "data": {
      "text/plain": [
       "0          True\n",
       "1          True\n",
       "2          True\n",
       "3          True\n",
       "4          True\n",
       "           ... \n",
       "3116940    True\n",
       "3116941    True\n",
       "3116942    True\n",
       "3116943    True\n",
       "3116944    True\n",
       "Name: cap-shape, Length: 3116945, dtype: bool"
      ]
     },
     "execution_count": 75,
     "metadata": {},
     "output_type": "execute_result"
    }
   ],
   "source": [
    "df_train['cap-shape'] == X_train['cap-shape']"
   ]
  },
  {
   "cell_type": "code",
   "execution_count": 74,
   "id": "515313ef",
   "metadata": {},
   "outputs": [
    {
     "data": {
      "text/plain": [
       "0          f\n",
       "1          x\n",
       "2          f\n",
       "3          f\n",
       "4          x\n",
       "          ..\n",
       "3116940    f\n",
       "3116941    s\n",
       "3116942    x\n",
       "3116943    p\n",
       "3116944    x\n",
       "Name: cap-shape, Length: 3116945, dtype: object"
      ]
     },
     "execution_count": 74,
     "metadata": {},
     "output_type": "execute_result"
    }
   ],
   "source": [
    "X_train['cap-shape']"
   ]
  },
  {
   "cell_type": "code",
   "execution_count": 96,
   "id": "b1374404",
   "metadata": {},
   "outputs": [],
   "source": [
    "i =0\n",
    "for i, values in enumerate(df_train['cap-shape'][:10]):\n",
    "    \n",
    "    if df_train['cap-shape'].iloc[i] != X_train['cap-shape'].iloc[i]:        \n",
    "        i+= 1\n",
    "        print(i)\n",
    "    else:\n",
    "        pass"
   ]
  },
  {
   "cell_type": "code",
   "execution_count": 100,
   "id": "42d39d64",
   "metadata": {},
   "outputs": [
    {
     "data": {
      "text/plain": [
       "0    f\n",
       "1    x\n",
       "2    f\n",
       "3    f\n",
       "4    x\n",
       "5    x\n",
       "6    p\n",
       "7    x\n",
       "8    f\n",
       "9    x\n",
       "Name: cap-shape, dtype: object"
      ]
     },
     "execution_count": 100,
     "metadata": {},
     "output_type": "execute_result"
    }
   ],
   "source": [
    "X_train['cap-shape'].head(10)"
   ]
  },
  {
   "cell_type": "code",
   "execution_count": 99,
   "id": "c323a295",
   "metadata": {},
   "outputs": [
    {
     "data": {
      "text/plain": [
       "0    f\n",
       "1    x\n",
       "2    f\n",
       "3    f\n",
       "4    x\n",
       "5    x\n",
       "6    p\n",
       "7    x\n",
       "8    f\n",
       "9    x\n",
       "Name: cap-shape, dtype: object"
      ]
     },
     "execution_count": 99,
     "metadata": {},
     "output_type": "execute_result"
    }
   ],
   "source": [
    "df_train['cap-shape'].head(10)"
   ]
  },
  {
   "cell_type": "code",
   "execution_count": 101,
   "id": "3deed7c2",
   "metadata": {},
   "outputs": [
    {
     "data": {
      "text/plain": [
       "False"
      ]
     },
     "execution_count": 101,
     "metadata": {},
     "output_type": "execute_result"
    }
   ],
   "source": [
    "df_train['cap-shape'].iloc[i] != X_train['cap-shape'].iloc[i]"
   ]
  },
  {
   "cell_type": "code",
   "execution_count": 102,
   "id": "3b1586c3",
   "metadata": {},
   "outputs": [
    {
     "data": {
      "text/plain": [
       "True"
      ]
     },
     "execution_count": 102,
     "metadata": {},
     "output_type": "execute_result"
    }
   ],
   "source": [
    "df_train['cap-shape'].iloc[i] == X_train['cap-shape'].iloc[i]"
   ]
  },
  {
   "cell_type": "code",
   "execution_count": 87,
   "id": "aba30a4b",
   "metadata": {},
   "outputs": [
    {
     "data": {
      "text/plain": [
       "'x'"
      ]
     },
     "execution_count": 87,
     "metadata": {},
     "output_type": "execute_result"
    }
   ],
   "source": [
    "df_train['cap-shape'].iloc[i]"
   ]
  },
  {
   "cell_type": "code",
   "execution_count": 88,
   "id": "7f5a71c3",
   "metadata": {},
   "outputs": [
    {
     "data": {
      "text/plain": [
       "'x'"
      ]
     },
     "execution_count": 88,
     "metadata": {},
     "output_type": "execute_result"
    }
   ],
   "source": [
    "X_train['cap-shape'].iloc[i]"
   ]
  },
  {
   "cell_type": "markdown",
   "id": "3b038a93",
   "metadata": {},
   "source": [
    "## Разобьем данные ##"
   ]
  },
  {
   "cell_type": "code",
   "execution_count": 103,
   "id": "c7814afa61fc6c5a",
   "metadata": {
    "ExecuteTime": {
     "end_time": "2024-09-01T16:44:03.141883Z",
     "start_time": "2024-09-01T16:44:03.136345Z"
    }
   },
   "outputs": [],
   "source": [
    "X_train_2_2 = X_train_2[:2000000]"
   ]
  },
  {
   "cell_type": "code",
   "execution_count": 104,
   "id": "eea764ce8f4121ed",
   "metadata": {
    "ExecuteTime": {
     "end_time": "2024-09-01T16:44:04.144135Z",
     "start_time": "2024-09-01T16:44:04.137981Z"
    }
   },
   "outputs": [],
   "source": [
    "y_train_2_2 = y_train[:2000000]"
   ]
  },
  {
   "cell_type": "code",
   "execution_count": 105,
   "id": "80efd66bd76df93a",
   "metadata": {
    "ExecuteTime": {
     "end_time": "2024-09-01T16:44:05.101339Z",
     "start_time": "2024-09-01T16:44:05.095627Z"
    }
   },
   "outputs": [],
   "source": [
    "X_train_test = X_train_2[2000000:]"
   ]
  },
  {
   "cell_type": "code",
   "execution_count": 106,
   "id": "160234dc9c892b17",
   "metadata": {
    "ExecuteTime": {
     "end_time": "2024-09-01T16:44:06.029682Z",
     "start_time": "2024-09-01T16:44:06.023937Z"
    }
   },
   "outputs": [],
   "source": [
    "y_train_test = y_train[2000000:]"
   ]
  },
  {
   "cell_type": "code",
   "execution_count": 107,
   "id": "f2a06da14fcb84e8",
   "metadata": {
    "ExecuteTime": {
     "end_time": "2024-09-01T16:44:10.661328Z",
     "start_time": "2024-09-01T16:44:07.304341Z"
    }
   },
   "outputs": [],
   "source": [
    "Xtrain, Xtest, ytrain, ytest = train_test_split(X_train_2_2, y_train_2_2, test_size=0.3, random_state=42)"
   ]
  },
  {
   "cell_type": "markdown",
   "id": "34d29366807ca392",
   "metadata": {},
   "source": [
    "## Классифицируем объекты с помощью Light Gradient Boosted Machine (LightGBM)"
   ]
  },
  {
   "cell_type": "code",
   "execution_count": 70,
   "id": "cf51162879c67b8b",
   "metadata": {
    "ExecuteTime": {
     "end_time": "2024-09-01T16:42:58.212327Z",
     "start_time": "2024-09-01T16:42:58.207292Z"
    }
   },
   "outputs": [],
   "source": [
    " from lightgbm import LGBMClassifier"
   ]
  },
  {
   "cell_type": "code",
   "execution_count": 77,
   "id": "af9aea4af9fb02db",
   "metadata": {
    "ExecuteTime": {
     "end_time": "2024-09-01T16:44:44.012501Z",
     "start_time": "2024-09-01T16:44:33.797180Z"
    }
   },
   "outputs": [],
   "source": [
    "classifier = LGBMClassifier(n_estimators=500,\n",
    "                            random_state=42,\n",
    "                            max_bin=128,\n",
    "                            colsample_bytree=0.6,\n",
    "                            reg_lambda = 80,\n",
    "                            learning_rate= 0.1, # Higher LR => Quicker?\n",
    "                            device = 'gpu',\n",
    "                            #num_threads=24,\n",
    "                            verbose = -1).fit(Xtrain, ytrain)"
   ]
  },
  {
   "cell_type": "code",
   "execution_count": 78,
   "id": "4181ee1a6bcf1d0e",
   "metadata": {
    "ExecuteTime": {
     "end_time": "2024-09-01T16:45:09.845002Z",
     "start_time": "2024-09-01T16:45:07.629884Z"
    }
   },
   "outputs": [],
   "source": [
    "y_pred_lgbm = classifier.predict(Xtest)"
   ]
  },
  {
   "cell_type": "code",
   "execution_count": 79,
   "id": "d6de7d614c5dc545",
   "metadata": {
    "ExecuteTime": {
     "end_time": "2024-09-01T16:45:34.899097Z",
     "start_time": "2024-09-01T16:45:34.688257Z"
    }
   },
   "outputs": [
    {
     "name": "stdout",
     "output_type": "stream",
     "text": [
      "0.95606\n"
     ]
    }
   ],
   "source": [
    "print(round(matthews_corrcoef(ytest, y_pred_lgbm),5))"
   ]
  },
  {
   "cell_type": "code",
   "execution_count": 80,
   "id": "1a83d30a0d2e93c7",
   "metadata": {
    "ExecuteTime": {
     "end_time": "2024-09-01T16:46:46.248432Z",
     "start_time": "2024-09-01T16:46:41.987612Z"
    }
   },
   "outputs": [],
   "source": [
    "y_pred_lgbm_test = classifier.predict(X_train_test)"
   ]
  },
  {
   "cell_type": "code",
   "execution_count": 81,
   "id": "36a21b47195e2a1d",
   "metadata": {
    "ExecuteTime": {
     "end_time": "2024-09-01T16:47:02.635555Z",
     "start_time": "2024-09-01T16:47:02.285407Z"
    }
   },
   "outputs": [
    {
     "name": "stdout",
     "output_type": "stream",
     "text": [
      "0.95605\n"
     ]
    }
   ],
   "source": [
    "print(round(matthews_corrcoef(y_train_test, y_pred_lgbm_test),5))"
   ]
  },
  {
   "cell_type": "code",
   "execution_count": 82,
   "id": "37fff23dfd8b0b51",
   "metadata": {
    "ExecuteTime": {
     "end_time": "2024-09-01T16:48:07.889184Z",
     "start_time": "2024-09-01T16:48:07.795749Z"
    }
   },
   "outputs": [
    {
     "name": "stdout",
     "output_type": "stream",
     "text": [
      "0.97821\n"
     ]
    }
   ],
   "source": [
    "print(round(accuracy_score(y_train_test, y_pred_lgbm_test),5))"
   ]
  },
  {
   "cell_type": "code",
   "execution_count": 83,
   "id": "50bdb810938ae40b",
   "metadata": {
    "ExecuteTime": {
     "end_time": "2024-09-01T16:49:16.110284Z",
     "start_time": "2024-09-01T16:49:08.476425Z"
    }
   },
   "outputs": [],
   "source": [
    "y_pred_lgbm_test_fin = classifier.predict(X_test)"
   ]
  },
  {
   "cell_type": "code",
   "execution_count": 84,
   "id": "6b197123d6451a5b",
   "metadata": {
    "ExecuteTime": {
     "end_time": "2024-09-01T16:54:20.587901Z",
     "start_time": "2024-09-01T16:54:20.307938Z"
    }
   },
   "outputs": [],
   "source": [
    "y_kaggle = pd.read_csv('predict_kaggle.csv')"
   ]
  },
  {
   "cell_type": "code",
   "execution_count": 86,
   "id": "d9efa6531d0a18b3",
   "metadata": {
    "ExecuteTime": {
     "end_time": "2024-09-01T16:55:07.760265Z",
     "start_time": "2024-09-01T16:55:07.747Z"
    }
   },
   "outputs": [],
   "source": [
    "y_kaggle_predict = np.array(y_kaggle['0'])"
   ]
  },
  {
   "cell_type": "code",
   "execution_count": 112,
   "id": "537fba0e8b8caadd",
   "metadata": {
    "ExecuteTime": {
     "end_time": "2024-09-01T17:07:59.637379Z",
     "start_time": "2024-09-01T17:07:53.793657Z"
    }
   },
   "outputs": [
    {
     "name": "stdout",
     "output_type": "stream",
     "text": [
      "0.07889\n"
     ]
    }
   ],
   "source": [
    "print(round(matthews_corrcoef(y_kaggle_predict, y_pred_lgbm_test_fin_pd),5))"
   ]
  },
  {
   "cell_type": "code",
   "execution_count": 102,
   "id": "335e253d6aeb0fe",
   "metadata": {
    "ExecuteTime": {
     "end_time": "2024-09-01T17:05:31.516329Z",
     "start_time": "2024-09-01T17:05:31.512Z"
    }
   },
   "outputs": [],
   "source": [
    "y_pred_lgbm_test_fin_pd = pd.DataFrame(y_pred_lgbm_test_fin)"
   ]
  },
  {
   "cell_type": "code",
   "execution_count": 99,
   "id": "8dc794995cf59ee7",
   "metadata": {
    "ExecuteTime": {
     "end_time": "2024-09-01T17:04:01.090497Z",
     "start_time": "2024-09-01T17:04:01.074274Z"
    }
   },
   "outputs": [],
   "source": [
    "y_pred_lgbm_test_fin_pd['0'] = y_pred_lgbm_test_fin_pd.replace('-1', 'p')"
   ]
  },
  {
   "cell_type": "code",
   "execution_count": 101,
   "id": "f1022de1b62f03de",
   "metadata": {
    "ExecuteTime": {
     "end_time": "2024-09-01T17:05:02.462274Z",
     "start_time": "2024-09-01T17:05:02.431099Z"
    }
   },
   "outputs": [
    {
     "ename": "ValueError",
     "evalue": "invalid literal for int() with base 10: 'p'",
     "output_type": "error",
     "traceback": [
      "\u001b[0;31m---------------------------------------------------------------------------\u001b[0m",
      "\u001b[0;31mValueError\u001b[0m                                Traceback (most recent call last)",
      "Cell \u001b[0;32mIn[101], line 1\u001b[0m\n\u001b[0;32m----> 1\u001b[0m y_pred_lgbm_test_fin[y_pred_lgbm_test_fin \u001b[38;5;241m==\u001b[39m \u001b[38;5;241m-\u001b[39m\u001b[38;5;241m1\u001b[39m] \u001b[38;5;241m=\u001b[39m\u001b[38;5;124m'\u001b[39m\u001b[38;5;124mp\u001b[39m\u001b[38;5;124m'\u001b[39m\n",
      "\u001b[0;31mValueError\u001b[0m: invalid literal for int() with base 10: 'p'"
     ]
    }
   ],
   "source": [
    "y_pred_lgbm_test_fin[y_pred_lgbm_test_fin == -1] ='p'"
   ]
  },
  {
   "cell_type": "code",
   "execution_count": 107,
   "id": "a29682e74d7f7d6b",
   "metadata": {
    "ExecuteTime": {
     "end_time": "2024-09-01T17:07:04.265611Z",
     "start_time": "2024-09-01T17:07:04.163731Z"
    }
   },
   "outputs": [],
   "source": [
    "y_pred_lgbm_test_fin_pd=y_pred_lgbm_test_fin_pd.replace(-1, 'p')"
   ]
  },
  {
   "cell_type": "code",
   "execution_count": 109,
   "id": "1835d0a00a676111",
   "metadata": {
    "ExecuteTime": {
     "end_time": "2024-09-01T17:07:18.083816Z",
     "start_time": "2024-09-01T17:07:17.921211Z"
    }
   },
   "outputs": [],
   "source": [
    "y_pred_lgbm_test_fin_pd=y_pred_lgbm_test_fin_pd.replace(1, 'e')"
   ]
  },
  {
   "cell_type": "code",
   "execution_count": 110,
   "id": "e17902cf09e1a792",
   "metadata": {
    "ExecuteTime": {
     "end_time": "2024-09-01T17:07:24.377497Z",
     "start_time": "2024-09-01T17:07:24.366428Z"
    }
   },
   "outputs": [
    {
     "data": {
      "text/html": [
       "<div>\n",
       "<style scoped>\n",
       "    .dataframe tbody tr th:only-of-type {\n",
       "        vertical-align: middle;\n",
       "    }\n",
       "\n",
       "    .dataframe tbody tr th {\n",
       "        vertical-align: top;\n",
       "    }\n",
       "\n",
       "    .dataframe thead th {\n",
       "        text-align: right;\n",
       "    }\n",
       "</style>\n",
       "<table border=\"1\" class=\"dataframe\">\n",
       "  <thead>\n",
       "    <tr style=\"text-align: right;\">\n",
       "      <th></th>\n",
       "      <th>0</th>\n",
       "    </tr>\n",
       "  </thead>\n",
       "  <tbody>\n",
       "    <tr>\n",
       "      <th>0</th>\n",
       "      <td>p</td>\n",
       "    </tr>\n",
       "    <tr>\n",
       "      <th>1</th>\n",
       "      <td>p</td>\n",
       "    </tr>\n",
       "    <tr>\n",
       "      <th>2</th>\n",
       "      <td>p</td>\n",
       "    </tr>\n",
       "    <tr>\n",
       "      <th>3</th>\n",
       "      <td>e</td>\n",
       "    </tr>\n",
       "    <tr>\n",
       "      <th>4</th>\n",
       "      <td>p</td>\n",
       "    </tr>\n",
       "    <tr>\n",
       "      <th>...</th>\n",
       "      <td>...</td>\n",
       "    </tr>\n",
       "    <tr>\n",
       "      <th>2077959</th>\n",
       "      <td>p</td>\n",
       "    </tr>\n",
       "    <tr>\n",
       "      <th>2077960</th>\n",
       "      <td>p</td>\n",
       "    </tr>\n",
       "    <tr>\n",
       "      <th>2077961</th>\n",
       "      <td>p</td>\n",
       "    </tr>\n",
       "    <tr>\n",
       "      <th>2077962</th>\n",
       "      <td>p</td>\n",
       "    </tr>\n",
       "    <tr>\n",
       "      <th>2077963</th>\n",
       "      <td>e</td>\n",
       "    </tr>\n",
       "  </tbody>\n",
       "</table>\n",
       "<p>2077964 rows × 1 columns</p>\n",
       "</div>"
      ],
      "text/plain": [
       "         0\n",
       "0        p\n",
       "1        p\n",
       "2        p\n",
       "3        e\n",
       "4        p\n",
       "...     ..\n",
       "2077959  p\n",
       "2077960  p\n",
       "2077961  p\n",
       "2077962  p\n",
       "2077963  e\n",
       "\n",
       "[2077964 rows x 1 columns]"
      ]
     },
     "execution_count": 110,
     "metadata": {},
     "output_type": "execute_result"
    }
   ],
   "source": [
    "y_pred_lgbm_test_fin_pd"
   ]
  },
  {
   "cell_type": "code",
   "execution_count": 111,
   "id": "22a1455a2deedee7",
   "metadata": {
    "ExecuteTime": {
     "end_time": "2024-09-01T17:07:41.649196Z",
     "start_time": "2024-09-01T17:07:41.627932Z"
    }
   },
   "outputs": [],
   "source": [
    "y_pred_lgbm_test_fin_np = np.array(y_pred_lgbm_test_fin_pd)"
   ]
  },
  {
   "cell_type": "code",
   "execution_count": null,
   "id": "8b9c5799138d77bf",
   "metadata": {},
   "outputs": [],
   "source": []
  },
  {
   "cell_type": "code",
   "execution_count": null,
   "id": "81e356df305dfd5",
   "metadata": {},
   "outputs": [],
   "source": []
  },
  {
   "cell_type": "markdown",
   "id": "866a55baa0df1aee",
   "metadata": {},
   "source": [
    "## Обучим модель дерева решений"
   ]
  },
  {
   "cell_type": "code",
   "execution_count": 169,
   "id": "b159b370953d6c05",
   "metadata": {
    "ExecuteTime": {
     "end_time": "2024-08-31T16:10:34.018886Z",
     "start_time": "2024-08-31T16:10:34.014466Z"
    }
   },
   "outputs": [],
   "source": [
    "dt =  DecisionTreeClassifier(criterion='entropy', max_depth=8, min_samples_split=3, random_state=18)"
   ]
  },
  {
   "cell_type": "code",
   "execution_count": null,
   "id": "32eb7d771a38058b",
   "metadata": {
    "ExecuteTime": {
     "end_time": "2024-08-31T16:11:14.241415Z",
     "start_time": "2024-08-31T16:10:43.108453Z"
    }
   },
   "outputs": [],
   "source": [
    "dt.fit(Xtrain, ytrain)\n",
    "\n",
    "y_train_dt = dt.predict(Xtrain)\n",
    "y_test_dt = dt.predict(Xtest)"
   ]
  },
  {
   "cell_type": "code",
   "execution_count": 161,
   "id": "aea9f65bfd8d7edd",
   "metadata": {
    "ExecuteTime": {
     "end_time": "2024-08-31T16:11:30.509410Z",
     "start_time": "2024-08-31T16:11:30.341981Z"
    }
   },
   "outputs": [
    {
     "name": "stdout",
     "output_type": "stream",
     "text": [
      "Decision tree accuracy train: 0.79657857\n",
      "Decision tree accuracy test: 0.79760333\n"
     ]
    }
   ],
   "source": [
    "print(f\"Decision tree accuracy train: {accuracy_score(y_train_dt, ytrain):.8f}\")\n",
    "print(f\"Decision tree accuracy test: {accuracy_score(y_test_dt, ytest):.8f}\")"
   ]
  },
  {
   "cell_type": "code",
   "execution_count": 162,
   "id": "4a8c0a59ffd310c",
   "metadata": {
    "ExecuteTime": {
     "end_time": "2024-08-31T16:11:36.418877Z",
     "start_time": "2024-08-31T16:11:34.830064Z"
    }
   },
   "outputs": [],
   "source": [
    "y_train_test_dt = dt.predict(X_train_test)"
   ]
  },
  {
   "cell_type": "code",
   "execution_count": 163,
   "id": "54e00e2edb4d0dce",
   "metadata": {
    "ExecuteTime": {
     "end_time": "2024-08-31T16:11:37.548596Z",
     "start_time": "2024-08-31T16:11:37.459295Z"
    }
   },
   "outputs": [
    {
     "name": "stdout",
     "output_type": "stream",
     "text": [
      "Decision tree accuracy train: 0.79674290\n"
     ]
    }
   ],
   "source": [
    "print(f\"Decision tree accuracy train: {accuracy_score(y_train_test_dt, y_train_test ):.8f}\")"
   ]
  },
  {
   "cell_type": "code",
   "execution_count": 164,
   "id": "13f12169a51585a5",
   "metadata": {
    "scrolled": true
   },
   "outputs": [
    {
     "name": "stdout",
     "output_type": "stream",
     "text": [
      "Decision tree matthews corrcoef: 0.60983273\n"
     ]
    }
   ],
   "source": [
    "print(f\"Decision tree matthews corrcoef: {matthews_corrcoef(y_train_dt, ytrain):.8f}\")"
   ]
  },
  {
   "cell_type": "code",
   "execution_count": 165,
   "id": "7812e90a10124aba",
   "metadata": {},
   "outputs": [
    {
     "name": "stdout",
     "output_type": "stream",
     "text": [
      "Decision tree matthews corrcoef: 0.61011535\n"
     ]
    }
   ],
   "source": [
    "print(f\"Decision tree matthews corrcoef: {matthews_corrcoef(y_train_test_dt, y_train_test ):.8f}\")"
   ]
  },
  {
   "cell_type": "code",
   "execution_count": 166,
   "id": "ef7309df",
   "metadata": {},
   "outputs": [],
   "source": [
    "y_test_dt = dt.predict(X_test)"
   ]
  },
  {
   "cell_type": "code",
   "execution_count": 153,
   "id": "51ebf1c2",
   "metadata": {},
   "outputs": [],
   "source": [
    "y_pred_kaggle = pd.read_csv('predict_kaggle.csv')"
   ]
  },
  {
   "cell_type": "code",
   "execution_count": 154,
   "id": "79513e21",
   "metadata": {},
   "outputs": [],
   "source": [
    "y_pred_kaggle['0'] = y_pred_kaggle['0'].replace('p', -1 )"
   ]
  },
  {
   "cell_type": "code",
   "execution_count": 155,
   "id": "c4d258dc",
   "metadata": {},
   "outputs": [],
   "source": [
    "y_pred_kaggle['0'] = y_pred_kaggle['0'].replace('e', 1 )"
   ]
  },
  {
   "cell_type": "code",
   "execution_count": 156,
   "id": "bb3b2dc7",
   "metadata": {},
   "outputs": [],
   "source": [
    "y_pred_kaggle_np = np.array(y_pred_kaggle['0'])"
   ]
  },
  {
   "cell_type": "code",
   "execution_count": 167,
   "id": "fe89bfbe",
   "metadata": {},
   "outputs": [
    {
     "name": "stdout",
     "output_type": "stream",
     "text": [
      "Decision tree matthews corrcoef: 0.29337292\n"
     ]
    }
   ],
   "source": [
    "print(f\"Decision tree matthews corrcoef: {matthews_corrcoef(y_pred_kaggle_np, y_test_dt ):.8f}\")"
   ]
  },
  {
   "cell_type": "code",
   "execution_count": 168,
   "id": "bc4bedaf",
   "metadata": {},
   "outputs": [
    {
     "name": "stdout",
     "output_type": "stream",
     "text": [
      "Decision tree accuracy train: 0.65028942\n"
     ]
    }
   ],
   "source": [
    "print(f\"Decision tree accuracy train: {accuracy_score( y_test_dt, y_pred_kaggle_np  ):.8f}\")"
   ]
  },
  {
   "cell_type": "markdown",
   "id": "539d2c854a8307bb",
   "metadata": {},
   "source": [
    "## Найдем лучшие параметры для Decision Tree"
   ]
  },
  {
   "cell_type": "code",
   "execution_count": 108,
   "id": "fc534c22d3e6852",
   "metadata": {
    "ExecuteTime": {
     "end_time": "2024-08-31T16:49:57.335353Z",
     "start_time": "2024-08-31T16:49:57.330070Z"
    }
   },
   "outputs": [],
   "source": [
    "from sklearn.model_selection import GridSearchCV"
   ]
  },
  {
   "cell_type": "code",
   "execution_count": 125,
   "id": "ad59d295",
   "metadata": {
    "ExecuteTime": {
     "end_time": "2024-08-30T18:12:20.684377Z",
     "start_time": "2024-08-30T18:12:20.679255Z"
    }
   },
   "outputs": [],
   "source": [
    "gscv_dt = GridSearchCV(DecisionTreeClassifier(),\n",
    "                       {'criterion' : ['gini', 'entropy'],\n",
    "                        'max_depth': range(15,40)},\n",
    "                       )"
   ]
  },
  {
   "cell_type": "code",
   "execution_count": 126,
   "id": "49dc61e0",
   "metadata": {
    "ExecuteTime": {
     "end_time": "2024-08-30T23:14:04.056143Z",
     "start_time": "2024-08-30T18:12:25.955649Z"
    }
   },
   "outputs": [
    {
     "name": "stdout",
     "output_type": "stream",
     "text": [
      "0.9735930534545844\n",
      "CPU times: user 4h 46min 53s, sys: 14min 41s, total: 5h 1min 35s\n",
      "Wall time: 5h 1min 38s\n"
     ]
    }
   ],
   "source": [
    "%%time\n",
    "\n",
    "gscv_dt.fit(X_train_2,y_train)\n",
    "print(gscv_dt.best_score_)"
   ]
  },
  {
   "cell_type": "code",
   "execution_count": 115,
   "id": "878d8308",
   "metadata": {},
   "outputs": [
    {
     "data": {
      "text/plain": [
       "0         1\n",
       "1        -1\n",
       "2         1\n",
       "3         1\n",
       "4         1\n",
       "         ..\n",
       "999995   -1\n",
       "999996    1\n",
       "999997   -1\n",
       "999998    1\n",
       "999999    1\n",
       "Name: class, Length: 1000000, dtype: int64"
      ]
     },
     "execution_count": 115,
     "metadata": {},
     "output_type": "execute_result"
    }
   ],
   "source": [
    "y_train"
   ]
  },
  {
   "cell_type": "code",
   "execution_count": 128,
   "id": "58282cc4",
   "metadata": {
    "ExecuteTime": {
     "end_time": "2024-08-31T06:21:55.298521Z",
     "start_time": "2024-08-31T06:21:55.289846Z"
    }
   },
   "outputs": [
    {
     "data": {
      "text/plain": [
       "{'criterion': 'entropy', 'max_depth': 24}"
      ]
     },
     "execution_count": 128,
     "metadata": {},
     "output_type": "execute_result"
    }
   ],
   "source": [
    "gscv_rf.best_params_"
   ]
  },
  {
   "cell_type": "markdown",
   "id": "cec109f178dce37d",
   "metadata": {},
   "source": [
    "## Посмотрим на ошибку при лучших параметрам модели Decision Tree"
   ]
  },
  {
   "cell_type": "code",
   "execution_count": 162,
   "id": "b774ed98e943c804",
   "metadata": {
    "ExecuteTime": {
     "end_time": "2024-08-31T08:16:37.662309Z",
     "start_time": "2024-08-31T08:16:37.657718Z"
    }
   },
   "outputs": [],
   "source": [
    "X_test_2_8 = X_train_2[:2800000]"
   ]
  },
  {
   "cell_type": "code",
   "execution_count": 163,
   "id": "cf628403a6af9b6e",
   "metadata": {
    "ExecuteTime": {
     "end_time": "2024-08-31T08:16:44.504713Z",
     "start_time": "2024-08-31T08:16:44.502022Z"
    }
   },
   "outputs": [],
   "source": [
    "y_test_2_8 = y_train[:2800000]"
   ]
  },
  {
   "cell_type": "code",
   "execution_count": 165,
   "id": "6671cd9e096fa37b",
   "metadata": {
    "ExecuteTime": {
     "end_time": "2024-08-31T08:18:59.056430Z",
     "start_time": "2024-08-31T08:18:59.053112Z"
    }
   },
   "outputs": [],
   "source": [
    "X_train_test_2 = X_train_2[2800000:]"
   ]
  },
  {
   "cell_type": "code",
   "execution_count": 166,
   "id": "db1a4fc82c3d8521",
   "metadata": {
    "ExecuteTime": {
     "end_time": "2024-08-31T08:19:05.436898Z",
     "start_time": "2024-08-31T08:19:05.434098Z"
    }
   },
   "outputs": [],
   "source": [
    "y_train_test_2 = y_train[2800000:]"
   ]
  },
  {
   "cell_type": "code",
   "execution_count": 296,
   "id": "341ec66b345a2aa9",
   "metadata": {
    "ExecuteTime": {
     "end_time": "2024-08-31T19:47:05.049001Z",
     "start_time": "2024-08-31T19:47:05.045543Z"
    }
   },
   "outputs": [],
   "source": [
    "X_train_test_full = X_train_2"
   ]
  },
  {
   "cell_type": "code",
   "execution_count": 298,
   "id": "6d49d71de4b42233",
   "metadata": {
    "ExecuteTime": {
     "end_time": "2024-08-31T19:47:30.347532Z",
     "start_time": "2024-08-31T19:47:30.343001Z"
    }
   },
   "outputs": [],
   "source": [
    "y_test_full = y_train"
   ]
  },
  {
   "cell_type": "code",
   "execution_count": 167,
   "id": "8509208f0b2a4e10",
   "metadata": {
    "ExecuteTime": {
     "end_time": "2024-08-31T08:19:29.868572Z",
     "start_time": "2024-08-31T08:19:24.591482Z"
    }
   },
   "outputs": [],
   "source": [
    "Xtrain_2_8, Xtest_2_8, ytrain_2_8, ytest_2_8 = train_test_split(X_test_2_8 , y_test_2_8, test_size=0.3, random_state=42)"
   ]
  },
  {
   "cell_type": "code",
   "execution_count": 299,
   "id": "11c4f69d3a447663",
   "metadata": {
    "ExecuteTime": {
     "end_time": "2024-08-31T19:48:11.246775Z",
     "start_time": "2024-08-31T19:48:03.489883Z"
    }
   },
   "outputs": [],
   "source": [
    "Xtrain_2_8, Xtest_2_8, ytrain_2_8, ytest_2_8 = train_test_split(X_train_test_full , y_test_full, test_size=0.3, random_state=42)"
   ]
  },
  {
   "cell_type": "code",
   "execution_count": 260,
   "id": "eb750f427bacfde6",
   "metadata": {
    "ExecuteTime": {
     "end_time": "2024-08-31T19:12:14.618205Z",
     "start_time": "2024-08-31T19:12:14.612639Z"
    }
   },
   "outputs": [],
   "source": [
    "dt_gsc =  DecisionTreeClassifier(criterion='entropy', max_depth=24,random_state=18)"
   ]
  },
  {
   "cell_type": "code",
   "execution_count": 261,
   "id": "143fc1c58f399868",
   "metadata": {
    "ExecuteTime": {
     "end_time": "2024-08-31T19:12:16.333362Z",
     "start_time": "2024-08-31T19:12:16.300759Z"
    }
   },
   "outputs": [
    {
     "ename": "NameError",
     "evalue": "name 'Xtrain_2_8' is not defined",
     "output_type": "error",
     "traceback": [
      "\u001b[0;31m---------------------------------------------------------------------------\u001b[0m",
      "\u001b[0;31mNameError\u001b[0m                                 Traceback (most recent call last)",
      "Cell \u001b[0;32mIn[261], line 1\u001b[0m\n\u001b[0;32m----> 1\u001b[0m dt_gsc\u001b[38;5;241m.\u001b[39mfit(Xtrain_2_8, ytrain_2_8)\n\u001b[1;32m      3\u001b[0m y_train_2_8_dt_gsc \u001b[38;5;241m=\u001b[39m dt_gsc\u001b[38;5;241m.\u001b[39mpredict(Xtrain_2_8)\n\u001b[1;32m      4\u001b[0m y_test_2_8_dt_gsc \u001b[38;5;241m=\u001b[39m dt_gsc\u001b[38;5;241m.\u001b[39mpredict(Xtest_2_8)\n",
      "\u001b[0;31mNameError\u001b[0m: name 'Xtrain_2_8' is not defined"
     ]
    }
   ],
   "source": [
    "dt_gsc.fit(Xtrain_2_8, ytrain_2_8)\n",
    "\n",
    "y_train_2_8_dt_gsc = dt_gsc.predict(Xtrain_2_8)\n",
    "y_test_2_8_dt_gsc = dt_gsc.predict(Xtest_2_8)"
   ]
  },
  {
   "cell_type": "code",
   "execution_count": 172,
   "id": "68eb88d26e9fdd17",
   "metadata": {
    "ExecuteTime": {
     "end_time": "2024-08-31T08:22:31.874872Z",
     "start_time": "2024-08-31T08:22:31.610390Z"
    }
   },
   "outputs": [
    {
     "name": "stdout",
     "output_type": "stream",
     "text": [
      "Decision tree accuracy train: 0.98353061\n",
      "Decision tree accuracy test: 0.97998571\n"
     ]
    }
   ],
   "source": [
    "print(f\"Decision tree accuracy train: {accuracy_score(y_train_2_8_dt_gsc, ytrain_2_8):.8f}\")\n",
    "print(f\"Decision tree accuracy test: {accuracy_score(y_test_2_8_dt_gsc, ytest_2_8):.8f}\")"
   ]
  },
  {
   "cell_type": "code",
   "execution_count": 173,
   "id": "e6d331961675890",
   "metadata": {
    "ExecuteTime": {
     "end_time": "2024-08-31T08:23:09.142799Z",
     "start_time": "2024-08-31T08:23:08.719679Z"
    }
   },
   "outputs": [],
   "source": [
    "y_train_test_2_8_dt_gsc = dt.predict(X_train_test_2)"
   ]
  },
  {
   "cell_type": "code",
   "execution_count": 174,
   "id": "225fb8c743aed408",
   "metadata": {
    "ExecuteTime": {
     "end_time": "2024-08-31T08:23:54.721167Z",
     "start_time": "2024-08-31T08:23:54.682690Z"
    }
   },
   "outputs": [
    {
     "name": "stdout",
     "output_type": "stream",
     "text": [
      "Decision tree accuracy train - test: 0.97020303\n"
     ]
    }
   ],
   "source": [
    "print(f\"Decision tree accuracy train - test: {accuracy_score(y_train_test_2_8_dt_gsc, y_train_test_2):.8f}\")"
   ]
  },
  {
   "cell_type": "markdown",
   "id": "ce3e4df43e16e94f",
   "metadata": {},
   "source": [
    "## Случайный лес"
   ]
  },
  {
   "cell_type": "code",
   "execution_count": 106,
   "id": "10b93a514c76bb4d",
   "metadata": {
    "ExecuteTime": {
     "end_time": "2024-08-31T16:49:38.495364Z",
     "start_time": "2024-08-31T16:49:38.491542Z"
    }
   },
   "outputs": [],
   "source": [
    "from sklearn.ensemble import RandomForestClassifier"
   ]
  },
  {
   "cell_type": "code",
   "execution_count": 82,
   "id": "5e405416021d5d46",
   "metadata": {
    "ExecuteTime": {
     "end_time": "2024-08-31T16:12:22.689072Z",
     "start_time": "2024-08-31T16:12:22.683977Z"
    }
   },
   "outputs": [],
   "source": [
    "rf = RandomForestClassifier(n_estimators=100, criterion = 'entropy' , max_depth=24, random_state=18)"
   ]
  },
  {
   "cell_type": "code",
   "execution_count": 83,
   "id": "5a62527ef438a6fe",
   "metadata": {
    "ExecuteTime": {
     "end_time": "2024-08-31T16:23:23.317333Z",
     "start_time": "2024-08-31T16:12:27.495890Z"
    }
   },
   "outputs": [
    {
     "data": {
      "text/html": [
       "<style>#sk-container-id-1 {\n",
       "  /* Definition of color scheme common for light and dark mode */\n",
       "  --sklearn-color-text: black;\n",
       "  --sklearn-color-line: gray;\n",
       "  /* Definition of color scheme for unfitted estimators */\n",
       "  --sklearn-color-unfitted-level-0: #fff5e6;\n",
       "  --sklearn-color-unfitted-level-1: #f6e4d2;\n",
       "  --sklearn-color-unfitted-level-2: #ffe0b3;\n",
       "  --sklearn-color-unfitted-level-3: chocolate;\n",
       "  /* Definition of color scheme for fitted estimators */\n",
       "  --sklearn-color-fitted-level-0: #f0f8ff;\n",
       "  --sklearn-color-fitted-level-1: #d4ebff;\n",
       "  --sklearn-color-fitted-level-2: #b3dbfd;\n",
       "  --sklearn-color-fitted-level-3: cornflowerblue;\n",
       "\n",
       "  /* Specific color for light theme */\n",
       "  --sklearn-color-text-on-default-background: var(--sg-text-color, var(--theme-code-foreground, var(--jp-content-font-color1, black)));\n",
       "  --sklearn-color-background: var(--sg-background-color, var(--theme-background, var(--jp-layout-color0, white)));\n",
       "  --sklearn-color-border-box: var(--sg-text-color, var(--theme-code-foreground, var(--jp-content-font-color1, black)));\n",
       "  --sklearn-color-icon: #696969;\n",
       "\n",
       "  @media (prefers-color-scheme: dark) {\n",
       "    /* Redefinition of color scheme for dark theme */\n",
       "    --sklearn-color-text-on-default-background: var(--sg-text-color, var(--theme-code-foreground, var(--jp-content-font-color1, white)));\n",
       "    --sklearn-color-background: var(--sg-background-color, var(--theme-background, var(--jp-layout-color0, #111)));\n",
       "    --sklearn-color-border-box: var(--sg-text-color, var(--theme-code-foreground, var(--jp-content-font-color1, white)));\n",
       "    --sklearn-color-icon: #878787;\n",
       "  }\n",
       "}\n",
       "\n",
       "#sk-container-id-1 {\n",
       "  color: var(--sklearn-color-text);\n",
       "}\n",
       "\n",
       "#sk-container-id-1 pre {\n",
       "  padding: 0;\n",
       "}\n",
       "\n",
       "#sk-container-id-1 input.sk-hidden--visually {\n",
       "  border: 0;\n",
       "  clip: rect(1px 1px 1px 1px);\n",
       "  clip: rect(1px, 1px, 1px, 1px);\n",
       "  height: 1px;\n",
       "  margin: -1px;\n",
       "  overflow: hidden;\n",
       "  padding: 0;\n",
       "  position: absolute;\n",
       "  width: 1px;\n",
       "}\n",
       "\n",
       "#sk-container-id-1 div.sk-dashed-wrapped {\n",
       "  border: 1px dashed var(--sklearn-color-line);\n",
       "  margin: 0 0.4em 0.5em 0.4em;\n",
       "  box-sizing: border-box;\n",
       "  padding-bottom: 0.4em;\n",
       "  background-color: var(--sklearn-color-background);\n",
       "}\n",
       "\n",
       "#sk-container-id-1 div.sk-container {\n",
       "  /* jupyter's `normalize.less` sets `[hidden] { display: none; }`\n",
       "     but bootstrap.min.css set `[hidden] { display: none !important; }`\n",
       "     so we also need the `!important` here to be able to override the\n",
       "     default hidden behavior on the sphinx rendered scikit-learn.org.\n",
       "     See: https://github.com/scikit-learn/scikit-learn/issues/21755 */\n",
       "  display: inline-block !important;\n",
       "  position: relative;\n",
       "}\n",
       "\n",
       "#sk-container-id-1 div.sk-text-repr-fallback {\n",
       "  display: none;\n",
       "}\n",
       "\n",
       "div.sk-parallel-item,\n",
       "div.sk-serial,\n",
       "div.sk-item {\n",
       "  /* draw centered vertical line to link estimators */\n",
       "  background-image: linear-gradient(var(--sklearn-color-text-on-default-background), var(--sklearn-color-text-on-default-background));\n",
       "  background-size: 2px 100%;\n",
       "  background-repeat: no-repeat;\n",
       "  background-position: center center;\n",
       "}\n",
       "\n",
       "/* Parallel-specific style estimator block */\n",
       "\n",
       "#sk-container-id-1 div.sk-parallel-item::after {\n",
       "  content: \"\";\n",
       "  width: 100%;\n",
       "  border-bottom: 2px solid var(--sklearn-color-text-on-default-background);\n",
       "  flex-grow: 1;\n",
       "}\n",
       "\n",
       "#sk-container-id-1 div.sk-parallel {\n",
       "  display: flex;\n",
       "  align-items: stretch;\n",
       "  justify-content: center;\n",
       "  background-color: var(--sklearn-color-background);\n",
       "  position: relative;\n",
       "}\n",
       "\n",
       "#sk-container-id-1 div.sk-parallel-item {\n",
       "  display: flex;\n",
       "  flex-direction: column;\n",
       "}\n",
       "\n",
       "#sk-container-id-1 div.sk-parallel-item:first-child::after {\n",
       "  align-self: flex-end;\n",
       "  width: 50%;\n",
       "}\n",
       "\n",
       "#sk-container-id-1 div.sk-parallel-item:last-child::after {\n",
       "  align-self: flex-start;\n",
       "  width: 50%;\n",
       "}\n",
       "\n",
       "#sk-container-id-1 div.sk-parallel-item:only-child::after {\n",
       "  width: 0;\n",
       "}\n",
       "\n",
       "/* Serial-specific style estimator block */\n",
       "\n",
       "#sk-container-id-1 div.sk-serial {\n",
       "  display: flex;\n",
       "  flex-direction: column;\n",
       "  align-items: center;\n",
       "  background-color: var(--sklearn-color-background);\n",
       "  padding-right: 1em;\n",
       "  padding-left: 1em;\n",
       "}\n",
       "\n",
       "\n",
       "/* Toggleable style: style used for estimator/Pipeline/ColumnTransformer box that is\n",
       "clickable and can be expanded/collapsed.\n",
       "- Pipeline and ColumnTransformer use this feature and define the default style\n",
       "- Estimators will overwrite some part of the style using the `sk-estimator` class\n",
       "*/\n",
       "\n",
       "/* Pipeline and ColumnTransformer style (default) */\n",
       "\n",
       "#sk-container-id-1 div.sk-toggleable {\n",
       "  /* Default theme specific background. It is overwritten whether we have a\n",
       "  specific estimator or a Pipeline/ColumnTransformer */\n",
       "  background-color: var(--sklearn-color-background);\n",
       "}\n",
       "\n",
       "/* Toggleable label */\n",
       "#sk-container-id-1 label.sk-toggleable__label {\n",
       "  cursor: pointer;\n",
       "  display: block;\n",
       "  width: 100%;\n",
       "  margin-bottom: 0;\n",
       "  padding: 0.5em;\n",
       "  box-sizing: border-box;\n",
       "  text-align: center;\n",
       "}\n",
       "\n",
       "#sk-container-id-1 label.sk-toggleable__label-arrow:before {\n",
       "  /* Arrow on the left of the label */\n",
       "  content: \"▸\";\n",
       "  float: left;\n",
       "  margin-right: 0.25em;\n",
       "  color: var(--sklearn-color-icon);\n",
       "}\n",
       "\n",
       "#sk-container-id-1 label.sk-toggleable__label-arrow:hover:before {\n",
       "  color: var(--sklearn-color-text);\n",
       "}\n",
       "\n",
       "/* Toggleable content - dropdown */\n",
       "\n",
       "#sk-container-id-1 div.sk-toggleable__content {\n",
       "  max-height: 0;\n",
       "  max-width: 0;\n",
       "  overflow: hidden;\n",
       "  text-align: left;\n",
       "  /* unfitted */\n",
       "  background-color: var(--sklearn-color-unfitted-level-0);\n",
       "}\n",
       "\n",
       "#sk-container-id-1 div.sk-toggleable__content.fitted {\n",
       "  /* fitted */\n",
       "  background-color: var(--sklearn-color-fitted-level-0);\n",
       "}\n",
       "\n",
       "#sk-container-id-1 div.sk-toggleable__content pre {\n",
       "  margin: 0.2em;\n",
       "  border-radius: 0.25em;\n",
       "  color: var(--sklearn-color-text);\n",
       "  /* unfitted */\n",
       "  background-color: var(--sklearn-color-unfitted-level-0);\n",
       "}\n",
       "\n",
       "#sk-container-id-1 div.sk-toggleable__content.fitted pre {\n",
       "  /* unfitted */\n",
       "  background-color: var(--sklearn-color-fitted-level-0);\n",
       "}\n",
       "\n",
       "#sk-container-id-1 input.sk-toggleable__control:checked~div.sk-toggleable__content {\n",
       "  /* Expand drop-down */\n",
       "  max-height: 200px;\n",
       "  max-width: 100%;\n",
       "  overflow: auto;\n",
       "}\n",
       "\n",
       "#sk-container-id-1 input.sk-toggleable__control:checked~label.sk-toggleable__label-arrow:before {\n",
       "  content: \"▾\";\n",
       "}\n",
       "\n",
       "/* Pipeline/ColumnTransformer-specific style */\n",
       "\n",
       "#sk-container-id-1 div.sk-label input.sk-toggleable__control:checked~label.sk-toggleable__label {\n",
       "  color: var(--sklearn-color-text);\n",
       "  background-color: var(--sklearn-color-unfitted-level-2);\n",
       "}\n",
       "\n",
       "#sk-container-id-1 div.sk-label.fitted input.sk-toggleable__control:checked~label.sk-toggleable__label {\n",
       "  background-color: var(--sklearn-color-fitted-level-2);\n",
       "}\n",
       "\n",
       "/* Estimator-specific style */\n",
       "\n",
       "/* Colorize estimator box */\n",
       "#sk-container-id-1 div.sk-estimator input.sk-toggleable__control:checked~label.sk-toggleable__label {\n",
       "  /* unfitted */\n",
       "  background-color: var(--sklearn-color-unfitted-level-2);\n",
       "}\n",
       "\n",
       "#sk-container-id-1 div.sk-estimator.fitted input.sk-toggleable__control:checked~label.sk-toggleable__label {\n",
       "  /* fitted */\n",
       "  background-color: var(--sklearn-color-fitted-level-2);\n",
       "}\n",
       "\n",
       "#sk-container-id-1 div.sk-label label.sk-toggleable__label,\n",
       "#sk-container-id-1 div.sk-label label {\n",
       "  /* The background is the default theme color */\n",
       "  color: var(--sklearn-color-text-on-default-background);\n",
       "}\n",
       "\n",
       "/* On hover, darken the color of the background */\n",
       "#sk-container-id-1 div.sk-label:hover label.sk-toggleable__label {\n",
       "  color: var(--sklearn-color-text);\n",
       "  background-color: var(--sklearn-color-unfitted-level-2);\n",
       "}\n",
       "\n",
       "/* Label box, darken color on hover, fitted */\n",
       "#sk-container-id-1 div.sk-label.fitted:hover label.sk-toggleable__label.fitted {\n",
       "  color: var(--sklearn-color-text);\n",
       "  background-color: var(--sklearn-color-fitted-level-2);\n",
       "}\n",
       "\n",
       "/* Estimator label */\n",
       "\n",
       "#sk-container-id-1 div.sk-label label {\n",
       "  font-family: monospace;\n",
       "  font-weight: bold;\n",
       "  display: inline-block;\n",
       "  line-height: 1.2em;\n",
       "}\n",
       "\n",
       "#sk-container-id-1 div.sk-label-container {\n",
       "  text-align: center;\n",
       "}\n",
       "\n",
       "/* Estimator-specific */\n",
       "#sk-container-id-1 div.sk-estimator {\n",
       "  font-family: monospace;\n",
       "  border: 1px dotted var(--sklearn-color-border-box);\n",
       "  border-radius: 0.25em;\n",
       "  box-sizing: border-box;\n",
       "  margin-bottom: 0.5em;\n",
       "  /* unfitted */\n",
       "  background-color: var(--sklearn-color-unfitted-level-0);\n",
       "}\n",
       "\n",
       "#sk-container-id-1 div.sk-estimator.fitted {\n",
       "  /* fitted */\n",
       "  background-color: var(--sklearn-color-fitted-level-0);\n",
       "}\n",
       "\n",
       "/* on hover */\n",
       "#sk-container-id-1 div.sk-estimator:hover {\n",
       "  /* unfitted */\n",
       "  background-color: var(--sklearn-color-unfitted-level-2);\n",
       "}\n",
       "\n",
       "#sk-container-id-1 div.sk-estimator.fitted:hover {\n",
       "  /* fitted */\n",
       "  background-color: var(--sklearn-color-fitted-level-2);\n",
       "}\n",
       "\n",
       "/* Specification for estimator info (e.g. \"i\" and \"?\") */\n",
       "\n",
       "/* Common style for \"i\" and \"?\" */\n",
       "\n",
       ".sk-estimator-doc-link,\n",
       "a:link.sk-estimator-doc-link,\n",
       "a:visited.sk-estimator-doc-link {\n",
       "  float: right;\n",
       "  font-size: smaller;\n",
       "  line-height: 1em;\n",
       "  font-family: monospace;\n",
       "  background-color: var(--sklearn-color-background);\n",
       "  border-radius: 1em;\n",
       "  height: 1em;\n",
       "  width: 1em;\n",
       "  text-decoration: none !important;\n",
       "  margin-left: 1ex;\n",
       "  /* unfitted */\n",
       "  border: var(--sklearn-color-unfitted-level-1) 1pt solid;\n",
       "  color: var(--sklearn-color-unfitted-level-1);\n",
       "}\n",
       "\n",
       ".sk-estimator-doc-link.fitted,\n",
       "a:link.sk-estimator-doc-link.fitted,\n",
       "a:visited.sk-estimator-doc-link.fitted {\n",
       "  /* fitted */\n",
       "  border: var(--sklearn-color-fitted-level-1) 1pt solid;\n",
       "  color: var(--sklearn-color-fitted-level-1);\n",
       "}\n",
       "\n",
       "/* On hover */\n",
       "div.sk-estimator:hover .sk-estimator-doc-link:hover,\n",
       ".sk-estimator-doc-link:hover,\n",
       "div.sk-label-container:hover .sk-estimator-doc-link:hover,\n",
       ".sk-estimator-doc-link:hover {\n",
       "  /* unfitted */\n",
       "  background-color: var(--sklearn-color-unfitted-level-3);\n",
       "  color: var(--sklearn-color-background);\n",
       "  text-decoration: none;\n",
       "}\n",
       "\n",
       "div.sk-estimator.fitted:hover .sk-estimator-doc-link.fitted:hover,\n",
       ".sk-estimator-doc-link.fitted:hover,\n",
       "div.sk-label-container:hover .sk-estimator-doc-link.fitted:hover,\n",
       ".sk-estimator-doc-link.fitted:hover {\n",
       "  /* fitted */\n",
       "  background-color: var(--sklearn-color-fitted-level-3);\n",
       "  color: var(--sklearn-color-background);\n",
       "  text-decoration: none;\n",
       "}\n",
       "\n",
       "/* Span, style for the box shown on hovering the info icon */\n",
       ".sk-estimator-doc-link span {\n",
       "  display: none;\n",
       "  z-index: 9999;\n",
       "  position: relative;\n",
       "  font-weight: normal;\n",
       "  right: .2ex;\n",
       "  padding: .5ex;\n",
       "  margin: .5ex;\n",
       "  width: min-content;\n",
       "  min-width: 20ex;\n",
       "  max-width: 50ex;\n",
       "  color: var(--sklearn-color-text);\n",
       "  box-shadow: 2pt 2pt 4pt #999;\n",
       "  /* unfitted */\n",
       "  background: var(--sklearn-color-unfitted-level-0);\n",
       "  border: .5pt solid var(--sklearn-color-unfitted-level-3);\n",
       "}\n",
       "\n",
       ".sk-estimator-doc-link.fitted span {\n",
       "  /* fitted */\n",
       "  background: var(--sklearn-color-fitted-level-0);\n",
       "  border: var(--sklearn-color-fitted-level-3);\n",
       "}\n",
       "\n",
       ".sk-estimator-doc-link:hover span {\n",
       "  display: block;\n",
       "}\n",
       "\n",
       "/* \"?\"-specific style due to the `<a>` HTML tag */\n",
       "\n",
       "#sk-container-id-1 a.estimator_doc_link {\n",
       "  float: right;\n",
       "  font-size: 1rem;\n",
       "  line-height: 1em;\n",
       "  font-family: monospace;\n",
       "  background-color: var(--sklearn-color-background);\n",
       "  border-radius: 1rem;\n",
       "  height: 1rem;\n",
       "  width: 1rem;\n",
       "  text-decoration: none;\n",
       "  /* unfitted */\n",
       "  color: var(--sklearn-color-unfitted-level-1);\n",
       "  border: var(--sklearn-color-unfitted-level-1) 1pt solid;\n",
       "}\n",
       "\n",
       "#sk-container-id-1 a.estimator_doc_link.fitted {\n",
       "  /* fitted */\n",
       "  border: var(--sklearn-color-fitted-level-1) 1pt solid;\n",
       "  color: var(--sklearn-color-fitted-level-1);\n",
       "}\n",
       "\n",
       "/* On hover */\n",
       "#sk-container-id-1 a.estimator_doc_link:hover {\n",
       "  /* unfitted */\n",
       "  background-color: var(--sklearn-color-unfitted-level-3);\n",
       "  color: var(--sklearn-color-background);\n",
       "  text-decoration: none;\n",
       "}\n",
       "\n",
       "#sk-container-id-1 a.estimator_doc_link.fitted:hover {\n",
       "  /* fitted */\n",
       "  background-color: var(--sklearn-color-fitted-level-3);\n",
       "}\n",
       "</style><div id=\"sk-container-id-1\" class=\"sk-top-container\"><div class=\"sk-text-repr-fallback\"><pre>RandomForestClassifier(criterion=&#x27;entropy&#x27;, max_depth=24, random_state=18)</pre><b>In a Jupyter environment, please rerun this cell to show the HTML representation or trust the notebook. <br />On GitHub, the HTML representation is unable to render, please try loading this page with nbviewer.org.</b></div><div class=\"sk-container\" hidden><div class=\"sk-item\"><div class=\"sk-estimator fitted sk-toggleable\"><input class=\"sk-toggleable__control sk-hidden--visually\" id=\"sk-estimator-id-1\" type=\"checkbox\" checked><label for=\"sk-estimator-id-1\" class=\"sk-toggleable__label fitted sk-toggleable__label-arrow fitted\">&nbsp;&nbsp;RandomForestClassifier<a class=\"sk-estimator-doc-link fitted\" rel=\"noreferrer\" target=\"_blank\" href=\"https://scikit-learn.org/1.4/modules/generated/sklearn.ensemble.RandomForestClassifier.html\">?<span>Documentation for RandomForestClassifier</span></a><span class=\"sk-estimator-doc-link fitted\">i<span>Fitted</span></span></label><div class=\"sk-toggleable__content fitted\"><pre>RandomForestClassifier(criterion=&#x27;entropy&#x27;, max_depth=24, random_state=18)</pre></div> </div></div></div></div>"
      ],
      "text/plain": [
       "RandomForestClassifier(criterion='entropy', max_depth=24, random_state=18)"
      ]
     },
     "execution_count": 83,
     "metadata": {},
     "output_type": "execute_result"
    }
   ],
   "source": [
    "rf.fit(X_train_2,y_train)"
   ]
  },
  {
   "cell_type": "code",
   "execution_count": 95,
   "id": "f5566a73665af488",
   "metadata": {
    "ExecuteTime": {
     "end_time": "2024-08-31T16:41:00.826848Z",
     "start_time": "2024-08-31T16:40:16.492602Z"
    }
   },
   "outputs": [],
   "source": [
    "y_train_rf = rf.predict(Xtrain)"
   ]
  },
  {
   "cell_type": "code",
   "execution_count": 96,
   "id": "9016f17bc921646e",
   "metadata": {
    "ExecuteTime": {
     "end_time": "2024-08-31T16:41:43.324833Z",
     "start_time": "2024-08-31T16:41:43.221847Z"
    }
   },
   "outputs": [
    {
     "name": "stdout",
     "output_type": "stream",
     "text": [
      "Random Forest accuracy train: 0.98161857\n"
     ]
    }
   ],
   "source": [
    "print(f\"Random Forest accuracy train: {accuracy_score(y_train_rf, ytrain ):.8f}\")"
   ]
  },
  {
   "cell_type": "code",
   "execution_count": 97,
   "id": "cbe1397ad2ec00d9",
   "metadata": {
    "ExecuteTime": {
     "end_time": "2024-08-31T16:42:09.560625Z",
     "start_time": "2024-08-31T16:41:52.342520Z"
    }
   },
   "outputs": [],
   "source": [
    "y_test_rf = rf.predict(Xtest)"
   ]
  },
  {
   "cell_type": "code",
   "execution_count": 98,
   "id": "87a5f9f9998c501a",
   "metadata": {
    "ExecuteTime": {
     "end_time": "2024-08-31T16:43:20.157953Z",
     "start_time": "2024-08-31T16:43:20.108401Z"
    }
   },
   "outputs": [
    {
     "name": "stdout",
     "output_type": "stream",
     "text": [
      "Random Forest accuracy test: 0.98151167\n"
     ]
    }
   ],
   "source": [
    "print(f\"Random Forest accuracy test: {accuracy_score(y_test_rf, ytest ):.8f}\")"
   ]
  },
  {
   "cell_type": "code",
   "execution_count": 99,
   "id": "e6e2e24f891d8da9",
   "metadata": {
    "ExecuteTime": {
     "end_time": "2024-08-31T16:44:03.659276Z",
     "start_time": "2024-08-31T16:43:26.395714Z"
    }
   },
   "outputs": [],
   "source": [
    "y_traain_test_rf = rf.predict(X_train_test)"
   ]
  },
  {
   "cell_type": "code",
   "execution_count": 89,
   "id": "db3662bdae83b5b3",
   "metadata": {
    "ExecuteTime": {
     "end_time": "2024-08-31T16:25:21.675281Z",
     "start_time": "2024-08-31T16:25:21.590118Z"
    }
   },
   "outputs": [
    {
     "name": "stdout",
     "output_type": "stream",
     "text": [
      "Random Forest accuracy train - test: 0.97165662\n"
     ]
    }
   ],
   "source": [
    "print(f\"Random Forest accuracy train - test: {accuracy_score(y_traain_test_rf, y_train_test ):.8f}\")"
   ]
  },
  {
   "cell_type": "markdown",
   "id": "b93b64989d321c1a",
   "metadata": {},
   "source": [
    "## Starting grid search for Random forest"
   ]
  },
  {
   "cell_type": "code",
   "execution_count": 90,
   "id": "d9e262c73c90e9bb",
   "metadata": {
    "ExecuteTime": {
     "end_time": "2024-08-31T16:26:15.288024Z",
     "start_time": "2024-08-31T16:26:15.283763Z"
    }
   },
   "outputs": [],
   "source": [
    "rf_90 = RandomForestClassifier(n_estimators=90, criterion = 'entropy' , max_depth=24, random_state=18)"
   ]
  },
  {
   "cell_type": "code",
   "execution_count": 91,
   "id": "72ebf5e3a5ceccc1",
   "metadata": {
    "ExecuteTime": {
     "end_time": "2024-08-31T16:36:12.516329Z",
     "start_time": "2024-08-31T16:26:25.630186Z"
    }
   },
   "outputs": [
    {
     "data": {
      "text/html": [
       "<style>#sk-container-id-2 {\n",
       "  /* Definition of color scheme common for light and dark mode */\n",
       "  --sklearn-color-text: black;\n",
       "  --sklearn-color-line: gray;\n",
       "  /* Definition of color scheme for unfitted estimators */\n",
       "  --sklearn-color-unfitted-level-0: #fff5e6;\n",
       "  --sklearn-color-unfitted-level-1: #f6e4d2;\n",
       "  --sklearn-color-unfitted-level-2: #ffe0b3;\n",
       "  --sklearn-color-unfitted-level-3: chocolate;\n",
       "  /* Definition of color scheme for fitted estimators */\n",
       "  --sklearn-color-fitted-level-0: #f0f8ff;\n",
       "  --sklearn-color-fitted-level-1: #d4ebff;\n",
       "  --sklearn-color-fitted-level-2: #b3dbfd;\n",
       "  --sklearn-color-fitted-level-3: cornflowerblue;\n",
       "\n",
       "  /* Specific color for light theme */\n",
       "  --sklearn-color-text-on-default-background: var(--sg-text-color, var(--theme-code-foreground, var(--jp-content-font-color1, black)));\n",
       "  --sklearn-color-background: var(--sg-background-color, var(--theme-background, var(--jp-layout-color0, white)));\n",
       "  --sklearn-color-border-box: var(--sg-text-color, var(--theme-code-foreground, var(--jp-content-font-color1, black)));\n",
       "  --sklearn-color-icon: #696969;\n",
       "\n",
       "  @media (prefers-color-scheme: dark) {\n",
       "    /* Redefinition of color scheme for dark theme */\n",
       "    --sklearn-color-text-on-default-background: var(--sg-text-color, var(--theme-code-foreground, var(--jp-content-font-color1, white)));\n",
       "    --sklearn-color-background: var(--sg-background-color, var(--theme-background, var(--jp-layout-color0, #111)));\n",
       "    --sklearn-color-border-box: var(--sg-text-color, var(--theme-code-foreground, var(--jp-content-font-color1, white)));\n",
       "    --sklearn-color-icon: #878787;\n",
       "  }\n",
       "}\n",
       "\n",
       "#sk-container-id-2 {\n",
       "  color: var(--sklearn-color-text);\n",
       "}\n",
       "\n",
       "#sk-container-id-2 pre {\n",
       "  padding: 0;\n",
       "}\n",
       "\n",
       "#sk-container-id-2 input.sk-hidden--visually {\n",
       "  border: 0;\n",
       "  clip: rect(1px 1px 1px 1px);\n",
       "  clip: rect(1px, 1px, 1px, 1px);\n",
       "  height: 1px;\n",
       "  margin: -1px;\n",
       "  overflow: hidden;\n",
       "  padding: 0;\n",
       "  position: absolute;\n",
       "  width: 1px;\n",
       "}\n",
       "\n",
       "#sk-container-id-2 div.sk-dashed-wrapped {\n",
       "  border: 1px dashed var(--sklearn-color-line);\n",
       "  margin: 0 0.4em 0.5em 0.4em;\n",
       "  box-sizing: border-box;\n",
       "  padding-bottom: 0.4em;\n",
       "  background-color: var(--sklearn-color-background);\n",
       "}\n",
       "\n",
       "#sk-container-id-2 div.sk-container {\n",
       "  /* jupyter's `normalize.less` sets `[hidden] { display: none; }`\n",
       "     but bootstrap.min.css set `[hidden] { display: none !important; }`\n",
       "     so we also need the `!important` here to be able to override the\n",
       "     default hidden behavior on the sphinx rendered scikit-learn.org.\n",
       "     See: https://github.com/scikit-learn/scikit-learn/issues/21755 */\n",
       "  display: inline-block !important;\n",
       "  position: relative;\n",
       "}\n",
       "\n",
       "#sk-container-id-2 div.sk-text-repr-fallback {\n",
       "  display: none;\n",
       "}\n",
       "\n",
       "div.sk-parallel-item,\n",
       "div.sk-serial,\n",
       "div.sk-item {\n",
       "  /* draw centered vertical line to link estimators */\n",
       "  background-image: linear-gradient(var(--sklearn-color-text-on-default-background), var(--sklearn-color-text-on-default-background));\n",
       "  background-size: 2px 100%;\n",
       "  background-repeat: no-repeat;\n",
       "  background-position: center center;\n",
       "}\n",
       "\n",
       "/* Parallel-specific style estimator block */\n",
       "\n",
       "#sk-container-id-2 div.sk-parallel-item::after {\n",
       "  content: \"\";\n",
       "  width: 100%;\n",
       "  border-bottom: 2px solid var(--sklearn-color-text-on-default-background);\n",
       "  flex-grow: 1;\n",
       "}\n",
       "\n",
       "#sk-container-id-2 div.sk-parallel {\n",
       "  display: flex;\n",
       "  align-items: stretch;\n",
       "  justify-content: center;\n",
       "  background-color: var(--sklearn-color-background);\n",
       "  position: relative;\n",
       "}\n",
       "\n",
       "#sk-container-id-2 div.sk-parallel-item {\n",
       "  display: flex;\n",
       "  flex-direction: column;\n",
       "}\n",
       "\n",
       "#sk-container-id-2 div.sk-parallel-item:first-child::after {\n",
       "  align-self: flex-end;\n",
       "  width: 50%;\n",
       "}\n",
       "\n",
       "#sk-container-id-2 div.sk-parallel-item:last-child::after {\n",
       "  align-self: flex-start;\n",
       "  width: 50%;\n",
       "}\n",
       "\n",
       "#sk-container-id-2 div.sk-parallel-item:only-child::after {\n",
       "  width: 0;\n",
       "}\n",
       "\n",
       "/* Serial-specific style estimator block */\n",
       "\n",
       "#sk-container-id-2 div.sk-serial {\n",
       "  display: flex;\n",
       "  flex-direction: column;\n",
       "  align-items: center;\n",
       "  background-color: var(--sklearn-color-background);\n",
       "  padding-right: 1em;\n",
       "  padding-left: 1em;\n",
       "}\n",
       "\n",
       "\n",
       "/* Toggleable style: style used for estimator/Pipeline/ColumnTransformer box that is\n",
       "clickable and can be expanded/collapsed.\n",
       "- Pipeline and ColumnTransformer use this feature and define the default style\n",
       "- Estimators will overwrite some part of the style using the `sk-estimator` class\n",
       "*/\n",
       "\n",
       "/* Pipeline and ColumnTransformer style (default) */\n",
       "\n",
       "#sk-container-id-2 div.sk-toggleable {\n",
       "  /* Default theme specific background. It is overwritten whether we have a\n",
       "  specific estimator or a Pipeline/ColumnTransformer */\n",
       "  background-color: var(--sklearn-color-background);\n",
       "}\n",
       "\n",
       "/* Toggleable label */\n",
       "#sk-container-id-2 label.sk-toggleable__label {\n",
       "  cursor: pointer;\n",
       "  display: block;\n",
       "  width: 100%;\n",
       "  margin-bottom: 0;\n",
       "  padding: 0.5em;\n",
       "  box-sizing: border-box;\n",
       "  text-align: center;\n",
       "}\n",
       "\n",
       "#sk-container-id-2 label.sk-toggleable__label-arrow:before {\n",
       "  /* Arrow on the left of the label */\n",
       "  content: \"▸\";\n",
       "  float: left;\n",
       "  margin-right: 0.25em;\n",
       "  color: var(--sklearn-color-icon);\n",
       "}\n",
       "\n",
       "#sk-container-id-2 label.sk-toggleable__label-arrow:hover:before {\n",
       "  color: var(--sklearn-color-text);\n",
       "}\n",
       "\n",
       "/* Toggleable content - dropdown */\n",
       "\n",
       "#sk-container-id-2 div.sk-toggleable__content {\n",
       "  max-height: 0;\n",
       "  max-width: 0;\n",
       "  overflow: hidden;\n",
       "  text-align: left;\n",
       "  /* unfitted */\n",
       "  background-color: var(--sklearn-color-unfitted-level-0);\n",
       "}\n",
       "\n",
       "#sk-container-id-2 div.sk-toggleable__content.fitted {\n",
       "  /* fitted */\n",
       "  background-color: var(--sklearn-color-fitted-level-0);\n",
       "}\n",
       "\n",
       "#sk-container-id-2 div.sk-toggleable__content pre {\n",
       "  margin: 0.2em;\n",
       "  border-radius: 0.25em;\n",
       "  color: var(--sklearn-color-text);\n",
       "  /* unfitted */\n",
       "  background-color: var(--sklearn-color-unfitted-level-0);\n",
       "}\n",
       "\n",
       "#sk-container-id-2 div.sk-toggleable__content.fitted pre {\n",
       "  /* unfitted */\n",
       "  background-color: var(--sklearn-color-fitted-level-0);\n",
       "}\n",
       "\n",
       "#sk-container-id-2 input.sk-toggleable__control:checked~div.sk-toggleable__content {\n",
       "  /* Expand drop-down */\n",
       "  max-height: 200px;\n",
       "  max-width: 100%;\n",
       "  overflow: auto;\n",
       "}\n",
       "\n",
       "#sk-container-id-2 input.sk-toggleable__control:checked~label.sk-toggleable__label-arrow:before {\n",
       "  content: \"▾\";\n",
       "}\n",
       "\n",
       "/* Pipeline/ColumnTransformer-specific style */\n",
       "\n",
       "#sk-container-id-2 div.sk-label input.sk-toggleable__control:checked~label.sk-toggleable__label {\n",
       "  color: var(--sklearn-color-text);\n",
       "  background-color: var(--sklearn-color-unfitted-level-2);\n",
       "}\n",
       "\n",
       "#sk-container-id-2 div.sk-label.fitted input.sk-toggleable__control:checked~label.sk-toggleable__label {\n",
       "  background-color: var(--sklearn-color-fitted-level-2);\n",
       "}\n",
       "\n",
       "/* Estimator-specific style */\n",
       "\n",
       "/* Colorize estimator box */\n",
       "#sk-container-id-2 div.sk-estimator input.sk-toggleable__control:checked~label.sk-toggleable__label {\n",
       "  /* unfitted */\n",
       "  background-color: var(--sklearn-color-unfitted-level-2);\n",
       "}\n",
       "\n",
       "#sk-container-id-2 div.sk-estimator.fitted input.sk-toggleable__control:checked~label.sk-toggleable__label {\n",
       "  /* fitted */\n",
       "  background-color: var(--sklearn-color-fitted-level-2);\n",
       "}\n",
       "\n",
       "#sk-container-id-2 div.sk-label label.sk-toggleable__label,\n",
       "#sk-container-id-2 div.sk-label label {\n",
       "  /* The background is the default theme color */\n",
       "  color: var(--sklearn-color-text-on-default-background);\n",
       "}\n",
       "\n",
       "/* On hover, darken the color of the background */\n",
       "#sk-container-id-2 div.sk-label:hover label.sk-toggleable__label {\n",
       "  color: var(--sklearn-color-text);\n",
       "  background-color: var(--sklearn-color-unfitted-level-2);\n",
       "}\n",
       "\n",
       "/* Label box, darken color on hover, fitted */\n",
       "#sk-container-id-2 div.sk-label.fitted:hover label.sk-toggleable__label.fitted {\n",
       "  color: var(--sklearn-color-text);\n",
       "  background-color: var(--sklearn-color-fitted-level-2);\n",
       "}\n",
       "\n",
       "/* Estimator label */\n",
       "\n",
       "#sk-container-id-2 div.sk-label label {\n",
       "  font-family: monospace;\n",
       "  font-weight: bold;\n",
       "  display: inline-block;\n",
       "  line-height: 1.2em;\n",
       "}\n",
       "\n",
       "#sk-container-id-2 div.sk-label-container {\n",
       "  text-align: center;\n",
       "}\n",
       "\n",
       "/* Estimator-specific */\n",
       "#sk-container-id-2 div.sk-estimator {\n",
       "  font-family: monospace;\n",
       "  border: 1px dotted var(--sklearn-color-border-box);\n",
       "  border-radius: 0.25em;\n",
       "  box-sizing: border-box;\n",
       "  margin-bottom: 0.5em;\n",
       "  /* unfitted */\n",
       "  background-color: var(--sklearn-color-unfitted-level-0);\n",
       "}\n",
       "\n",
       "#sk-container-id-2 div.sk-estimator.fitted {\n",
       "  /* fitted */\n",
       "  background-color: var(--sklearn-color-fitted-level-0);\n",
       "}\n",
       "\n",
       "/* on hover */\n",
       "#sk-container-id-2 div.sk-estimator:hover {\n",
       "  /* unfitted */\n",
       "  background-color: var(--sklearn-color-unfitted-level-2);\n",
       "}\n",
       "\n",
       "#sk-container-id-2 div.sk-estimator.fitted:hover {\n",
       "  /* fitted */\n",
       "  background-color: var(--sklearn-color-fitted-level-2);\n",
       "}\n",
       "\n",
       "/* Specification for estimator info (e.g. \"i\" and \"?\") */\n",
       "\n",
       "/* Common style for \"i\" and \"?\" */\n",
       "\n",
       ".sk-estimator-doc-link,\n",
       "a:link.sk-estimator-doc-link,\n",
       "a:visited.sk-estimator-doc-link {\n",
       "  float: right;\n",
       "  font-size: smaller;\n",
       "  line-height: 1em;\n",
       "  font-family: monospace;\n",
       "  background-color: var(--sklearn-color-background);\n",
       "  border-radius: 1em;\n",
       "  height: 1em;\n",
       "  width: 1em;\n",
       "  text-decoration: none !important;\n",
       "  margin-left: 1ex;\n",
       "  /* unfitted */\n",
       "  border: var(--sklearn-color-unfitted-level-1) 1pt solid;\n",
       "  color: var(--sklearn-color-unfitted-level-1);\n",
       "}\n",
       "\n",
       ".sk-estimator-doc-link.fitted,\n",
       "a:link.sk-estimator-doc-link.fitted,\n",
       "a:visited.sk-estimator-doc-link.fitted {\n",
       "  /* fitted */\n",
       "  border: var(--sklearn-color-fitted-level-1) 1pt solid;\n",
       "  color: var(--sklearn-color-fitted-level-1);\n",
       "}\n",
       "\n",
       "/* On hover */\n",
       "div.sk-estimator:hover .sk-estimator-doc-link:hover,\n",
       ".sk-estimator-doc-link:hover,\n",
       "div.sk-label-container:hover .sk-estimator-doc-link:hover,\n",
       ".sk-estimator-doc-link:hover {\n",
       "  /* unfitted */\n",
       "  background-color: var(--sklearn-color-unfitted-level-3);\n",
       "  color: var(--sklearn-color-background);\n",
       "  text-decoration: none;\n",
       "}\n",
       "\n",
       "div.sk-estimator.fitted:hover .sk-estimator-doc-link.fitted:hover,\n",
       ".sk-estimator-doc-link.fitted:hover,\n",
       "div.sk-label-container:hover .sk-estimator-doc-link.fitted:hover,\n",
       ".sk-estimator-doc-link.fitted:hover {\n",
       "  /* fitted */\n",
       "  background-color: var(--sklearn-color-fitted-level-3);\n",
       "  color: var(--sklearn-color-background);\n",
       "  text-decoration: none;\n",
       "}\n",
       "\n",
       "/* Span, style for the box shown on hovering the info icon */\n",
       ".sk-estimator-doc-link span {\n",
       "  display: none;\n",
       "  z-index: 9999;\n",
       "  position: relative;\n",
       "  font-weight: normal;\n",
       "  right: .2ex;\n",
       "  padding: .5ex;\n",
       "  margin: .5ex;\n",
       "  width: min-content;\n",
       "  min-width: 20ex;\n",
       "  max-width: 50ex;\n",
       "  color: var(--sklearn-color-text);\n",
       "  box-shadow: 2pt 2pt 4pt #999;\n",
       "  /* unfitted */\n",
       "  background: var(--sklearn-color-unfitted-level-0);\n",
       "  border: .5pt solid var(--sklearn-color-unfitted-level-3);\n",
       "}\n",
       "\n",
       ".sk-estimator-doc-link.fitted span {\n",
       "  /* fitted */\n",
       "  background: var(--sklearn-color-fitted-level-0);\n",
       "  border: var(--sklearn-color-fitted-level-3);\n",
       "}\n",
       "\n",
       ".sk-estimator-doc-link:hover span {\n",
       "  display: block;\n",
       "}\n",
       "\n",
       "/* \"?\"-specific style due to the `<a>` HTML tag */\n",
       "\n",
       "#sk-container-id-2 a.estimator_doc_link {\n",
       "  float: right;\n",
       "  font-size: 1rem;\n",
       "  line-height: 1em;\n",
       "  font-family: monospace;\n",
       "  background-color: var(--sklearn-color-background);\n",
       "  border-radius: 1rem;\n",
       "  height: 1rem;\n",
       "  width: 1rem;\n",
       "  text-decoration: none;\n",
       "  /* unfitted */\n",
       "  color: var(--sklearn-color-unfitted-level-1);\n",
       "  border: var(--sklearn-color-unfitted-level-1) 1pt solid;\n",
       "}\n",
       "\n",
       "#sk-container-id-2 a.estimator_doc_link.fitted {\n",
       "  /* fitted */\n",
       "  border: var(--sklearn-color-fitted-level-1) 1pt solid;\n",
       "  color: var(--sklearn-color-fitted-level-1);\n",
       "}\n",
       "\n",
       "/* On hover */\n",
       "#sk-container-id-2 a.estimator_doc_link:hover {\n",
       "  /* unfitted */\n",
       "  background-color: var(--sklearn-color-unfitted-level-3);\n",
       "  color: var(--sklearn-color-background);\n",
       "  text-decoration: none;\n",
       "}\n",
       "\n",
       "#sk-container-id-2 a.estimator_doc_link.fitted:hover {\n",
       "  /* fitted */\n",
       "  background-color: var(--sklearn-color-fitted-level-3);\n",
       "}\n",
       "</style><div id=\"sk-container-id-2\" class=\"sk-top-container\"><div class=\"sk-text-repr-fallback\"><pre>RandomForestClassifier(criterion=&#x27;entropy&#x27;, max_depth=24, n_estimators=90,\n",
       "                       random_state=18)</pre><b>In a Jupyter environment, please rerun this cell to show the HTML representation or trust the notebook. <br />On GitHub, the HTML representation is unable to render, please try loading this page with nbviewer.org.</b></div><div class=\"sk-container\" hidden><div class=\"sk-item\"><div class=\"sk-estimator fitted sk-toggleable\"><input class=\"sk-toggleable__control sk-hidden--visually\" id=\"sk-estimator-id-2\" type=\"checkbox\" checked><label for=\"sk-estimator-id-2\" class=\"sk-toggleable__label fitted sk-toggleable__label-arrow fitted\">&nbsp;&nbsp;RandomForestClassifier<a class=\"sk-estimator-doc-link fitted\" rel=\"noreferrer\" target=\"_blank\" href=\"https://scikit-learn.org/1.4/modules/generated/sklearn.ensemble.RandomForestClassifier.html\">?<span>Documentation for RandomForestClassifier</span></a><span class=\"sk-estimator-doc-link fitted\">i<span>Fitted</span></span></label><div class=\"sk-toggleable__content fitted\"><pre>RandomForestClassifier(criterion=&#x27;entropy&#x27;, max_depth=24, n_estimators=90,\n",
       "                       random_state=18)</pre></div> </div></div></div></div>"
      ],
      "text/plain": [
       "RandomForestClassifier(criterion='entropy', max_depth=24, n_estimators=90,\n",
       "                       random_state=18)"
      ]
     },
     "execution_count": 91,
     "metadata": {},
     "output_type": "execute_result"
    }
   ],
   "source": [
    "rf_90.fit(X_train_2,y_train)"
   ]
  },
  {
   "cell_type": "code",
   "execution_count": 94,
   "id": "e29267208a7bfa7b",
   "metadata": {
    "ExecuteTime": {
     "end_time": "2024-08-31T16:40:16.490171Z",
     "start_time": "2024-08-31T16:39:37.440298Z"
    }
   },
   "outputs": [],
   "source": [
    "y_train_rf_90 = rf_90.predict(Xtrain)"
   ]
  },
  {
   "cell_type": "code",
   "execution_count": 100,
   "id": "d07db4f6727f23fd",
   "metadata": {
    "ExecuteTime": {
     "end_time": "2024-08-31T16:45:15.672929Z",
     "start_time": "2024-08-31T16:45:15.568264Z"
    }
   },
   "outputs": [
    {
     "name": "stdout",
     "output_type": "stream",
     "text": [
      "Random Forest accuracy train: 0.98162643\n"
     ]
    }
   ],
   "source": [
    "print(f\"Random Forest accuracy train: {accuracy_score(y_train_rf_90, ytrain ):.8f}\")"
   ]
  },
  {
   "cell_type": "code",
   "execution_count": 101,
   "id": "fee3ff9603b261e3",
   "metadata": {
    "ExecuteTime": {
     "end_time": "2024-08-31T16:45:56.441280Z",
     "start_time": "2024-08-31T16:45:40.793876Z"
    }
   },
   "outputs": [],
   "source": [
    "y_test_rf_90 = rf_90.predict(Xtest)"
   ]
  },
  {
   "cell_type": "code",
   "execution_count": 102,
   "id": "78b3bb0a0f7abde4",
   "metadata": {
    "ExecuteTime": {
     "end_time": "2024-08-31T16:46:10.354385Z",
     "start_time": "2024-08-31T16:46:10.298444Z"
    }
   },
   "outputs": [
    {
     "name": "stdout",
     "output_type": "stream",
     "text": [
      "Random Forest accuracy test: 0.98155833\n"
     ]
    }
   ],
   "source": [
    "print(f\"Random Forest accuracy test: {accuracy_score(y_test_rf_90, ytest ):.8f}\")"
   ]
  },
  {
   "cell_type": "code",
   "execution_count": 103,
   "id": "cededb411d943a97",
   "metadata": {
    "ExecuteTime": {
     "end_time": "2024-08-31T16:48:34.783624Z",
     "start_time": "2024-08-31T16:48:00.706360Z"
    }
   },
   "outputs": [],
   "source": [
    "y_traain_test_rf_90 = rf_90.predict(X_train_test)"
   ]
  },
  {
   "cell_type": "code",
   "execution_count": 104,
   "id": "609a6fa8dac7772b",
   "metadata": {
    "ExecuteTime": {
     "end_time": "2024-08-31T16:48:58.613834Z",
     "start_time": "2024-08-31T16:48:58.527991Z"
    }
   },
   "outputs": [
    {
     "name": "stdout",
     "output_type": "stream",
     "text": [
      "Random Forest accuracy train - test: 0.98166069\n"
     ]
    }
   ],
   "source": [
    "print(f\"Random Forest accuracy train - test: {accuracy_score(y_traain_test_rf_90 , y_train_test ):.8f}\")"
   ]
  },
  {
   "cell_type": "code",
   "execution_count": 300,
   "id": "bdc4f5c184965c95",
   "metadata": {
    "ExecuteTime": {
     "end_time": "2024-08-31T19:48:35.015863Z",
     "start_time": "2024-08-31T19:48:35.011527Z"
    }
   },
   "outputs": [],
   "source": [
    "rf_110 = RandomForestClassifier(n_estimators=110, criterion = 'entropy' , max_depth=24, random_state=18)"
   ]
  },
  {
   "cell_type": "code",
   "execution_count": null,
   "id": "f174164f5d98d2a8",
   "metadata": {
    "ExecuteTime": {
     "start_time": "2024-08-31T19:48:36.420258Z"
    },
    "jupyter": {
     "is_executing": true
    }
   },
   "outputs": [],
   "source": [
    "rf_110.fit(X_train_2,y_train)"
   ]
  },
  {
   "cell_type": "code",
   "execution_count": 111,
   "id": "ddc46f130953e49e",
   "metadata": {
    "ExecuteTime": {
     "end_time": "2024-08-31T17:06:52.899982Z",
     "start_time": "2024-08-31T17:06:04.625244Z"
    }
   },
   "outputs": [],
   "source": [
    "y_train_rf_110 = rf_110.predict(Xtrain)"
   ]
  },
  {
   "cell_type": "code",
   "execution_count": 112,
   "id": "97daf3c984bca290",
   "metadata": {
    "ExecuteTime": {
     "end_time": "2024-08-31T17:07:15.071106Z",
     "start_time": "2024-08-31T17:07:14.948065Z"
    }
   },
   "outputs": [
    {
     "name": "stdout",
     "output_type": "stream",
     "text": [
      "Random Forest accuracy train: 0.98163929\n"
     ]
    }
   ],
   "source": [
    "print(f\"Random Forest accuracy train: {accuracy_score(y_train_rf_110, ytrain ):.8f}\")"
   ]
  },
  {
   "cell_type": "code",
   "execution_count": 113,
   "id": "59462f162f200e",
   "metadata": {
    "ExecuteTime": {
     "end_time": "2024-08-31T17:07:35.617727Z",
     "start_time": "2024-08-31T17:07:16.568350Z"
    }
   },
   "outputs": [],
   "source": [
    "y_test_rf_110 = rf_110.predict(Xtest)"
   ]
  },
  {
   "cell_type": "code",
   "execution_count": 114,
   "id": "99510de5215aa298",
   "metadata": {
    "ExecuteTime": {
     "end_time": "2024-08-31T17:08:48.810747Z",
     "start_time": "2024-08-31T17:08:48.750979Z"
    }
   },
   "outputs": [
    {
     "name": "stdout",
     "output_type": "stream",
     "text": [
      "Random Forest accuracy test: 0.98153167\n"
     ]
    }
   ],
   "source": [
    "print(f\"Random Forest accuracy test: {accuracy_score(y_test_rf_110, ytest ):.8f}\")"
   ]
  },
  {
   "cell_type": "code",
   "execution_count": 115,
   "id": "3e4f29b89eda8965",
   "metadata": {
    "ExecuteTime": {
     "end_time": "2024-08-31T17:09:33.365601Z",
     "start_time": "2024-08-31T17:08:50.640528Z"
    }
   },
   "outputs": [],
   "source": [
    "y_traain_test_rf_110 = rf_110.predict(X_train_test)"
   ]
  },
  {
   "cell_type": "code",
   "execution_count": 116,
   "id": "9d25b439662bd3d7",
   "metadata": {
    "ExecuteTime": {
     "end_time": "2024-08-31T17:10:12.980337Z",
     "start_time": "2024-08-31T17:10:12.875984Z"
    }
   },
   "outputs": [
    {
     "name": "stdout",
     "output_type": "stream",
     "text": [
      "Random Forest accuracy train - test: 0.98171441\n"
     ]
    }
   ],
   "source": [
    "print(f\"Random Forest accuracy train - test: {accuracy_score(y_traain_test_rf_110 , y_train_test ):.8f}\")"
   ]
  },
  {
   "cell_type": "code",
   "execution_count": 117,
   "id": "dba8632aaa8bc11a",
   "metadata": {
    "ExecuteTime": {
     "end_time": "2024-08-31T17:11:14.541736Z",
     "start_time": "2024-08-31T17:11:14.537192Z"
    }
   },
   "outputs": [],
   "source": [
    "rf_110_40 = RandomForestClassifier(n_estimators=110, criterion = 'entropy' , max_depth=40, random_state=18)"
   ]
  },
  {
   "cell_type": "code",
   "execution_count": 118,
   "id": "4e29641d71d4840d",
   "metadata": {
    "ExecuteTime": {
     "end_time": "2024-08-31T17:29:44.384677Z",
     "start_time": "2024-08-31T17:11:31.674778Z"
    }
   },
   "outputs": [
    {
     "data": {
      "text/html": [
       "<style>#sk-container-id-4 {\n",
       "  /* Definition of color scheme common for light and dark mode */\n",
       "  --sklearn-color-text: black;\n",
       "  --sklearn-color-line: gray;\n",
       "  /* Definition of color scheme for unfitted estimators */\n",
       "  --sklearn-color-unfitted-level-0: #fff5e6;\n",
       "  --sklearn-color-unfitted-level-1: #f6e4d2;\n",
       "  --sklearn-color-unfitted-level-2: #ffe0b3;\n",
       "  --sklearn-color-unfitted-level-3: chocolate;\n",
       "  /* Definition of color scheme for fitted estimators */\n",
       "  --sklearn-color-fitted-level-0: #f0f8ff;\n",
       "  --sklearn-color-fitted-level-1: #d4ebff;\n",
       "  --sklearn-color-fitted-level-2: #b3dbfd;\n",
       "  --sklearn-color-fitted-level-3: cornflowerblue;\n",
       "\n",
       "  /* Specific color for light theme */\n",
       "  --sklearn-color-text-on-default-background: var(--sg-text-color, var(--theme-code-foreground, var(--jp-content-font-color1, black)));\n",
       "  --sklearn-color-background: var(--sg-background-color, var(--theme-background, var(--jp-layout-color0, white)));\n",
       "  --sklearn-color-border-box: var(--sg-text-color, var(--theme-code-foreground, var(--jp-content-font-color1, black)));\n",
       "  --sklearn-color-icon: #696969;\n",
       "\n",
       "  @media (prefers-color-scheme: dark) {\n",
       "    /* Redefinition of color scheme for dark theme */\n",
       "    --sklearn-color-text-on-default-background: var(--sg-text-color, var(--theme-code-foreground, var(--jp-content-font-color1, white)));\n",
       "    --sklearn-color-background: var(--sg-background-color, var(--theme-background, var(--jp-layout-color0, #111)));\n",
       "    --sklearn-color-border-box: var(--sg-text-color, var(--theme-code-foreground, var(--jp-content-font-color1, white)));\n",
       "    --sklearn-color-icon: #878787;\n",
       "  }\n",
       "}\n",
       "\n",
       "#sk-container-id-4 {\n",
       "  color: var(--sklearn-color-text);\n",
       "}\n",
       "\n",
       "#sk-container-id-4 pre {\n",
       "  padding: 0;\n",
       "}\n",
       "\n",
       "#sk-container-id-4 input.sk-hidden--visually {\n",
       "  border: 0;\n",
       "  clip: rect(1px 1px 1px 1px);\n",
       "  clip: rect(1px, 1px, 1px, 1px);\n",
       "  height: 1px;\n",
       "  margin: -1px;\n",
       "  overflow: hidden;\n",
       "  padding: 0;\n",
       "  position: absolute;\n",
       "  width: 1px;\n",
       "}\n",
       "\n",
       "#sk-container-id-4 div.sk-dashed-wrapped {\n",
       "  border: 1px dashed var(--sklearn-color-line);\n",
       "  margin: 0 0.4em 0.5em 0.4em;\n",
       "  box-sizing: border-box;\n",
       "  padding-bottom: 0.4em;\n",
       "  background-color: var(--sklearn-color-background);\n",
       "}\n",
       "\n",
       "#sk-container-id-4 div.sk-container {\n",
       "  /* jupyter's `normalize.less` sets `[hidden] { display: none; }`\n",
       "     but bootstrap.min.css set `[hidden] { display: none !important; }`\n",
       "     so we also need the `!important` here to be able to override the\n",
       "     default hidden behavior on the sphinx rendered scikit-learn.org.\n",
       "     See: https://github.com/scikit-learn/scikit-learn/issues/21755 */\n",
       "  display: inline-block !important;\n",
       "  position: relative;\n",
       "}\n",
       "\n",
       "#sk-container-id-4 div.sk-text-repr-fallback {\n",
       "  display: none;\n",
       "}\n",
       "\n",
       "div.sk-parallel-item,\n",
       "div.sk-serial,\n",
       "div.sk-item {\n",
       "  /* draw centered vertical line to link estimators */\n",
       "  background-image: linear-gradient(var(--sklearn-color-text-on-default-background), var(--sklearn-color-text-on-default-background));\n",
       "  background-size: 2px 100%;\n",
       "  background-repeat: no-repeat;\n",
       "  background-position: center center;\n",
       "}\n",
       "\n",
       "/* Parallel-specific style estimator block */\n",
       "\n",
       "#sk-container-id-4 div.sk-parallel-item::after {\n",
       "  content: \"\";\n",
       "  width: 100%;\n",
       "  border-bottom: 2px solid var(--sklearn-color-text-on-default-background);\n",
       "  flex-grow: 1;\n",
       "}\n",
       "\n",
       "#sk-container-id-4 div.sk-parallel {\n",
       "  display: flex;\n",
       "  align-items: stretch;\n",
       "  justify-content: center;\n",
       "  background-color: var(--sklearn-color-background);\n",
       "  position: relative;\n",
       "}\n",
       "\n",
       "#sk-container-id-4 div.sk-parallel-item {\n",
       "  display: flex;\n",
       "  flex-direction: column;\n",
       "}\n",
       "\n",
       "#sk-container-id-4 div.sk-parallel-item:first-child::after {\n",
       "  align-self: flex-end;\n",
       "  width: 50%;\n",
       "}\n",
       "\n",
       "#sk-container-id-4 div.sk-parallel-item:last-child::after {\n",
       "  align-self: flex-start;\n",
       "  width: 50%;\n",
       "}\n",
       "\n",
       "#sk-container-id-4 div.sk-parallel-item:only-child::after {\n",
       "  width: 0;\n",
       "}\n",
       "\n",
       "/* Serial-specific style estimator block */\n",
       "\n",
       "#sk-container-id-4 div.sk-serial {\n",
       "  display: flex;\n",
       "  flex-direction: column;\n",
       "  align-items: center;\n",
       "  background-color: var(--sklearn-color-background);\n",
       "  padding-right: 1em;\n",
       "  padding-left: 1em;\n",
       "}\n",
       "\n",
       "\n",
       "/* Toggleable style: style used for estimator/Pipeline/ColumnTransformer box that is\n",
       "clickable and can be expanded/collapsed.\n",
       "- Pipeline and ColumnTransformer use this feature and define the default style\n",
       "- Estimators will overwrite some part of the style using the `sk-estimator` class\n",
       "*/\n",
       "\n",
       "/* Pipeline and ColumnTransformer style (default) */\n",
       "\n",
       "#sk-container-id-4 div.sk-toggleable {\n",
       "  /* Default theme specific background. It is overwritten whether we have a\n",
       "  specific estimator or a Pipeline/ColumnTransformer */\n",
       "  background-color: var(--sklearn-color-background);\n",
       "}\n",
       "\n",
       "/* Toggleable label */\n",
       "#sk-container-id-4 label.sk-toggleable__label {\n",
       "  cursor: pointer;\n",
       "  display: block;\n",
       "  width: 100%;\n",
       "  margin-bottom: 0;\n",
       "  padding: 0.5em;\n",
       "  box-sizing: border-box;\n",
       "  text-align: center;\n",
       "}\n",
       "\n",
       "#sk-container-id-4 label.sk-toggleable__label-arrow:before {\n",
       "  /* Arrow on the left of the label */\n",
       "  content: \"▸\";\n",
       "  float: left;\n",
       "  margin-right: 0.25em;\n",
       "  color: var(--sklearn-color-icon);\n",
       "}\n",
       "\n",
       "#sk-container-id-4 label.sk-toggleable__label-arrow:hover:before {\n",
       "  color: var(--sklearn-color-text);\n",
       "}\n",
       "\n",
       "/* Toggleable content - dropdown */\n",
       "\n",
       "#sk-container-id-4 div.sk-toggleable__content {\n",
       "  max-height: 0;\n",
       "  max-width: 0;\n",
       "  overflow: hidden;\n",
       "  text-align: left;\n",
       "  /* unfitted */\n",
       "  background-color: var(--sklearn-color-unfitted-level-0);\n",
       "}\n",
       "\n",
       "#sk-container-id-4 div.sk-toggleable__content.fitted {\n",
       "  /* fitted */\n",
       "  background-color: var(--sklearn-color-fitted-level-0);\n",
       "}\n",
       "\n",
       "#sk-container-id-4 div.sk-toggleable__content pre {\n",
       "  margin: 0.2em;\n",
       "  border-radius: 0.25em;\n",
       "  color: var(--sklearn-color-text);\n",
       "  /* unfitted */\n",
       "  background-color: var(--sklearn-color-unfitted-level-0);\n",
       "}\n",
       "\n",
       "#sk-container-id-4 div.sk-toggleable__content.fitted pre {\n",
       "  /* unfitted */\n",
       "  background-color: var(--sklearn-color-fitted-level-0);\n",
       "}\n",
       "\n",
       "#sk-container-id-4 input.sk-toggleable__control:checked~div.sk-toggleable__content {\n",
       "  /* Expand drop-down */\n",
       "  max-height: 200px;\n",
       "  max-width: 100%;\n",
       "  overflow: auto;\n",
       "}\n",
       "\n",
       "#sk-container-id-4 input.sk-toggleable__control:checked~label.sk-toggleable__label-arrow:before {\n",
       "  content: \"▾\";\n",
       "}\n",
       "\n",
       "/* Pipeline/ColumnTransformer-specific style */\n",
       "\n",
       "#sk-container-id-4 div.sk-label input.sk-toggleable__control:checked~label.sk-toggleable__label {\n",
       "  color: var(--sklearn-color-text);\n",
       "  background-color: var(--sklearn-color-unfitted-level-2);\n",
       "}\n",
       "\n",
       "#sk-container-id-4 div.sk-label.fitted input.sk-toggleable__control:checked~label.sk-toggleable__label {\n",
       "  background-color: var(--sklearn-color-fitted-level-2);\n",
       "}\n",
       "\n",
       "/* Estimator-specific style */\n",
       "\n",
       "/* Colorize estimator box */\n",
       "#sk-container-id-4 div.sk-estimator input.sk-toggleable__control:checked~label.sk-toggleable__label {\n",
       "  /* unfitted */\n",
       "  background-color: var(--sklearn-color-unfitted-level-2);\n",
       "}\n",
       "\n",
       "#sk-container-id-4 div.sk-estimator.fitted input.sk-toggleable__control:checked~label.sk-toggleable__label {\n",
       "  /* fitted */\n",
       "  background-color: var(--sklearn-color-fitted-level-2);\n",
       "}\n",
       "\n",
       "#sk-container-id-4 div.sk-label label.sk-toggleable__label,\n",
       "#sk-container-id-4 div.sk-label label {\n",
       "  /* The background is the default theme color */\n",
       "  color: var(--sklearn-color-text-on-default-background);\n",
       "}\n",
       "\n",
       "/* On hover, darken the color of the background */\n",
       "#sk-container-id-4 div.sk-label:hover label.sk-toggleable__label {\n",
       "  color: var(--sklearn-color-text);\n",
       "  background-color: var(--sklearn-color-unfitted-level-2);\n",
       "}\n",
       "\n",
       "/* Label box, darken color on hover, fitted */\n",
       "#sk-container-id-4 div.sk-label.fitted:hover label.sk-toggleable__label.fitted {\n",
       "  color: var(--sklearn-color-text);\n",
       "  background-color: var(--sklearn-color-fitted-level-2);\n",
       "}\n",
       "\n",
       "/* Estimator label */\n",
       "\n",
       "#sk-container-id-4 div.sk-label label {\n",
       "  font-family: monospace;\n",
       "  font-weight: bold;\n",
       "  display: inline-block;\n",
       "  line-height: 1.2em;\n",
       "}\n",
       "\n",
       "#sk-container-id-4 div.sk-label-container {\n",
       "  text-align: center;\n",
       "}\n",
       "\n",
       "/* Estimator-specific */\n",
       "#sk-container-id-4 div.sk-estimator {\n",
       "  font-family: monospace;\n",
       "  border: 1px dotted var(--sklearn-color-border-box);\n",
       "  border-radius: 0.25em;\n",
       "  box-sizing: border-box;\n",
       "  margin-bottom: 0.5em;\n",
       "  /* unfitted */\n",
       "  background-color: var(--sklearn-color-unfitted-level-0);\n",
       "}\n",
       "\n",
       "#sk-container-id-4 div.sk-estimator.fitted {\n",
       "  /* fitted */\n",
       "  background-color: var(--sklearn-color-fitted-level-0);\n",
       "}\n",
       "\n",
       "/* on hover */\n",
       "#sk-container-id-4 div.sk-estimator:hover {\n",
       "  /* unfitted */\n",
       "  background-color: var(--sklearn-color-unfitted-level-2);\n",
       "}\n",
       "\n",
       "#sk-container-id-4 div.sk-estimator.fitted:hover {\n",
       "  /* fitted */\n",
       "  background-color: var(--sklearn-color-fitted-level-2);\n",
       "}\n",
       "\n",
       "/* Specification for estimator info (e.g. \"i\" and \"?\") */\n",
       "\n",
       "/* Common style for \"i\" and \"?\" */\n",
       "\n",
       ".sk-estimator-doc-link,\n",
       "a:link.sk-estimator-doc-link,\n",
       "a:visited.sk-estimator-doc-link {\n",
       "  float: right;\n",
       "  font-size: smaller;\n",
       "  line-height: 1em;\n",
       "  font-family: monospace;\n",
       "  background-color: var(--sklearn-color-background);\n",
       "  border-radius: 1em;\n",
       "  height: 1em;\n",
       "  width: 1em;\n",
       "  text-decoration: none !important;\n",
       "  margin-left: 1ex;\n",
       "  /* unfitted */\n",
       "  border: var(--sklearn-color-unfitted-level-1) 1pt solid;\n",
       "  color: var(--sklearn-color-unfitted-level-1);\n",
       "}\n",
       "\n",
       ".sk-estimator-doc-link.fitted,\n",
       "a:link.sk-estimator-doc-link.fitted,\n",
       "a:visited.sk-estimator-doc-link.fitted {\n",
       "  /* fitted */\n",
       "  border: var(--sklearn-color-fitted-level-1) 1pt solid;\n",
       "  color: var(--sklearn-color-fitted-level-1);\n",
       "}\n",
       "\n",
       "/* On hover */\n",
       "div.sk-estimator:hover .sk-estimator-doc-link:hover,\n",
       ".sk-estimator-doc-link:hover,\n",
       "div.sk-label-container:hover .sk-estimator-doc-link:hover,\n",
       ".sk-estimator-doc-link:hover {\n",
       "  /* unfitted */\n",
       "  background-color: var(--sklearn-color-unfitted-level-3);\n",
       "  color: var(--sklearn-color-background);\n",
       "  text-decoration: none;\n",
       "}\n",
       "\n",
       "div.sk-estimator.fitted:hover .sk-estimator-doc-link.fitted:hover,\n",
       ".sk-estimator-doc-link.fitted:hover,\n",
       "div.sk-label-container:hover .sk-estimator-doc-link.fitted:hover,\n",
       ".sk-estimator-doc-link.fitted:hover {\n",
       "  /* fitted */\n",
       "  background-color: var(--sklearn-color-fitted-level-3);\n",
       "  color: var(--sklearn-color-background);\n",
       "  text-decoration: none;\n",
       "}\n",
       "\n",
       "/* Span, style for the box shown on hovering the info icon */\n",
       ".sk-estimator-doc-link span {\n",
       "  display: none;\n",
       "  z-index: 9999;\n",
       "  position: relative;\n",
       "  font-weight: normal;\n",
       "  right: .2ex;\n",
       "  padding: .5ex;\n",
       "  margin: .5ex;\n",
       "  width: min-content;\n",
       "  min-width: 20ex;\n",
       "  max-width: 50ex;\n",
       "  color: var(--sklearn-color-text);\n",
       "  box-shadow: 2pt 2pt 4pt #999;\n",
       "  /* unfitted */\n",
       "  background: var(--sklearn-color-unfitted-level-0);\n",
       "  border: .5pt solid var(--sklearn-color-unfitted-level-3);\n",
       "}\n",
       "\n",
       ".sk-estimator-doc-link.fitted span {\n",
       "  /* fitted */\n",
       "  background: var(--sklearn-color-fitted-level-0);\n",
       "  border: var(--sklearn-color-fitted-level-3);\n",
       "}\n",
       "\n",
       ".sk-estimator-doc-link:hover span {\n",
       "  display: block;\n",
       "}\n",
       "\n",
       "/* \"?\"-specific style due to the `<a>` HTML tag */\n",
       "\n",
       "#sk-container-id-4 a.estimator_doc_link {\n",
       "  float: right;\n",
       "  font-size: 1rem;\n",
       "  line-height: 1em;\n",
       "  font-family: monospace;\n",
       "  background-color: var(--sklearn-color-background);\n",
       "  border-radius: 1rem;\n",
       "  height: 1rem;\n",
       "  width: 1rem;\n",
       "  text-decoration: none;\n",
       "  /* unfitted */\n",
       "  color: var(--sklearn-color-unfitted-level-1);\n",
       "  border: var(--sklearn-color-unfitted-level-1) 1pt solid;\n",
       "}\n",
       "\n",
       "#sk-container-id-4 a.estimator_doc_link.fitted {\n",
       "  /* fitted */\n",
       "  border: var(--sklearn-color-fitted-level-1) 1pt solid;\n",
       "  color: var(--sklearn-color-fitted-level-1);\n",
       "}\n",
       "\n",
       "/* On hover */\n",
       "#sk-container-id-4 a.estimator_doc_link:hover {\n",
       "  /* unfitted */\n",
       "  background-color: var(--sklearn-color-unfitted-level-3);\n",
       "  color: var(--sklearn-color-background);\n",
       "  text-decoration: none;\n",
       "}\n",
       "\n",
       "#sk-container-id-4 a.estimator_doc_link.fitted:hover {\n",
       "  /* fitted */\n",
       "  background-color: var(--sklearn-color-fitted-level-3);\n",
       "}\n",
       "</style><div id=\"sk-container-id-4\" class=\"sk-top-container\"><div class=\"sk-text-repr-fallback\"><pre>RandomForestClassifier(criterion=&#x27;entropy&#x27;, max_depth=40, n_estimators=110,\n",
       "                       random_state=18)</pre><b>In a Jupyter environment, please rerun this cell to show the HTML representation or trust the notebook. <br />On GitHub, the HTML representation is unable to render, please try loading this page with nbviewer.org.</b></div><div class=\"sk-container\" hidden><div class=\"sk-item\"><div class=\"sk-estimator fitted sk-toggleable\"><input class=\"sk-toggleable__control sk-hidden--visually\" id=\"sk-estimator-id-4\" type=\"checkbox\" checked><label for=\"sk-estimator-id-4\" class=\"sk-toggleable__label fitted sk-toggleable__label-arrow fitted\">&nbsp;&nbsp;RandomForestClassifier<a class=\"sk-estimator-doc-link fitted\" rel=\"noreferrer\" target=\"_blank\" href=\"https://scikit-learn.org/1.4/modules/generated/sklearn.ensemble.RandomForestClassifier.html\">?<span>Documentation for RandomForestClassifier</span></a><span class=\"sk-estimator-doc-link fitted\">i<span>Fitted</span></span></label><div class=\"sk-toggleable__content fitted\"><pre>RandomForestClassifier(criterion=&#x27;entropy&#x27;, max_depth=40, n_estimators=110,\n",
       "                       random_state=18)</pre></div> </div></div></div></div>"
      ],
      "text/plain": [
       "RandomForestClassifier(criterion='entropy', max_depth=40, n_estimators=110,\n",
       "                       random_state=18)"
      ]
     },
     "execution_count": 118,
     "metadata": {},
     "output_type": "execute_result"
    }
   ],
   "source": [
    "rf_110_40.fit(X_train_2,y_train)"
   ]
  },
  {
   "cell_type": "code",
   "execution_count": 119,
   "id": "d08990e76f367f1a",
   "metadata": {
    "ExecuteTime": {
     "end_time": "2024-08-31T17:31:40.889268Z",
     "start_time": "2024-08-31T17:30:33.095904Z"
    }
   },
   "outputs": [],
   "source": [
    "y_train_rf_110_40 = rf_110_40.predict(Xtrain)"
   ]
  },
  {
   "cell_type": "code",
   "execution_count": 120,
   "id": "bb9ec1fd37280b9e",
   "metadata": {
    "ExecuteTime": {
     "end_time": "2024-08-31T17:32:04.738335Z",
     "start_time": "2024-08-31T17:32:04.605193Z"
    }
   },
   "outputs": [
    {
     "name": "stdout",
     "output_type": "stream",
     "text": [
      "Random Forest accuracy train: 0.99651643\n"
     ]
    }
   ],
   "source": [
    "print(f\"Random Forest accuracy train: {accuracy_score(y_train_rf_110_40, ytrain ):.8f}\")"
   ]
  },
  {
   "cell_type": "code",
   "execution_count": 121,
   "id": "d524e1967307984a",
   "metadata": {
    "ExecuteTime": {
     "end_time": "2024-08-31T17:32:36.754067Z",
     "start_time": "2024-08-31T17:32:06.957134Z"
    }
   },
   "outputs": [],
   "source": [
    "y_test_rf_110_40 = rf_110_40.predict(Xtest)"
   ]
  },
  {
   "cell_type": "code",
   "execution_count": 122,
   "id": "66a6352e6a78285a",
   "metadata": {
    "ExecuteTime": {
     "end_time": "2024-08-31T17:32:46.557803Z",
     "start_time": "2024-08-31T17:32:46.499045Z"
    }
   },
   "outputs": [
    {
     "name": "stdout",
     "output_type": "stream",
     "text": [
      "Random Forest accuracy test: 0.99650500\n"
     ]
    }
   ],
   "source": [
    "print(f\"Random Forest accuracy test: {accuracy_score(y_test_rf_110_40, ytest ):.8f}\")"
   ]
  },
  {
   "cell_type": "code",
   "execution_count": 123,
   "id": "874b3b9f36eea3e6",
   "metadata": {
    "ExecuteTime": {
     "end_time": "2024-08-31T17:33:47.927139Z",
     "start_time": "2024-08-31T17:32:48.414229Z"
    }
   },
   "outputs": [],
   "source": [
    "y_traain_test_rf_110_40 = rf_110_40.predict(X_train_test)"
   ]
  },
  {
   "cell_type": "code",
   "execution_count": 124,
   "id": "9b7411895be6b6cd",
   "metadata": {
    "ExecuteTime": {
     "end_time": "2024-08-31T17:34:09.795368Z",
     "start_time": "2024-08-31T17:34:09.699562Z"
    }
   },
   "outputs": [
    {
     "name": "stdout",
     "output_type": "stream",
     "text": [
      "Random Forest accuracy train - test: 0.99651550\n"
     ]
    }
   ],
   "source": [
    "print(f\"Random Forest accuracy train - test: {accuracy_score(y_traain_test_rf_110_40 , y_train_test ):.8f}\")"
   ]
  },
  {
   "cell_type": "code",
   "execution_count": 230,
   "id": "885e8d9553991dba",
   "metadata": {
    "ExecuteTime": {
     "end_time": "2024-08-31T18:54:09.492068Z",
     "start_time": "2024-08-31T18:54:09.487478Z"
    }
   },
   "outputs": [],
   "source": [
    "from sklearn.metrics import matthews_corrcoef"
   ]
  },
  {
   "cell_type": "code",
   "execution_count": 231,
   "id": "e2dcf11a8ee1250f",
   "metadata": {
    "ExecuteTime": {
     "end_time": "2024-08-31T18:54:37.253266Z",
     "start_time": "2024-08-31T18:54:36.671231Z"
    }
   },
   "outputs": [
    {
     "name": "stdout",
     "output_type": "stream",
     "text": [
      "Random Forest accuracy train: 0.99297381\n"
     ]
    }
   ],
   "source": [
    "print(f\"Random Forest accuracy train: {matthews_corrcoef(y_train_rf_110_40, ytrain ):.8f}\")"
   ]
  },
  {
   "cell_type": "code",
   "execution_count": 232,
   "id": "470a90bad5ac96c9",
   "metadata": {
    "ExecuteTime": {
     "end_time": "2024-08-31T18:55:07.432223Z",
     "start_time": "2024-08-31T18:55:07.219728Z"
    }
   },
   "outputs": [
    {
     "name": "stdout",
     "output_type": "stream",
     "text": [
      "Random Forest accuracy test: 0.99294899\n"
     ]
    }
   ],
   "source": [
    "print(f\"Random Forest accuracy test: {matthews_corrcoef(y_test_rf_110_40, ytest ):.8f}\")"
   ]
  },
  {
   "cell_type": "code",
   "execution_count": 295,
   "id": "b0b2da80eb1526ed",
   "metadata": {
    "ExecuteTime": {
     "end_time": "2024-08-31T19:38:27.780782Z",
     "start_time": "2024-08-31T19:38:27.335408Z"
    }
   },
   "outputs": [
    {
     "name": "stdout",
     "output_type": "stream",
     "text": [
      "Random Forest accuracy train - test: 0.99297157\n"
     ]
    }
   ],
   "source": [
    " print(f\"Random Forest accuracy train - test: {matthews_corrcoef(y_train_test,y_traain_test_rf_110_40):.8f}\")"
   ]
  },
  {
   "cell_type": "code",
   "execution_count": null,
   "id": "56b677029709aa93",
   "metadata": {},
   "outputs": [],
   "source": []
  },
  {
   "cell_type": "code",
   "execution_count": null,
   "id": "c7162bdd5be8cbc5",
   "metadata": {},
   "outputs": [],
   "source": []
  },
  {
   "cell_type": "markdown",
   "id": "551f3b0e3a061f22",
   "metadata": {},
   "source": [
    "## Получим значения таргета на тестовых данных"
   ]
  },
  {
   "cell_type": "code",
   "execution_count": 168,
   "id": "65d24a1edf10d325",
   "metadata": {
    "ExecuteTime": {
     "end_time": "2024-08-31T18:05:04.632984Z",
     "start_time": "2024-08-31T18:05:04.625756Z"
    }
   },
   "outputs": [
    {
     "data": {
      "text/plain": [
       "(2077964, 162)"
      ]
     },
     "execution_count": 168,
     "metadata": {},
     "output_type": "execute_result"
    }
   ],
   "source": [
    "X_test.shape"
   ]
  },
  {
   "cell_type": "code",
   "execution_count": 234,
   "id": "263aa5e3b7259dab",
   "metadata": {
    "ExecuteTime": {
     "end_time": "2024-08-31T18:56:46.297134Z",
     "start_time": "2024-08-31T18:55:52.612938Z"
    }
   },
   "outputs": [],
   "source": [
    "y_test_110_40 = rf_110_40.predict(X_test)"
   ]
  },
  {
   "cell_type": "code",
   "execution_count": 235,
   "id": "e94a96999b9cb256",
   "metadata": {
    "ExecuteTime": {
     "end_time": "2024-08-31T18:56:52.487081Z",
     "start_time": "2024-08-31T18:56:52.480692Z"
    }
   },
   "outputs": [
    {
     "data": {
      "text/plain": [
       "(2077964,)"
      ]
     },
     "execution_count": 235,
     "metadata": {},
     "output_type": "execute_result"
    }
   ],
   "source": [
    "y_test_110_40.shape"
   ]
  },
  {
   "cell_type": "code",
   "execution_count": null,
   "id": "ea42e37aa0f4404d",
   "metadata": {},
   "outputs": [],
   "source": [
    "# y = df_train_copy[\"class\"]\n",
    "# y = y.map({\"p\":-1, \"e\":1})"
   ]
  },
  {
   "cell_type": "code",
   "execution_count": 236,
   "id": "b82aa91ff45c374a",
   "metadata": {
    "ExecuteTime": {
     "end_time": "2024-08-31T18:57:33.770547Z",
     "start_time": "2024-08-31T18:57:33.764804Z"
    }
   },
   "outputs": [],
   "source": [
    "y_test_110_40_1 = pd.DataFrame(y_test_110_40)"
   ]
  },
  {
   "cell_type": "code",
   "execution_count": 173,
   "id": "36a13dc6dd65f8ff",
   "metadata": {
    "ExecuteTime": {
     "end_time": "2024-08-31T18:07:17.059052Z",
     "start_time": "2024-08-31T18:07:17.048098Z"
    }
   },
   "outputs": [
    {
     "data": {
      "text/plain": [
       "Index([0], dtype='int64')"
      ]
     },
     "execution_count": 173,
     "metadata": {},
     "output_type": "execute_result"
    }
   ],
   "source": [
    "y_test_110_40_1.columns"
   ]
  },
  {
   "cell_type": "code",
   "execution_count": 237,
   "id": "c60fb8ebc064afe7",
   "metadata": {
    "ExecuteTime": {
     "end_time": "2024-08-31T18:57:43.292843Z",
     "start_time": "2024-08-31T18:57:43.286430Z"
    }
   },
   "outputs": [],
   "source": [
    "y_test_110_40_1.columns = ['class']"
   ]
  },
  {
   "cell_type": "code",
   "execution_count": 175,
   "id": "8548d1b8b770fdb",
   "metadata": {
    "ExecuteTime": {
     "end_time": "2024-08-31T18:07:22.983064Z",
     "start_time": "2024-08-31T18:07:22.966273Z"
    }
   },
   "outputs": [
    {
     "data": {
      "text/html": [
       "<div>\n",
       "<style scoped>\n",
       "    .dataframe tbody tr th:only-of-type {\n",
       "        vertical-align: middle;\n",
       "    }\n",
       "\n",
       "    .dataframe tbody tr th {\n",
       "        vertical-align: top;\n",
       "    }\n",
       "\n",
       "    .dataframe thead th {\n",
       "        text-align: right;\n",
       "    }\n",
       "</style>\n",
       "<table border=\"1\" class=\"dataframe\">\n",
       "  <thead>\n",
       "    <tr style=\"text-align: right;\">\n",
       "      <th></th>\n",
       "      <th>class</th>\n",
       "    </tr>\n",
       "  </thead>\n",
       "  <tbody>\n",
       "    <tr>\n",
       "      <th>0</th>\n",
       "      <td>1</td>\n",
       "    </tr>\n",
       "    <tr>\n",
       "      <th>1</th>\n",
       "      <td>-1</td>\n",
       "    </tr>\n",
       "    <tr>\n",
       "      <th>2</th>\n",
       "      <td>-1</td>\n",
       "    </tr>\n",
       "    <tr>\n",
       "      <th>3</th>\n",
       "      <td>-1</td>\n",
       "    </tr>\n",
       "    <tr>\n",
       "      <th>4</th>\n",
       "      <td>-1</td>\n",
       "    </tr>\n",
       "    <tr>\n",
       "      <th>...</th>\n",
       "      <td>...</td>\n",
       "    </tr>\n",
       "    <tr>\n",
       "      <th>2077959</th>\n",
       "      <td>-1</td>\n",
       "    </tr>\n",
       "    <tr>\n",
       "      <th>2077960</th>\n",
       "      <td>-1</td>\n",
       "    </tr>\n",
       "    <tr>\n",
       "      <th>2077961</th>\n",
       "      <td>-1</td>\n",
       "    </tr>\n",
       "    <tr>\n",
       "      <th>2077962</th>\n",
       "      <td>-1</td>\n",
       "    </tr>\n",
       "    <tr>\n",
       "      <th>2077963</th>\n",
       "      <td>-1</td>\n",
       "    </tr>\n",
       "  </tbody>\n",
       "</table>\n",
       "<p>2077964 rows × 1 columns</p>\n",
       "</div>"
      ],
      "text/plain": [
       "         class\n",
       "0            1\n",
       "1           -1\n",
       "2           -1\n",
       "3           -1\n",
       "4           -1\n",
       "...        ...\n",
       "2077959     -1\n",
       "2077960     -1\n",
       "2077961     -1\n",
       "2077962     -1\n",
       "2077963     -1\n",
       "\n",
       "[2077964 rows x 1 columns]"
      ]
     },
     "execution_count": 175,
     "metadata": {},
     "output_type": "execute_result"
    }
   ],
   "source": [
    "y_test_110_40_1"
   ]
  },
  {
   "cell_type": "code",
   "execution_count": 251,
   "id": "6c2369163d94066f",
   "metadata": {
    "ExecuteTime": {
     "end_time": "2024-08-31T19:05:31.857299Z",
     "start_time": "2024-08-31T19:05:31.678217Z"
    }
   },
   "outputs": [],
   "source": [
    "y_test_110_40_1['class'] = y_test_110_40_1['class'].replace( 1 , 'p')"
   ]
  },
  {
   "cell_type": "code",
   "execution_count": 252,
   "id": "b2f86b03d6a7eb38",
   "metadata": {
    "ExecuteTime": {
     "end_time": "2024-08-31T19:05:33.453620Z",
     "start_time": "2024-08-31T19:05:33.298977Z"
    }
   },
   "outputs": [],
   "source": [
    "y_test_110_40_1['class'] = y_test_110_40_1['class'].replace( -1 , 'e')"
   ]
  },
  {
   "cell_type": "code",
   "execution_count": 241,
   "id": "cb593601f472106b",
   "metadata": {
    "ExecuteTime": {
     "end_time": "2024-08-31T18:59:14.163246Z",
     "start_time": "2024-08-31T18:59:14.148322Z"
    }
   },
   "outputs": [
    {
     "data": {
      "text/html": [
       "<div>\n",
       "<style scoped>\n",
       "    .dataframe tbody tr th:only-of-type {\n",
       "        vertical-align: middle;\n",
       "    }\n",
       "\n",
       "    .dataframe tbody tr th {\n",
       "        vertical-align: top;\n",
       "    }\n",
       "\n",
       "    .dataframe thead th {\n",
       "        text-align: right;\n",
       "    }\n",
       "</style>\n",
       "<table border=\"1\" class=\"dataframe\">\n",
       "  <thead>\n",
       "    <tr style=\"text-align: right;\">\n",
       "      <th></th>\n",
       "      <th>class</th>\n",
       "    </tr>\n",
       "  </thead>\n",
       "  <tbody>\n",
       "    <tr>\n",
       "      <th>0</th>\n",
       "      <td>e</td>\n",
       "    </tr>\n",
       "    <tr>\n",
       "      <th>1</th>\n",
       "      <td>p</td>\n",
       "    </tr>\n",
       "    <tr>\n",
       "      <th>2</th>\n",
       "      <td>p</td>\n",
       "    </tr>\n",
       "    <tr>\n",
       "      <th>3</th>\n",
       "      <td>p</td>\n",
       "    </tr>\n",
       "    <tr>\n",
       "      <th>4</th>\n",
       "      <td>p</td>\n",
       "    </tr>\n",
       "    <tr>\n",
       "      <th>...</th>\n",
       "      <td>...</td>\n",
       "    </tr>\n",
       "    <tr>\n",
       "      <th>2077959</th>\n",
       "      <td>p</td>\n",
       "    </tr>\n",
       "    <tr>\n",
       "      <th>2077960</th>\n",
       "      <td>p</td>\n",
       "    </tr>\n",
       "    <tr>\n",
       "      <th>2077961</th>\n",
       "      <td>p</td>\n",
       "    </tr>\n",
       "    <tr>\n",
       "      <th>2077962</th>\n",
       "      <td>p</td>\n",
       "    </tr>\n",
       "    <tr>\n",
       "      <th>2077963</th>\n",
       "      <td>p</td>\n",
       "    </tr>\n",
       "  </tbody>\n",
       "</table>\n",
       "<p>2077964 rows × 1 columns</p>\n",
       "</div>"
      ],
      "text/plain": [
       "        class\n",
       "0           e\n",
       "1           p\n",
       "2           p\n",
       "3           p\n",
       "4           p\n",
       "...       ...\n",
       "2077959     p\n",
       "2077960     p\n",
       "2077961     p\n",
       "2077962     p\n",
       "2077963     p\n",
       "\n",
       "[2077964 rows x 1 columns]"
      ]
     },
     "execution_count": 241,
     "metadata": {},
     "output_type": "execute_result"
    }
   ],
   "source": [
    "y_test_110_40_1"
   ]
  },
  {
   "cell_type": "code",
   "execution_count": 253,
   "id": "36bf3cf5088a2a5c",
   "metadata": {
    "ExecuteTime": {
     "end_time": "2024-08-31T19:05:42.127283Z",
     "start_time": "2024-08-31T19:05:42.058481Z"
    }
   },
   "outputs": [
    {
     "ename": "ValueError",
     "evalue": "cannot insert id, already exists",
     "output_type": "error",
     "traceback": [
      "\u001b[0;31m---------------------------------------------------------------------------\u001b[0m",
      "\u001b[0;31mValueError\u001b[0m                                Traceback (most recent call last)",
      "\u001b[0;32m/tmp/ipykernel_30208/4170171878.py\u001b[0m in \u001b[0;36m?\u001b[0;34m()\u001b[0m\n\u001b[0;32m----> 1\u001b[0;31m \u001b[0my_test_110_40_1\u001b[0m\u001b[0;34m.\u001b[0m\u001b[0minsert\u001b[0m\u001b[0;34m(\u001b[0m\u001b[0;36m0\u001b[0m\u001b[0;34m,\u001b[0m \u001b[0;34m'id'\u001b[0m\u001b[0;34m,\u001b[0m \u001b[0mdf_test\u001b[0m\u001b[0;34m[\u001b[0m\u001b[0;34m'id'\u001b[0m\u001b[0;34m]\u001b[0m\u001b[0;34m)\u001b[0m\u001b[0;34m\u001b[0m\u001b[0;34m\u001b[0m\u001b[0m\n\u001b[0m",
      "\u001b[0;32m~/anaconda3/lib/python3.11/site-packages/pandas/core/frame.py\u001b[0m in \u001b[0;36m?\u001b[0;34m(self, loc, column, value, allow_duplicates)\u001b[0m\n\u001b[1;32m   4768\u001b[0m                 \u001b[0;34m\"'self.flags.allows_duplicate_labels' is False.\"\u001b[0m\u001b[0;34m\u001b[0m\u001b[0;34m\u001b[0m\u001b[0m\n\u001b[1;32m   4769\u001b[0m             )\n\u001b[1;32m   4770\u001b[0m         \u001b[0;32mif\u001b[0m \u001b[0;32mnot\u001b[0m \u001b[0mallow_duplicates\u001b[0m \u001b[0;32mand\u001b[0m \u001b[0mcolumn\u001b[0m \u001b[0;32min\u001b[0m \u001b[0mself\u001b[0m\u001b[0;34m.\u001b[0m\u001b[0mcolumns\u001b[0m\u001b[0;34m:\u001b[0m\u001b[0;34m\u001b[0m\u001b[0;34m\u001b[0m\u001b[0m\n\u001b[1;32m   4771\u001b[0m             \u001b[0;31m# Should this be a different kind of error??\u001b[0m\u001b[0;34m\u001b[0m\u001b[0;34m\u001b[0m\u001b[0m\n\u001b[0;32m-> 4772\u001b[0;31m             \u001b[0;32mraise\u001b[0m \u001b[0mValueError\u001b[0m\u001b[0;34m(\u001b[0m\u001b[0;34mf\"cannot insert {column}, already exists\"\u001b[0m\u001b[0;34m)\u001b[0m\u001b[0;34m\u001b[0m\u001b[0;34m\u001b[0m\u001b[0m\n\u001b[0m\u001b[1;32m   4773\u001b[0m         \u001b[0;32mif\u001b[0m \u001b[0;32mnot\u001b[0m \u001b[0misinstance\u001b[0m\u001b[0;34m(\u001b[0m\u001b[0mloc\u001b[0m\u001b[0;34m,\u001b[0m \u001b[0mint\u001b[0m\u001b[0;34m)\u001b[0m\u001b[0;34m:\u001b[0m\u001b[0;34m\u001b[0m\u001b[0;34m\u001b[0m\u001b[0m\n\u001b[1;32m   4774\u001b[0m             \u001b[0;32mraise\u001b[0m \u001b[0mTypeError\u001b[0m\u001b[0;34m(\u001b[0m\u001b[0;34m\"loc must be int\"\u001b[0m\u001b[0;34m)\u001b[0m\u001b[0;34m\u001b[0m\u001b[0;34m\u001b[0m\u001b[0m\n\u001b[1;32m   4775\u001b[0m \u001b[0;34m\u001b[0m\u001b[0m\n",
      "\u001b[0;31mValueError\u001b[0m: cannot insert id, already exists"
     ]
    }
   ],
   "source": [
    "y_test_110_40_1.insert(0, 'id', df_test['id'])"
   ]
  },
  {
   "cell_type": "code",
   "execution_count": 243,
   "id": "bdabafeee655ca6e",
   "metadata": {
    "ExecuteTime": {
     "end_time": "2024-08-31T19:01:22.713742Z",
     "start_time": "2024-08-31T19:01:22.705702Z"
    }
   },
   "outputs": [
    {
     "data": {
      "text/plain": [
       "(2077964, 2)"
      ]
     },
     "execution_count": 243,
     "metadata": {},
     "output_type": "execute_result"
    }
   ],
   "source": [
    "y_test_110_40_1.shape"
   ]
  },
  {
   "cell_type": "code",
   "execution_count": 254,
   "id": "e7ff83c76aae19bc",
   "metadata": {
    "ExecuteTime": {
     "end_time": "2024-08-31T19:05:48.701650Z",
     "start_time": "2024-08-31T19:05:46.674636Z"
    }
   },
   "outputs": [],
   "source": [
    "y_test_110_40_1.to_csv(\"y_test_110_40_1.csv\", index =False)"
   ]
  },
  {
   "cell_type": "code",
   "execution_count": 245,
   "id": "ca3c262f1cf930ab",
   "metadata": {
    "ExecuteTime": {
     "end_time": "2024-08-31T19:01:30.321754Z",
     "start_time": "2024-08-31T19:01:30.306902Z"
    }
   },
   "outputs": [
    {
     "data": {
      "text/html": [
       "<div>\n",
       "<style scoped>\n",
       "    .dataframe tbody tr th:only-of-type {\n",
       "        vertical-align: middle;\n",
       "    }\n",
       "\n",
       "    .dataframe tbody tr th {\n",
       "        vertical-align: top;\n",
       "    }\n",
       "\n",
       "    .dataframe thead th {\n",
       "        text-align: right;\n",
       "    }\n",
       "</style>\n",
       "<table border=\"1\" class=\"dataframe\">\n",
       "  <thead>\n",
       "    <tr style=\"text-align: right;\">\n",
       "      <th></th>\n",
       "      <th>id</th>\n",
       "      <th>class</th>\n",
       "    </tr>\n",
       "  </thead>\n",
       "  <tbody>\n",
       "    <tr>\n",
       "      <th>0</th>\n",
       "      <td>3116945</td>\n",
       "      <td>e</td>\n",
       "    </tr>\n",
       "    <tr>\n",
       "      <th>1</th>\n",
       "      <td>3116946</td>\n",
       "      <td>p</td>\n",
       "    </tr>\n",
       "    <tr>\n",
       "      <th>2</th>\n",
       "      <td>3116947</td>\n",
       "      <td>p</td>\n",
       "    </tr>\n",
       "    <tr>\n",
       "      <th>3</th>\n",
       "      <td>3116948</td>\n",
       "      <td>p</td>\n",
       "    </tr>\n",
       "    <tr>\n",
       "      <th>4</th>\n",
       "      <td>3116949</td>\n",
       "      <td>p</td>\n",
       "    </tr>\n",
       "    <tr>\n",
       "      <th>...</th>\n",
       "      <td>...</td>\n",
       "      <td>...</td>\n",
       "    </tr>\n",
       "    <tr>\n",
       "      <th>2077959</th>\n",
       "      <td>5194904</td>\n",
       "      <td>p</td>\n",
       "    </tr>\n",
       "    <tr>\n",
       "      <th>2077960</th>\n",
       "      <td>5194905</td>\n",
       "      <td>p</td>\n",
       "    </tr>\n",
       "    <tr>\n",
       "      <th>2077961</th>\n",
       "      <td>5194906</td>\n",
       "      <td>p</td>\n",
       "    </tr>\n",
       "    <tr>\n",
       "      <th>2077962</th>\n",
       "      <td>5194907</td>\n",
       "      <td>p</td>\n",
       "    </tr>\n",
       "    <tr>\n",
       "      <th>2077963</th>\n",
       "      <td>5194908</td>\n",
       "      <td>p</td>\n",
       "    </tr>\n",
       "  </tbody>\n",
       "</table>\n",
       "<p>2077964 rows × 2 columns</p>\n",
       "</div>"
      ],
      "text/plain": [
       "              id class\n",
       "0        3116945     e\n",
       "1        3116946     p\n",
       "2        3116947     p\n",
       "3        3116948     p\n",
       "4        3116949     p\n",
       "...          ...   ...\n",
       "2077959  5194904     p\n",
       "2077960  5194905     p\n",
       "2077961  5194906     p\n",
       "2077962  5194907     p\n",
       "2077963  5194908     p\n",
       "\n",
       "[2077964 rows x 2 columns]"
      ]
     },
     "execution_count": 245,
     "metadata": {},
     "output_type": "execute_result"
    }
   ],
   "source": [
    "y_test_110_40_1"
   ]
  },
  {
   "cell_type": "code",
   "execution_count": 207,
   "id": "1bffb7be62240165",
   "metadata": {
    "ExecuteTime": {
     "end_time": "2024-08-31T18:36:35.372848Z",
     "start_time": "2024-08-31T18:36:33.283933Z"
    }
   },
   "outputs": [],
   "source": [
    "y_test_110_40_1.to_csv(\"y_test_110_40_1.csv\", index =False)"
   ]
  },
  {
   "cell_type": "code",
   "execution_count": 201,
   "id": "16019536de10f63",
   "metadata": {
    "ExecuteTime": {
     "end_time": "2024-08-31T18:30:50.496072Z",
     "start_time": "2024-08-31T18:30:50.466576Z"
    }
   },
   "outputs": [],
   "source": [
    "y_test_110_40_1 = y_test_110_40_1.rename_axis(index=None, columns=None)"
   ]
  },
  {
   "cell_type": "code",
   "execution_count": 202,
   "id": "d33b083acfa4682b",
   "metadata": {
    "ExecuteTime": {
     "end_time": "2024-08-31T18:30:56.477234Z",
     "start_time": "2024-08-31T18:30:56.460746Z"
    }
   },
   "outputs": [
    {
     "data": {
      "text/html": [
       "<div>\n",
       "<style scoped>\n",
       "    .dataframe tbody tr th:only-of-type {\n",
       "        vertical-align: middle;\n",
       "    }\n",
       "\n",
       "    .dataframe tbody tr th {\n",
       "        vertical-align: top;\n",
       "    }\n",
       "\n",
       "    .dataframe thead th {\n",
       "        text-align: right;\n",
       "    }\n",
       "</style>\n",
       "<table border=\"1\" class=\"dataframe\">\n",
       "  <thead>\n",
       "    <tr style=\"text-align: right;\">\n",
       "      <th></th>\n",
       "      <th>id</th>\n",
       "      <th>class</th>\n",
       "    </tr>\n",
       "  </thead>\n",
       "  <tbody>\n",
       "    <tr>\n",
       "      <th>0</th>\n",
       "      <td>0</td>\n",
       "      <td>e</td>\n",
       "    </tr>\n",
       "    <tr>\n",
       "      <th>1</th>\n",
       "      <td>1</td>\n",
       "      <td>p</td>\n",
       "    </tr>\n",
       "    <tr>\n",
       "      <th>2</th>\n",
       "      <td>2</td>\n",
       "      <td>p</td>\n",
       "    </tr>\n",
       "    <tr>\n",
       "      <th>3</th>\n",
       "      <td>3</td>\n",
       "      <td>p</td>\n",
       "    </tr>\n",
       "    <tr>\n",
       "      <th>4</th>\n",
       "      <td>4</td>\n",
       "      <td>p</td>\n",
       "    </tr>\n",
       "    <tr>\n",
       "      <th>...</th>\n",
       "      <td>...</td>\n",
       "      <td>...</td>\n",
       "    </tr>\n",
       "    <tr>\n",
       "      <th>2077959</th>\n",
       "      <td>2077959</td>\n",
       "      <td>p</td>\n",
       "    </tr>\n",
       "    <tr>\n",
       "      <th>2077960</th>\n",
       "      <td>2077960</td>\n",
       "      <td>p</td>\n",
       "    </tr>\n",
       "    <tr>\n",
       "      <th>2077961</th>\n",
       "      <td>2077961</td>\n",
       "      <td>p</td>\n",
       "    </tr>\n",
       "    <tr>\n",
       "      <th>2077962</th>\n",
       "      <td>2077962</td>\n",
       "      <td>p</td>\n",
       "    </tr>\n",
       "    <tr>\n",
       "      <th>2077963</th>\n",
       "      <td>2077963</td>\n",
       "      <td>p</td>\n",
       "    </tr>\n",
       "  </tbody>\n",
       "</table>\n",
       "<p>2077964 rows × 2 columns</p>\n",
       "</div>"
      ],
      "text/plain": [
       "              id class\n",
       "0              0     e\n",
       "1              1     p\n",
       "2              2     p\n",
       "3              3     p\n",
       "4              4     p\n",
       "...          ...   ...\n",
       "2077959  2077959     p\n",
       "2077960  2077960     p\n",
       "2077961  2077961     p\n",
       "2077962  2077962     p\n",
       "2077963  2077963     p\n",
       "\n",
       "[2077964 rows x 2 columns]"
      ]
     },
     "execution_count": 202,
     "metadata": {},
     "output_type": "execute_result"
    }
   ],
   "source": [
    "y_test_110_40_1"
   ]
  },
  {
   "cell_type": "code",
   "execution_count": 255,
   "id": "b0554f4e0c8e0a4a",
   "metadata": {
    "ExecuteTime": {
     "end_time": "2024-08-31T19:05:56.577114Z",
     "start_time": "2024-08-31T19:05:56.303489Z"
    }
   },
   "outputs": [],
   "source": [
    "y_test_110_predict = pd.read_csv('y_test_110_40_1.csv')"
   ]
  },
  {
   "cell_type": "code",
   "execution_count": 256,
   "id": "f1e59465254c3622",
   "metadata": {
    "ExecuteTime": {
     "end_time": "2024-08-31T19:05:57.965439Z",
     "start_time": "2024-08-31T19:05:57.959282Z"
    }
   },
   "outputs": [
    {
     "data": {
      "text/plain": [
       "(2077964, 2)"
      ]
     },
     "execution_count": 256,
     "metadata": {},
     "output_type": "execute_result"
    }
   ],
   "source": [
    "y_test_110_predict.shape"
   ]
  },
  {
   "cell_type": "code",
   "execution_count": 257,
   "id": "130b21e2838d32d9",
   "metadata": {
    "ExecuteTime": {
     "end_time": "2024-08-31T19:06:33.833421Z",
     "start_time": "2024-08-31T19:06:33.825708Z"
    }
   },
   "outputs": [
    {
     "data": {
      "text/plain": [
       "Index(['id', 'class'], dtype='object')"
      ]
     },
     "execution_count": 257,
     "metadata": {},
     "output_type": "execute_result"
    }
   ],
   "source": [
    "y_test_110_predict.columns"
   ]
  },
  {
   "cell_type": "code",
   "execution_count": 258,
   "id": "b4bb9ed689ca25d8",
   "metadata": {
    "ExecuteTime": {
     "end_time": "2024-08-31T19:06:37.019801Z",
     "start_time": "2024-08-31T19:06:37.004264Z"
    }
   },
   "outputs": [
    {
     "data": {
      "text/html": [
       "<div>\n",
       "<style scoped>\n",
       "    .dataframe tbody tr th:only-of-type {\n",
       "        vertical-align: middle;\n",
       "    }\n",
       "\n",
       "    .dataframe tbody tr th {\n",
       "        vertical-align: top;\n",
       "    }\n",
       "\n",
       "    .dataframe thead th {\n",
       "        text-align: right;\n",
       "    }\n",
       "</style>\n",
       "<table border=\"1\" class=\"dataframe\">\n",
       "  <thead>\n",
       "    <tr style=\"text-align: right;\">\n",
       "      <th></th>\n",
       "      <th>id</th>\n",
       "      <th>class</th>\n",
       "    </tr>\n",
       "  </thead>\n",
       "  <tbody>\n",
       "    <tr>\n",
       "      <th>0</th>\n",
       "      <td>3116945</td>\n",
       "      <td>e</td>\n",
       "    </tr>\n",
       "    <tr>\n",
       "      <th>1</th>\n",
       "      <td>3116946</td>\n",
       "      <td>p</td>\n",
       "    </tr>\n",
       "    <tr>\n",
       "      <th>2</th>\n",
       "      <td>3116947</td>\n",
       "      <td>p</td>\n",
       "    </tr>\n",
       "    <tr>\n",
       "      <th>3</th>\n",
       "      <td>3116948</td>\n",
       "      <td>p</td>\n",
       "    </tr>\n",
       "    <tr>\n",
       "      <th>4</th>\n",
       "      <td>3116949</td>\n",
       "      <td>p</td>\n",
       "    </tr>\n",
       "    <tr>\n",
       "      <th>...</th>\n",
       "      <td>...</td>\n",
       "      <td>...</td>\n",
       "    </tr>\n",
       "    <tr>\n",
       "      <th>2077959</th>\n",
       "      <td>5194904</td>\n",
       "      <td>p</td>\n",
       "    </tr>\n",
       "    <tr>\n",
       "      <th>2077960</th>\n",
       "      <td>5194905</td>\n",
       "      <td>p</td>\n",
       "    </tr>\n",
       "    <tr>\n",
       "      <th>2077961</th>\n",
       "      <td>5194906</td>\n",
       "      <td>p</td>\n",
       "    </tr>\n",
       "    <tr>\n",
       "      <th>2077962</th>\n",
       "      <td>5194907</td>\n",
       "      <td>p</td>\n",
       "    </tr>\n",
       "    <tr>\n",
       "      <th>2077963</th>\n",
       "      <td>5194908</td>\n",
       "      <td>p</td>\n",
       "    </tr>\n",
       "  </tbody>\n",
       "</table>\n",
       "<p>2077964 rows × 2 columns</p>\n",
       "</div>"
      ],
      "text/plain": [
       "              id class\n",
       "0        3116945     e\n",
       "1        3116946     p\n",
       "2        3116947     p\n",
       "3        3116948     p\n",
       "4        3116949     p\n",
       "...          ...   ...\n",
       "2077959  5194904     p\n",
       "2077960  5194905     p\n",
       "2077961  5194906     p\n",
       "2077962  5194907     p\n",
       "2077963  5194908     p\n",
       "\n",
       "[2077964 rows x 2 columns]"
      ]
     },
     "execution_count": 258,
     "metadata": {},
     "output_type": "execute_result"
    }
   ],
   "source": [
    "y_test_110_predict"
   ]
  },
  {
   "cell_type": "code",
   "execution_count": 210,
   "id": "b635fdb7faaecf1b",
   "metadata": {
    "ExecuteTime": {
     "end_time": "2024-08-31T18:39:43.435896Z",
     "start_time": "2024-08-31T18:39:43.127853Z"
    }
   },
   "outputs": [],
   "source": [
    "sample_submission = pd.read_csv('sample_submission.csv')"
   ]
  },
  {
   "cell_type": "code",
   "execution_count": 211,
   "id": "13bf42e1fae3c176",
   "metadata": {
    "ExecuteTime": {
     "end_time": "2024-08-31T18:39:55.199117Z",
     "start_time": "2024-08-31T18:39:55.193205Z"
    }
   },
   "outputs": [
    {
     "data": {
      "text/plain": [
       "(2077964, 2)"
      ]
     },
     "execution_count": 211,
     "metadata": {},
     "output_type": "execute_result"
    }
   ],
   "source": [
    "sample_submission.shape"
   ]
  },
  {
   "cell_type": "code",
   "execution_count": 212,
   "id": "ec7d8bd188178636",
   "metadata": {
    "ExecuteTime": {
     "end_time": "2024-08-31T18:40:07.169029Z",
     "start_time": "2024-08-31T18:40:07.160170Z"
    }
   },
   "outputs": [
    {
     "data": {
      "text/plain": [
       "Index(['id', 'class'], dtype='object')"
      ]
     },
     "execution_count": 212,
     "metadata": {},
     "output_type": "execute_result"
    }
   ],
   "source": [
    "sample_submission.columns"
   ]
  },
  {
   "cell_type": "code",
   "execution_count": 214,
   "id": "926da3b64dec77fe",
   "metadata": {
    "ExecuteTime": {
     "end_time": "2024-08-31T18:40:42.491894Z",
     "start_time": "2024-08-31T18:40:42.472851Z"
    }
   },
   "outputs": [
    {
     "data": {
      "text/html": [
       "<div>\n",
       "<style scoped>\n",
       "    .dataframe tbody tr th:only-of-type {\n",
       "        vertical-align: middle;\n",
       "    }\n",
       "\n",
       "    .dataframe tbody tr th {\n",
       "        vertical-align: top;\n",
       "    }\n",
       "\n",
       "    .dataframe thead th {\n",
       "        text-align: right;\n",
       "    }\n",
       "</style>\n",
       "<table border=\"1\" class=\"dataframe\">\n",
       "  <thead>\n",
       "    <tr style=\"text-align: right;\">\n",
       "      <th></th>\n",
       "      <th>id</th>\n",
       "      <th>class</th>\n",
       "    </tr>\n",
       "  </thead>\n",
       "  <tbody>\n",
       "    <tr>\n",
       "      <th>0</th>\n",
       "      <td>3116945</td>\n",
       "      <td>e</td>\n",
       "    </tr>\n",
       "    <tr>\n",
       "      <th>1</th>\n",
       "      <td>3116946</td>\n",
       "      <td>e</td>\n",
       "    </tr>\n",
       "    <tr>\n",
       "      <th>2</th>\n",
       "      <td>3116947</td>\n",
       "      <td>e</td>\n",
       "    </tr>\n",
       "    <tr>\n",
       "      <th>3</th>\n",
       "      <td>3116948</td>\n",
       "      <td>e</td>\n",
       "    </tr>\n",
       "    <tr>\n",
       "      <th>4</th>\n",
       "      <td>3116949</td>\n",
       "      <td>e</td>\n",
       "    </tr>\n",
       "    <tr>\n",
       "      <th>...</th>\n",
       "      <td>...</td>\n",
       "      <td>...</td>\n",
       "    </tr>\n",
       "    <tr>\n",
       "      <th>2077959</th>\n",
       "      <td>5194904</td>\n",
       "      <td>e</td>\n",
       "    </tr>\n",
       "    <tr>\n",
       "      <th>2077960</th>\n",
       "      <td>5194905</td>\n",
       "      <td>e</td>\n",
       "    </tr>\n",
       "    <tr>\n",
       "      <th>2077961</th>\n",
       "      <td>5194906</td>\n",
       "      <td>e</td>\n",
       "    </tr>\n",
       "    <tr>\n",
       "      <th>2077962</th>\n",
       "      <td>5194907</td>\n",
       "      <td>e</td>\n",
       "    </tr>\n",
       "    <tr>\n",
       "      <th>2077963</th>\n",
       "      <td>5194908</td>\n",
       "      <td>e</td>\n",
       "    </tr>\n",
       "  </tbody>\n",
       "</table>\n",
       "<p>2077964 rows × 2 columns</p>\n",
       "</div>"
      ],
      "text/plain": [
       "              id class\n",
       "0        3116945     e\n",
       "1        3116946     e\n",
       "2        3116947     e\n",
       "3        3116948     e\n",
       "4        3116949     e\n",
       "...          ...   ...\n",
       "2077959  5194904     e\n",
       "2077960  5194905     e\n",
       "2077961  5194906     e\n",
       "2077962  5194907     e\n",
       "2077963  5194908     e\n",
       "\n",
       "[2077964 rows x 2 columns]"
      ]
     },
     "execution_count": 214,
     "metadata": {},
     "output_type": "execute_result"
    }
   ],
   "source": [
    "sample_submission"
   ]
  },
  {
   "cell_type": "code",
   "execution_count": 224,
   "id": "2b3380cff40807a4",
   "metadata": {
    "ExecuteTime": {
     "end_time": "2024-08-31T18:44:00.132939Z",
     "start_time": "2024-08-31T18:44:00.125170Z"
    }
   },
   "outputs": [],
   "source": [
    "y_test_110_40_1  ['id'] = sample_submission['id']"
   ]
  },
  {
   "cell_type": "code",
   "execution_count": 225,
   "id": "5af9b36b2bb511c5",
   "metadata": {
    "ExecuteTime": {
     "end_time": "2024-08-31T18:44:04.272293Z",
     "start_time": "2024-08-31T18:44:04.261401Z"
    }
   },
   "outputs": [
    {
     "data": {
      "text/html": [
       "<div>\n",
       "<style scoped>\n",
       "    .dataframe tbody tr th:only-of-type {\n",
       "        vertical-align: middle;\n",
       "    }\n",
       "\n",
       "    .dataframe tbody tr th {\n",
       "        vertical-align: top;\n",
       "    }\n",
       "\n",
       "    .dataframe thead th {\n",
       "        text-align: right;\n",
       "    }\n",
       "</style>\n",
       "<table border=\"1\" class=\"dataframe\">\n",
       "  <thead>\n",
       "    <tr style=\"text-align: right;\">\n",
       "      <th></th>\n",
       "      <th>id</th>\n",
       "      <th>class</th>\n",
       "    </tr>\n",
       "  </thead>\n",
       "  <tbody>\n",
       "    <tr>\n",
       "      <th>0</th>\n",
       "      <td>3116945</td>\n",
       "      <td>e</td>\n",
       "    </tr>\n",
       "    <tr>\n",
       "      <th>1</th>\n",
       "      <td>3116946</td>\n",
       "      <td>p</td>\n",
       "    </tr>\n",
       "    <tr>\n",
       "      <th>2</th>\n",
       "      <td>3116947</td>\n",
       "      <td>p</td>\n",
       "    </tr>\n",
       "    <tr>\n",
       "      <th>3</th>\n",
       "      <td>3116948</td>\n",
       "      <td>p</td>\n",
       "    </tr>\n",
       "    <tr>\n",
       "      <th>4</th>\n",
       "      <td>3116949</td>\n",
       "      <td>p</td>\n",
       "    </tr>\n",
       "    <tr>\n",
       "      <th>...</th>\n",
       "      <td>...</td>\n",
       "      <td>...</td>\n",
       "    </tr>\n",
       "    <tr>\n",
       "      <th>2077959</th>\n",
       "      <td>5194904</td>\n",
       "      <td>p</td>\n",
       "    </tr>\n",
       "    <tr>\n",
       "      <th>2077960</th>\n",
       "      <td>5194905</td>\n",
       "      <td>p</td>\n",
       "    </tr>\n",
       "    <tr>\n",
       "      <th>2077961</th>\n",
       "      <td>5194906</td>\n",
       "      <td>p</td>\n",
       "    </tr>\n",
       "    <tr>\n",
       "      <th>2077962</th>\n",
       "      <td>5194907</td>\n",
       "      <td>p</td>\n",
       "    </tr>\n",
       "    <tr>\n",
       "      <th>2077963</th>\n",
       "      <td>5194908</td>\n",
       "      <td>p</td>\n",
       "    </tr>\n",
       "  </tbody>\n",
       "</table>\n",
       "<p>2077964 rows × 2 columns</p>\n",
       "</div>"
      ],
      "text/plain": [
       "              id class\n",
       "0        3116945     e\n",
       "1        3116946     p\n",
       "2        3116947     p\n",
       "3        3116948     p\n",
       "4        3116949     p\n",
       "...          ...   ...\n",
       "2077959  5194904     p\n",
       "2077960  5194905     p\n",
       "2077961  5194906     p\n",
       "2077962  5194907     p\n",
       "2077963  5194908     p\n",
       "\n",
       "[2077964 rows x 2 columns]"
      ]
     },
     "execution_count": 225,
     "metadata": {},
     "output_type": "execute_result"
    }
   ],
   "source": [
    "y_test_110_40_1"
   ]
  },
  {
   "cell_type": "code",
   "execution_count": 226,
   "id": "ce214fd9bde4ebd2",
   "metadata": {
    "ExecuteTime": {
     "end_time": "2024-08-31T18:44:15.014547Z",
     "start_time": "2024-08-31T18:44:13.037559Z"
    }
   },
   "outputs": [],
   "source": [
    "y_test_110_40_1.to_csv(\"y_test_110_40_1.csv\", index =False)"
   ]
  },
  {
   "cell_type": "code",
   "execution_count": 227,
   "id": "f3d19ffa0b7612cb",
   "metadata": {
    "ExecuteTime": {
     "end_time": "2024-08-31T18:44:16.169112Z",
     "start_time": "2024-08-31T18:44:16.157903Z"
    }
   },
   "outputs": [
    {
     "data": {
      "text/html": [
       "<div>\n",
       "<style scoped>\n",
       "    .dataframe tbody tr th:only-of-type {\n",
       "        vertical-align: middle;\n",
       "    }\n",
       "\n",
       "    .dataframe tbody tr th {\n",
       "        vertical-align: top;\n",
       "    }\n",
       "\n",
       "    .dataframe thead th {\n",
       "        text-align: right;\n",
       "    }\n",
       "</style>\n",
       "<table border=\"1\" class=\"dataframe\">\n",
       "  <thead>\n",
       "    <tr style=\"text-align: right;\">\n",
       "      <th></th>\n",
       "      <th>id</th>\n",
       "      <th>class</th>\n",
       "    </tr>\n",
       "  </thead>\n",
       "  <tbody>\n",
       "    <tr>\n",
       "      <th>0</th>\n",
       "      <td>3116945</td>\n",
       "      <td>e</td>\n",
       "    </tr>\n",
       "    <tr>\n",
       "      <th>1</th>\n",
       "      <td>3116946</td>\n",
       "      <td>p</td>\n",
       "    </tr>\n",
       "    <tr>\n",
       "      <th>2</th>\n",
       "      <td>3116947</td>\n",
       "      <td>p</td>\n",
       "    </tr>\n",
       "    <tr>\n",
       "      <th>3</th>\n",
       "      <td>3116948</td>\n",
       "      <td>p</td>\n",
       "    </tr>\n",
       "    <tr>\n",
       "      <th>4</th>\n",
       "      <td>3116949</td>\n",
       "      <td>p</td>\n",
       "    </tr>\n",
       "    <tr>\n",
       "      <th>...</th>\n",
       "      <td>...</td>\n",
       "      <td>...</td>\n",
       "    </tr>\n",
       "    <tr>\n",
       "      <th>2077959</th>\n",
       "      <td>5194904</td>\n",
       "      <td>p</td>\n",
       "    </tr>\n",
       "    <tr>\n",
       "      <th>2077960</th>\n",
       "      <td>5194905</td>\n",
       "      <td>p</td>\n",
       "    </tr>\n",
       "    <tr>\n",
       "      <th>2077961</th>\n",
       "      <td>5194906</td>\n",
       "      <td>p</td>\n",
       "    </tr>\n",
       "    <tr>\n",
       "      <th>2077962</th>\n",
       "      <td>5194907</td>\n",
       "      <td>p</td>\n",
       "    </tr>\n",
       "    <tr>\n",
       "      <th>2077963</th>\n",
       "      <td>5194908</td>\n",
       "      <td>p</td>\n",
       "    </tr>\n",
       "  </tbody>\n",
       "</table>\n",
       "<p>2077964 rows × 2 columns</p>\n",
       "</div>"
      ],
      "text/plain": [
       "              id class\n",
       "0        3116945     e\n",
       "1        3116946     p\n",
       "2        3116947     p\n",
       "3        3116948     p\n",
       "4        3116949     p\n",
       "...          ...   ...\n",
       "2077959  5194904     p\n",
       "2077960  5194905     p\n",
       "2077961  5194906     p\n",
       "2077962  5194907     p\n",
       "2077963  5194908     p\n",
       "\n",
       "[2077964 rows x 2 columns]"
      ]
     },
     "execution_count": 227,
     "metadata": {},
     "output_type": "execute_result"
    }
   ],
   "source": [
    "y_test_110_40_1"
   ]
  },
  {
   "cell_type": "code",
   "execution_count": 228,
   "id": "15cefec39d53ba4f",
   "metadata": {
    "ExecuteTime": {
     "end_time": "2024-08-31T18:45:46.459673Z",
     "start_time": "2024-08-31T18:45:43.050634Z"
    }
   },
   "outputs": [],
   "source": [
    "test_values = pd.read_csv('test.csv')"
   ]
  },
  {
   "cell_type": "code",
   "execution_count": 229,
   "id": "9128ccf108f2d211",
   "metadata": {
    "ExecuteTime": {
     "end_time": "2024-08-31T18:45:51.461502Z",
     "start_time": "2024-08-31T18:45:49.917377Z"
    }
   },
   "outputs": [
    {
     "data": {
      "text/html": [
       "<div>\n",
       "<style scoped>\n",
       "    .dataframe tbody tr th:only-of-type {\n",
       "        vertical-align: middle;\n",
       "    }\n",
       "\n",
       "    .dataframe tbody tr th {\n",
       "        vertical-align: top;\n",
       "    }\n",
       "\n",
       "    .dataframe thead th {\n",
       "        text-align: right;\n",
       "    }\n",
       "</style>\n",
       "<table border=\"1\" class=\"dataframe\">\n",
       "  <thead>\n",
       "    <tr style=\"text-align: right;\">\n",
       "      <th></th>\n",
       "      <th>id</th>\n",
       "      <th>cap-diameter</th>\n",
       "      <th>cap-shape</th>\n",
       "      <th>cap-surface</th>\n",
       "      <th>cap-color</th>\n",
       "      <th>does-bruise-or-bleed</th>\n",
       "      <th>gill-attachment</th>\n",
       "      <th>gill-spacing</th>\n",
       "      <th>gill-color</th>\n",
       "      <th>stem-height</th>\n",
       "      <th>...</th>\n",
       "      <th>stem-root</th>\n",
       "      <th>stem-surface</th>\n",
       "      <th>stem-color</th>\n",
       "      <th>veil-type</th>\n",
       "      <th>veil-color</th>\n",
       "      <th>has-ring</th>\n",
       "      <th>ring-type</th>\n",
       "      <th>spore-print-color</th>\n",
       "      <th>habitat</th>\n",
       "      <th>season</th>\n",
       "    </tr>\n",
       "  </thead>\n",
       "  <tbody>\n",
       "    <tr>\n",
       "      <th>0</th>\n",
       "      <td>3116945</td>\n",
       "      <td>8.64</td>\n",
       "      <td>x</td>\n",
       "      <td>NaN</td>\n",
       "      <td>n</td>\n",
       "      <td>t</td>\n",
       "      <td>NaN</td>\n",
       "      <td>NaN</td>\n",
       "      <td>w</td>\n",
       "      <td>11.13</td>\n",
       "      <td>...</td>\n",
       "      <td>b</td>\n",
       "      <td>NaN</td>\n",
       "      <td>w</td>\n",
       "      <td>u</td>\n",
       "      <td>w</td>\n",
       "      <td>t</td>\n",
       "      <td>g</td>\n",
       "      <td>NaN</td>\n",
       "      <td>d</td>\n",
       "      <td>a</td>\n",
       "    </tr>\n",
       "    <tr>\n",
       "      <th>1</th>\n",
       "      <td>3116946</td>\n",
       "      <td>6.90</td>\n",
       "      <td>o</td>\n",
       "      <td>t</td>\n",
       "      <td>o</td>\n",
       "      <td>f</td>\n",
       "      <td>NaN</td>\n",
       "      <td>c</td>\n",
       "      <td>y</td>\n",
       "      <td>1.27</td>\n",
       "      <td>...</td>\n",
       "      <td>NaN</td>\n",
       "      <td>NaN</td>\n",
       "      <td>n</td>\n",
       "      <td>NaN</td>\n",
       "      <td>NaN</td>\n",
       "      <td>f</td>\n",
       "      <td>f</td>\n",
       "      <td>NaN</td>\n",
       "      <td>d</td>\n",
       "      <td>a</td>\n",
       "    </tr>\n",
       "    <tr>\n",
       "      <th>2</th>\n",
       "      <td>3116947</td>\n",
       "      <td>2.00</td>\n",
       "      <td>b</td>\n",
       "      <td>g</td>\n",
       "      <td>n</td>\n",
       "      <td>f</td>\n",
       "      <td>NaN</td>\n",
       "      <td>c</td>\n",
       "      <td>n</td>\n",
       "      <td>6.18</td>\n",
       "      <td>...</td>\n",
       "      <td>NaN</td>\n",
       "      <td>NaN</td>\n",
       "      <td>n</td>\n",
       "      <td>NaN</td>\n",
       "      <td>NaN</td>\n",
       "      <td>f</td>\n",
       "      <td>f</td>\n",
       "      <td>NaN</td>\n",
       "      <td>d</td>\n",
       "      <td>s</td>\n",
       "    </tr>\n",
       "    <tr>\n",
       "      <th>3</th>\n",
       "      <td>3116948</td>\n",
       "      <td>3.47</td>\n",
       "      <td>x</td>\n",
       "      <td>t</td>\n",
       "      <td>n</td>\n",
       "      <td>f</td>\n",
       "      <td>s</td>\n",
       "      <td>c</td>\n",
       "      <td>n</td>\n",
       "      <td>4.98</td>\n",
       "      <td>...</td>\n",
       "      <td>NaN</td>\n",
       "      <td>NaN</td>\n",
       "      <td>w</td>\n",
       "      <td>NaN</td>\n",
       "      <td>n</td>\n",
       "      <td>t</td>\n",
       "      <td>z</td>\n",
       "      <td>NaN</td>\n",
       "      <td>d</td>\n",
       "      <td>u</td>\n",
       "    </tr>\n",
       "    <tr>\n",
       "      <th>4</th>\n",
       "      <td>3116949</td>\n",
       "      <td>6.17</td>\n",
       "      <td>x</td>\n",
       "      <td>h</td>\n",
       "      <td>y</td>\n",
       "      <td>f</td>\n",
       "      <td>p</td>\n",
       "      <td>NaN</td>\n",
       "      <td>y</td>\n",
       "      <td>6.73</td>\n",
       "      <td>...</td>\n",
       "      <td>NaN</td>\n",
       "      <td>NaN</td>\n",
       "      <td>y</td>\n",
       "      <td>NaN</td>\n",
       "      <td>y</td>\n",
       "      <td>t</td>\n",
       "      <td>NaN</td>\n",
       "      <td>NaN</td>\n",
       "      <td>d</td>\n",
       "      <td>u</td>\n",
       "    </tr>\n",
       "    <tr>\n",
       "      <th>...</th>\n",
       "      <td>...</td>\n",
       "      <td>...</td>\n",
       "      <td>...</td>\n",
       "      <td>...</td>\n",
       "      <td>...</td>\n",
       "      <td>...</td>\n",
       "      <td>...</td>\n",
       "      <td>...</td>\n",
       "      <td>...</td>\n",
       "      <td>...</td>\n",
       "      <td>...</td>\n",
       "      <td>...</td>\n",
       "      <td>...</td>\n",
       "      <td>...</td>\n",
       "      <td>...</td>\n",
       "      <td>...</td>\n",
       "      <td>...</td>\n",
       "      <td>...</td>\n",
       "      <td>...</td>\n",
       "      <td>...</td>\n",
       "      <td>...</td>\n",
       "    </tr>\n",
       "    <tr>\n",
       "      <th>2077959</th>\n",
       "      <td>5194904</td>\n",
       "      <td>0.88</td>\n",
       "      <td>x</td>\n",
       "      <td>g</td>\n",
       "      <td>w</td>\n",
       "      <td>f</td>\n",
       "      <td>a</td>\n",
       "      <td>d</td>\n",
       "      <td>w</td>\n",
       "      <td>2.67</td>\n",
       "      <td>...</td>\n",
       "      <td>NaN</td>\n",
       "      <td>NaN</td>\n",
       "      <td>e</td>\n",
       "      <td>NaN</td>\n",
       "      <td>NaN</td>\n",
       "      <td>f</td>\n",
       "      <td>f</td>\n",
       "      <td>NaN</td>\n",
       "      <td>d</td>\n",
       "      <td>u</td>\n",
       "    </tr>\n",
       "    <tr>\n",
       "      <th>2077960</th>\n",
       "      <td>5194905</td>\n",
       "      <td>3.12</td>\n",
       "      <td>x</td>\n",
       "      <td>s</td>\n",
       "      <td>w</td>\n",
       "      <td>f</td>\n",
       "      <td>d</td>\n",
       "      <td>c</td>\n",
       "      <td>w</td>\n",
       "      <td>2.69</td>\n",
       "      <td>...</td>\n",
       "      <td>NaN</td>\n",
       "      <td>NaN</td>\n",
       "      <td>w</td>\n",
       "      <td>NaN</td>\n",
       "      <td>NaN</td>\n",
       "      <td>f</td>\n",
       "      <td>f</td>\n",
       "      <td>NaN</td>\n",
       "      <td>g</td>\n",
       "      <td>a</td>\n",
       "    </tr>\n",
       "    <tr>\n",
       "      <th>2077961</th>\n",
       "      <td>5194906</td>\n",
       "      <td>5.73</td>\n",
       "      <td>x</td>\n",
       "      <td>e</td>\n",
       "      <td>e</td>\n",
       "      <td>f</td>\n",
       "      <td>a</td>\n",
       "      <td>NaN</td>\n",
       "      <td>w</td>\n",
       "      <td>6.16</td>\n",
       "      <td>...</td>\n",
       "      <td>NaN</td>\n",
       "      <td>NaN</td>\n",
       "      <td>y</td>\n",
       "      <td>NaN</td>\n",
       "      <td>w</td>\n",
       "      <td>t</td>\n",
       "      <td>z</td>\n",
       "      <td>NaN</td>\n",
       "      <td>d</td>\n",
       "      <td>a</td>\n",
       "    </tr>\n",
       "    <tr>\n",
       "      <th>2077962</th>\n",
       "      <td>5194907</td>\n",
       "      <td>5.03</td>\n",
       "      <td>b</td>\n",
       "      <td>g</td>\n",
       "      <td>n</td>\n",
       "      <td>f</td>\n",
       "      <td>a</td>\n",
       "      <td>d</td>\n",
       "      <td>g</td>\n",
       "      <td>6.00</td>\n",
       "      <td>...</td>\n",
       "      <td>NaN</td>\n",
       "      <td>s</td>\n",
       "      <td>g</td>\n",
       "      <td>NaN</td>\n",
       "      <td>NaN</td>\n",
       "      <td>f</td>\n",
       "      <td>f</td>\n",
       "      <td>NaN</td>\n",
       "      <td>d</td>\n",
       "      <td>a</td>\n",
       "    </tr>\n",
       "    <tr>\n",
       "      <th>2077963</th>\n",
       "      <td>5194908</td>\n",
       "      <td>15.51</td>\n",
       "      <td>f</td>\n",
       "      <td>NaN</td>\n",
       "      <td>w</td>\n",
       "      <td>f</td>\n",
       "      <td>d</td>\n",
       "      <td>c</td>\n",
       "      <td>y</td>\n",
       "      <td>2.69</td>\n",
       "      <td>...</td>\n",
       "      <td>NaN</td>\n",
       "      <td>NaN</td>\n",
       "      <td>w</td>\n",
       "      <td>NaN</td>\n",
       "      <td>NaN</td>\n",
       "      <td>f</td>\n",
       "      <td>f</td>\n",
       "      <td>NaN</td>\n",
       "      <td>d</td>\n",
       "      <td>w</td>\n",
       "    </tr>\n",
       "  </tbody>\n",
       "</table>\n",
       "<p>2077964 rows × 21 columns</p>\n",
       "</div>"
      ],
      "text/plain": [
       "              id  cap-diameter cap-shape cap-surface cap-color  \\\n",
       "0        3116945          8.64         x         NaN         n   \n",
       "1        3116946          6.90         o           t         o   \n",
       "2        3116947          2.00         b           g         n   \n",
       "3        3116948          3.47         x           t         n   \n",
       "4        3116949          6.17         x           h         y   \n",
       "...          ...           ...       ...         ...       ...   \n",
       "2077959  5194904          0.88         x           g         w   \n",
       "2077960  5194905          3.12         x           s         w   \n",
       "2077961  5194906          5.73         x           e         e   \n",
       "2077962  5194907          5.03         b           g         n   \n",
       "2077963  5194908         15.51         f         NaN         w   \n",
       "\n",
       "        does-bruise-or-bleed gill-attachment gill-spacing gill-color  \\\n",
       "0                          t             NaN          NaN          w   \n",
       "1                          f             NaN            c          y   \n",
       "2                          f             NaN            c          n   \n",
       "3                          f               s            c          n   \n",
       "4                          f               p          NaN          y   \n",
       "...                      ...             ...          ...        ...   \n",
       "2077959                    f               a            d          w   \n",
       "2077960                    f               d            c          w   \n",
       "2077961                    f               a          NaN          w   \n",
       "2077962                    f               a            d          g   \n",
       "2077963                    f               d            c          y   \n",
       "\n",
       "         stem-height  ...  stem-root stem-surface stem-color veil-type  \\\n",
       "0              11.13  ...          b          NaN          w         u   \n",
       "1               1.27  ...        NaN          NaN          n       NaN   \n",
       "2               6.18  ...        NaN          NaN          n       NaN   \n",
       "3               4.98  ...        NaN          NaN          w       NaN   \n",
       "4               6.73  ...        NaN          NaN          y       NaN   \n",
       "...              ...  ...        ...          ...        ...       ...   \n",
       "2077959         2.67  ...        NaN          NaN          e       NaN   \n",
       "2077960         2.69  ...        NaN          NaN          w       NaN   \n",
       "2077961         6.16  ...        NaN          NaN          y       NaN   \n",
       "2077962         6.00  ...        NaN            s          g       NaN   \n",
       "2077963         2.69  ...        NaN          NaN          w       NaN   \n",
       "\n",
       "        veil-color has-ring ring-type spore-print-color habitat season  \n",
       "0                w        t         g               NaN       d      a  \n",
       "1              NaN        f         f               NaN       d      a  \n",
       "2              NaN        f         f               NaN       d      s  \n",
       "3                n        t         z               NaN       d      u  \n",
       "4                y        t       NaN               NaN       d      u  \n",
       "...            ...      ...       ...               ...     ...    ...  \n",
       "2077959        NaN        f         f               NaN       d      u  \n",
       "2077960        NaN        f         f               NaN       g      a  \n",
       "2077961          w        t         z               NaN       d      a  \n",
       "2077962        NaN        f         f               NaN       d      a  \n",
       "2077963        NaN        f         f               NaN       d      w  \n",
       "\n",
       "[2077964 rows x 21 columns]"
      ]
     },
     "execution_count": 229,
     "metadata": {},
     "output_type": "execute_result"
    }
   ],
   "source": [
    "test_values "
   ]
  },
  {
   "cell_type": "code",
   "execution_count": 265,
   "id": "8464c6c7efd031f4",
   "metadata": {
    "ExecuteTime": {
     "end_time": "2024-08-31T19:15:55.287527Z",
     "start_time": "2024-08-31T19:15:04.474972Z"
    }
   },
   "outputs": [],
   "source": [
    "y_predict_ = rf.predict(X_test)"
   ]
  },
  {
   "cell_type": "code",
   "execution_count": 264,
   "id": "4bc8542a308677fb",
   "metadata": {
    "ExecuteTime": {
     "end_time": "2024-08-31T19:14:57.649286Z",
     "start_time": "2024-08-31T19:14:57.637983Z"
    }
   },
   "outputs": [
    {
     "data": {
      "text/html": [
       "<style>#sk-container-id-5 {\n",
       "  /* Definition of color scheme common for light and dark mode */\n",
       "  --sklearn-color-text: black;\n",
       "  --sklearn-color-line: gray;\n",
       "  /* Definition of color scheme for unfitted estimators */\n",
       "  --sklearn-color-unfitted-level-0: #fff5e6;\n",
       "  --sklearn-color-unfitted-level-1: #f6e4d2;\n",
       "  --sklearn-color-unfitted-level-2: #ffe0b3;\n",
       "  --sklearn-color-unfitted-level-3: chocolate;\n",
       "  /* Definition of color scheme for fitted estimators */\n",
       "  --sklearn-color-fitted-level-0: #f0f8ff;\n",
       "  --sklearn-color-fitted-level-1: #d4ebff;\n",
       "  --sklearn-color-fitted-level-2: #b3dbfd;\n",
       "  --sklearn-color-fitted-level-3: cornflowerblue;\n",
       "\n",
       "  /* Specific color for light theme */\n",
       "  --sklearn-color-text-on-default-background: var(--sg-text-color, var(--theme-code-foreground, var(--jp-content-font-color1, black)));\n",
       "  --sklearn-color-background: var(--sg-background-color, var(--theme-background, var(--jp-layout-color0, white)));\n",
       "  --sklearn-color-border-box: var(--sg-text-color, var(--theme-code-foreground, var(--jp-content-font-color1, black)));\n",
       "  --sklearn-color-icon: #696969;\n",
       "\n",
       "  @media (prefers-color-scheme: dark) {\n",
       "    /* Redefinition of color scheme for dark theme */\n",
       "    --sklearn-color-text-on-default-background: var(--sg-text-color, var(--theme-code-foreground, var(--jp-content-font-color1, white)));\n",
       "    --sklearn-color-background: var(--sg-background-color, var(--theme-background, var(--jp-layout-color0, #111)));\n",
       "    --sklearn-color-border-box: var(--sg-text-color, var(--theme-code-foreground, var(--jp-content-font-color1, white)));\n",
       "    --sklearn-color-icon: #878787;\n",
       "  }\n",
       "}\n",
       "\n",
       "#sk-container-id-5 {\n",
       "  color: var(--sklearn-color-text);\n",
       "}\n",
       "\n",
       "#sk-container-id-5 pre {\n",
       "  padding: 0;\n",
       "}\n",
       "\n",
       "#sk-container-id-5 input.sk-hidden--visually {\n",
       "  border: 0;\n",
       "  clip: rect(1px 1px 1px 1px);\n",
       "  clip: rect(1px, 1px, 1px, 1px);\n",
       "  height: 1px;\n",
       "  margin: -1px;\n",
       "  overflow: hidden;\n",
       "  padding: 0;\n",
       "  position: absolute;\n",
       "  width: 1px;\n",
       "}\n",
       "\n",
       "#sk-container-id-5 div.sk-dashed-wrapped {\n",
       "  border: 1px dashed var(--sklearn-color-line);\n",
       "  margin: 0 0.4em 0.5em 0.4em;\n",
       "  box-sizing: border-box;\n",
       "  padding-bottom: 0.4em;\n",
       "  background-color: var(--sklearn-color-background);\n",
       "}\n",
       "\n",
       "#sk-container-id-5 div.sk-container {\n",
       "  /* jupyter's `normalize.less` sets `[hidden] { display: none; }`\n",
       "     but bootstrap.min.css set `[hidden] { display: none !important; }`\n",
       "     so we also need the `!important` here to be able to override the\n",
       "     default hidden behavior on the sphinx rendered scikit-learn.org.\n",
       "     See: https://github.com/scikit-learn/scikit-learn/issues/21755 */\n",
       "  display: inline-block !important;\n",
       "  position: relative;\n",
       "}\n",
       "\n",
       "#sk-container-id-5 div.sk-text-repr-fallback {\n",
       "  display: none;\n",
       "}\n",
       "\n",
       "div.sk-parallel-item,\n",
       "div.sk-serial,\n",
       "div.sk-item {\n",
       "  /* draw centered vertical line to link estimators */\n",
       "  background-image: linear-gradient(var(--sklearn-color-text-on-default-background), var(--sklearn-color-text-on-default-background));\n",
       "  background-size: 2px 100%;\n",
       "  background-repeat: no-repeat;\n",
       "  background-position: center center;\n",
       "}\n",
       "\n",
       "/* Parallel-specific style estimator block */\n",
       "\n",
       "#sk-container-id-5 div.sk-parallel-item::after {\n",
       "  content: \"\";\n",
       "  width: 100%;\n",
       "  border-bottom: 2px solid var(--sklearn-color-text-on-default-background);\n",
       "  flex-grow: 1;\n",
       "}\n",
       "\n",
       "#sk-container-id-5 div.sk-parallel {\n",
       "  display: flex;\n",
       "  align-items: stretch;\n",
       "  justify-content: center;\n",
       "  background-color: var(--sklearn-color-background);\n",
       "  position: relative;\n",
       "}\n",
       "\n",
       "#sk-container-id-5 div.sk-parallel-item {\n",
       "  display: flex;\n",
       "  flex-direction: column;\n",
       "}\n",
       "\n",
       "#sk-container-id-5 div.sk-parallel-item:first-child::after {\n",
       "  align-self: flex-end;\n",
       "  width: 50%;\n",
       "}\n",
       "\n",
       "#sk-container-id-5 div.sk-parallel-item:last-child::after {\n",
       "  align-self: flex-start;\n",
       "  width: 50%;\n",
       "}\n",
       "\n",
       "#sk-container-id-5 div.sk-parallel-item:only-child::after {\n",
       "  width: 0;\n",
       "}\n",
       "\n",
       "/* Serial-specific style estimator block */\n",
       "\n",
       "#sk-container-id-5 div.sk-serial {\n",
       "  display: flex;\n",
       "  flex-direction: column;\n",
       "  align-items: center;\n",
       "  background-color: var(--sklearn-color-background);\n",
       "  padding-right: 1em;\n",
       "  padding-left: 1em;\n",
       "}\n",
       "\n",
       "\n",
       "/* Toggleable style: style used for estimator/Pipeline/ColumnTransformer box that is\n",
       "clickable and can be expanded/collapsed.\n",
       "- Pipeline and ColumnTransformer use this feature and define the default style\n",
       "- Estimators will overwrite some part of the style using the `sk-estimator` class\n",
       "*/\n",
       "\n",
       "/* Pipeline and ColumnTransformer style (default) */\n",
       "\n",
       "#sk-container-id-5 div.sk-toggleable {\n",
       "  /* Default theme specific background. It is overwritten whether we have a\n",
       "  specific estimator or a Pipeline/ColumnTransformer */\n",
       "  background-color: var(--sklearn-color-background);\n",
       "}\n",
       "\n",
       "/* Toggleable label */\n",
       "#sk-container-id-5 label.sk-toggleable__label {\n",
       "  cursor: pointer;\n",
       "  display: block;\n",
       "  width: 100%;\n",
       "  margin-bottom: 0;\n",
       "  padding: 0.5em;\n",
       "  box-sizing: border-box;\n",
       "  text-align: center;\n",
       "}\n",
       "\n",
       "#sk-container-id-5 label.sk-toggleable__label-arrow:before {\n",
       "  /* Arrow on the left of the label */\n",
       "  content: \"▸\";\n",
       "  float: left;\n",
       "  margin-right: 0.25em;\n",
       "  color: var(--sklearn-color-icon);\n",
       "}\n",
       "\n",
       "#sk-container-id-5 label.sk-toggleable__label-arrow:hover:before {\n",
       "  color: var(--sklearn-color-text);\n",
       "}\n",
       "\n",
       "/* Toggleable content - dropdown */\n",
       "\n",
       "#sk-container-id-5 div.sk-toggleable__content {\n",
       "  max-height: 0;\n",
       "  max-width: 0;\n",
       "  overflow: hidden;\n",
       "  text-align: left;\n",
       "  /* unfitted */\n",
       "  background-color: var(--sklearn-color-unfitted-level-0);\n",
       "}\n",
       "\n",
       "#sk-container-id-5 div.sk-toggleable__content.fitted {\n",
       "  /* fitted */\n",
       "  background-color: var(--sklearn-color-fitted-level-0);\n",
       "}\n",
       "\n",
       "#sk-container-id-5 div.sk-toggleable__content pre {\n",
       "  margin: 0.2em;\n",
       "  border-radius: 0.25em;\n",
       "  color: var(--sklearn-color-text);\n",
       "  /* unfitted */\n",
       "  background-color: var(--sklearn-color-unfitted-level-0);\n",
       "}\n",
       "\n",
       "#sk-container-id-5 div.sk-toggleable__content.fitted pre {\n",
       "  /* unfitted */\n",
       "  background-color: var(--sklearn-color-fitted-level-0);\n",
       "}\n",
       "\n",
       "#sk-container-id-5 input.sk-toggleable__control:checked~div.sk-toggleable__content {\n",
       "  /* Expand drop-down */\n",
       "  max-height: 200px;\n",
       "  max-width: 100%;\n",
       "  overflow: auto;\n",
       "}\n",
       "\n",
       "#sk-container-id-5 input.sk-toggleable__control:checked~label.sk-toggleable__label-arrow:before {\n",
       "  content: \"▾\";\n",
       "}\n",
       "\n",
       "/* Pipeline/ColumnTransformer-specific style */\n",
       "\n",
       "#sk-container-id-5 div.sk-label input.sk-toggleable__control:checked~label.sk-toggleable__label {\n",
       "  color: var(--sklearn-color-text);\n",
       "  background-color: var(--sklearn-color-unfitted-level-2);\n",
       "}\n",
       "\n",
       "#sk-container-id-5 div.sk-label.fitted input.sk-toggleable__control:checked~label.sk-toggleable__label {\n",
       "  background-color: var(--sklearn-color-fitted-level-2);\n",
       "}\n",
       "\n",
       "/* Estimator-specific style */\n",
       "\n",
       "/* Colorize estimator box */\n",
       "#sk-container-id-5 div.sk-estimator input.sk-toggleable__control:checked~label.sk-toggleable__label {\n",
       "  /* unfitted */\n",
       "  background-color: var(--sklearn-color-unfitted-level-2);\n",
       "}\n",
       "\n",
       "#sk-container-id-5 div.sk-estimator.fitted input.sk-toggleable__control:checked~label.sk-toggleable__label {\n",
       "  /* fitted */\n",
       "  background-color: var(--sklearn-color-fitted-level-2);\n",
       "}\n",
       "\n",
       "#sk-container-id-5 div.sk-label label.sk-toggleable__label,\n",
       "#sk-container-id-5 div.sk-label label {\n",
       "  /* The background is the default theme color */\n",
       "  color: var(--sklearn-color-text-on-default-background);\n",
       "}\n",
       "\n",
       "/* On hover, darken the color of the background */\n",
       "#sk-container-id-5 div.sk-label:hover label.sk-toggleable__label {\n",
       "  color: var(--sklearn-color-text);\n",
       "  background-color: var(--sklearn-color-unfitted-level-2);\n",
       "}\n",
       "\n",
       "/* Label box, darken color on hover, fitted */\n",
       "#sk-container-id-5 div.sk-label.fitted:hover label.sk-toggleable__label.fitted {\n",
       "  color: var(--sklearn-color-text);\n",
       "  background-color: var(--sklearn-color-fitted-level-2);\n",
       "}\n",
       "\n",
       "/* Estimator label */\n",
       "\n",
       "#sk-container-id-5 div.sk-label label {\n",
       "  font-family: monospace;\n",
       "  font-weight: bold;\n",
       "  display: inline-block;\n",
       "  line-height: 1.2em;\n",
       "}\n",
       "\n",
       "#sk-container-id-5 div.sk-label-container {\n",
       "  text-align: center;\n",
       "}\n",
       "\n",
       "/* Estimator-specific */\n",
       "#sk-container-id-5 div.sk-estimator {\n",
       "  font-family: monospace;\n",
       "  border: 1px dotted var(--sklearn-color-border-box);\n",
       "  border-radius: 0.25em;\n",
       "  box-sizing: border-box;\n",
       "  margin-bottom: 0.5em;\n",
       "  /* unfitted */\n",
       "  background-color: var(--sklearn-color-unfitted-level-0);\n",
       "}\n",
       "\n",
       "#sk-container-id-5 div.sk-estimator.fitted {\n",
       "  /* fitted */\n",
       "  background-color: var(--sklearn-color-fitted-level-0);\n",
       "}\n",
       "\n",
       "/* on hover */\n",
       "#sk-container-id-5 div.sk-estimator:hover {\n",
       "  /* unfitted */\n",
       "  background-color: var(--sklearn-color-unfitted-level-2);\n",
       "}\n",
       "\n",
       "#sk-container-id-5 div.sk-estimator.fitted:hover {\n",
       "  /* fitted */\n",
       "  background-color: var(--sklearn-color-fitted-level-2);\n",
       "}\n",
       "\n",
       "/* Specification for estimator info (e.g. \"i\" and \"?\") */\n",
       "\n",
       "/* Common style for \"i\" and \"?\" */\n",
       "\n",
       ".sk-estimator-doc-link,\n",
       "a:link.sk-estimator-doc-link,\n",
       "a:visited.sk-estimator-doc-link {\n",
       "  float: right;\n",
       "  font-size: smaller;\n",
       "  line-height: 1em;\n",
       "  font-family: monospace;\n",
       "  background-color: var(--sklearn-color-background);\n",
       "  border-radius: 1em;\n",
       "  height: 1em;\n",
       "  width: 1em;\n",
       "  text-decoration: none !important;\n",
       "  margin-left: 1ex;\n",
       "  /* unfitted */\n",
       "  border: var(--sklearn-color-unfitted-level-1) 1pt solid;\n",
       "  color: var(--sklearn-color-unfitted-level-1);\n",
       "}\n",
       "\n",
       ".sk-estimator-doc-link.fitted,\n",
       "a:link.sk-estimator-doc-link.fitted,\n",
       "a:visited.sk-estimator-doc-link.fitted {\n",
       "  /* fitted */\n",
       "  border: var(--sklearn-color-fitted-level-1) 1pt solid;\n",
       "  color: var(--sklearn-color-fitted-level-1);\n",
       "}\n",
       "\n",
       "/* On hover */\n",
       "div.sk-estimator:hover .sk-estimator-doc-link:hover,\n",
       ".sk-estimator-doc-link:hover,\n",
       "div.sk-label-container:hover .sk-estimator-doc-link:hover,\n",
       ".sk-estimator-doc-link:hover {\n",
       "  /* unfitted */\n",
       "  background-color: var(--sklearn-color-unfitted-level-3);\n",
       "  color: var(--sklearn-color-background);\n",
       "  text-decoration: none;\n",
       "}\n",
       "\n",
       "div.sk-estimator.fitted:hover .sk-estimator-doc-link.fitted:hover,\n",
       ".sk-estimator-doc-link.fitted:hover,\n",
       "div.sk-label-container:hover .sk-estimator-doc-link.fitted:hover,\n",
       ".sk-estimator-doc-link.fitted:hover {\n",
       "  /* fitted */\n",
       "  background-color: var(--sklearn-color-fitted-level-3);\n",
       "  color: var(--sklearn-color-background);\n",
       "  text-decoration: none;\n",
       "}\n",
       "\n",
       "/* Span, style for the box shown on hovering the info icon */\n",
       ".sk-estimator-doc-link span {\n",
       "  display: none;\n",
       "  z-index: 9999;\n",
       "  position: relative;\n",
       "  font-weight: normal;\n",
       "  right: .2ex;\n",
       "  padding: .5ex;\n",
       "  margin: .5ex;\n",
       "  width: min-content;\n",
       "  min-width: 20ex;\n",
       "  max-width: 50ex;\n",
       "  color: var(--sklearn-color-text);\n",
       "  box-shadow: 2pt 2pt 4pt #999;\n",
       "  /* unfitted */\n",
       "  background: var(--sklearn-color-unfitted-level-0);\n",
       "  border: .5pt solid var(--sklearn-color-unfitted-level-3);\n",
       "}\n",
       "\n",
       ".sk-estimator-doc-link.fitted span {\n",
       "  /* fitted */\n",
       "  background: var(--sklearn-color-fitted-level-0);\n",
       "  border: var(--sklearn-color-fitted-level-3);\n",
       "}\n",
       "\n",
       ".sk-estimator-doc-link:hover span {\n",
       "  display: block;\n",
       "}\n",
       "\n",
       "/* \"?\"-specific style due to the `<a>` HTML tag */\n",
       "\n",
       "#sk-container-id-5 a.estimator_doc_link {\n",
       "  float: right;\n",
       "  font-size: 1rem;\n",
       "  line-height: 1em;\n",
       "  font-family: monospace;\n",
       "  background-color: var(--sklearn-color-background);\n",
       "  border-radius: 1rem;\n",
       "  height: 1rem;\n",
       "  width: 1rem;\n",
       "  text-decoration: none;\n",
       "  /* unfitted */\n",
       "  color: var(--sklearn-color-unfitted-level-1);\n",
       "  border: var(--sklearn-color-unfitted-level-1) 1pt solid;\n",
       "}\n",
       "\n",
       "#sk-container-id-5 a.estimator_doc_link.fitted {\n",
       "  /* fitted */\n",
       "  border: var(--sklearn-color-fitted-level-1) 1pt solid;\n",
       "  color: var(--sklearn-color-fitted-level-1);\n",
       "}\n",
       "\n",
       "/* On hover */\n",
       "#sk-container-id-5 a.estimator_doc_link:hover {\n",
       "  /* unfitted */\n",
       "  background-color: var(--sklearn-color-unfitted-level-3);\n",
       "  color: var(--sklearn-color-background);\n",
       "  text-decoration: none;\n",
       "}\n",
       "\n",
       "#sk-container-id-5 a.estimator_doc_link.fitted:hover {\n",
       "  /* fitted */\n",
       "  background-color: var(--sklearn-color-fitted-level-3);\n",
       "}\n",
       "</style><div id=\"sk-container-id-5\" class=\"sk-top-container\"><div class=\"sk-text-repr-fallback\"><pre>RandomForestClassifier(criterion=&#x27;entropy&#x27;, max_depth=24, random_state=18)</pre><b>In a Jupyter environment, please rerun this cell to show the HTML representation or trust the notebook. <br />On GitHub, the HTML representation is unable to render, please try loading this page with nbviewer.org.</b></div><div class=\"sk-container\" hidden><div class=\"sk-item\"><div class=\"sk-estimator fitted sk-toggleable\"><input class=\"sk-toggleable__control sk-hidden--visually\" id=\"sk-estimator-id-5\" type=\"checkbox\" checked><label for=\"sk-estimator-id-5\" class=\"sk-toggleable__label fitted sk-toggleable__label-arrow fitted\">&nbsp;&nbsp;RandomForestClassifier<a class=\"sk-estimator-doc-link fitted\" rel=\"noreferrer\" target=\"_blank\" href=\"https://scikit-learn.org/1.4/modules/generated/sklearn.ensemble.RandomForestClassifier.html\">?<span>Documentation for RandomForestClassifier</span></a><span class=\"sk-estimator-doc-link fitted\">i<span>Fitted</span></span></label><div class=\"sk-toggleable__content fitted\"><pre>RandomForestClassifier(criterion=&#x27;entropy&#x27;, max_depth=24, random_state=18)</pre></div> </div></div></div></div>"
      ],
      "text/plain": [
       "RandomForestClassifier(criterion='entropy', max_depth=24, random_state=18)"
      ]
     },
     "execution_count": 264,
     "metadata": {},
     "output_type": "execute_result"
    }
   ],
   "source": [
    "rf"
   ]
  },
  {
   "cell_type": "code",
   "execution_count": 274,
   "id": "48db3305744c636b",
   "metadata": {
    "ExecuteTime": {
     "end_time": "2024-08-31T19:22:49.254481Z",
     "start_time": "2024-08-31T19:22:49.248828Z"
    }
   },
   "outputs": [],
   "source": [
    "y_predict_dt= pd.DataFrame(y_predict_ )"
   ]
  },
  {
   "cell_type": "code",
   "execution_count": 277,
   "id": "1732ff3ea2879461",
   "metadata": {
    "ExecuteTime": {
     "end_time": "2024-08-31T19:23:04.454474Z",
     "start_time": "2024-08-31T19:23:04.449054Z"
    }
   },
   "outputs": [],
   "source": [
    "y_predict_dt.columns = ['class']"
   ]
  },
  {
   "cell_type": "code",
   "execution_count": 279,
   "id": "9b44e6591cc3983a",
   "metadata": {
    "ExecuteTime": {
     "end_time": "2024-08-31T19:23:09.556670Z",
     "start_time": "2024-08-31T19:23:09.449799Z"
    }
   },
   "outputs": [],
   "source": [
    "y_predict_dt['class'] = y_predict_dt['class'].replace( -1 , 'p')"
   ]
  },
  {
   "cell_type": "code",
   "execution_count": 281,
   "id": "c9417b78c8f6cf4f",
   "metadata": {
    "ExecuteTime": {
     "end_time": "2024-08-31T19:23:13.102418Z",
     "start_time": "2024-08-31T19:23:12.903019Z"
    }
   },
   "outputs": [],
   "source": [
    "y_predict_dt['class'] = y_predict_dt['class'].replace( 1 , 'e')"
   ]
  },
  {
   "cell_type": "code",
   "execution_count": 283,
   "id": "d418bc5d52efb596",
   "metadata": {
    "ExecuteTime": {
     "end_time": "2024-08-31T19:23:20.936253Z",
     "start_time": "2024-08-31T19:23:20.927669Z"
    }
   },
   "outputs": [],
   "source": [
    "y_predict_dt.insert(0, 'id', df_test['id'])"
   ]
  },
  {
   "cell_type": "code",
   "execution_count": 284,
   "id": "25e035d6e6e529d5",
   "metadata": {
    "ExecuteTime": {
     "end_time": "2024-08-31T19:23:22.618640Z",
     "start_time": "2024-08-31T19:23:22.604018Z"
    }
   },
   "outputs": [
    {
     "data": {
      "text/html": [
       "<div>\n",
       "<style scoped>\n",
       "    .dataframe tbody tr th:only-of-type {\n",
       "        vertical-align: middle;\n",
       "    }\n",
       "\n",
       "    .dataframe tbody tr th {\n",
       "        vertical-align: top;\n",
       "    }\n",
       "\n",
       "    .dataframe thead th {\n",
       "        text-align: right;\n",
       "    }\n",
       "</style>\n",
       "<table border=\"1\" class=\"dataframe\">\n",
       "  <thead>\n",
       "    <tr style=\"text-align: right;\">\n",
       "      <th></th>\n",
       "      <th>id</th>\n",
       "      <th>class</th>\n",
       "    </tr>\n",
       "  </thead>\n",
       "  <tbody>\n",
       "    <tr>\n",
       "      <th>0</th>\n",
       "      <td>3116945</td>\n",
       "      <td>e</td>\n",
       "    </tr>\n",
       "    <tr>\n",
       "      <th>1</th>\n",
       "      <td>3116946</td>\n",
       "      <td>p</td>\n",
       "    </tr>\n",
       "    <tr>\n",
       "      <th>2</th>\n",
       "      <td>3116947</td>\n",
       "      <td>p</td>\n",
       "    </tr>\n",
       "    <tr>\n",
       "      <th>3</th>\n",
       "      <td>3116948</td>\n",
       "      <td>e</td>\n",
       "    </tr>\n",
       "    <tr>\n",
       "      <th>4</th>\n",
       "      <td>3116949</td>\n",
       "      <td>p</td>\n",
       "    </tr>\n",
       "    <tr>\n",
       "      <th>...</th>\n",
       "      <td>...</td>\n",
       "      <td>...</td>\n",
       "    </tr>\n",
       "    <tr>\n",
       "      <th>2077959</th>\n",
       "      <td>5194904</td>\n",
       "      <td>p</td>\n",
       "    </tr>\n",
       "    <tr>\n",
       "      <th>2077960</th>\n",
       "      <td>5194905</td>\n",
       "      <td>p</td>\n",
       "    </tr>\n",
       "    <tr>\n",
       "      <th>2077961</th>\n",
       "      <td>5194906</td>\n",
       "      <td>p</td>\n",
       "    </tr>\n",
       "    <tr>\n",
       "      <th>2077962</th>\n",
       "      <td>5194907</td>\n",
       "      <td>p</td>\n",
       "    </tr>\n",
       "    <tr>\n",
       "      <th>2077963</th>\n",
       "      <td>5194908</td>\n",
       "      <td>e</td>\n",
       "    </tr>\n",
       "  </tbody>\n",
       "</table>\n",
       "<p>2077964 rows × 2 columns</p>\n",
       "</div>"
      ],
      "text/plain": [
       "              id class\n",
       "0        3116945     e\n",
       "1        3116946     p\n",
       "2        3116947     p\n",
       "3        3116948     e\n",
       "4        3116949     p\n",
       "...          ...   ...\n",
       "2077959  5194904     p\n",
       "2077960  5194905     p\n",
       "2077961  5194906     p\n",
       "2077962  5194907     p\n",
       "2077963  5194908     e\n",
       "\n",
       "[2077964 rows x 2 columns]"
      ]
     },
     "execution_count": 284,
     "metadata": {},
     "output_type": "execute_result"
    }
   ],
   "source": [
    "y_predict_dt"
   ]
  },
  {
   "cell_type": "code",
   "execution_count": 285,
   "id": "72299a14f1c17194",
   "metadata": {
    "ExecuteTime": {
     "end_time": "2024-08-31T19:23:50.201709Z",
     "start_time": "2024-08-31T19:23:48.161413Z"
    }
   },
   "outputs": [],
   "source": [
    "y_predict_dt.to_csv(\"y_predict_dt.csv\", index =False)"
   ]
  },
  {
   "cell_type": "code",
   "execution_count": 286,
   "id": "5e9bab6937694c0",
   "metadata": {
    "ExecuteTime": {
     "end_time": "2024-08-31T19:24:24.648315Z",
     "start_time": "2024-08-31T19:24:24.343723Z"
    }
   },
   "outputs": [],
   "source": [
    "y_predict_values= pd.read_csv('y_predict_dt.csv')"
   ]
  },
  {
   "cell_type": "code",
   "execution_count": 289,
   "id": "e11a29822bab3b7c",
   "metadata": {
    "ExecuteTime": {
     "end_time": "2024-08-31T19:24:43.322320Z",
     "start_time": "2024-08-31T19:24:43.314887Z"
    }
   },
   "outputs": [
    {
     "data": {
      "text/plain": [
       "(2077964, 2)"
      ]
     },
     "execution_count": 289,
     "metadata": {},
     "output_type": "execute_result"
    }
   ],
   "source": [
    "y_predict_values.shape"
   ]
  },
  {
   "cell_type": "code",
   "execution_count": 291,
   "id": "75ac9e08850c66b9",
   "metadata": {
    "ExecuteTime": {
     "end_time": "2024-08-31T19:28:35.746781Z",
     "start_time": "2024-08-31T19:28:35.725052Z"
    }
   },
   "outputs": [
    {
     "name": "stdout",
     "output_type": "stream",
     "text": [
      "<class 'pandas.core.frame.DataFrame'>\n",
      "RangeIndex: 2077964 entries, 0 to 2077963\n",
      "Data columns (total 2 columns):\n",
      " #   Column  Dtype \n",
      "---  ------  ----- \n",
      " 0   id      int64 \n",
      " 1   class   object\n",
      "dtypes: int64(1), object(1)\n",
      "memory usage: 31.7+ MB\n"
     ]
    }
   ],
   "source": [
    "sample_submission.info()"
   ]
  },
  {
   "cell_type": "code",
   "execution_count": 293,
   "id": "263ffc92d5b4feee",
   "metadata": {
    "ExecuteTime": {
     "end_time": "2024-08-31T19:30:19.901373Z",
     "start_time": "2024-08-31T19:30:19.889225Z"
    }
   },
   "outputs": [
    {
     "data": {
      "text/html": [
       "<div>\n",
       "<style scoped>\n",
       "    .dataframe tbody tr th:only-of-type {\n",
       "        vertical-align: middle;\n",
       "    }\n",
       "\n",
       "    .dataframe tbody tr th {\n",
       "        vertical-align: top;\n",
       "    }\n",
       "\n",
       "    .dataframe thead th {\n",
       "        text-align: right;\n",
       "    }\n",
       "</style>\n",
       "<table border=\"1\" class=\"dataframe\">\n",
       "  <thead>\n",
       "    <tr style=\"text-align: right;\">\n",
       "      <th></th>\n",
       "      <th>id</th>\n",
       "      <th>class</th>\n",
       "    </tr>\n",
       "  </thead>\n",
       "  <tbody>\n",
       "    <tr>\n",
       "      <th>2077959</th>\n",
       "      <td>5194904</td>\n",
       "      <td>p</td>\n",
       "    </tr>\n",
       "    <tr>\n",
       "      <th>2077960</th>\n",
       "      <td>5194905</td>\n",
       "      <td>p</td>\n",
       "    </tr>\n",
       "    <tr>\n",
       "      <th>2077961</th>\n",
       "      <td>5194906</td>\n",
       "      <td>p</td>\n",
       "    </tr>\n",
       "    <tr>\n",
       "      <th>2077962</th>\n",
       "      <td>5194907</td>\n",
       "      <td>p</td>\n",
       "    </tr>\n",
       "    <tr>\n",
       "      <th>2077963</th>\n",
       "      <td>5194908</td>\n",
       "      <td>e</td>\n",
       "    </tr>\n",
       "  </tbody>\n",
       "</table>\n",
       "</div>"
      ],
      "text/plain": [
       "              id class\n",
       "2077959  5194904     p\n",
       "2077960  5194905     p\n",
       "2077961  5194906     p\n",
       "2077962  5194907     p\n",
       "2077963  5194908     e"
      ]
     },
     "execution_count": 293,
     "metadata": {},
     "output_type": "execute_result"
    }
   ],
   "source": [
    "y_predict_values.tail()"
   ]
  },
  {
   "cell_type": "code",
   "execution_count": 294,
   "id": "4b7cbd3a9000ef2a",
   "metadata": {
    "ExecuteTime": {
     "end_time": "2024-08-31T19:36:59.506913Z",
     "start_time": "2024-08-31T19:36:59.501838Z"
    }
   },
   "outputs": [],
   "source": [
    "from sklearn. metrics import matthews_corrcoef"
   ]
  },
  {
   "cell_type": "code",
   "execution_count": null,
   "id": "9174e8c1f86c8065",
   "metadata": {},
   "outputs": [],
   "source": []
  }
 ],
 "metadata": {
  "kernelspec": {
   "display_name": "Python 3 (ipykernel)",
   "language": "python",
   "name": "python3"
  },
  "language_info": {
   "codemirror_mode": {
    "name": "ipython",
    "version": 3
   },
   "file_extension": ".py",
   "mimetype": "text/x-python",
   "name": "python",
   "nbconvert_exporter": "python",
   "pygments_lexer": "ipython3",
   "version": "3.11.5"
  }
 },
 "nbformat": 4,
 "nbformat_minor": 5
}
